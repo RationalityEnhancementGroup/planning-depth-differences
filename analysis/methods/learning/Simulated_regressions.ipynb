{
 "cells": [
  {
   "cell_type": "code",
   "execution_count": 2,
   "metadata": {},
   "outputs": [],
   "source": [
    "import statsmodels.formula.api as smf\n",
    "import pandas as pd"
   ]
  },
  {
   "cell_type": "code",
   "execution_count": 5,
   "metadata": {
    "pycharm": {
     "is_executing": true
    }
   },
   "outputs": [],
   "source": [
    "# considered_experiment_settings = [\"high_increasing\", \"large_variance\", \"larger_variance\", \"mini_variance\", \"zero_variance\"]\n",
    "considered_experiment_settings = [\"high_increasing\", \"cogsci_learning\"]\n",
    "\n",
    "data = pd.concat(pd.read_csv(f\"data/processed/simulated/{experiment_setting}/MCL/linear_depth/search_space/1729_depth_only_baseline_null.csv\") for experiment_setting in considered_experiment_settings)\n",
    "grouped_data = data.groupby([\"pid\", \"i_episode\", \"sim_cost_parameter_values\", \"sim_experiment_setting\"], as_index=False).sum()"
   ]
  },
  {
   "cell_type": "code",
   "execution_count": 21,
   "metadata": {
    "pycharm": {
     "is_executing": true
    }
   },
   "outputs": [
    {
     "data": {
      "text/html": [
       "<table class=\"simpletable\">\n",
       "<caption>OLS Regression Results</caption>\n",
       "<tr>\n",
       "  <th>Dep. Variable:</th>        <td>num_early</td>    <th>  R-squared:         </th>  <td>   0.264</td>  \n",
       "</tr>\n",
       "<tr>\n",
       "  <th>Model:</th>                   <td>OLS</td>       <th>  Adj. R-squared:    </th>  <td>   0.264</td>  \n",
       "</tr>\n",
       "<tr>\n",
       "  <th>Method:</th>             <td>Least Squares</td>  <th>  F-statistic:       </th>  <td>1.918e+04</td> \n",
       "</tr>\n",
       "<tr>\n",
       "  <th>Date:</th>             <td>Fri, 21 Oct 2022</td> <th>  Prob (F-statistic):</th>   <td>  0.00</td>   \n",
       "</tr>\n",
       "<tr>\n",
       "  <th>Time:</th>                 <td>10:07:16</td>     <th>  Log-Likelihood:    </th> <td>-2.1366e+05</td>\n",
       "</tr>\n",
       "<tr>\n",
       "  <th>No. Observations:</th>      <td>160180</td>      <th>  AIC:               </th>  <td>4.273e+05</td> \n",
       "</tr>\n",
       "<tr>\n",
       "  <th>Df Residuals:</th>          <td>160176</td>      <th>  BIC:               </th>  <td>4.274e+05</td> \n",
       "</tr>\n",
       "<tr>\n",
       "  <th>Df Model:</th>              <td>     3</td>      <th>                     </th>      <td> </td>     \n",
       "</tr>\n",
       "<tr>\n",
       "  <th>Covariance Type:</th>      <td>nonrobust</td>    <th>                     </th>      <td> </td>     \n",
       "</tr>\n",
       "</table>\n",
       "<table class=\"simpletable\">\n",
       "<tr>\n",
       "               <td></td>                  <th>coef</th>     <th>std err</th>      <th>t</th>      <th>P>|t|</th>  <th>[0.025</th>    <th>0.975]</th>  \n",
       "</tr>\n",
       "<tr>\n",
       "  <th>Intercept</th>                   <td>    0.2042</td> <td>    0.006</td> <td>   31.684</td> <td> 0.000</td> <td>    0.192</td> <td>    0.217</td>\n",
       "</tr>\n",
       "<tr>\n",
       "  <th>i_episode</th>                   <td>   -0.0032</td> <td>    0.000</td> <td>  -27.798</td> <td> 0.000</td> <td>   -0.003</td> <td>   -0.003</td>\n",
       "</tr>\n",
       "<tr>\n",
       "  <th>i_episode:depth_cost_weight</th> <td>    0.0002</td> <td> 1.55e-05</td> <td>   13.889</td> <td> 0.000</td> <td>    0.000</td> <td>    0.000</td>\n",
       "</tr>\n",
       "<tr>\n",
       "  <th>depth_cost_weight</th>           <td>    0.0961</td> <td>    0.001</td> <td>  109.131</td> <td> 0.000</td> <td>    0.094</td> <td>    0.098</td>\n",
       "</tr>\n",
       "</table>\n",
       "<table class=\"simpletable\">\n",
       "<tr>\n",
       "  <th>Omnibus:</th>       <td>40608.438</td> <th>  Durbin-Watson:     </th> <td>   2.118</td> \n",
       "</tr>\n",
       "<tr>\n",
       "  <th>Prob(Omnibus):</th>  <td> 0.000</td>   <th>  Jarque-Bera (JB):  </th> <td>90200.488</td>\n",
       "</tr>\n",
       "<tr>\n",
       "  <th>Skew:</th>           <td> 1.464</td>   <th>  Prob(JB):          </th> <td>    0.00</td> \n",
       "</tr>\n",
       "<tr>\n",
       "  <th>Kurtosis:</th>       <td> 5.223</td>   <th>  Cond. No.          </th> <td>1.23e+03</td> \n",
       "</tr>\n",
       "</table><br/><br/>Notes:<br/>[1] Standard Errors assume that the covariance matrix of the errors is correctly specified.<br/>[2] The condition number is large, 1.23e+03. This might indicate that there are<br/>strong multicollinearity or other numerical problems."
      ],
      "text/plain": [
       "<class 'statsmodels.iolib.summary.Summary'>\n",
       "\"\"\"\n",
       "                            OLS Regression Results                            \n",
       "==============================================================================\n",
       "Dep. Variable:              num_early   R-squared:                       0.264\n",
       "Model:                            OLS   Adj. R-squared:                  0.264\n",
       "Method:                 Least Squares   F-statistic:                 1.918e+04\n",
       "Date:                Fri, 21 Oct 2022   Prob (F-statistic):               0.00\n",
       "Time:                        10:07:16   Log-Likelihood:            -2.1366e+05\n",
       "No. Observations:              160180   AIC:                         4.273e+05\n",
       "Df Residuals:                  160176   BIC:                         4.274e+05\n",
       "Df Model:                           3                                         \n",
       "Covariance Type:            nonrobust                                         \n",
       "===============================================================================================\n",
       "                                  coef    std err          t      P>|t|      [0.025      0.975]\n",
       "-----------------------------------------------------------------------------------------------\n",
       "Intercept                       0.2042      0.006     31.684      0.000       0.192       0.217\n",
       "i_episode                      -0.0032      0.000    -27.798      0.000      -0.003      -0.003\n",
       "i_episode:depth_cost_weight     0.0002   1.55e-05     13.889      0.000       0.000       0.000\n",
       "depth_cost_weight               0.0961      0.001    109.131      0.000       0.094       0.098\n",
       "==============================================================================\n",
       "Omnibus:                    40608.438   Durbin-Watson:                   2.118\n",
       "Prob(Omnibus):                  0.000   Jarque-Bera (JB):            90200.488\n",
       "Skew:                           1.464   Prob(JB):                         0.00\n",
       "Kurtosis:                       5.223   Cond. No.                     1.23e+03\n",
       "==============================================================================\n",
       "\n",
       "Notes:\n",
       "[1] Standard Errors assume that the covariance matrix of the errors is correctly specified.\n",
       "[2] The condition number is large, 1.23e+03. This might indicate that there are\n",
       "strong multicollinearity or other numerical problems.\n",
       "\"\"\""
      ]
     },
     "execution_count": 21,
     "metadata": {},
     "output_type": "execute_result"
    }
   ],
   "source": [
    "formula = \"num_early ~ i_episode + i_episode:depth_cost_weight + depth_cost_weight + 1\"\n",
    "res = smf.ols(formula=formula, data=grouped_data).fit(\n",
    "                    missing=\"drop\"\n",
    "                )\n",
    "res.summary()"
   ]
  },
  {
   "cell_type": "code",
   "execution_count": 22,
   "metadata": {
    "pycharm": {
     "is_executing": true
    }
   },
   "outputs": [
    {
     "data": {
      "text/html": [
       "<table class=\"simpletable\">\n",
       "<caption>OLS Regression Results</caption>\n",
       "<tr>\n",
       "  <th>Dep. Variable:</th>        <td>num_early</td>    <th>  R-squared:         </th>  <td>   0.264</td>  \n",
       "</tr>\n",
       "<tr>\n",
       "  <th>Model:</th>                   <td>OLS</td>       <th>  Adj. R-squared:    </th>  <td>   0.264</td>  \n",
       "</tr>\n",
       "<tr>\n",
       "  <th>Method:</th>             <td>Least Squares</td>  <th>  F-statistic:       </th>  <td>1.151e+04</td> \n",
       "</tr>\n",
       "<tr>\n",
       "  <th>Date:</th>             <td>Fri, 21 Oct 2022</td> <th>  Prob (F-statistic):</th>   <td>  0.00</td>   \n",
       "</tr>\n",
       "<tr>\n",
       "  <th>Time:</th>                 <td>10:08:02</td>     <th>  Log-Likelihood:    </th> <td>-2.1366e+05</td>\n",
       "</tr>\n",
       "<tr>\n",
       "  <th>No. Observations:</th>      <td>160180</td>      <th>  AIC:               </th>  <td>4.273e+05</td> \n",
       "</tr>\n",
       "<tr>\n",
       "  <th>Df Residuals:</th>          <td>160174</td>      <th>  BIC:               </th>  <td>4.274e+05</td> \n",
       "</tr>\n",
       "<tr>\n",
       "  <th>Df Model:</th>              <td>     5</td>      <th>                     </th>      <td> </td>     \n",
       "</tr>\n",
       "<tr>\n",
       "  <th>Covariance Type:</th>      <td>nonrobust</td>    <th>                     </th>      <td> </td>     \n",
       "</tr>\n",
       "</table>\n",
       "<table class=\"simpletable\">\n",
       "<tr>\n",
       "                                    <td></td>                                       <th>coef</th>     <th>std err</th>      <th>t</th>      <th>P>|t|</th>  <th>[0.025</th>    <th>0.975]</th>  \n",
       "</tr>\n",
       "<tr>\n",
       "  <th>Intercept</th>                                                             <td>    0.2426</td> <td>    0.135</td> <td>    1.794</td> <td> 0.073</td> <td>   -0.022</td> <td>    0.508</td>\n",
       "</tr>\n",
       "<tr>\n",
       "  <th>sim_experiment_setting[T.high_increasing]</th>                             <td>   -0.0387</td> <td>    0.135</td> <td>   -0.286</td> <td> 0.775</td> <td>   -0.304</td> <td>    0.227</td>\n",
       "</tr>\n",
       "<tr>\n",
       "  <th>i_episode</th>                                                             <td>   -0.0020</td> <td>    0.004</td> <td>   -0.508</td> <td> 0.611</td> <td>   -0.010</td> <td>    0.006</td>\n",
       "</tr>\n",
       "<tr>\n",
       "  <th>sim_experiment_setting[T.high_increasing]:i_episode</th>                   <td>   -0.0012</td> <td>    0.004</td> <td>   -0.299</td> <td> 0.765</td> <td>   -0.009</td> <td>    0.007</td>\n",
       "</tr>\n",
       "<tr>\n",
       "  <th>i_episode:depth_cost_weight</th>                                           <td>    0.0001</td> <td> 7.76e-06</td> <td>   13.865</td> <td> 0.000</td> <td> 9.24e-05</td> <td>    0.000</td>\n",
       "</tr>\n",
       "<tr>\n",
       "  <th>sim_experiment_setting[T.high_increasing]:i_episode:depth_cost_weight</th> <td>    0.0001</td> <td> 7.76e-06</td> <td>   13.865</td> <td> 0.000</td> <td> 9.24e-05</td> <td>    0.000</td>\n",
       "</tr>\n",
       "<tr>\n",
       "  <th>depth_cost_weight</th>                                                     <td>    0.0481</td> <td>    0.000</td> <td>  109.075</td> <td> 0.000</td> <td>    0.047</td> <td>    0.049</td>\n",
       "</tr>\n",
       "<tr>\n",
       "  <th>sim_experiment_setting[T.high_increasing]:depth_cost_weight</th>           <td>    0.0481</td> <td>    0.000</td> <td>  109.075</td> <td> 0.000</td> <td>    0.047</td> <td>    0.049</td>\n",
       "</tr>\n",
       "</table>\n",
       "<table class=\"simpletable\">\n",
       "<tr>\n",
       "  <th>Omnibus:</th>       <td>40618.382</td> <th>  Durbin-Watson:     </th> <td>   2.118</td> \n",
       "</tr>\n",
       "<tr>\n",
       "  <th>Prob(Omnibus):</th>  <td> 0.000</td>   <th>  Jarque-Bera (JB):  </th> <td>90245.098</td>\n",
       "</tr>\n",
       "<tr>\n",
       "  <th>Skew:</th>           <td> 1.464</td>   <th>  Prob(JB):          </th> <td>    0.00</td> \n",
       "</tr>\n",
       "<tr>\n",
       "  <th>Kurtosis:</th>       <td> 5.224</td>   <th>  Cond. No.          </th> <td>1.86e+17</td> \n",
       "</tr>\n",
       "</table><br/><br/>Notes:<br/>[1] Standard Errors assume that the covariance matrix of the errors is correctly specified.<br/>[2] The smallest eigenvalue is 1.76e-24. This might indicate that there are<br/>strong multicollinearity problems or that the design matrix is singular."
      ],
      "text/plain": [
       "<class 'statsmodels.iolib.summary.Summary'>\n",
       "\"\"\"\n",
       "                            OLS Regression Results                            \n",
       "==============================================================================\n",
       "Dep. Variable:              num_early   R-squared:                       0.264\n",
       "Model:                            OLS   Adj. R-squared:                  0.264\n",
       "Method:                 Least Squares   F-statistic:                 1.151e+04\n",
       "Date:                Fri, 21 Oct 2022   Prob (F-statistic):               0.00\n",
       "Time:                        10:08:02   Log-Likelihood:            -2.1366e+05\n",
       "No. Observations:              160180   AIC:                         4.273e+05\n",
       "Df Residuals:                  160174   BIC:                         4.274e+05\n",
       "Df Model:                           5                                         \n",
       "Covariance Type:            nonrobust                                         \n",
       "=========================================================================================================================================\n",
       "                                                                            coef    std err          t      P>|t|      [0.025      0.975]\n",
       "-----------------------------------------------------------------------------------------------------------------------------------------\n",
       "Intercept                                                                 0.2426      0.135      1.794      0.073      -0.022       0.508\n",
       "sim_experiment_setting[T.high_increasing]                                -0.0387      0.135     -0.286      0.775      -0.304       0.227\n",
       "i_episode                                                                -0.0020      0.004     -0.508      0.611      -0.010       0.006\n",
       "sim_experiment_setting[T.high_increasing]:i_episode                      -0.0012      0.004     -0.299      0.765      -0.009       0.007\n",
       "i_episode:depth_cost_weight                                               0.0001   7.76e-06     13.865      0.000    9.24e-05       0.000\n",
       "sim_experiment_setting[T.high_increasing]:i_episode:depth_cost_weight     0.0001   7.76e-06     13.865      0.000    9.24e-05       0.000\n",
       "depth_cost_weight                                                         0.0481      0.000    109.075      0.000       0.047       0.049\n",
       "sim_experiment_setting[T.high_increasing]:depth_cost_weight               0.0481      0.000    109.075      0.000       0.047       0.049\n",
       "==============================================================================\n",
       "Omnibus:                    40618.382   Durbin-Watson:                   2.118\n",
       "Prob(Omnibus):                  0.000   Jarque-Bera (JB):            90245.098\n",
       "Skew:                           1.464   Prob(JB):                         0.00\n",
       "Kurtosis:                       5.224   Cond. No.                     1.86e+17\n",
       "==============================================================================\n",
       "\n",
       "Notes:\n",
       "[1] Standard Errors assume that the covariance matrix of the errors is correctly specified.\n",
       "[2] The smallest eigenvalue is 1.76e-24. This might indicate that there are\n",
       "strong multicollinearity problems or that the design matrix is singular.\n",
       "\"\"\""
      ]
     },
     "execution_count": 22,
     "metadata": {},
     "output_type": "execute_result"
    }
   ],
   "source": [
    "formula = \"num_early ~ i_episode + i_episode:depth_cost_weight + depth_cost_weight + sim_experiment_setting + sim_experiment_setting:i_episode + sim_experiment_setting:i_episode:depth_cost_weight + sim_experiment_setting:depth_cost_weight + 1\"\n",
    "res = smf.ols(formula=formula, data=grouped_data).fit(\n",
    "                    missing=\"drop\"\n",
    "                )\n",
    "res.summary()"
   ]
  },
  {
   "cell_type": "code",
   "execution_count": null,
   "metadata": {},
   "outputs": [],
   "source": []
  }
 ],
 "metadata": {
  "kernelspec": {
   "display_name": "Python 3",
   "language": "python",
   "name": "python3"
  },
  "language_info": {
   "codemirror_mode": {
    "name": "ipython",
    "version": 3
   },
   "file_extension": ".py",
   "mimetype": "text/x-python",
   "name": "python",
   "nbconvert_exporter": "python",
   "pygments_lexer": "ipython3",
   "version": "3.8.10"
  }
 },
 "nbformat": 4,
 "nbformat_minor": 1
}
