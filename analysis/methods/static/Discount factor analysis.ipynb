{
 "cells": [
  {
   "cell_type": "code",
   "execution_count": 1,
   "id": "edaf308c",
   "metadata": {},
   "outputs": [],
   "source": [
    "import json\n",
    "import yaml\n",
    "import numpy as np\n",
    "import shutil\n",
    "from pathlib import Path\n",
    "import pandas as pd\n",
    "from mouselab.mouselab import MouselabEnv\n",
    "from mouselab.env_utils import get_ground_truths_from_json"
   ]
  },
  {
   "cell_type": "code",
   "execution_count": 2,
   "id": "e63127cb",
   "metadata": {},
   "outputs": [],
   "source": [
    "discount_factors = [.50,.75,.85,.9,.95,.975,.999]"
   ]
  },
  {
   "cell_type": "code",
   "execution_count": 3,
   "id": "960a59f0",
   "metadata": {},
   "outputs": [],
   "source": [
    "for discount_factor in discount_factors:\n",
    "    shutil.copyfile( Path(f\"../../../data/inputs/exp_inputs/structure/312_2_4_24.json\"), \\\n",
    "                     Path(f\"../../../data/inputs/exp_inputs/structure/high_increasing{discount_factor}.json\"))"
   ]
  },
  {
   "cell_type": "code",
   "execution_count": 4,
   "id": "bf6da32b",
   "metadata": {},
   "outputs": [],
   "source": [
    "with open(Path(\"../../../data/inputs/yamls/experiment_settings/high_increasing.yaml\"), \"rb\") as f:\n",
    "    experiment_setting_data = yaml.safe_load(f)\n",
    "    \n",
    "for discount_factor in discount_factors:\n",
    "    experiment_setting_data[\"ground_truth_file\"] = f\"high_increasing{discount_factor}\"\n",
    "    experiment_setting_data[\"structure\"] = f\"high_increasing{discount_factor}\"\n",
    "    \n",
    "    with open(Path(f\"../../../data/inputs/yamls/experiment_settings/high_increasing{discount_factor}.yaml\"), \"w\") as f:\n",
    "        yaml.dump(experiment_setting_data, f)"
   ]
  },
  {
   "cell_type": "code",
   "execution_count": 5,
   "id": "51ecde56",
   "metadata": {},
   "outputs": [],
   "source": [
    "env = MouselabEnv.new_symmetric_registered(\"high_increasing\")\n",
    "\n",
    "for discount_factor in discount_factors:\n",
    "    with open(Path(\"../../../data/inputs/exp_inputs/rewards/312_2_4_24.json\"), \"rb\") as f:\n",
    "        data = json.load(f)\n",
    "    \n",
    "    for trial in data:\n",
    "        trial[\"stateRewards\"] = [round(reward*discount_factor**(env.mdp_graph.nodes[action][\"depth\"]-1),2) if env.mdp_graph.nodes[action][\"depth\"] != 0 else 0.0 for action, reward in enumerate(trial[\"stateRewards\"])]\n",
    "\n",
    "    with open(Path(f\"../../../data/inputs/exp_inputs/rewards/high_increasing{discount_factor}.json\"), \"w\") as f:\n",
    "        json.dump(data, f)"
   ]
  },
  {
   "cell_type": "code",
   "execution_count": 6,
   "id": "6faa321e",
   "metadata": {},
   "outputs": [
    {
     "name": "stdout",
     "output_type": "stream",
     "text": [
      "c1.1.yaml              methods_main0.95.yaml        quest_feasibility.yaml\r\n",
      "c2.1.yaml              methods_main0.975.yaml       quest_first.yaml\r\n",
      "irl_validation.yaml    methods_main0.999.yaml       quest_main.yaml\r\n",
      "methods_main0.5.yaml   methods_main0.9.yaml         quest_second.yaml\r\n",
      "methods_main0.75.yaml  methods_main_extension.yaml\r\n",
      "methods_main0.85.yaml  methods_main.yaml\r\n"
     ]
    }
   ],
   "source": [
    "ls ../../../data/inputs/yamls/experiments"
   ]
  },
  {
   "cell_type": "code",
   "execution_count": 7,
   "id": "823d41f3",
   "metadata": {},
   "outputs": [],
   "source": [
    "with open(Path(\"../../../data/inputs/yamls/experiments/methods_main.yaml\"), \"rb\") as f:\n",
    "    data = yaml.safe_load(f)\n",
    "\n",
    "for discount_factor in discount_factors:\n",
    "    data['sessions'] = [f'methods_main{discount_factor}']\n",
    "    data['experiment_setting'] = f'high_increasing{discount_factor}'\n",
    "    with open(Path(f\"../../../data/inputs/yamls/experiments/methods_main{discount_factor}.yaml\"), \"w\") as f:\n",
    "        yaml.dump(data, f)"
   ]
  },
  {
   "cell_type": "markdown",
   "id": "fd22445b",
   "metadata": {},
   "source": [
    "Put this in `cluster/src/cluster_utils.py`"
   ]
  },
  {
   "cell_type": "code",
   "execution_count": 8,
   "id": "ee47871f",
   "metadata": {},
   "outputs": [
    {
     "name": "stdout",
     "output_type": "stream",
     "text": [
      "elif name == 'high_increasing0.5':\n",
      "    register(\n",
      "        name=name,\n",
      "        branching=[3, 1, 2],\n",
      "        reward_inputs=\"depth\",\n",
      "        reward_dictionary={\n",
      "            1: Categorical([-4, -2, 2, 4]),\n",
      "            2: Categorical([-4.0, -2.0, 2.0, 4.0]),\n",
      "            3: Categorical([-12.0, -6.0, 6.0, 12.0]),\n",
      "        },\n",
      "    )\n",
      "elif name == 'high_increasing0.75':\n",
      "    register(\n",
      "        name=name,\n",
      "        branching=[3, 1, 2],\n",
      "        reward_inputs=\"depth\",\n",
      "        reward_dictionary={\n",
      "            1: Categorical([-4, -2, 2, 4]),\n",
      "            2: Categorical([-6.0, -3.0, 3.0, 6.0]),\n",
      "            3: Categorical([-27.0, -13.5, 13.5, 27.0]),\n",
      "        },\n",
      "    )\n",
      "elif name == 'high_increasing0.85':\n",
      "    register(\n",
      "        name=name,\n",
      "        branching=[3, 1, 2],\n",
      "        reward_inputs=\"depth\",\n",
      "        reward_dictionary={\n",
      "            1: Categorical([-4, -2, 2, 4]),\n",
      "            2: Categorical([-6.8, -3.4, 3.4, 6.8]),\n",
      "            3: Categorical([-34.68, -17.34, 17.34, 34.68]),\n",
      "        },\n",
      "    )\n",
      "elif name == 'high_increasing0.9':\n",
      "    register(\n",
      "        name=name,\n",
      "        branching=[3, 1, 2],\n",
      "        reward_inputs=\"depth\",\n",
      "        reward_dictionary={\n",
      "            1: Categorical([-4, -2, 2, 4]),\n",
      "            2: Categorical([-7.2, -3.6, 3.6, 7.2]),\n",
      "            3: Categorical([-38.88, -19.44, 19.44, 38.88]),\n",
      "        },\n",
      "    )\n",
      "elif name == 'high_increasing0.95':\n",
      "    register(\n",
      "        name=name,\n",
      "        branching=[3, 1, 2],\n",
      "        reward_inputs=\"depth\",\n",
      "        reward_dictionary={\n",
      "            1: Categorical([-4, -2, 2, 4]),\n",
      "            2: Categorical([-7.6, -3.8, 3.8, 7.6]),\n",
      "            3: Categorical([-43.32, -21.66, 21.66, 43.32]),\n",
      "        },\n",
      "    )\n",
      "elif name == 'high_increasing0.975':\n",
      "    register(\n",
      "        name=name,\n",
      "        branching=[3, 1, 2],\n",
      "        reward_inputs=\"depth\",\n",
      "        reward_dictionary={\n",
      "            1: Categorical([-4, -2, 2, 4]),\n",
      "            2: Categorical([-7.8, -3.9, 3.9, 7.8]),\n",
      "            3: Categorical([-45.63, -22.81, 22.81, 45.63]),\n",
      "        },\n",
      "    )\n",
      "elif name == 'high_increasing0.999':\n",
      "    register(\n",
      "        name=name,\n",
      "        branching=[3, 1, 2],\n",
      "        reward_inputs=\"depth\",\n",
      "        reward_dictionary={\n",
      "            1: Categorical([-4, -2, 2, 4]),\n",
      "            2: Categorical([-7.99, -4.0, 4.0, 7.99]),\n",
      "            3: Categorical([-47.9, -23.95, 23.95, 47.9]),\n",
      "        },\n",
      "    )\n"
     ]
    }
   ],
   "source": [
    "for discount_factor in discount_factors:\n",
    "    print(f\"elif name == 'high_increasing{discount_factor}':\\n\"\n",
    "          f\"    register(\\n\"\n",
    "          f\"        name=name,\\n\"\n",
    "          f\"        branching=[3, 1, 2],\\n\"\n",
    "          f\"        reward_inputs=\\\"depth\\\",\\n\"\n",
    "          f\"        reward_dictionary={{\\n\"\n",
    "          f\"            1: Categorical([-4, -2, 2, 4]),\\n\"\n",
    "          f\"            2: Categorical([{', '.join(str(round(val*discount_factor,2)) for val in [-8, -4, 4, 8])}]),\\n\"\n",
    "          f\"            3: Categorical([{', '.join(str(round(val*discount_factor**2,2)) for val in [-48, -24, 24, 48])}]),\\n\"\n",
    "          f\"        }},\\n\"\n",
    "          f\"    )\")"
   ]
  },
  {
   "cell_type": "code",
   "execution_count": 9,
   "id": "a95e1a53",
   "metadata": {},
   "outputs": [],
   "source": [
    "np.savetxt(\n",
    "    Path(\"../../../cluster/parameters/cost/null.txt\"),\n",
    "    [[0.0, 1.0]],\n",
    "    fmt=\"%.02f\",\n",
    "    delimiter=\",\",\n",
    ")"
   ]
  },
  {
   "cell_type": "code",
   "execution_count": 10,
   "id": "83b9f42e",
   "metadata": {},
   "outputs": [],
   "source": [
    "mouselab_data = pd.read_csv(Path(\"../../../data/processed/methods_main/mouselab-mdp.csv\"), index_col=0)\n",
    "for discount_factor in discount_factors:\n",
    "    with open(Path(f\"../../../data/inputs/exp_inputs/rewards/high_increasing{discount_factor}.json\"), \"rb\") as f:\n",
    "        data = json.load(f)\n",
    "    ground_truth_dict = {trial[\"trial_id\"] : trial[\"stateRewards\"] for trial in data}\n",
    "\n",
    "    mouselab_data[\"state_rewards\"] = mouselab_data[\"trial_id\"].apply(lambda trial_id : ground_truth_dict[trial_id][1:])\n",
    "    \n",
    "    # need to change ground truths\n",
    "    Path(f\"../../../data/processed/methods_main{discount_factor}\").mkdir(exist_ok = True, parents=True)\n",
    "    mouselab_data.to_csv(Path(f\"../../../data/processed/methods_main{discount_factor}/mouselab-mdp.csv\"), index=False)"
   ]
  },
  {
   "cell_type": "markdown",
   "id": "c927d077",
   "metadata": {},
   "source": [
    "Generate cluster submission commands to run to get Q values"
   ]
  },
  {
   "cell_type": "code",
   "execution_count": 11,
   "id": "68892ecd",
   "metadata": {},
   "outputs": [
    {
     "name": "stdout",
     "output_type": "stream",
     "text": [
      "condor_submit_bid 1 submission_scripts/MPI-IS/03_Get_Q_Values.sub experiment_setting=high_increasing0.5 cost_function=linear_depth param_file=null\n",
      "condor_submit_bid 1 submission_scripts/MPI-IS/03_Get_Q_Values.sub experiment_setting=high_increasing0.75 cost_function=linear_depth param_file=null\n",
      "condor_submit_bid 1 submission_scripts/MPI-IS/03_Get_Q_Values.sub experiment_setting=high_increasing0.85 cost_function=linear_depth param_file=null\n",
      "condor_submit_bid 1 submission_scripts/MPI-IS/03_Get_Q_Values.sub experiment_setting=high_increasing0.9 cost_function=linear_depth param_file=null\n",
      "condor_submit_bid 1 submission_scripts/MPI-IS/03_Get_Q_Values.sub experiment_setting=high_increasing0.95 cost_function=linear_depth param_file=null\n",
      "condor_submit_bid 1 submission_scripts/MPI-IS/03_Get_Q_Values.sub experiment_setting=high_increasing0.975 cost_function=linear_depth param_file=null\n",
      "condor_submit_bid 1 submission_scripts/MPI-IS/03_Get_Q_Values.sub experiment_setting=high_increasing0.999 cost_function=linear_depth param_file=null\n"
     ]
    }
   ],
   "source": [
    "for discount_factor in discount_factors:\n",
    "    print(f\"condor_submit_bid 1 submission_scripts/MPI-IS/03_Get_Q_Values.sub experiment_setting=high_increasing{discount_factor} cost_function=linear_depth param_file=null\")"
   ]
  },
  {
   "cell_type": "markdown",
   "id": "2dedbcb6",
   "metadata": {},
   "source": [
    "Generate cluster submission commands to infer likelihood for methods_main:"
   ]
  },
  {
   "cell_type": "code",
   "execution_count": 12,
   "id": "87d1e450",
   "metadata": {},
   "outputs": [
    {
     "name": "stdout",
     "output_type": "stream",
     "text": [
      "condor_submit_bid 1 submission_scripts/MPI-IS/04_Infer_Params.sub experiment=methods_main0.5 cost_function=linear_depth param_file=null\n",
      "condor_submit_bid 1 submission_scripts/MPI-IS/04_Infer_Params.sub experiment=methods_main0.75 cost_function=linear_depth param_file=null\n",
      "condor_submit_bid 1 submission_scripts/MPI-IS/04_Infer_Params.sub experiment=methods_main0.85 cost_function=linear_depth param_file=null\n",
      "condor_submit_bid 1 submission_scripts/MPI-IS/04_Infer_Params.sub experiment=methods_main0.9 cost_function=linear_depth param_file=null\n",
      "condor_submit_bid 1 submission_scripts/MPI-IS/04_Infer_Params.sub experiment=methods_main0.95 cost_function=linear_depth param_file=null\n",
      "condor_submit_bid 1 submission_scripts/MPI-IS/04_Infer_Params.sub experiment=methods_main0.975 cost_function=linear_depth param_file=null\n",
      "condor_submit_bid 1 submission_scripts/MPI-IS/04_Infer_Params.sub experiment=methods_main0.999 cost_function=linear_depth param_file=null\n"
     ]
    }
   ],
   "source": [
    "for discount_factor in discount_factors:\n",
    "    print(f\"condor_submit_bid 1 submission_scripts/MPI-IS/04_Infer_Params.sub experiment=methods_main{discount_factor} cost_function=linear_depth param_file=null\")"
   ]
  }
 ],
 "metadata": {
  "kernelspec": {
   "display_name": "irl-project",
   "language": "python",
   "name": "irl-project"
  },
  "language_info": {
   "codemirror_mode": {
    "name": "ipython",
    "version": 3
   },
   "file_extension": ".py",
   "mimetype": "text/x-python",
   "name": "python",
   "nbconvert_exporter": "python",
   "pygments_lexer": "ipython3",
   "version": "3.8.10"
  }
 },
 "nbformat": 4,
 "nbformat_minor": 5
}
