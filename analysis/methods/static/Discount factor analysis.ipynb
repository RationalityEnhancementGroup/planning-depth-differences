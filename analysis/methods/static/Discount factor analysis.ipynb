{
 "cells": [
  {
   "cell_type": "code",
   "execution_count": 1,
   "id": "ed37f335",
   "metadata": {
    "pycharm": {
     "name": "#%%\n"
    }
   },
   "outputs": [],
   "source": [
    "import json\n",
    "import yaml\n",
    "import numpy as np\n",
    "import shutil\n",
    "from pathlib import Path\n",
    "import pandas as pd\n",
    "from mouselab.mouselab import MouselabEnv\n",
    "from mouselab.env_utils import get_ground_truths_from_json\n",
    "import dill as pickle"
   ]
  },
  {
   "cell_type": "markdown",
   "id": "e93a6a26",
   "metadata": {
    "pycharm": {
     "name": "#%% md\n"
    }
   },
   "source": [
    "# Creating data, modifying code"
   ]
  },
  {
   "cell_type": "code",
   "execution_count": 66,
   "id": "2b836d1a",
   "metadata": {
    "pycharm": {
     "name": "#%%\n"
    }
   },
   "outputs": [],
   "source": [
    "discount_factors = [.10, .20, .30, .40, .50,.75,.85,.9,.95,.975,.999]\n",
    "alphas = [0,.25,.5,.75,.9]"
   ]
  },
  {
   "cell_type": "code",
   "execution_count": 3,
   "id": "cc25b18e",
   "metadata": {
    "pycharm": {
     "name": "#%%\n"
    }
   },
   "outputs": [],
   "source": [
    "for discount_factor in discount_factors:\n",
    "    shutil.copyfile( Path(f\"../../../data/inputs/exp_inputs/structure/312_2_4_24.json\"), \\\n",
    "                     Path(f\"../../../data/inputs/exp_inputs/structure/high_increasing{discount_factor}.json\"))"
   ]
  },
  {
   "cell_type": "code",
   "execution_count": 4,
   "id": "ffb17373",
   "metadata": {
    "pycharm": {
     "name": "#%%\n"
    }
   },
   "outputs": [],
   "source": [
    "with open(Path(\"../../../data/inputs/yamls/experiment_settings/high_increasing.yaml\"), \"rb\") as f:\n",
    "    experiment_setting_data = yaml.safe_load(f)\n",
    "    \n",
    "for discount_factor in discount_factors:\n",
    "    experiment_setting_data[\"ground_truth_file\"] = f\"high_increasing{discount_factor}\"\n",
    "    experiment_setting_data[\"structure\"] = f\"high_increasing{discount_factor}\"\n",
    "    \n",
    "    with open(Path(f\"../../../data/inputs/yamls/experiment_settings/high_increasing{discount_factor}.yaml\"), \"w\") as f:\n",
    "        yaml.dump(experiment_setting_data, f)"
   ]
  },
  {
   "cell_type": "code",
   "execution_count": 5,
   "id": "6e276cb4",
   "metadata": {
    "pycharm": {
     "name": "#%%\n"
    }
   },
   "outputs": [],
   "source": [
    "env = MouselabEnv.new_symmetric_registered(\"high_increasing\")\n",
    "\n",
    "for discount_factor in discount_factors:\n",
    "    with open(Path(\"../../../data/inputs/exp_inputs/rewards/312_2_4_24.json\"), \"rb\") as f:\n",
    "        data = json.load(f)\n",
    "    \n",
    "    for trial in data:\n",
    "        trial[\"stateRewards\"] = [round(reward*discount_factor**(env.mdp_graph.nodes[action][\"depth\"]-1),2) if env.mdp_graph.nodes[action][\"depth\"] != 0 else 0.0 for action, reward in enumerate(trial[\"stateRewards\"])]\n",
    "\n",
    "    with open(Path(f\"../../../data/inputs/exp_inputs/rewards/high_increasing{discount_factor}.json\"), \"w\") as f:\n",
    "        json.dump(data, f)"
   ]
  },
  {
   "cell_type": "code",
   "execution_count": 6,
   "id": "60a4ef9d",
   "metadata": {
    "pycharm": {
     "name": "#%%\n"
    }
   },
   "outputs": [
    {
     "name": "stdout",
     "output_type": "stream",
     "text": [
      "c1.1.yaml                    methods_main0.9.yaml\r\n",
      "c2.1.yaml                    methods_main0.95.yaml\r\n",
      "irl_validation.yaml          methods_main0.975.yaml\r\n",
      "methods_main.yaml            methods_main0.999.yaml\r\n",
      "methods_main0.1.yaml         methods_main_extension.yaml\r\n",
      "methods_main0.2.yaml         methods_main_transfer.yaml\r\n",
      "methods_main0.3.yaml         quest_feasibility.yaml\r\n",
      "methods_main0.4.yaml         quest_first.yaml\r\n",
      "methods_main0.5.yaml         quest_main.yaml\r\n",
      "methods_main0.75.yaml        quest_second.yaml\r\n",
      "methods_main0.85.yaml\r\n"
     ]
    }
   ],
   "source": [
    "ls ../../../data/inputs/yamls/experiments"
   ]
  },
  {
   "cell_type": "code",
   "execution_count": 7,
   "id": "70368d6c",
   "metadata": {
    "pycharm": {
     "name": "#%%\n"
    }
   },
   "outputs": [],
   "source": [
    "with open(Path(\"../../../data/inputs/yamls/experiments/methods_main.yaml\"), \"rb\") as f:\n",
    "    data = yaml.safe_load(f)\n",
    "\n",
    "for discount_factor in discount_factors:\n",
    "    data['sessions'] = [f'methods_main{discount_factor}']\n",
    "    data['experiment_setting'] = f'high_increasing{discount_factor}'\n",
    "    with open(Path(f\"../../../data/inputs/yamls/experiments/methods_main{discount_factor}.yaml\"), \"w\") as f:\n",
    "        yaml.dump(data, f)"
   ]
  },
  {
   "cell_type": "markdown",
   "id": "673e87f3",
   "metadata": {
    "pycharm": {
     "name": "#%% md\n"
    }
   },
   "source": [
    "Put this in `cluster/src/cluster_utils.py`"
   ]
  },
  {
   "cell_type": "code",
   "execution_count": 8,
   "id": "6a78b35d",
   "metadata": {
    "pycharm": {
     "name": "#%%\n"
    }
   },
   "outputs": [
    {
     "name": "stdout",
     "output_type": "stream",
     "text": [
      "elif name == 'high_increasing0.1':\n",
      "    register(\n",
      "        name=name,\n",
      "        branching=[3, 1, 2],\n",
      "        reward_inputs=\"depth\",\n",
      "        reward_dictionary={\n",
      "            1: Categorical([-4, -2, 2, 4]),\n",
      "            2: Categorical([-0.8, -0.4, 0.4, 0.8]),\n",
      "            3: Categorical([-0.48, -0.24, 0.24, 0.48]),\n",
      "        },\n",
      "    )\n",
      "elif name == 'high_increasing0.2':\n",
      "    register(\n",
      "        name=name,\n",
      "        branching=[3, 1, 2],\n",
      "        reward_inputs=\"depth\",\n",
      "        reward_dictionary={\n",
      "            1: Categorical([-4, -2, 2, 4]),\n",
      "            2: Categorical([-1.6, -0.8, 0.8, 1.6]),\n",
      "            3: Categorical([-1.92, -0.96, 0.96, 1.92]),\n",
      "        },\n",
      "    )\n",
      "elif name == 'high_increasing0.3':\n",
      "    register(\n",
      "        name=name,\n",
      "        branching=[3, 1, 2],\n",
      "        reward_inputs=\"depth\",\n",
      "        reward_dictionary={\n",
      "            1: Categorical([-4, -2, 2, 4]),\n",
      "            2: Categorical([-2.4, -1.2, 1.2, 2.4]),\n",
      "            3: Categorical([-4.32, -2.16, 2.16, 4.32]),\n",
      "        },\n",
      "    )\n",
      "elif name == 'high_increasing0.4':\n",
      "    register(\n",
      "        name=name,\n",
      "        branching=[3, 1, 2],\n",
      "        reward_inputs=\"depth\",\n",
      "        reward_dictionary={\n",
      "            1: Categorical([-4, -2, 2, 4]),\n",
      "            2: Categorical([-3.2, -1.6, 1.6, 3.2]),\n",
      "            3: Categorical([-7.68, -3.84, 3.84, 7.68]),\n",
      "        },\n",
      "    )\n",
      "elif name == 'high_increasing0.5':\n",
      "    register(\n",
      "        name=name,\n",
      "        branching=[3, 1, 2],\n",
      "        reward_inputs=\"depth\",\n",
      "        reward_dictionary={\n",
      "            1: Categorical([-4, -2, 2, 4]),\n",
      "            2: Categorical([-4.0, -2.0, 2.0, 4.0]),\n",
      "            3: Categorical([-12.0, -6.0, 6.0, 12.0]),\n",
      "        },\n",
      "    )\n",
      "elif name == 'high_increasing0.75':\n",
      "    register(\n",
      "        name=name,\n",
      "        branching=[3, 1, 2],\n",
      "        reward_inputs=\"depth\",\n",
      "        reward_dictionary={\n",
      "            1: Categorical([-4, -2, 2, 4]),\n",
      "            2: Categorical([-6.0, -3.0, 3.0, 6.0]),\n",
      "            3: Categorical([-27.0, -13.5, 13.5, 27.0]),\n",
      "        },\n",
      "    )\n",
      "elif name == 'high_increasing0.85':\n",
      "    register(\n",
      "        name=name,\n",
      "        branching=[3, 1, 2],\n",
      "        reward_inputs=\"depth\",\n",
      "        reward_dictionary={\n",
      "            1: Categorical([-4, -2, 2, 4]),\n",
      "            2: Categorical([-6.8, -3.4, 3.4, 6.8]),\n",
      "            3: Categorical([-34.68, -17.34, 17.34, 34.68]),\n",
      "        },\n",
      "    )\n",
      "elif name == 'high_increasing0.9':\n",
      "    register(\n",
      "        name=name,\n",
      "        branching=[3, 1, 2],\n",
      "        reward_inputs=\"depth\",\n",
      "        reward_dictionary={\n",
      "            1: Categorical([-4, -2, 2, 4]),\n",
      "            2: Categorical([-7.2, -3.6, 3.6, 7.2]),\n",
      "            3: Categorical([-38.88, -19.44, 19.44, 38.88]),\n",
      "        },\n",
      "    )\n",
      "elif name == 'high_increasing0.95':\n",
      "    register(\n",
      "        name=name,\n",
      "        branching=[3, 1, 2],\n",
      "        reward_inputs=\"depth\",\n",
      "        reward_dictionary={\n",
      "            1: Categorical([-4, -2, 2, 4]),\n",
      "            2: Categorical([-7.6, -3.8, 3.8, 7.6]),\n",
      "            3: Categorical([-43.32, -21.66, 21.66, 43.32]),\n",
      "        },\n",
      "    )\n",
      "elif name == 'high_increasing0.975':\n",
      "    register(\n",
      "        name=name,\n",
      "        branching=[3, 1, 2],\n",
      "        reward_inputs=\"depth\",\n",
      "        reward_dictionary={\n",
      "            1: Categorical([-4, -2, 2, 4]),\n",
      "            2: Categorical([-7.8, -3.9, 3.9, 7.8]),\n",
      "            3: Categorical([-45.63, -22.81, 22.81, 45.63]),\n",
      "        },\n",
      "    )\n",
      "elif name == 'high_increasing0.999':\n",
      "    register(\n",
      "        name=name,\n",
      "        branching=[3, 1, 2],\n",
      "        reward_inputs=\"depth\",\n",
      "        reward_dictionary={\n",
      "            1: Categorical([-4, -2, 2, 4]),\n",
      "            2: Categorical([-7.99, -4.0, 4.0, 7.99]),\n",
      "            3: Categorical([-47.9, -23.95, 23.95, 47.9]),\n",
      "        },\n",
      "    )\n"
     ]
    }
   ],
   "source": [
    "for discount_factor in discount_factors:\n",
    "    print(f\"elif name == 'high_increasing{discount_factor}':\\n\"\n",
    "          f\"    register(\\n\"\n",
    "          f\"        name=name,\\n\"\n",
    "          f\"        branching=[3, 1, 2],\\n\"\n",
    "          f\"        reward_inputs=\\\"depth\\\",\\n\"\n",
    "          f\"        reward_dictionary={{\\n\"\n",
    "          f\"            1: Categorical([-4, -2, 2, 4]),\\n\"\n",
    "          f\"            2: Categorical([{', '.join(str(round(val*discount_factor,2)) for val in [-8, -4, 4, 8])}]),\\n\"\n",
    "          f\"            3: Categorical([{', '.join(str(round(val*discount_factor**2,2)) for val in [-48, -24, 24, 48])}]),\\n\"\n",
    "          f\"        }},\\n\"\n",
    "          f\"    )\")"
   ]
  },
  {
   "cell_type": "code",
   "execution_count": 9,
   "id": "9f24d591",
   "metadata": {
    "pycharm": {
     "name": "#%%\n"
    }
   },
   "outputs": [],
   "source": [
    "np.savetxt(\n",
    "    Path(\"../../../cluster/parameters/cost/null.txt\"),\n",
    "    [[1.0, 0.0]],\n",
    "    fmt=\"%.02f\",\n",
    "    delimiter=\",\",\n",
    ")"
   ]
  },
  {
   "cell_type": "code",
   "execution_count": 10,
   "id": "c11706fc",
   "metadata": {
    "pycharm": {
     "name": "#%%\n"
    }
   },
   "outputs": [],
   "source": [
    "mouselab_data = pd.read_csv(Path(\"../../../data/processed/methods_main/mouselab-mdp.csv\"), index_col=0)\n",
    "mouselab_data = mouselab_data[mouselab_data[\"block\"]==\"test\"]\n",
    "for discount_factor in discount_factors:\n",
    "    with open(Path(f\"../../../data/inputs/exp_inputs/rewards/high_increasing{discount_factor}.json\"), \"rb\") as f:\n",
    "        data = json.load(f)\n",
    "    ground_truth_dict = {trial[\"trial_id\"] : trial[\"stateRewards\"] for trial in data}\n",
    "\n",
    "    mouselab_data[\"state_rewards\"] = mouselab_data[\"trial_id\"].apply(lambda trial_id : ground_truth_dict[trial_id][1:])\n",
    "    \n",
    "    # need to change ground truths\n",
    "    Path(f\"../../../data/processed/methods_main{discount_factor}\").mkdir(exist_ok = True, parents=True)\n",
    "    mouselab_data.to_csv(Path(f\"../../../data/processed/methods_main{discount_factor}/mouselab-mdp.csv\"), index=False)"
   ]
  },
  {
   "cell_type": "markdown",
   "id": "80b884ae",
   "metadata": {
    "pycharm": {
     "name": "#%% md\n"
    }
   },
   "source": [
    "Generate cluster submission commands to run to get Q values"
   ]
  },
  {
   "cell_type": "code",
   "execution_count": 11,
   "id": "a3ace409",
   "metadata": {
    "pycharm": {
     "name": "#%%\n"
    }
   },
   "outputs": [
    {
     "name": "stdout",
     "output_type": "stream",
     "text": [
      "condor_submit_bid 1 submission_scripts/MPI-IS/03_Get_Q_Values.sub experiment_setting=high_increasing0.1 cost_function=linear_depth param_file=null\n",
      "condor_submit_bid 1 submission_scripts/MPI-IS/03_Get_Q_Values.sub experiment_setting=high_increasing0.2 cost_function=linear_depth param_file=null\n",
      "condor_submit_bid 1 submission_scripts/MPI-IS/03_Get_Q_Values.sub experiment_setting=high_increasing0.3 cost_function=linear_depth param_file=null\n",
      "condor_submit_bid 1 submission_scripts/MPI-IS/03_Get_Q_Values.sub experiment_setting=high_increasing0.4 cost_function=linear_depth param_file=null\n",
      "condor_submit_bid 1 submission_scripts/MPI-IS/03_Get_Q_Values.sub experiment_setting=high_increasing0.5 cost_function=linear_depth param_file=null\n",
      "condor_submit_bid 1 submission_scripts/MPI-IS/03_Get_Q_Values.sub experiment_setting=high_increasing0.75 cost_function=linear_depth param_file=null\n",
      "condor_submit_bid 1 submission_scripts/MPI-IS/03_Get_Q_Values.sub experiment_setting=high_increasing0.85 cost_function=linear_depth param_file=null\n",
      "condor_submit_bid 1 submission_scripts/MPI-IS/03_Get_Q_Values.sub experiment_setting=high_increasing0.9 cost_function=linear_depth param_file=null\n",
      "condor_submit_bid 1 submission_scripts/MPI-IS/03_Get_Q_Values.sub experiment_setting=high_increasing0.95 cost_function=linear_depth param_file=null\n",
      "condor_submit_bid 1 submission_scripts/MPI-IS/03_Get_Q_Values.sub experiment_setting=high_increasing0.975 cost_function=linear_depth param_file=null\n",
      "condor_submit_bid 1 submission_scripts/MPI-IS/03_Get_Q_Values.sub experiment_setting=high_increasing0.999 cost_function=linear_depth param_file=null\n"
     ]
    }
   ],
   "source": [
    "for discount_factor in discount_factors:\n",
    "    print(f\"condor_submit_bid 1 submission_scripts/MPI-IS/03_Get_Q_Values.sub experiment_setting=high_increasing{discount_factor} cost_function=linear_depth param_file=null\")"
   ]
  },
  {
   "cell_type": "code",
   "execution_count": 69,
   "id": "b2219eba",
   "metadata": {},
   "outputs": [
    {
     "name": "stdout",
     "output_type": "stream",
     "text": [
      "condor_submit_bid 1 submission_scripts/MPI-IS/03_Get_Q_Values.sub experiment_setting=high_increasing cost_function=linear_depth param_file=null alpha=0\n",
      "condor_submit_bid 1 submission_scripts/MPI-IS/03_Get_Q_Values.sub experiment_setting=high_increasing cost_function=linear_depth param_file=null alpha=0.25\n",
      "condor_submit_bid 1 submission_scripts/MPI-IS/03_Get_Q_Values.sub experiment_setting=high_increasing cost_function=linear_depth param_file=null alpha=0.5\n",
      "condor_submit_bid 1 submission_scripts/MPI-IS/03_Get_Q_Values.sub experiment_setting=high_increasing cost_function=linear_depth param_file=null alpha=0.75\n",
      "condor_submit_bid 1 submission_scripts/MPI-IS/03_Get_Q_Values.sub experiment_setting=high_increasing cost_function=linear_depth param_file=null alpha=0.9\n",
      "condor_submit_bid 1 submission_scripts/MPI-IS/03_Get_Q_Values.sub experiment_setting=high_increasing cost_function=linear_depth param_file=null alpha=0\n",
      "condor_submit_bid 1 submission_scripts/MPI-IS/03_Get_Q_Values.sub experiment_setting=high_increasing cost_function=linear_depth param_file=null alpha=0.25\n",
      "condor_submit_bid 1 submission_scripts/MPI-IS/03_Get_Q_Values.sub experiment_setting=high_increasing cost_function=linear_depth param_file=null alpha=0.5\n",
      "condor_submit_bid 1 submission_scripts/MPI-IS/03_Get_Q_Values.sub experiment_setting=high_increasing cost_function=linear_depth param_file=null alpha=0.75\n",
      "condor_submit_bid 1 submission_scripts/MPI-IS/03_Get_Q_Values.sub experiment_setting=high_increasing cost_function=linear_depth param_file=null alpha=0.9\n",
      "condor_submit_bid 1 submission_scripts/MPI-IS/03_Get_Q_Values.sub experiment_setting=high_increasing cost_function=linear_depth param_file=null alpha=0\n",
      "condor_submit_bid 1 submission_scripts/MPI-IS/03_Get_Q_Values.sub experiment_setting=high_increasing cost_function=linear_depth param_file=null alpha=0.25\n",
      "condor_submit_bid 1 submission_scripts/MPI-IS/03_Get_Q_Values.sub experiment_setting=high_increasing cost_function=linear_depth param_file=null alpha=0.5\n",
      "condor_submit_bid 1 submission_scripts/MPI-IS/03_Get_Q_Values.sub experiment_setting=high_increasing cost_function=linear_depth param_file=null alpha=0.75\n",
      "condor_submit_bid 1 submission_scripts/MPI-IS/03_Get_Q_Values.sub experiment_setting=high_increasing cost_function=linear_depth param_file=null alpha=0.9\n",
      "condor_submit_bid 1 submission_scripts/MPI-IS/03_Get_Q_Values.sub experiment_setting=high_increasing cost_function=linear_depth param_file=null alpha=0\n",
      "condor_submit_bid 1 submission_scripts/MPI-IS/03_Get_Q_Values.sub experiment_setting=high_increasing cost_function=linear_depth param_file=null alpha=0.25\n",
      "condor_submit_bid 1 submission_scripts/MPI-IS/03_Get_Q_Values.sub experiment_setting=high_increasing cost_function=linear_depth param_file=null alpha=0.5\n",
      "condor_submit_bid 1 submission_scripts/MPI-IS/03_Get_Q_Values.sub experiment_setting=high_increasing cost_function=linear_depth param_file=null alpha=0.75\n",
      "condor_submit_bid 1 submission_scripts/MPI-IS/03_Get_Q_Values.sub experiment_setting=high_increasing cost_function=linear_depth param_file=null alpha=0.9\n",
      "condor_submit_bid 1 submission_scripts/MPI-IS/03_Get_Q_Values.sub experiment_setting=high_increasing cost_function=linear_depth param_file=null alpha=0\n",
      "condor_submit_bid 1 submission_scripts/MPI-IS/03_Get_Q_Values.sub experiment_setting=high_increasing cost_function=linear_depth param_file=null alpha=0.25\n",
      "condor_submit_bid 1 submission_scripts/MPI-IS/03_Get_Q_Values.sub experiment_setting=high_increasing cost_function=linear_depth param_file=null alpha=0.5\n",
      "condor_submit_bid 1 submission_scripts/MPI-IS/03_Get_Q_Values.sub experiment_setting=high_increasing cost_function=linear_depth param_file=null alpha=0.75\n",
      "condor_submit_bid 1 submission_scripts/MPI-IS/03_Get_Q_Values.sub experiment_setting=high_increasing cost_function=linear_depth param_file=null alpha=0.9\n",
      "condor_submit_bid 1 submission_scripts/MPI-IS/03_Get_Q_Values.sub experiment_setting=high_increasing cost_function=linear_depth param_file=null alpha=0\n",
      "condor_submit_bid 1 submission_scripts/MPI-IS/03_Get_Q_Values.sub experiment_setting=high_increasing cost_function=linear_depth param_file=null alpha=0.25\n",
      "condor_submit_bid 1 submission_scripts/MPI-IS/03_Get_Q_Values.sub experiment_setting=high_increasing cost_function=linear_depth param_file=null alpha=0.5\n",
      "condor_submit_bid 1 submission_scripts/MPI-IS/03_Get_Q_Values.sub experiment_setting=high_increasing cost_function=linear_depth param_file=null alpha=0.75\n",
      "condor_submit_bid 1 submission_scripts/MPI-IS/03_Get_Q_Values.sub experiment_setting=high_increasing cost_function=linear_depth param_file=null alpha=0.9\n",
      "condor_submit_bid 1 submission_scripts/MPI-IS/03_Get_Q_Values.sub experiment_setting=high_increasing cost_function=linear_depth param_file=null alpha=0\n",
      "condor_submit_bid 1 submission_scripts/MPI-IS/03_Get_Q_Values.sub experiment_setting=high_increasing cost_function=linear_depth param_file=null alpha=0.25\n",
      "condor_submit_bid 1 submission_scripts/MPI-IS/03_Get_Q_Values.sub experiment_setting=high_increasing cost_function=linear_depth param_file=null alpha=0.5\n",
      "condor_submit_bid 1 submission_scripts/MPI-IS/03_Get_Q_Values.sub experiment_setting=high_increasing cost_function=linear_depth param_file=null alpha=0.75\n",
      "condor_submit_bid 1 submission_scripts/MPI-IS/03_Get_Q_Values.sub experiment_setting=high_increasing cost_function=linear_depth param_file=null alpha=0.9\n",
      "condor_submit_bid 1 submission_scripts/MPI-IS/03_Get_Q_Values.sub experiment_setting=high_increasing cost_function=linear_depth param_file=null alpha=0\n",
      "condor_submit_bid 1 submission_scripts/MPI-IS/03_Get_Q_Values.sub experiment_setting=high_increasing cost_function=linear_depth param_file=null alpha=0.25\n",
      "condor_submit_bid 1 submission_scripts/MPI-IS/03_Get_Q_Values.sub experiment_setting=high_increasing cost_function=linear_depth param_file=null alpha=0.5\n",
      "condor_submit_bid 1 submission_scripts/MPI-IS/03_Get_Q_Values.sub experiment_setting=high_increasing cost_function=linear_depth param_file=null alpha=0.75\n",
      "condor_submit_bid 1 submission_scripts/MPI-IS/03_Get_Q_Values.sub experiment_setting=high_increasing cost_function=linear_depth param_file=null alpha=0.9\n",
      "condor_submit_bid 1 submission_scripts/MPI-IS/03_Get_Q_Values.sub experiment_setting=high_increasing cost_function=linear_depth param_file=null alpha=0\n",
      "condor_submit_bid 1 submission_scripts/MPI-IS/03_Get_Q_Values.sub experiment_setting=high_increasing cost_function=linear_depth param_file=null alpha=0.25\n",
      "condor_submit_bid 1 submission_scripts/MPI-IS/03_Get_Q_Values.sub experiment_setting=high_increasing cost_function=linear_depth param_file=null alpha=0.5\n",
      "condor_submit_bid 1 submission_scripts/MPI-IS/03_Get_Q_Values.sub experiment_setting=high_increasing cost_function=linear_depth param_file=null alpha=0.75\n",
      "condor_submit_bid 1 submission_scripts/MPI-IS/03_Get_Q_Values.sub experiment_setting=high_increasing cost_function=linear_depth param_file=null alpha=0.9\n",
      "condor_submit_bid 1 submission_scripts/MPI-IS/03_Get_Q_Values.sub experiment_setting=high_increasing cost_function=linear_depth param_file=null alpha=0\n",
      "condor_submit_bid 1 submission_scripts/MPI-IS/03_Get_Q_Values.sub experiment_setting=high_increasing cost_function=linear_depth param_file=null alpha=0.25\n",
      "condor_submit_bid 1 submission_scripts/MPI-IS/03_Get_Q_Values.sub experiment_setting=high_increasing cost_function=linear_depth param_file=null alpha=0.5\n",
      "condor_submit_bid 1 submission_scripts/MPI-IS/03_Get_Q_Values.sub experiment_setting=high_increasing cost_function=linear_depth param_file=null alpha=0.75\n",
      "condor_submit_bid 1 submission_scripts/MPI-IS/03_Get_Q_Values.sub experiment_setting=high_increasing cost_function=linear_depth param_file=null alpha=0.9\n",
      "condor_submit_bid 1 submission_scripts/MPI-IS/03_Get_Q_Values.sub experiment_setting=high_increasing cost_function=linear_depth param_file=null alpha=0\n",
      "condor_submit_bid 1 submission_scripts/MPI-IS/03_Get_Q_Values.sub experiment_setting=high_increasing cost_function=linear_depth param_file=null alpha=0.25\n",
      "condor_submit_bid 1 submission_scripts/MPI-IS/03_Get_Q_Values.sub experiment_setting=high_increasing cost_function=linear_depth param_file=null alpha=0.5\n",
      "condor_submit_bid 1 submission_scripts/MPI-IS/03_Get_Q_Values.sub experiment_setting=high_increasing cost_function=linear_depth param_file=null alpha=0.75\n",
      "condor_submit_bid 1 submission_scripts/MPI-IS/03_Get_Q_Values.sub experiment_setting=high_increasing cost_function=linear_depth param_file=null alpha=0.9\n"
     ]
    }
   ],
   "source": [
    "for discount_factor in discount_factors:\n",
    "    for alpha in alphas:\n",
    "        print(f\"condor_submit_bid 1 submission_scripts/MPI-IS/03_Get_Q_Values.sub experiment_setting=high_increasing cost_function=linear_depth param_file=null alpha={alpha}\")"
   ]
  },
  {
   "cell_type": "code",
   "execution_count": 67,
   "id": "e38d1a94",
   "metadata": {
    "scrolled": false
   },
   "outputs": [
    {
     "name": "stdout",
     "output_type": "stream",
     "text": [
      "condor_submit_bid 1 submission_scripts/MPI-IS/03_Get_Q_Values.sub experiment_setting=high_increasing0.1 cost_function=linear_depth param_file=null alpha=0\n",
      "condor_submit_bid 1 submission_scripts/MPI-IS/03_Get_Q_Values.sub experiment_setting=high_increasing0.1 cost_function=linear_depth param_file=null alpha=0.25\n",
      "condor_submit_bid 1 submission_scripts/MPI-IS/03_Get_Q_Values.sub experiment_setting=high_increasing0.1 cost_function=linear_depth param_file=null alpha=0.5\n",
      "condor_submit_bid 1 submission_scripts/MPI-IS/03_Get_Q_Values.sub experiment_setting=high_increasing0.1 cost_function=linear_depth param_file=null alpha=0.75\n",
      "condor_submit_bid 1 submission_scripts/MPI-IS/03_Get_Q_Values.sub experiment_setting=high_increasing0.1 cost_function=linear_depth param_file=null alpha=0.9\n",
      "condor_submit_bid 1 submission_scripts/MPI-IS/03_Get_Q_Values.sub experiment_setting=high_increasing0.2 cost_function=linear_depth param_file=null alpha=0\n",
      "condor_submit_bid 1 submission_scripts/MPI-IS/03_Get_Q_Values.sub experiment_setting=high_increasing0.2 cost_function=linear_depth param_file=null alpha=0.25\n",
      "condor_submit_bid 1 submission_scripts/MPI-IS/03_Get_Q_Values.sub experiment_setting=high_increasing0.2 cost_function=linear_depth param_file=null alpha=0.5\n",
      "condor_submit_bid 1 submission_scripts/MPI-IS/03_Get_Q_Values.sub experiment_setting=high_increasing0.2 cost_function=linear_depth param_file=null alpha=0.75\n",
      "condor_submit_bid 1 submission_scripts/MPI-IS/03_Get_Q_Values.sub experiment_setting=high_increasing0.2 cost_function=linear_depth param_file=null alpha=0.9\n",
      "condor_submit_bid 1 submission_scripts/MPI-IS/03_Get_Q_Values.sub experiment_setting=high_increasing0.3 cost_function=linear_depth param_file=null alpha=0\n",
      "condor_submit_bid 1 submission_scripts/MPI-IS/03_Get_Q_Values.sub experiment_setting=high_increasing0.3 cost_function=linear_depth param_file=null alpha=0.25\n",
      "condor_submit_bid 1 submission_scripts/MPI-IS/03_Get_Q_Values.sub experiment_setting=high_increasing0.3 cost_function=linear_depth param_file=null alpha=0.5\n",
      "condor_submit_bid 1 submission_scripts/MPI-IS/03_Get_Q_Values.sub experiment_setting=high_increasing0.3 cost_function=linear_depth param_file=null alpha=0.75\n",
      "condor_submit_bid 1 submission_scripts/MPI-IS/03_Get_Q_Values.sub experiment_setting=high_increasing0.3 cost_function=linear_depth param_file=null alpha=0.9\n",
      "condor_submit_bid 1 submission_scripts/MPI-IS/03_Get_Q_Values.sub experiment_setting=high_increasing0.4 cost_function=linear_depth param_file=null alpha=0\n",
      "condor_submit_bid 1 submission_scripts/MPI-IS/03_Get_Q_Values.sub experiment_setting=high_increasing0.4 cost_function=linear_depth param_file=null alpha=0.25\n",
      "condor_submit_bid 1 submission_scripts/MPI-IS/03_Get_Q_Values.sub experiment_setting=high_increasing0.4 cost_function=linear_depth param_file=null alpha=0.5\n",
      "condor_submit_bid 1 submission_scripts/MPI-IS/03_Get_Q_Values.sub experiment_setting=high_increasing0.4 cost_function=linear_depth param_file=null alpha=0.75\n",
      "condor_submit_bid 1 submission_scripts/MPI-IS/03_Get_Q_Values.sub experiment_setting=high_increasing0.4 cost_function=linear_depth param_file=null alpha=0.9\n",
      "condor_submit_bid 1 submission_scripts/MPI-IS/03_Get_Q_Values.sub experiment_setting=high_increasing0.5 cost_function=linear_depth param_file=null alpha=0\n",
      "condor_submit_bid 1 submission_scripts/MPI-IS/03_Get_Q_Values.sub experiment_setting=high_increasing0.5 cost_function=linear_depth param_file=null alpha=0.25\n",
      "condor_submit_bid 1 submission_scripts/MPI-IS/03_Get_Q_Values.sub experiment_setting=high_increasing0.5 cost_function=linear_depth param_file=null alpha=0.5\n",
      "condor_submit_bid 1 submission_scripts/MPI-IS/03_Get_Q_Values.sub experiment_setting=high_increasing0.5 cost_function=linear_depth param_file=null alpha=0.75\n",
      "condor_submit_bid 1 submission_scripts/MPI-IS/03_Get_Q_Values.sub experiment_setting=high_increasing0.5 cost_function=linear_depth param_file=null alpha=0.9\n",
      "condor_submit_bid 1 submission_scripts/MPI-IS/03_Get_Q_Values.sub experiment_setting=high_increasing0.75 cost_function=linear_depth param_file=null alpha=0\n",
      "condor_submit_bid 1 submission_scripts/MPI-IS/03_Get_Q_Values.sub experiment_setting=high_increasing0.75 cost_function=linear_depth param_file=null alpha=0.25\n",
      "condor_submit_bid 1 submission_scripts/MPI-IS/03_Get_Q_Values.sub experiment_setting=high_increasing0.75 cost_function=linear_depth param_file=null alpha=0.5\n",
      "condor_submit_bid 1 submission_scripts/MPI-IS/03_Get_Q_Values.sub experiment_setting=high_increasing0.75 cost_function=linear_depth param_file=null alpha=0.75\n",
      "condor_submit_bid 1 submission_scripts/MPI-IS/03_Get_Q_Values.sub experiment_setting=high_increasing0.75 cost_function=linear_depth param_file=null alpha=0.9\n",
      "condor_submit_bid 1 submission_scripts/MPI-IS/03_Get_Q_Values.sub experiment_setting=high_increasing0.85 cost_function=linear_depth param_file=null alpha=0\n",
      "condor_submit_bid 1 submission_scripts/MPI-IS/03_Get_Q_Values.sub experiment_setting=high_increasing0.85 cost_function=linear_depth param_file=null alpha=0.25\n",
      "condor_submit_bid 1 submission_scripts/MPI-IS/03_Get_Q_Values.sub experiment_setting=high_increasing0.85 cost_function=linear_depth param_file=null alpha=0.5\n",
      "condor_submit_bid 1 submission_scripts/MPI-IS/03_Get_Q_Values.sub experiment_setting=high_increasing0.85 cost_function=linear_depth param_file=null alpha=0.75\n",
      "condor_submit_bid 1 submission_scripts/MPI-IS/03_Get_Q_Values.sub experiment_setting=high_increasing0.85 cost_function=linear_depth param_file=null alpha=0.9\n",
      "condor_submit_bid 1 submission_scripts/MPI-IS/03_Get_Q_Values.sub experiment_setting=high_increasing0.9 cost_function=linear_depth param_file=null alpha=0\n",
      "condor_submit_bid 1 submission_scripts/MPI-IS/03_Get_Q_Values.sub experiment_setting=high_increasing0.9 cost_function=linear_depth param_file=null alpha=0.25\n",
      "condor_submit_bid 1 submission_scripts/MPI-IS/03_Get_Q_Values.sub experiment_setting=high_increasing0.9 cost_function=linear_depth param_file=null alpha=0.5\n",
      "condor_submit_bid 1 submission_scripts/MPI-IS/03_Get_Q_Values.sub experiment_setting=high_increasing0.9 cost_function=linear_depth param_file=null alpha=0.75\n",
      "condor_submit_bid 1 submission_scripts/MPI-IS/03_Get_Q_Values.sub experiment_setting=high_increasing0.9 cost_function=linear_depth param_file=null alpha=0.9\n",
      "condor_submit_bid 1 submission_scripts/MPI-IS/03_Get_Q_Values.sub experiment_setting=high_increasing0.95 cost_function=linear_depth param_file=null alpha=0\n",
      "condor_submit_bid 1 submission_scripts/MPI-IS/03_Get_Q_Values.sub experiment_setting=high_increasing0.95 cost_function=linear_depth param_file=null alpha=0.25\n",
      "condor_submit_bid 1 submission_scripts/MPI-IS/03_Get_Q_Values.sub experiment_setting=high_increasing0.95 cost_function=linear_depth param_file=null alpha=0.5\n",
      "condor_submit_bid 1 submission_scripts/MPI-IS/03_Get_Q_Values.sub experiment_setting=high_increasing0.95 cost_function=linear_depth param_file=null alpha=0.75\n",
      "condor_submit_bid 1 submission_scripts/MPI-IS/03_Get_Q_Values.sub experiment_setting=high_increasing0.95 cost_function=linear_depth param_file=null alpha=0.9\n",
      "condor_submit_bid 1 submission_scripts/MPI-IS/03_Get_Q_Values.sub experiment_setting=high_increasing0.975 cost_function=linear_depth param_file=null alpha=0\n",
      "condor_submit_bid 1 submission_scripts/MPI-IS/03_Get_Q_Values.sub experiment_setting=high_increasing0.975 cost_function=linear_depth param_file=null alpha=0.25\n",
      "condor_submit_bid 1 submission_scripts/MPI-IS/03_Get_Q_Values.sub experiment_setting=high_increasing0.975 cost_function=linear_depth param_file=null alpha=0.5\n",
      "condor_submit_bid 1 submission_scripts/MPI-IS/03_Get_Q_Values.sub experiment_setting=high_increasing0.975 cost_function=linear_depth param_file=null alpha=0.75\n",
      "condor_submit_bid 1 submission_scripts/MPI-IS/03_Get_Q_Values.sub experiment_setting=high_increasing0.975 cost_function=linear_depth param_file=null alpha=0.9\n",
      "condor_submit_bid 1 submission_scripts/MPI-IS/03_Get_Q_Values.sub experiment_setting=high_increasing0.999 cost_function=linear_depth param_file=null alpha=0\n",
      "condor_submit_bid 1 submission_scripts/MPI-IS/03_Get_Q_Values.sub experiment_setting=high_increasing0.999 cost_function=linear_depth param_file=null alpha=0.25\n",
      "condor_submit_bid 1 submission_scripts/MPI-IS/03_Get_Q_Values.sub experiment_setting=high_increasing0.999 cost_function=linear_depth param_file=null alpha=0.5\n",
      "condor_submit_bid 1 submission_scripts/MPI-IS/03_Get_Q_Values.sub experiment_setting=high_increasing0.999 cost_function=linear_depth param_file=null alpha=0.75\n",
      "condor_submit_bid 1 submission_scripts/MPI-IS/03_Get_Q_Values.sub experiment_setting=high_increasing0.999 cost_function=linear_depth param_file=null alpha=0.9\n"
     ]
    }
   ],
   "source": [
    "for discount_factor in discount_factors:\n",
    "    for alpha in alphas:\n",
    "        print(f\"condor_submit_bid 1 submission_scripts/MPI-IS/03_Get_Q_Values.sub experiment_setting=high_increasing{discount_factor} cost_function=linear_depth param_file=null alpha={alpha}\")"
   ]
  },
  {
   "cell_type": "markdown",
   "id": "087ac23c",
   "metadata": {
    "pycharm": {
     "name": "#%% md\n"
    }
   },
   "source": [
    "Generate cluster submission commands to infer likelihood for methods_main:"
   ]
  },
  {
   "cell_type": "code",
   "execution_count": 12,
   "id": "050ffb74",
   "metadata": {
    "pycharm": {
     "name": "#%%\n"
    },
    "scrolled": true
   },
   "outputs": [
    {
     "name": "stdout",
     "output_type": "stream",
     "text": [
      "condor_submit_bid 1 submission_scripts/MPI-IS/04_Infer_Params.sub experiment=methods_main0.1 cost_function=linear_depth param_file=null\n",
      "condor_submit_bid 1 submission_scripts/MPI-IS/04_Infer_Params.sub experiment=methods_main0.2 cost_function=linear_depth param_file=null\n",
      "condor_submit_bid 1 submission_scripts/MPI-IS/04_Infer_Params.sub experiment=methods_main0.3 cost_function=linear_depth param_file=null\n",
      "condor_submit_bid 1 submission_scripts/MPI-IS/04_Infer_Params.sub experiment=methods_main0.4 cost_function=linear_depth param_file=null\n",
      "condor_submit_bid 1 submission_scripts/MPI-IS/04_Infer_Params.sub experiment=methods_main0.5 cost_function=linear_depth param_file=null\n",
      "condor_submit_bid 1 submission_scripts/MPI-IS/04_Infer_Params.sub experiment=methods_main0.75 cost_function=linear_depth param_file=null\n",
      "condor_submit_bid 1 submission_scripts/MPI-IS/04_Infer_Params.sub experiment=methods_main0.85 cost_function=linear_depth param_file=null\n",
      "condor_submit_bid 1 submission_scripts/MPI-IS/04_Infer_Params.sub experiment=methods_main0.9 cost_function=linear_depth param_file=null\n",
      "condor_submit_bid 1 submission_scripts/MPI-IS/04_Infer_Params.sub experiment=methods_main0.95 cost_function=linear_depth param_file=null\n",
      "condor_submit_bid 1 submission_scripts/MPI-IS/04_Infer_Params.sub experiment=methods_main0.975 cost_function=linear_depth param_file=null\n",
      "condor_submit_bid 1 submission_scripts/MPI-IS/04_Infer_Params.sub experiment=methods_main0.999 cost_function=linear_depth param_file=null\n"
     ]
    }
   ],
   "source": [
    "for discount_factor in discount_factors:\n",
    "    print(f\"condor_submit_bid 1 submission_scripts/MPI-IS/04_Infer_Params.sub experiment=methods_main{discount_factor} cost_function=linear_depth param_file=null\")"
   ]
  },
  {
   "cell_type": "markdown",
   "id": "499d837a",
   "metadata": {
    "pycharm": {
     "name": "#%% md\n"
    }
   },
   "source": [
    "Combine data:"
   ]
  },
  {
   "cell_type": "code",
   "execution_count": 13,
   "id": "2dfb47c3",
   "metadata": {
    "pycharm": {
     "name": "#%%\n"
    }
   },
   "outputs": [
    {
     "name": "stdout",
     "output_type": "stream",
     "text": [
      "for experiment in methods_main0.1 methods_main0.2 methods_main0.3 methods_main0.4 methods_main0.5 methods_main0.75 methods_main0.85 methods_main0.9 methods_main0.95 methods_main0.975 methods_main0.999;\n",
      "    do condor_submit_bid 2 submission_scripts/MPI-IS/05_Combine_Human.sub experiment=$experiment cost_function=linear_depth;\n",
      "done;\n"
     ]
    }
   ],
   "source": [
    "print(f\"for experiment in {' '.join(['methods_main' + str(discount_factor) for discount_factor in discount_factors])};\\n\"\n",
    "      f\"    do condor_submit_bid 2 submission_scripts/MPI-IS/05_Combine_Human.sub experiment=$experiment cost_function=linear_depth;\\n\"\n",
    "      f\"done;\")"
   ]
  },
  {
   "cell_type": "markdown",
   "id": "244bfe1e",
   "metadata": {
    "pycharm": {
     "name": "#%% md\n"
    }
   },
   "source": [
    "MAP:"
   ]
  },
  {
   "cell_type": "code",
   "execution_count": 14,
   "id": "c830c274",
   "metadata": {
    "pycharm": {
     "name": "#%%\n"
    }
   },
   "outputs": [
    {
     "name": "stdout",
     "output_type": "stream",
     "text": [
      "for experiment in methods_main0.1 methods_main0.2 methods_main0.3 methods_main0.4 methods_main0.5 methods_main0.75 methods_main0.85 methods_main0.9 methods_main0.95 methods_main0.975 methods_main0.999;\n",
      "    do condor_submit_bid 2 submission_scripts/MPI-IS/M_01_Get_MAP_File.sub experiment=$experiment cost_function=linear_depth;\n",
      "done;\n"
     ]
    }
   ],
   "source": [
    "print(f\"for experiment in {' '.join(['methods_main' + str(discount_factor) for discount_factor in discount_factors])};\\n\"\n",
    "      f\"    do condor_submit_bid 2 submission_scripts/MPI-IS/M_01_Get_MAP_File.sub experiment=$experiment cost_function=linear_depth;\\n\"\n",
    "      f\"done;\")"
   ]
  },
  {
   "cell_type": "markdown",
   "id": "01ebf94c",
   "metadata": {
    "pycharm": {
     "name": "#%% md\n"
    }
   },
   "source": [
    "Transfer over:"
   ]
  },
  {
   "cell_type": "markdown",
   "id": "a06eeb43",
   "metadata": {
    "pycharm": {
     "name": "#%% md\n"
    }
   },
   "source": [
    "```\n",
    "rsync -aPzr --include \"methods_main*/*/*mle_and_map*\" --include \"*/\" --exclude \"*\" vfelso@login.cluster.is.localnet:/work/vfelso/planning-depth-differences/data/processed/ data/processed\n",
    "```"
   ]
  },
  {
   "cell_type": "markdown",
   "id": "261503e3",
   "metadata": {
    "pycharm": {
     "name": "#%% md\n"
    }
   },
   "source": [
    "# Fit of main dataset by discount factor model without cost"
   ]
  },
  {
   "cell_type": "code",
   "execution_count": 15,
   "id": "3a796e3a",
   "metadata": {
    "pycharm": {
     "name": "#%%\n"
    }
   },
   "outputs": [],
   "source": [
    "dfs = []\n",
    "for discount_factor in discount_factors:\n",
    "    with open(f\"../../../data/processed/methods_main{discount_factor}/linear_depth/mle_and_map.pickle\", \"rb\") as f:\n",
    "        data =pickle.load(f)\n",
    "    \n",
    "    df = data[\"SoftmaxPolicy\"][\"test_map_expon\"][()]\n",
    "    # TODO test same as simple\n",
    "    df[\"discount_factor\"] = discount_factor\n",
    "    dfs.append(df)\n",
    "    \n",
    "discount_fitted_data = pd.concat(dfs)"
   ]
  },
  {
   "cell_type": "code",
   "execution_count": 16,
   "id": "15004a65",
   "metadata": {
    "pycharm": {
     "name": "#%%\n"
    }
   },
   "outputs": [],
   "source": [
    "discount_fitted_data = discount_fitted_data.reset_index()"
   ]
  },
  {
   "cell_type": "code",
   "execution_count": 17,
   "id": "ca26fd77",
   "metadata": {
    "pycharm": {
     "name": "#%%\n"
    }
   },
   "outputs": [
    {
     "name": "stderr",
     "output_type": "stream",
     "text": [
      "/var/folders/y7/qnlh5f453nxbc7w72qw0lw340000gn/T/ipykernel_3737/3377768971.py:2: FutureWarning: The default value of numeric_only in DataFrameGroupBy.idxmax is deprecated. In a future version, numeric_only will default to False. Either specify numeric_only or select only columns which should be valid for the function.\n",
      "  discount_fitted_data.groupby([\"trace_pid\"]).idxmax()[\"test_map_expon\"]\n"
     ]
    }
   ],
   "source": [
    "best_param_rows = discount_fitted_data.loc[\n",
    "    discount_fitted_data.groupby([\"trace_pid\"]).idxmax()[\"test_map_expon\"]\n",
    "]"
   ]
  },
  {
   "cell_type": "code",
   "execution_count": 18,
   "id": "14a4dae1",
   "metadata": {
    "pycharm": {
     "name": "#%%\n"
    }
   },
   "outputs": [
    {
     "data": {
      "text/plain": [
       "True"
      ]
     },
     "execution_count": 18,
     "metadata": {},
     "output_type": "execute_result"
    }
   ],
   "source": [
    "from collections import Counter\n",
    "np.all([counter == 1 for pid, counter in Counter(best_param_rows[\"trace_pid\"]).most_common(5)])"
   ]
  },
  {
   "cell_type": "code",
   "execution_count": 19,
   "id": "e62598c0",
   "metadata": {
    "pycharm": {
     "name": "#%%\n"
    }
   },
   "outputs": [],
   "source": [
    "# best_param_rows\n",
    "from statsmodels.tools.eval_measures import bic\n",
    "\n",
    "best_param_rows[\"bic\"] = best_param_rows.apply(\n",
    "        lambda row: bic(\n",
    "            llf=row[\"test_map_expon\"],\n",
    "            nobs=20,\n",
    "            df_modelwc=5, # temp, discount rate, forw, eff, dist\n",
    "        ),\n",
    "        axis=1)"
   ]
  },
  {
   "cell_type": "code",
   "execution_count": 20,
   "id": "24acd7e1",
   "metadata": {
    "pycharm": {
     "name": "#%%\n"
    }
   },
   "outputs": [
    {
     "data": {
      "text/plain": [
       "43357.6687241661"
      ]
     },
     "execution_count": 20,
     "metadata": {},
     "output_type": "execute_result"
    }
   ],
   "source": [
    "best_param_rows.sum()[\"bic\"]"
   ]
  },
  {
   "cell_type": "code",
   "execution_count": 21,
   "id": "0d0ae93d",
   "metadata": {
    "pycharm": {
     "name": "#%%\n"
    }
   },
   "outputs": [
    {
     "data": {
      "text/plain": [
       "(0.4767950819672131, 0.25533548932132505)"
      ]
     },
     "execution_count": 21,
     "metadata": {},
     "output_type": "execute_result"
    }
   ],
   "source": [
    "np.mean(best_param_rows[\"discount_factor\"]), np.std(best_param_rows[\"discount_factor\"])"
   ]
  },
  {
   "cell_type": "code",
   "execution_count": 22,
   "id": "07c8e352",
   "metadata": {
    "pycharm": {
     "name": "#%%\n"
    }
   },
   "outputs": [
    {
     "data": {
      "text/plain": [
       "(0.9938524590163934, 1.0625244041334765)"
      ]
     },
     "execution_count": 22,
     "metadata": {},
     "output_type": "execute_result"
    }
   ],
   "source": [
    "np.mean(best_param_rows[\"temp\"]), np.std(best_param_rows[\"temp\"])"
   ]
  },
  {
   "cell_type": "markdown",
   "id": "1e8b1bb6",
   "metadata": {
    "pycharm": {
     "name": "#%% md\n"
    }
   },
   "source": [
    "# Model with non-depth cost, cluster jobs"
   ]
  },
  {
   "cell_type": "code",
   "execution_count": 23,
   "id": "005ecee1",
   "metadata": {
    "pycharm": {
     "name": "#%%\n"
    }
   },
   "outputs": [
    {
     "name": "stdout",
     "output_type": "stream",
     "text": [
      "condor_submit_bid 1 submission_scripts/MPI-IS/03_Get_Q_Values.sub experiment_setting=high_increasing0.1 cost_function=dist_forw_eff param_file=dist_forw_eff\n",
      "condor_submit_bid 1 submission_scripts/MPI-IS/03_Get_Q_Values.sub experiment_setting=high_increasing0.2 cost_function=dist_forw_eff param_file=dist_forw_eff\n",
      "condor_submit_bid 1 submission_scripts/MPI-IS/03_Get_Q_Values.sub experiment_setting=high_increasing0.3 cost_function=dist_forw_eff param_file=dist_forw_eff\n",
      "condor_submit_bid 1 submission_scripts/MPI-IS/03_Get_Q_Values.sub experiment_setting=high_increasing0.4 cost_function=dist_forw_eff param_file=dist_forw_eff\n",
      "condor_submit_bid 1 submission_scripts/MPI-IS/03_Get_Q_Values.sub experiment_setting=high_increasing0.5 cost_function=dist_forw_eff param_file=dist_forw_eff\n",
      "condor_submit_bid 1 submission_scripts/MPI-IS/03_Get_Q_Values.sub experiment_setting=high_increasing0.75 cost_function=dist_forw_eff param_file=dist_forw_eff\n",
      "condor_submit_bid 1 submission_scripts/MPI-IS/03_Get_Q_Values.sub experiment_setting=high_increasing0.85 cost_function=dist_forw_eff param_file=dist_forw_eff\n",
      "condor_submit_bid 1 submission_scripts/MPI-IS/03_Get_Q_Values.sub experiment_setting=high_increasing0.9 cost_function=dist_forw_eff param_file=dist_forw_eff\n",
      "condor_submit_bid 1 submission_scripts/MPI-IS/03_Get_Q_Values.sub experiment_setting=high_increasing0.95 cost_function=dist_forw_eff param_file=dist_forw_eff\n",
      "condor_submit_bid 1 submission_scripts/MPI-IS/03_Get_Q_Values.sub experiment_setting=high_increasing0.975 cost_function=dist_forw_eff param_file=dist_forw_eff\n",
      "condor_submit_bid 1 submission_scripts/MPI-IS/03_Get_Q_Values.sub experiment_setting=high_increasing0.999 cost_function=dist_forw_eff param_file=dist_forw_eff\n"
     ]
    }
   ],
   "source": [
    "for discount_factor in discount_factors:\n",
    "    print(f\"condor_submit_bid 1 submission_scripts/MPI-IS/03_Get_Q_Values.sub experiment_setting=high_increasing{discount_factor} cost_function=dist_forw_eff param_file=dist_forw_eff\")"
   ]
  },
  {
   "cell_type": "code",
   "execution_count": 24,
   "id": "32013f5a",
   "metadata": {
    "pycharm": {
     "name": "#%%\n"
    }
   },
   "outputs": [
    {
     "name": "stdout",
     "output_type": "stream",
     "text": [
      "condor_submit_bid 1 submission_scripts/MPI-IS/04_Infer_Params.sub experiment=methods_main0.1 cost_function=dist_forw_eff param_file=dist_forw_eff\n",
      "condor_submit_bid 1 submission_scripts/MPI-IS/04_Infer_Params.sub experiment=methods_main0.2 cost_function=dist_forw_eff param_file=dist_forw_eff\n",
      "condor_submit_bid 1 submission_scripts/MPI-IS/04_Infer_Params.sub experiment=methods_main0.3 cost_function=dist_forw_eff param_file=dist_forw_eff\n",
      "condor_submit_bid 1 submission_scripts/MPI-IS/04_Infer_Params.sub experiment=methods_main0.4 cost_function=dist_forw_eff param_file=dist_forw_eff\n",
      "condor_submit_bid 1 submission_scripts/MPI-IS/04_Infer_Params.sub experiment=methods_main0.5 cost_function=dist_forw_eff param_file=dist_forw_eff\n",
      "condor_submit_bid 1 submission_scripts/MPI-IS/04_Infer_Params.sub experiment=methods_main0.75 cost_function=dist_forw_eff param_file=dist_forw_eff\n",
      "condor_submit_bid 1 submission_scripts/MPI-IS/04_Infer_Params.sub experiment=methods_main0.85 cost_function=dist_forw_eff param_file=dist_forw_eff\n",
      "condor_submit_bid 1 submission_scripts/MPI-IS/04_Infer_Params.sub experiment=methods_main0.9 cost_function=dist_forw_eff param_file=dist_forw_eff\n",
      "condor_submit_bid 1 submission_scripts/MPI-IS/04_Infer_Params.sub experiment=methods_main0.95 cost_function=dist_forw_eff param_file=dist_forw_eff\n",
      "condor_submit_bid 1 submission_scripts/MPI-IS/04_Infer_Params.sub experiment=methods_main0.975 cost_function=dist_forw_eff param_file=dist_forw_eff\n",
      "condor_submit_bid 1 submission_scripts/MPI-IS/04_Infer_Params.sub experiment=methods_main0.999 cost_function=dist_forw_eff param_file=dist_forw_eff\n"
     ]
    }
   ],
   "source": [
    "for discount_factor in discount_factors:\n",
    "    print(f\"condor_submit_bid 1 submission_scripts/MPI-IS/04_Infer_Params.sub experiment=methods_main{discount_factor} cost_function=dist_forw_eff param_file=dist_forw_eff\")"
   ]
  },
  {
   "cell_type": "code",
   "execution_count": 25,
   "id": "be70600d",
   "metadata": {
    "pycharm": {
     "name": "#%%\n"
    }
   },
   "outputs": [
    {
     "name": "stdout",
     "output_type": "stream",
     "text": [
      "for experiment in methods_main0.1 methods_main0.2 methods_main0.3 methods_main0.4 methods_main0.5 methods_main0.75 methods_main0.85 methods_main0.9 methods_main0.95 methods_main0.975 methods_main0.999;\n",
      "    do condor_submit_bid 2 submission_scripts/MPI-IS/05_Combine_Human.sub experiment=$experiment cost_function=dist_forw_eff;\n",
      "done;\n"
     ]
    }
   ],
   "source": [
    "print(f\"for experiment in {' '.join(['methods_main' + str(discount_factor) for discount_factor in discount_factors])};\\n\"\n",
    "      f\"    do condor_submit_bid 2 submission_scripts/MPI-IS/05_Combine_Human.sub experiment=$experiment cost_function=dist_forw_eff;\\n\"\n",
    "      f\"done;\")"
   ]
  },
  {
   "cell_type": "code",
   "execution_count": 26,
   "id": "410ea14b",
   "metadata": {
    "pycharm": {
     "name": "#%%\n"
    }
   },
   "outputs": [
    {
     "name": "stdout",
     "output_type": "stream",
     "text": [
      "for experiment in methods_main0.1 methods_main0.2 methods_main0.3 methods_main0.4 methods_main0.5 methods_main0.75 methods_main0.85 methods_main0.9 methods_main0.95 methods_main0.975 methods_main0.999;\n",
      "    do condor_submit_bid 2 submission_scripts/MPI-IS/M_01_Get_MAP_File.sub experiment=$experiment cost_function=dist_forw_eff;\n",
      "done;\n"
     ]
    }
   ],
   "source": [
    "print(f\"for experiment in {' '.join(['methods_main' + str(discount_factor) for discount_factor in discount_factors])};\\n\"\n",
    "      f\"    do condor_submit_bid 2 submission_scripts/MPI-IS/M_01_Get_MAP_File.sub experiment=$experiment cost_function=dist_forw_eff;\\n\"\n",
    "      f\"done;\")"
   ]
  },
  {
   "cell_type": "markdown",
   "id": "a6ed1155",
   "metadata": {
    "pycharm": {
     "name": "#%% md\n"
    }
   },
   "source": [
    "# # Fit of main dataset by discount factor model with cost"
   ]
  },
  {
   "cell_type": "code",
   "execution_count": 55,
   "id": "9c7cca33",
   "metadata": {
    "pycharm": {
     "name": "#%%\n"
    }
   },
   "outputs": [],
   "source": [
    "discount_factors = [.1,.2,.4,.5,.85,.95]\n",
    "dfs = []\n",
    "for discount_factor in discount_factors:\n",
    "    with open(f\"../../../data/processed/methods_main{discount_factor}/dist_forw_eff/mle_and_map.pickle\", \"rb\") as f:\n",
    "        data =pickle.load(f)\n",
    "    \n",
    "    df = data[\"SoftmaxPolicy\"][\"test_map_expon\"][()]\n",
    "    # TODO test same as simple\n",
    "    df[\"discount_factor\"] = discount_factor\n",
    "    dfs.append(df)\n",
    "\n",
    "with open(f\"../../../data/processed/methods_main/dist_forw_eff/mle_and_map.pickle\", \"rb\") as f:\n",
    "    data =pickle.load(f)\n",
    "    \n",
    "        \n",
    "    df = data[\"SoftmaxPolicy\"][\"test_map_expon\"][()]\n",
    "    # TODO test same as simple\n",
    "    df[\"discount_factor\"] = 1\n",
    "    dfs.append(df)\n",
    "discount_fitted_data = pd.concat(dfs)"
   ]
  },
  {
   "cell_type": "code",
   "execution_count": 56,
   "id": "4a1d1423",
   "metadata": {
    "pycharm": {
     "name": "#%%\n"
    }
   },
   "outputs": [],
   "source": [
    "discount_fitted_data = discount_fitted_data.reset_index()"
   ]
  },
  {
   "cell_type": "code",
   "execution_count": 57,
   "id": "d914f9fd",
   "metadata": {
    "pycharm": {
     "name": "#%%\n"
    }
   },
   "outputs": [
    {
     "name": "stderr",
     "output_type": "stream",
     "text": [
      "/var/folders/y7/qnlh5f453nxbc7w72qw0lw340000gn/T/ipykernel_3737/3377768971.py:2: FutureWarning: The default value of numeric_only in DataFrameGroupBy.idxmax is deprecated. In a future version, numeric_only will default to False. Either specify numeric_only or select only columns which should be valid for the function.\n",
      "  discount_fitted_data.groupby([\"trace_pid\"]).idxmax()[\"test_map_expon\"]\n"
     ]
    }
   ],
   "source": [
    "best_param_rows = discount_fitted_data.loc[\n",
    "    discount_fitted_data.groupby([\"trace_pid\"]).idxmax()[\"test_map_expon\"]\n",
    "]"
   ]
  },
  {
   "cell_type": "code",
   "execution_count": 58,
   "id": "6ecea9d7",
   "metadata": {
    "pycharm": {
     "name": "#%%\n"
    }
   },
   "outputs": [
    {
     "data": {
      "text/plain": [
       "True"
      ]
     },
     "execution_count": 58,
     "metadata": {},
     "output_type": "execute_result"
    }
   ],
   "source": [
    "from collections import Counter\n",
    "np.all([counter == 1 for pid, counter in Counter(best_param_rows[\"trace_pid\"]).most_common(5)])"
   ]
  },
  {
   "cell_type": "code",
   "execution_count": 59,
   "id": "63711acc",
   "metadata": {
    "pycharm": {
     "name": "#%%\n"
    }
   },
   "outputs": [],
   "source": [
    "# best_param_rows\n",
    "from statsmodels.tools.eval_measures import bic\n",
    "\n",
    "best_param_rows[\"bic\"] = best_param_rows.apply(\n",
    "        lambda row: bic(\n",
    "            llf=row[\"test_map_expon\"],\n",
    "            nobs=20,\n",
    "            df_modelwc=5, # temp, discount rate, forw, eff, dist\n",
    "        ),\n",
    "        axis=1)"
   ]
  },
  {
   "cell_type": "code",
   "execution_count": 60,
   "id": "30ba25eb",
   "metadata": {
    "pycharm": {
     "name": "#%%\n"
    }
   },
   "outputs": [
    {
     "data": {
      "text/plain": [
       "35271.32372999168"
      ]
     },
     "execution_count": 60,
     "metadata": {},
     "output_type": "execute_result"
    }
   ],
   "source": [
    "best_param_rows.sum()[\"bic\"]"
   ]
  },
  {
   "cell_type": "code",
   "execution_count": 61,
   "id": "d77a4156",
   "metadata": {
    "pycharm": {
     "name": "#%%\n"
    }
   },
   "outputs": [
    {
     "data": {
      "text/plain": [
       "(0.7086065573770491, 0.33318462261017695)"
      ]
     },
     "execution_count": 61,
     "metadata": {},
     "output_type": "execute_result"
    }
   ],
   "source": [
    "np.mean(best_param_rows[\"discount_factor\"]), np.std(best_param_rows[\"discount_factor\"])"
   ]
  },
  {
   "cell_type": "code",
   "execution_count": 62,
   "id": "c7866b27",
   "metadata": {
    "pycharm": {
     "name": "#%%\n"
    }
   },
   "outputs": [
    {
     "data": {
      "text/plain": [
       "[(0.95, 41), (1.0, 24), (0.1, 15), (0.4, 14), (0.85, 12), (0.5, 10), (0.2, 6)]"
      ]
     },
     "execution_count": 62,
     "metadata": {},
     "output_type": "execute_result"
    }
   ],
   "source": [
    "Counter(best_param_rows[\"discount_factor\"]).most_common()"
   ]
  },
  {
   "cell_type": "code",
   "execution_count": 63,
   "id": "79e80e25",
   "metadata": {
    "pycharm": {
     "name": "#%%\n"
    }
   },
   "outputs": [
    {
     "data": {
      "text/plain": [
       "(1.4180327868852458, 1.1130939301270473)"
      ]
     },
     "execution_count": 63,
     "metadata": {},
     "output_type": "execute_result"
    }
   ],
   "source": [
    "np.mean(best_param_rows[\"temp\"]), np.std(best_param_rows[\"temp\"])"
   ]
  },
  {
   "cell_type": "markdown",
   "id": "50fba7a1",
   "metadata": {},
   "source": [
    "# Simulations"
   ]
  },
  {
   "cell_type": "code",
   "execution_count": 36,
   "id": "e39d7afa",
   "metadata": {},
   "outputs": [
    {
     "name": "stdout",
     "output_type": "stream",
     "text": [
      "condor_submit_bid 1 submission_scripts/MPI-IS/06_Simulate_Optimal.sub experiment_setting=high_increasing0.1 cost_function=linear_depth param_file=null\n",
      "condor_submit_bid 1 submission_scripts/MPI-IS/06_Simulate_Optimal.sub experiment_setting=high_increasing0.2 cost_function=linear_depth param_file=null\n",
      "condor_submit_bid 1 submission_scripts/MPI-IS/06_Simulate_Optimal.sub experiment_setting=high_increasing0.3 cost_function=linear_depth param_file=null\n",
      "condor_submit_bid 1 submission_scripts/MPI-IS/06_Simulate_Optimal.sub experiment_setting=high_increasing0.4 cost_function=linear_depth param_file=null\n",
      "condor_submit_bid 1 submission_scripts/MPI-IS/06_Simulate_Optimal.sub experiment_setting=high_increasing0.5 cost_function=linear_depth param_file=null\n",
      "condor_submit_bid 1 submission_scripts/MPI-IS/06_Simulate_Optimal.sub experiment_setting=high_increasing0.75 cost_function=linear_depth param_file=null\n",
      "condor_submit_bid 1 submission_scripts/MPI-IS/06_Simulate_Optimal.sub experiment_setting=high_increasing0.85 cost_function=linear_depth param_file=null\n",
      "condor_submit_bid 1 submission_scripts/MPI-IS/06_Simulate_Optimal.sub experiment_setting=high_increasing0.9 cost_function=linear_depth param_file=null\n",
      "condor_submit_bid 1 submission_scripts/MPI-IS/06_Simulate_Optimal.sub experiment_setting=high_increasing0.95 cost_function=linear_depth param_file=null\n",
      "condor_submit_bid 1 submission_scripts/MPI-IS/06_Simulate_Optimal.sub experiment_setting=high_increasing0.975 cost_function=linear_depth param_file=null\n",
      "condor_submit_bid 1 submission_scripts/MPI-IS/06_Simulate_Optimal.sub experiment_setting=high_increasing0.999 cost_function=linear_depth param_file=null\n",
      "condor_submit_bid 1 submission_scripts/MPI-IS/06_Simulate_Optimal.sub experiment_setting=high_increasing cost_function=linear_depth param_file=depth\n"
     ]
    }
   ],
   "source": [
    "for discount_factor in discount_factors:\n",
    "    print(f\"condor_submit_bid 1 submission_scripts/MPI-IS/06_Simulate_Optimal.sub experiment_setting=high_increasing{discount_factor} cost_function=linear_depth param_file=null\")\n",
    "print(f\"condor_submit_bid 1 submission_scripts/MPI-IS/06_Simulate_Optimal.sub experiment_setting=high_increasing cost_function=linear_depth param_file=depth\")"
   ]
  },
  {
   "cell_type": "markdown",
   "id": "d9186e4f",
   "metadata": {
    "pycharm": {
     "name": "#%% md\n"
    }
   },
   "source": [
    "```\n",
    "for gamma in 0.1 0.2 0.3 0.4 0.5 0.75 0.85 0.9 0.95 0.975 0.999;do mkdir cluster/data/trajectories/high_increasing$gamma; done;\n",
    "\n",
    "for gamma in 0.1 0.2 0.3 0.4 0.5 0.75 0.85 0.9 0.95 0.975 0.999;do mkdir cluster/data/trajectories/high_increasing$gamma/OptimalQ; done;\n",
    "\n",
    "for gamma in 0.1 0.2 0.3 0.4 0.5 0.75 0.85 0.9 0.95 0.975 0.999;\n",
    "do scp vfelso@login.cluster.is.localnet:/work/vfelso/planning-depth-differences/cluster/data/trajectories/high_increasing$gamma/OptimalQ/simulated_agents_linear_depth_0.00_1.00_91.00.csv  cluster/data/trajectories/high_increasing$gamma/OptimalQ/simulated_agents_linear_depth_0.00_1.00_91.00.csv; \n",
    "done\n",
    "\n",
    "mkdir cluster/data/trajectories/high_increasing\n",
    "mkdir cluster/data/trajectories/high_increasing/OptimalQ\n",
    "rsync -aPzr --include \"simulated_agents_linear_depth*\" --include \"*/\" --exclude \"*\" vfelso@login.cluster.is.localnet:/work/vfelso/planning-depth-differences/cluster/data/trajectories/high_increasing/OptimalQ cluster/data/trajectories/high_increasing\n",
    "\n",
    "rsync -aPzr --include \"simulated_agents_depth_only*\" --include \"*/\" --exclude \"*\" vfelso@login.cluster.is.localnet:/work/vfelso/planning-depth-differences/cluster/data/trajectories/high_increasing/OptimalQ cluster/data/trajectories/high_increasing\n",
    "```\n"
   ]
  },
  {
   "cell_type": "markdown",
   "id": "39196c54",
   "metadata": {
    "pycharm": {
     "name": "#%% md\n"
    }
   },
   "source": [
    "# Look at simulations"
   ]
  },
  {
   "cell_type": "code",
   "execution_count": 37,
   "id": "be76036a",
   "metadata": {
    "pycharm": {
     "name": "#%%\n"
    }
   },
   "outputs": [],
   "source": [
    "depth_data = pd.concat([pd.read_csv(f, index_col=0) for f in Path(\"../../../cluster/data/trajectories/high_increasing/OptimalQ/\").glob(\"simulated_agents_linear_depth_*_91.00.csv\")])\n",
    "depth_only_data = pd.concat([pd.read_csv(f, index_col=0) for f in Path(\"../../../cluster/data/trajectories/high_increasing/OptimalQ/\").glob(\"simulated_agents_depth_only_*_91.00.csv\")])"
   ]
  },
  {
   "cell_type": "code",
   "execution_count": 38,
   "id": "665bdd33",
   "metadata": {
    "pycharm": {
     "name": "#%%\n"
    }
   },
   "outputs": [
    {
     "name": "stderr",
     "output_type": "stream",
     "text": [
      "/var/folders/y7/qnlh5f453nxbc7w72qw0lw340000gn/T/ipykernel_3737/1404556213.py:1: FutureWarning: The default value of numeric_only in DataFrameGroupBy.mean is deprecated. In a future version, numeric_only will default to False. Either specify numeric_only or select only columns which should be valid for the function.\n",
      "  depth_data.groupby([\"sim_depth_cost_weight\"]).mean()\n"
     ]
    },
    {
     "data": {
      "text/html": [
       "<div>\n",
       "<style scoped>\n",
       "    .dataframe tbody tr th:only-of-type {\n",
       "        vertical-align: middle;\n",
       "    }\n",
       "\n",
       "    .dataframe tbody tr th {\n",
       "        vertical-align: top;\n",
       "    }\n",
       "\n",
       "    .dataframe thead th {\n",
       "        text-align: right;\n",
       "    }\n",
       "</style>\n",
       "<table border=\"1\" class=\"dataframe\">\n",
       "  <thead>\n",
       "    <tr style=\"text-align: right;\">\n",
       "      <th></th>\n",
       "      <th>n_steps</th>\n",
       "      <th>i_episode</th>\n",
       "      <th>finished</th>\n",
       "      <th>return</th>\n",
       "      <th>trial_id</th>\n",
       "      <th>actions</th>\n",
       "      <th>rewards</th>\n",
       "      <th>sim_exact</th>\n",
       "      <th>sim_temperature_file</th>\n",
       "      <th>sim_num_simulated</th>\n",
       "      <th>sim_num_trials</th>\n",
       "      <th>sim_seed</th>\n",
       "      <th>sim_static_cost_weight</th>\n",
       "      <th>pid</th>\n",
       "    </tr>\n",
       "    <tr>\n",
       "      <th>sim_depth_cost_weight</th>\n",
       "      <th></th>\n",
       "      <th></th>\n",
       "      <th></th>\n",
       "      <th></th>\n",
       "      <th></th>\n",
       "      <th></th>\n",
       "      <th></th>\n",
       "      <th></th>\n",
       "      <th></th>\n",
       "      <th></th>\n",
       "      <th></th>\n",
       "      <th></th>\n",
       "      <th></th>\n",
       "      <th></th>\n",
       "    </tr>\n",
       "  </thead>\n",
       "  <tbody>\n",
       "    <tr>\n",
       "      <th>-5.0</th>\n",
       "      <td>13.696003</td>\n",
       "      <td>9.501049</td>\n",
       "      <td>1.0</td>\n",
       "      <td>170.873703</td>\n",
       "      <td>1.146243e+17</td>\n",
       "      <td>7.058490</td>\n",
       "      <td>13.371199</td>\n",
       "      <td>0.0</td>\n",
       "      <td>NaN</td>\n",
       "      <td>54.221865</td>\n",
       "      <td>20.0</td>\n",
       "      <td>91.0</td>\n",
       "      <td>1.063876</td>\n",
       "      <td>26.612189</td>\n",
       "    </tr>\n",
       "    <tr>\n",
       "      <th>-2.5</th>\n",
       "      <td>13.517600</td>\n",
       "      <td>9.515829</td>\n",
       "      <td>1.0</td>\n",
       "      <td>107.983296</td>\n",
       "      <td>7.307269e+16</td>\n",
       "      <td>7.099310</td>\n",
       "      <td>8.630997</td>\n",
       "      <td>0.0</td>\n",
       "      <td>NaN</td>\n",
       "      <td>56.560678</td>\n",
       "      <td>20.0</td>\n",
       "      <td>91.0</td>\n",
       "      <td>0.728505</td>\n",
       "      <td>27.776230</td>\n",
       "    </tr>\n",
       "    <tr>\n",
       "      <th>-1.0</th>\n",
       "      <td>12.684407</td>\n",
       "      <td>9.509322</td>\n",
       "      <td>1.0</td>\n",
       "      <td>70.870104</td>\n",
       "      <td>1.363922e+17</td>\n",
       "      <td>7.279407</td>\n",
       "      <td>6.159043</td>\n",
       "      <td>0.0</td>\n",
       "      <td>NaN</td>\n",
       "      <td>55.684120</td>\n",
       "      <td>20.0</td>\n",
       "      <td>91.0</td>\n",
       "      <td>0.547208</td>\n",
       "      <td>27.326802</td>\n",
       "    </tr>\n",
       "    <tr>\n",
       "      <th>-0.1</th>\n",
       "      <td>11.905653</td>\n",
       "      <td>9.476758</td>\n",
       "      <td>1.0</td>\n",
       "      <td>57.395145</td>\n",
       "      <td>4.704697e+17</td>\n",
       "      <td>7.508223</td>\n",
       "      <td>5.878279</td>\n",
       "      <td>0.0</td>\n",
       "      <td>NaN</td>\n",
       "      <td>10.000000</td>\n",
       "      <td>20.0</td>\n",
       "      <td>91.0</td>\n",
       "      <td>-0.022484</td>\n",
       "      <td>4.502905</td>\n",
       "    </tr>\n",
       "    <tr>\n",
       "      <th>0.0</th>\n",
       "      <td>9.723910</td>\n",
       "      <td>9.529295</td>\n",
       "      <td>1.0</td>\n",
       "      <td>50.710475</td>\n",
       "      <td>4.196647e+17</td>\n",
       "      <td>8.005750</td>\n",
       "      <td>7.395792</td>\n",
       "      <td>0.0</td>\n",
       "      <td>NaN</td>\n",
       "      <td>39.757557</td>\n",
       "      <td>20.0</td>\n",
       "      <td>91.0</td>\n",
       "      <td>0.271548</td>\n",
       "      <td>19.440438</td>\n",
       "    </tr>\n",
       "    <tr>\n",
       "      <th>0.1</th>\n",
       "      <td>10.215781</td>\n",
       "      <td>9.452049</td>\n",
       "      <td>1.0</td>\n",
       "      <td>54.658385</td>\n",
       "      <td>4.584939e+17</td>\n",
       "      <td>7.869466</td>\n",
       "      <td>7.012584</td>\n",
       "      <td>0.0</td>\n",
       "      <td>NaN</td>\n",
       "      <td>10.000000</td>\n",
       "      <td>20.0</td>\n",
       "      <td>91.0</td>\n",
       "      <td>-0.023157</td>\n",
       "      <td>4.502474</td>\n",
       "    </tr>\n",
       "    <tr>\n",
       "      <th>0.5</th>\n",
       "      <td>9.653321</td>\n",
       "      <td>9.517381</td>\n",
       "      <td>1.0</td>\n",
       "      <td>46.814723</td>\n",
       "      <td>4.056651e+17</td>\n",
       "      <td>7.974976</td>\n",
       "      <td>6.552327</td>\n",
       "      <td>0.0</td>\n",
       "      <td>NaN</td>\n",
       "      <td>10.000000</td>\n",
       "      <td>20.0</td>\n",
       "      <td>91.0</td>\n",
       "      <td>0.030522</td>\n",
       "      <td>4.473556</td>\n",
       "    </tr>\n",
       "    <tr>\n",
       "      <th>1.0</th>\n",
       "      <td>7.842421</td>\n",
       "      <td>9.490656</td>\n",
       "      <td>1.0</td>\n",
       "      <td>34.882873</td>\n",
       "      <td>4.328797e+17</td>\n",
       "      <td>8.421235</td>\n",
       "      <td>6.828057</td>\n",
       "      <td>0.0</td>\n",
       "      <td>NaN</td>\n",
       "      <td>46.116743</td>\n",
       "      <td>20.0</td>\n",
       "      <td>91.0</td>\n",
       "      <td>0.342109</td>\n",
       "      <td>22.622292</td>\n",
       "    </tr>\n",
       "    <tr>\n",
       "      <th>2.5</th>\n",
       "      <td>6.477913</td>\n",
       "      <td>9.535244</td>\n",
       "      <td>1.0</td>\n",
       "      <td>13.882179</td>\n",
       "      <td>1.760264e+17</td>\n",
       "      <td>8.746095</td>\n",
       "      <td>4.689004</td>\n",
       "      <td>0.0</td>\n",
       "      <td>NaN</td>\n",
       "      <td>51.102402</td>\n",
       "      <td>20.0</td>\n",
       "      <td>91.0</td>\n",
       "      <td>0.559582</td>\n",
       "      <td>25.214378</td>\n",
       "    </tr>\n",
       "    <tr>\n",
       "      <th>5.0</th>\n",
       "      <td>4.521978</td>\n",
       "      <td>9.516798</td>\n",
       "      <td>1.0</td>\n",
       "      <td>-0.404663</td>\n",
       "      <td>1.399173e+17</td>\n",
       "      <td>9.583907</td>\n",
       "      <td>2.119631</td>\n",
       "      <td>0.0</td>\n",
       "      <td>NaN</td>\n",
       "      <td>50.719663</td>\n",
       "      <td>20.0</td>\n",
       "      <td>91.0</td>\n",
       "      <td>1.019768</td>\n",
       "      <td>24.920991</td>\n",
       "    </tr>\n",
       "    <tr>\n",
       "      <th>7.5</th>\n",
       "      <td>4.244757</td>\n",
       "      <td>9.486819</td>\n",
       "      <td>1.0</td>\n",
       "      <td>-18.247688</td>\n",
       "      <td>4.890281e+16</td>\n",
       "      <td>9.742609</td>\n",
       "      <td>-2.752413</td>\n",
       "      <td>0.0</td>\n",
       "      <td>NaN</td>\n",
       "      <td>52.237008</td>\n",
       "      <td>20.0</td>\n",
       "      <td>91.0</td>\n",
       "      <td>1.312297</td>\n",
       "      <td>25.522277</td>\n",
       "    </tr>\n",
       "    <tr>\n",
       "      <th>10.0</th>\n",
       "      <td>4.136323</td>\n",
       "      <td>9.540680</td>\n",
       "      <td>1.0</td>\n",
       "      <td>-31.394196</td>\n",
       "      <td>1.904114e+17</td>\n",
       "      <td>9.869011</td>\n",
       "      <td>-6.740264</td>\n",
       "      <td>0.0</td>\n",
       "      <td>NaN</td>\n",
       "      <td>55.390526</td>\n",
       "      <td>20.0</td>\n",
       "      <td>91.0</td>\n",
       "      <td>0.798843</td>\n",
       "      <td>27.099530</td>\n",
       "    </tr>\n",
       "  </tbody>\n",
       "</table>\n",
       "</div>"
      ],
      "text/plain": [
       "                         n_steps  i_episode  finished      return  \\\n",
       "sim_depth_cost_weight                                               \n",
       "-5.0                   13.696003   9.501049       1.0  170.873703   \n",
       "-2.5                   13.517600   9.515829       1.0  107.983296   \n",
       "-1.0                   12.684407   9.509322       1.0   70.870104   \n",
       "-0.1                   11.905653   9.476758       1.0   57.395145   \n",
       " 0.0                    9.723910   9.529295       1.0   50.710475   \n",
       " 0.1                   10.215781   9.452049       1.0   54.658385   \n",
       " 0.5                    9.653321   9.517381       1.0   46.814723   \n",
       " 1.0                    7.842421   9.490656       1.0   34.882873   \n",
       " 2.5                    6.477913   9.535244       1.0   13.882179   \n",
       " 5.0                    4.521978   9.516798       1.0   -0.404663   \n",
       " 7.5                    4.244757   9.486819       1.0  -18.247688   \n",
       " 10.0                   4.136323   9.540680       1.0  -31.394196   \n",
       "\n",
       "                           trial_id   actions    rewards  sim_exact  \\\n",
       "sim_depth_cost_weight                                                 \n",
       "-5.0                   1.146243e+17  7.058490  13.371199        0.0   \n",
       "-2.5                   7.307269e+16  7.099310   8.630997        0.0   \n",
       "-1.0                   1.363922e+17  7.279407   6.159043        0.0   \n",
       "-0.1                   4.704697e+17  7.508223   5.878279        0.0   \n",
       " 0.0                   4.196647e+17  8.005750   7.395792        0.0   \n",
       " 0.1                   4.584939e+17  7.869466   7.012584        0.0   \n",
       " 0.5                   4.056651e+17  7.974976   6.552327        0.0   \n",
       " 1.0                   4.328797e+17  8.421235   6.828057        0.0   \n",
       " 2.5                   1.760264e+17  8.746095   4.689004        0.0   \n",
       " 5.0                   1.399173e+17  9.583907   2.119631        0.0   \n",
       " 7.5                   4.890281e+16  9.742609  -2.752413        0.0   \n",
       " 10.0                  1.904114e+17  9.869011  -6.740264        0.0   \n",
       "\n",
       "                       sim_temperature_file  sim_num_simulated  \\\n",
       "sim_depth_cost_weight                                            \n",
       "-5.0                                    NaN          54.221865   \n",
       "-2.5                                    NaN          56.560678   \n",
       "-1.0                                    NaN          55.684120   \n",
       "-0.1                                    NaN          10.000000   \n",
       " 0.0                                    NaN          39.757557   \n",
       " 0.1                                    NaN          10.000000   \n",
       " 0.5                                    NaN          10.000000   \n",
       " 1.0                                    NaN          46.116743   \n",
       " 2.5                                    NaN          51.102402   \n",
       " 5.0                                    NaN          50.719663   \n",
       " 7.5                                    NaN          52.237008   \n",
       " 10.0                                   NaN          55.390526   \n",
       "\n",
       "                       sim_num_trials  sim_seed  sim_static_cost_weight  \\\n",
       "sim_depth_cost_weight                                                     \n",
       "-5.0                             20.0      91.0                1.063876   \n",
       "-2.5                             20.0      91.0                0.728505   \n",
       "-1.0                             20.0      91.0                0.547208   \n",
       "-0.1                             20.0      91.0               -0.022484   \n",
       " 0.0                             20.0      91.0                0.271548   \n",
       " 0.1                             20.0      91.0               -0.023157   \n",
       " 0.5                             20.0      91.0                0.030522   \n",
       " 1.0                             20.0      91.0                0.342109   \n",
       " 2.5                             20.0      91.0                0.559582   \n",
       " 5.0                             20.0      91.0                1.019768   \n",
       " 7.5                             20.0      91.0                1.312297   \n",
       " 10.0                            20.0      91.0                0.798843   \n",
       "\n",
       "                             pid  \n",
       "sim_depth_cost_weight             \n",
       "-5.0                   26.612189  \n",
       "-2.5                   27.776230  \n",
       "-1.0                   27.326802  \n",
       "-0.1                    4.502905  \n",
       " 0.0                   19.440438  \n",
       " 0.1                    4.502474  \n",
       " 0.5                    4.473556  \n",
       " 1.0                   22.622292  \n",
       " 2.5                   25.214378  \n",
       " 5.0                   24.920991  \n",
       " 7.5                   25.522277  \n",
       " 10.0                  27.099530  "
      ]
     },
     "execution_count": 38,
     "metadata": {},
     "output_type": "execute_result"
    }
   ],
   "source": [
    "depth_data.groupby([\"sim_depth_cost_weight\"]).mean()"
   ]
  },
  {
   "cell_type": "code",
   "execution_count": 39,
   "id": "e791332f",
   "metadata": {
    "pycharm": {
     "name": "#%%\n"
    }
   },
   "outputs": [
    {
     "name": "stderr",
     "output_type": "stream",
     "text": [
      "/var/folders/y7/qnlh5f453nxbc7w72qw0lw340000gn/T/ipykernel_3737/2914157578.py:1: FutureWarning: The default value of numeric_only in DataFrameGroupBy.mean is deprecated. In a future version, numeric_only will default to False. Either specify numeric_only or select only columns which should be valid for the function.\n",
      "  depth_only_data.groupby([\"sim_depth_cost_weight\"]).mean()\n"
     ]
    },
    {
     "data": {
      "text/html": [
       "<div>\n",
       "<style scoped>\n",
       "    .dataframe tbody tr th:only-of-type {\n",
       "        vertical-align: middle;\n",
       "    }\n",
       "\n",
       "    .dataframe tbody tr th {\n",
       "        vertical-align: top;\n",
       "    }\n",
       "\n",
       "    .dataframe thead th {\n",
       "        text-align: right;\n",
       "    }\n",
       "</style>\n",
       "<table border=\"1\" class=\"dataframe\">\n",
       "  <thead>\n",
       "    <tr style=\"text-align: right;\">\n",
       "      <th></th>\n",
       "      <th>n_steps</th>\n",
       "      <th>i_episode</th>\n",
       "      <th>finished</th>\n",
       "      <th>return</th>\n",
       "      <th>trial_id</th>\n",
       "      <th>actions</th>\n",
       "      <th>rewards</th>\n",
       "      <th>sim_exact</th>\n",
       "      <th>sim_temperature_file</th>\n",
       "      <th>sim_cost_parameter_values</th>\n",
       "      <th>sim_num_simulated</th>\n",
       "      <th>sim_num_trials</th>\n",
       "      <th>sim_seed</th>\n",
       "      <th>pid</th>\n",
       "    </tr>\n",
       "    <tr>\n",
       "      <th>sim_depth_cost_weight</th>\n",
       "      <th></th>\n",
       "      <th></th>\n",
       "      <th></th>\n",
       "      <th></th>\n",
       "      <th></th>\n",
       "      <th></th>\n",
       "      <th></th>\n",
       "      <th></th>\n",
       "      <th></th>\n",
       "      <th></th>\n",
       "      <th></th>\n",
       "      <th></th>\n",
       "      <th></th>\n",
       "      <th></th>\n",
       "    </tr>\n",
       "  </thead>\n",
       "  <tbody>\n",
       "    <tr>\n",
       "      <th>-5.0</th>\n",
       "      <td>11.219890</td>\n",
       "      <td>9.495930</td>\n",
       "      <td>1.0</td>\n",
       "      <td>113.074833</td>\n",
       "      <td>1.788010e+17</td>\n",
       "      <td>7.551589</td>\n",
       "      <td>11.095626</td>\n",
       "      <td>0.0</td>\n",
       "      <td>NaN</td>\n",
       "      <td>-5.0</td>\n",
       "      <td>100.0</td>\n",
       "      <td>20.0</td>\n",
       "      <td>91.0</td>\n",
       "      <td>49.564535</td>\n",
       "    </tr>\n",
       "    <tr>\n",
       "      <th>-2.5</th>\n",
       "      <td>11.240762</td>\n",
       "      <td>9.498116</td>\n",
       "      <td>1.0</td>\n",
       "      <td>75.289536</td>\n",
       "      <td>1.169812e+17</td>\n",
       "      <td>7.545935</td>\n",
       "      <td>7.376487</td>\n",
       "      <td>0.0</td>\n",
       "      <td>NaN</td>\n",
       "      <td>-2.5</td>\n",
       "      <td>100.0</td>\n",
       "      <td>20.0</td>\n",
       "      <td>91.0</td>\n",
       "      <td>49.522197</td>\n",
       "    </tr>\n",
       "    <tr>\n",
       "      <th>-1.0</th>\n",
       "      <td>10.221193</td>\n",
       "      <td>9.532738</td>\n",
       "      <td>1.0</td>\n",
       "      <td>52.700149</td>\n",
       "      <td>2.201080e+17</td>\n",
       "      <td>7.718683</td>\n",
       "      <td>5.806498</td>\n",
       "      <td>0.0</td>\n",
       "      <td>NaN</td>\n",
       "      <td>-1.0</td>\n",
       "      <td>100.0</td>\n",
       "      <td>20.0</td>\n",
       "      <td>91.0</td>\n",
       "      <td>49.693309</td>\n",
       "    </tr>\n",
       "    <tr>\n",
       "      <th>0.0</th>\n",
       "      <td>6.278772</td>\n",
       "      <td>9.443878</td>\n",
       "      <td>1.0</td>\n",
       "      <td>38.413891</td>\n",
       "      <td>2.443176e+17</td>\n",
       "      <td>8.876141</td>\n",
       "      <td>9.982103</td>\n",
       "      <td>0.0</td>\n",
       "      <td>NaN</td>\n",
       "      <td>0.0</td>\n",
       "      <td>100.0</td>\n",
       "      <td>20.0</td>\n",
       "      <td>91.0</td>\n",
       "      <td>49.568211</td>\n",
       "    </tr>\n",
       "    <tr>\n",
       "      <th>1.0</th>\n",
       "      <td>6.266260</td>\n",
       "      <td>9.451893</td>\n",
       "      <td>1.0</td>\n",
       "      <td>29.799602</td>\n",
       "      <td>6.096593e+17</td>\n",
       "      <td>8.870972</td>\n",
       "      <td>8.274698</td>\n",
       "      <td>0.0</td>\n",
       "      <td>NaN</td>\n",
       "      <td>1.0</td>\n",
       "      <td>100.0</td>\n",
       "      <td>20.0</td>\n",
       "      <td>91.0</td>\n",
       "      <td>49.681706</td>\n",
       "    </tr>\n",
       "    <tr>\n",
       "      <th>2.5</th>\n",
       "      <td>6.054337</td>\n",
       "      <td>9.507554</td>\n",
       "      <td>1.0</td>\n",
       "      <td>19.120614</td>\n",
       "      <td>2.966608e+17</td>\n",
       "      <td>8.935916</td>\n",
       "      <td>6.570967</td>\n",
       "      <td>0.0</td>\n",
       "      <td>NaN</td>\n",
       "      <td>2.5</td>\n",
       "      <td>100.0</td>\n",
       "      <td>20.0</td>\n",
       "      <td>91.0</td>\n",
       "      <td>49.063962</td>\n",
       "    </tr>\n",
       "    <tr>\n",
       "      <th>5.0</th>\n",
       "      <td>6.117969</td>\n",
       "      <td>9.534557</td>\n",
       "      <td>1.0</td>\n",
       "      <td>0.403003</td>\n",
       "      <td>3.319853e+17</td>\n",
       "      <td>8.849500</td>\n",
       "      <td>2.752860</td>\n",
       "      <td>0.0</td>\n",
       "      <td>NaN</td>\n",
       "      <td>5.0</td>\n",
       "      <td>100.0</td>\n",
       "      <td>20.0</td>\n",
       "      <td>91.0</td>\n",
       "      <td>49.481173</td>\n",
       "    </tr>\n",
       "    <tr>\n",
       "      <th>7.5</th>\n",
       "      <td>4.199356</td>\n",
       "      <td>9.428418</td>\n",
       "      <td>1.0</td>\n",
       "      <td>0.105941</td>\n",
       "      <td>3.002324e+16</td>\n",
       "      <td>9.760558</td>\n",
       "      <td>2.525412</td>\n",
       "      <td>0.0</td>\n",
       "      <td>NaN</td>\n",
       "      <td>7.5</td>\n",
       "      <td>100.0</td>\n",
       "      <td>20.0</td>\n",
       "      <td>91.0</td>\n",
       "      <td>49.544381</td>\n",
       "    </tr>\n",
       "    <tr>\n",
       "      <th>10.0</th>\n",
       "      <td>4.219843</td>\n",
       "      <td>9.468772</td>\n",
       "      <td>1.0</td>\n",
       "      <td>-11.576017</td>\n",
       "      <td>5.926656e+16</td>\n",
       "      <td>9.750892</td>\n",
       "      <td>-0.914347</td>\n",
       "      <td>0.0</td>\n",
       "      <td>NaN</td>\n",
       "      <td>10.0</td>\n",
       "      <td>100.0</td>\n",
       "      <td>20.0</td>\n",
       "      <td>91.0</td>\n",
       "      <td>49.325125</td>\n",
       "    </tr>\n",
       "  </tbody>\n",
       "</table>\n",
       "</div>"
      ],
      "text/plain": [
       "                         n_steps  i_episode  finished      return  \\\n",
       "sim_depth_cost_weight                                               \n",
       "-5.0                   11.219890   9.495930       1.0  113.074833   \n",
       "-2.5                   11.240762   9.498116       1.0   75.289536   \n",
       "-1.0                   10.221193   9.532738       1.0   52.700149   \n",
       " 0.0                    6.278772   9.443878       1.0   38.413891   \n",
       " 1.0                    6.266260   9.451893       1.0   29.799602   \n",
       " 2.5                    6.054337   9.507554       1.0   19.120614   \n",
       " 5.0                    6.117969   9.534557       1.0    0.403003   \n",
       " 7.5                    4.199356   9.428418       1.0    0.105941   \n",
       " 10.0                   4.219843   9.468772       1.0  -11.576017   \n",
       "\n",
       "                           trial_id   actions    rewards  sim_exact  \\\n",
       "sim_depth_cost_weight                                                 \n",
       "-5.0                   1.788010e+17  7.551589  11.095626        0.0   \n",
       "-2.5                   1.169812e+17  7.545935   7.376487        0.0   \n",
       "-1.0                   2.201080e+17  7.718683   5.806498        0.0   \n",
       " 0.0                   2.443176e+17  8.876141   9.982103        0.0   \n",
       " 1.0                   6.096593e+17  8.870972   8.274698        0.0   \n",
       " 2.5                   2.966608e+17  8.935916   6.570967        0.0   \n",
       " 5.0                   3.319853e+17  8.849500   2.752860        0.0   \n",
       " 7.5                   3.002324e+16  9.760558   2.525412        0.0   \n",
       " 10.0                  5.926656e+16  9.750892  -0.914347        0.0   \n",
       "\n",
       "                       sim_temperature_file  sim_cost_parameter_values  \\\n",
       "sim_depth_cost_weight                                                    \n",
       "-5.0                                    NaN                       -5.0   \n",
       "-2.5                                    NaN                       -2.5   \n",
       "-1.0                                    NaN                       -1.0   \n",
       " 0.0                                    NaN                        0.0   \n",
       " 1.0                                    NaN                        1.0   \n",
       " 2.5                                    NaN                        2.5   \n",
       " 5.0                                    NaN                        5.0   \n",
       " 7.5                                    NaN                        7.5   \n",
       " 10.0                                   NaN                       10.0   \n",
       "\n",
       "                       sim_num_simulated  sim_num_trials  sim_seed        pid  \n",
       "sim_depth_cost_weight                                                          \n",
       "-5.0                               100.0            20.0      91.0  49.564535  \n",
       "-2.5                               100.0            20.0      91.0  49.522197  \n",
       "-1.0                               100.0            20.0      91.0  49.693309  \n",
       " 0.0                               100.0            20.0      91.0  49.568211  \n",
       " 1.0                               100.0            20.0      91.0  49.681706  \n",
       " 2.5                               100.0            20.0      91.0  49.063962  \n",
       " 5.0                               100.0            20.0      91.0  49.481173  \n",
       " 7.5                               100.0            20.0      91.0  49.544381  \n",
       " 10.0                              100.0            20.0      91.0  49.325125  "
      ]
     },
     "execution_count": 39,
     "metadata": {},
     "output_type": "execute_result"
    }
   ],
   "source": [
    "depth_only_data.groupby([\"sim_depth_cost_weight\"]).mean()"
   ]
  },
  {
   "cell_type": "code",
   "execution_count": 40,
   "id": "94d75de1",
   "metadata": {
    "pycharm": {
     "name": "#%%\n"
    }
   },
   "outputs": [],
   "source": [
    "discount_data = []\n",
    "for discount_factor in discount_factors:\n",
    "    curr_df = pd.read_csv(f\"../../../cluster/data/trajectories/high_increasing{discount_factor}/OptimalQ/simulated_agents_linear_depth_0.00_1.00_91.00.csv\", index_col=0) \n",
    "    curr_df[\"discount_factor\"] = discount_factor\n",
    "    discount_data.append(curr_df)\n",
    "discount_data = pd.concat(discount_data)"
   ]
  },
  {
   "cell_type": "code",
   "execution_count": 41,
   "id": "3f29fa17",
   "metadata": {
    "pycharm": {
     "name": "#%%\n"
    }
   },
   "outputs": [
    {
     "name": "stderr",
     "output_type": "stream",
     "text": [
      "/var/folders/y7/qnlh5f453nxbc7w72qw0lw340000gn/T/ipykernel_3737/2375832080.py:1: FutureWarning: The default value of numeric_only in DataFrameGroupBy.mean is deprecated. In a future version, numeric_only will default to False. Either specify numeric_only or select only columns which should be valid for the function.\n",
      "  discount_data.groupby([\"discount_factor\"]).mean()\n"
     ]
    },
    {
     "data": {
      "text/html": [
       "<div>\n",
       "<style scoped>\n",
       "    .dataframe tbody tr th:only-of-type {\n",
       "        vertical-align: middle;\n",
       "    }\n",
       "\n",
       "    .dataframe tbody tr th {\n",
       "        vertical-align: top;\n",
       "    }\n",
       "\n",
       "    .dataframe thead th {\n",
       "        text-align: right;\n",
       "    }\n",
       "</style>\n",
       "<table border=\"1\" class=\"dataframe\">\n",
       "  <thead>\n",
       "    <tr style=\"text-align: right;\">\n",
       "      <th></th>\n",
       "      <th>n_steps</th>\n",
       "      <th>i_episode</th>\n",
       "      <th>finished</th>\n",
       "      <th>return</th>\n",
       "      <th>trial_id</th>\n",
       "      <th>actions</th>\n",
       "      <th>rewards</th>\n",
       "      <th>sim_exact</th>\n",
       "      <th>sim_temperature_file</th>\n",
       "      <th>sim_num_simulated</th>\n",
       "      <th>sim_num_trials</th>\n",
       "      <th>sim_seed</th>\n",
       "      <th>sim_static_cost_weight</th>\n",
       "      <th>sim_depth_cost_weight</th>\n",
       "      <th>pid</th>\n",
       "    </tr>\n",
       "    <tr>\n",
       "      <th>discount_factor</th>\n",
       "      <th></th>\n",
       "      <th></th>\n",
       "      <th></th>\n",
       "      <th></th>\n",
       "      <th></th>\n",
       "      <th></th>\n",
       "      <th></th>\n",
       "      <th></th>\n",
       "      <th></th>\n",
       "      <th></th>\n",
       "      <th></th>\n",
       "      <th></th>\n",
       "      <th></th>\n",
       "      <th></th>\n",
       "      <th></th>\n",
       "    </tr>\n",
       "  </thead>\n",
       "  <tbody>\n",
       "    <tr>\n",
       "      <th>0.100</th>\n",
       "      <td>3.607178</td>\n",
       "      <td>9.460020</td>\n",
       "      <td>1.0</td>\n",
       "      <td>0.455035</td>\n",
       "      <td>4.159794e+17</td>\n",
       "      <td>8.419342</td>\n",
       "      <td>0.288136</td>\n",
       "      <td>0.0</td>\n",
       "      <td>NaN</td>\n",
       "      <td>100.0</td>\n",
       "      <td>20.0</td>\n",
       "      <td>91.0</td>\n",
       "      <td>1.0</td>\n",
       "      <td>0.0</td>\n",
       "      <td>49.456431</td>\n",
       "    </tr>\n",
       "    <tr>\n",
       "      <th>0.200</th>\n",
       "      <td>4.994458</td>\n",
       "      <td>9.504619</td>\n",
       "      <td>1.0</td>\n",
       "      <td>0.102486</td>\n",
       "      <td>1.792935e+17</td>\n",
       "      <td>8.014516</td>\n",
       "      <td>0.123336</td>\n",
       "      <td>0.0</td>\n",
       "      <td>NaN</td>\n",
       "      <td>100.0</td>\n",
       "      <td>20.0</td>\n",
       "      <td>91.0</td>\n",
       "      <td>1.0</td>\n",
       "      <td>0.0</td>\n",
       "      <td>49.591185</td>\n",
       "    </tr>\n",
       "    <tr>\n",
       "      <th>0.300</th>\n",
       "      <td>5.999756</td>\n",
       "      <td>9.460385</td>\n",
       "      <td>1.0</td>\n",
       "      <td>0.195319</td>\n",
       "      <td>2.558867e+17</td>\n",
       "      <td>8.861531</td>\n",
       "      <td>0.285178</td>\n",
       "      <td>0.0</td>\n",
       "      <td>NaN</td>\n",
       "      <td>100.0</td>\n",
       "      <td>20.0</td>\n",
       "      <td>91.0</td>\n",
       "      <td>1.0</td>\n",
       "      <td>0.0</td>\n",
       "      <td>49.052657</td>\n",
       "    </tr>\n",
       "    <tr>\n",
       "      <th>0.400</th>\n",
       "      <td>6.144125</td>\n",
       "      <td>9.488010</td>\n",
       "      <td>1.0</td>\n",
       "      <td>2.943060</td>\n",
       "      <td>4.852885e+17</td>\n",
       "      <td>8.872302</td>\n",
       "      <td>1.001046</td>\n",
       "      <td>0.0</td>\n",
       "      <td>NaN</td>\n",
       "      <td>100.0</td>\n",
       "      <td>20.0</td>\n",
       "      <td>91.0</td>\n",
       "      <td>1.0</td>\n",
       "      <td>0.0</td>\n",
       "      <td>49.236571</td>\n",
       "    </tr>\n",
       "    <tr>\n",
       "      <th>0.500</th>\n",
       "      <td>6.419195</td>\n",
       "      <td>9.577806</td>\n",
       "      <td>1.0</td>\n",
       "      <td>6.247087</td>\n",
       "      <td>5.497923e+17</td>\n",
       "      <td>8.773100</td>\n",
       "      <td>1.830315</td>\n",
       "      <td>0.0</td>\n",
       "      <td>NaN</td>\n",
       "      <td>100.0</td>\n",
       "      <td>20.0</td>\n",
       "      <td>91.0</td>\n",
       "      <td>1.0</td>\n",
       "      <td>0.0</td>\n",
       "      <td>49.167378</td>\n",
       "    </tr>\n",
       "    <tr>\n",
       "      <th>0.750</th>\n",
       "      <td>6.371242</td>\n",
       "      <td>9.539385</td>\n",
       "      <td>1.0</td>\n",
       "      <td>19.339431</td>\n",
       "      <td>5.980326e+17</td>\n",
       "      <td>8.829294</td>\n",
       "      <td>5.124563</td>\n",
       "      <td>0.0</td>\n",
       "      <td>NaN</td>\n",
       "      <td>100.0</td>\n",
       "      <td>20.0</td>\n",
       "      <td>91.0</td>\n",
       "      <td>1.0</td>\n",
       "      <td>0.0</td>\n",
       "      <td>49.459567</td>\n",
       "    </tr>\n",
       "    <tr>\n",
       "      <th>0.850</th>\n",
       "      <td>6.260446</td>\n",
       "      <td>9.524454</td>\n",
       "      <td>1.0</td>\n",
       "      <td>26.725285</td>\n",
       "      <td>3.754838e+17</td>\n",
       "      <td>8.883666</td>\n",
       "      <td>7.025233</td>\n",
       "      <td>0.0</td>\n",
       "      <td>NaN</td>\n",
       "      <td>100.0</td>\n",
       "      <td>20.0</td>\n",
       "      <td>91.0</td>\n",
       "      <td>1.0</td>\n",
       "      <td>0.0</td>\n",
       "      <td>49.265907</td>\n",
       "    </tr>\n",
       "    <tr>\n",
       "      <th>0.900</th>\n",
       "      <td>6.462406</td>\n",
       "      <td>9.527807</td>\n",
       "      <td>1.0</td>\n",
       "      <td>29.261550</td>\n",
       "      <td>4.940007e+17</td>\n",
       "      <td>8.808981</td>\n",
       "      <td>7.559235</td>\n",
       "      <td>0.0</td>\n",
       "      <td>NaN</td>\n",
       "      <td>100.0</td>\n",
       "      <td>20.0</td>\n",
       "      <td>91.0</td>\n",
       "      <td>1.0</td>\n",
       "      <td>0.0</td>\n",
       "      <td>49.275648</td>\n",
       "    </tr>\n",
       "    <tr>\n",
       "      <th>0.950</th>\n",
       "      <td>6.325505</td>\n",
       "      <td>9.468530</td>\n",
       "      <td>1.0</td>\n",
       "      <td>33.854711</td>\n",
       "      <td>3.684742e+17</td>\n",
       "      <td>8.848755</td>\n",
       "      <td>8.775787</td>\n",
       "      <td>0.0</td>\n",
       "      <td>NaN</td>\n",
       "      <td>100.0</td>\n",
       "      <td>20.0</td>\n",
       "      <td>91.0</td>\n",
       "      <td>1.0</td>\n",
       "      <td>0.0</td>\n",
       "      <td>49.984735</td>\n",
       "    </tr>\n",
       "    <tr>\n",
       "      <th>0.975</th>\n",
       "      <td>6.255163</td>\n",
       "      <td>9.664491</td>\n",
       "      <td>1.0</td>\n",
       "      <td>36.155813</td>\n",
       "      <td>5.102019e+17</td>\n",
       "      <td>8.861144</td>\n",
       "      <td>9.428346</td>\n",
       "      <td>0.0</td>\n",
       "      <td>NaN</td>\n",
       "      <td>100.0</td>\n",
       "      <td>20.0</td>\n",
       "      <td>91.0</td>\n",
       "      <td>1.0</td>\n",
       "      <td>0.0</td>\n",
       "      <td>49.123309</td>\n",
       "    </tr>\n",
       "    <tr>\n",
       "      <th>0.999</th>\n",
       "      <td>6.310470</td>\n",
       "      <td>9.346817</td>\n",
       "      <td>1.0</td>\n",
       "      <td>38.049291</td>\n",
       "      <td>6.350967e+17</td>\n",
       "      <td>8.863876</td>\n",
       "      <td>9.790265</td>\n",
       "      <td>0.0</td>\n",
       "      <td>NaN</td>\n",
       "      <td>100.0</td>\n",
       "      <td>20.0</td>\n",
       "      <td>91.0</td>\n",
       "      <td>1.0</td>\n",
       "      <td>0.0</td>\n",
       "      <td>49.033650</td>\n",
       "    </tr>\n",
       "  </tbody>\n",
       "</table>\n",
       "</div>"
      ],
      "text/plain": [
       "                  n_steps  i_episode  finished     return      trial_id  \\\n",
       "discount_factor                                                           \n",
       "0.100            3.607178   9.460020       1.0   0.455035  4.159794e+17   \n",
       "0.200            4.994458   9.504619       1.0   0.102486  1.792935e+17   \n",
       "0.300            5.999756   9.460385       1.0   0.195319  2.558867e+17   \n",
       "0.400            6.144125   9.488010       1.0   2.943060  4.852885e+17   \n",
       "0.500            6.419195   9.577806       1.0   6.247087  5.497923e+17   \n",
       "0.750            6.371242   9.539385       1.0  19.339431  5.980326e+17   \n",
       "0.850            6.260446   9.524454       1.0  26.725285  3.754838e+17   \n",
       "0.900            6.462406   9.527807       1.0  29.261550  4.940007e+17   \n",
       "0.950            6.325505   9.468530       1.0  33.854711  3.684742e+17   \n",
       "0.975            6.255163   9.664491       1.0  36.155813  5.102019e+17   \n",
       "0.999            6.310470   9.346817       1.0  38.049291  6.350967e+17   \n",
       "\n",
       "                  actions   rewards  sim_exact  sim_temperature_file  \\\n",
       "discount_factor                                                        \n",
       "0.100            8.419342  0.288136        0.0                   NaN   \n",
       "0.200            8.014516  0.123336        0.0                   NaN   \n",
       "0.300            8.861531  0.285178        0.0                   NaN   \n",
       "0.400            8.872302  1.001046        0.0                   NaN   \n",
       "0.500            8.773100  1.830315        0.0                   NaN   \n",
       "0.750            8.829294  5.124563        0.0                   NaN   \n",
       "0.850            8.883666  7.025233        0.0                   NaN   \n",
       "0.900            8.808981  7.559235        0.0                   NaN   \n",
       "0.950            8.848755  8.775787        0.0                   NaN   \n",
       "0.975            8.861144  9.428346        0.0                   NaN   \n",
       "0.999            8.863876  9.790265        0.0                   NaN   \n",
       "\n",
       "                 sim_num_simulated  sim_num_trials  sim_seed  \\\n",
       "discount_factor                                                \n",
       "0.100                        100.0            20.0      91.0   \n",
       "0.200                        100.0            20.0      91.0   \n",
       "0.300                        100.0            20.0      91.0   \n",
       "0.400                        100.0            20.0      91.0   \n",
       "0.500                        100.0            20.0      91.0   \n",
       "0.750                        100.0            20.0      91.0   \n",
       "0.850                        100.0            20.0      91.0   \n",
       "0.900                        100.0            20.0      91.0   \n",
       "0.950                        100.0            20.0      91.0   \n",
       "0.975                        100.0            20.0      91.0   \n",
       "0.999                        100.0            20.0      91.0   \n",
       "\n",
       "                 sim_static_cost_weight  sim_depth_cost_weight        pid  \n",
       "discount_factor                                                            \n",
       "0.100                               1.0                    0.0  49.456431  \n",
       "0.200                               1.0                    0.0  49.591185  \n",
       "0.300                               1.0                    0.0  49.052657  \n",
       "0.400                               1.0                    0.0  49.236571  \n",
       "0.500                               1.0                    0.0  49.167378  \n",
       "0.750                               1.0                    0.0  49.459567  \n",
       "0.850                               1.0                    0.0  49.265907  \n",
       "0.900                               1.0                    0.0  49.275648  \n",
       "0.950                               1.0                    0.0  49.984735  \n",
       "0.975                               1.0                    0.0  49.123309  \n",
       "0.999                               1.0                    0.0  49.033650  "
      ]
     },
     "execution_count": 41,
     "metadata": {},
     "output_type": "execute_result"
    }
   ],
   "source": [
    "discount_data.groupby([\"discount_factor\"]).mean()"
   ]
  },
  {
   "cell_type": "code",
   "execution_count": 42,
   "id": "33d844cd",
   "metadata": {
    "pycharm": {
     "name": "#%%\n"
    }
   },
   "outputs": [],
   "source": [
    "yaml_file = Path(\n",
    "    \"../../../data/inputs/yamls/cost_functions/linear_depth.yaml\"\n",
    ")\n",
    "with open(str(yaml_file), \"r\") as stream:\n",
    "    cost_details = yaml.safe_load(stream)\n",
    "\n",
    "sim_cost_parameters = [\n",
    "    f\"sim_{param}\" for param in cost_details[\"constant_values\"].keys()\n",
    "]"
   ]
  },
  {
   "cell_type": "code",
   "execution_count": 43,
   "id": "378e0c38",
   "metadata": {
    "pycharm": {
     "name": "#%%\n"
    }
   },
   "outputs": [
    {
     "name": "stderr",
     "output_type": "stream",
     "text": [
      "/var/folders/y7/qnlh5f453nxbc7w72qw0lw340000gn/T/ipykernel_3737/2288600361.py:12: FutureWarning: The default value of numeric_only in DataFrameGroupBy.sum is deprecated. In a future version, numeric_only will default to False. Either specify numeric_only or select only columns which should be valid for the function.\n",
      "  discount_data.groupby([\"pid\", \"i_episode\", *sim_cost_parameters] + [\"discount_factor\"])\n",
      "/var/folders/y7/qnlh5f453nxbc7w72qw0lw340000gn/T/ipykernel_3737/2288600361.py:21: FutureWarning: The default value of numeric_only in DataFrameGroupBy.sum is deprecated. In a future version, numeric_only will default to False. Either specify numeric_only or select only columns which should be valid for the function.\n",
      "  depth_only_data.groupby([\"pid\", \"i_episode\", \"sim_depth_cost_weight\"])\n"
     ]
    }
   ],
   "source": [
    "for classification, nodes in experiment_setting_data[\n",
    "    \"node_classification\"\n",
    "].items():\n",
    "    discount_data[classification] = discount_data[\"actions\"].apply(\n",
    "        lambda action: action in nodes\n",
    "    )\n",
    "    depth_only_data[classification] = depth_only_data[\"actions\"].apply(\n",
    "        lambda action: action in nodes\n",
    "    )\n",
    "\n",
    "sum_discount_clicks = (\n",
    "    discount_data.groupby([\"pid\", \"i_episode\", *sim_cost_parameters] + [\"discount_factor\"])\n",
    "    .sum()\n",
    "    .reset_index()\n",
    "    .groupby(sim_cost_parameters + [\"discount_factor\"])\n",
    "    .mean()\n",
    "    .reset_index()\n",
    ")\n",
    "\n",
    "sum_depth_clicks = (\n",
    "    depth_only_data.groupby([\"pid\", \"i_episode\", \"sim_depth_cost_weight\"])\n",
    "    .sum()\n",
    "    .reset_index()\n",
    "    .groupby([ \"sim_depth_cost_weight\"])\n",
    "    .mean()\n",
    "    .reset_index()\n",
    ")"
   ]
  },
  {
   "cell_type": "code",
   "execution_count": 44,
   "id": "a8335948",
   "metadata": {
    "pycharm": {
     "name": "#%%\n"
    }
   },
   "outputs": [
    {
     "data": {
      "text/html": [
       "<div>\n",
       "<style scoped>\n",
       "    .dataframe tbody tr th:only-of-type {\n",
       "        vertical-align: middle;\n",
       "    }\n",
       "\n",
       "    .dataframe tbody tr th {\n",
       "        vertical-align: top;\n",
       "    }\n",
       "\n",
       "    .dataframe thead th {\n",
       "        text-align: right;\n",
       "    }\n",
       "</style>\n",
       "<table border=\"1\" class=\"dataframe\">\n",
       "  <thead>\n",
       "    <tr style=\"text-align: right;\">\n",
       "      <th></th>\n",
       "      <th>sim_depth_cost_weight</th>\n",
       "      <th>early</th>\n",
       "      <th>middle</th>\n",
       "      <th>late</th>\n",
       "      <th>clicks</th>\n",
       "    </tr>\n",
       "  </thead>\n",
       "  <tbody>\n",
       "    <tr>\n",
       "      <th>0</th>\n",
       "      <td>-5.0</td>\n",
       "      <td>0.1960</td>\n",
       "      <td>3.0000</td>\n",
       "      <td>6.0000</td>\n",
       "      <td>9.1960</td>\n",
       "    </tr>\n",
       "    <tr>\n",
       "      <th>1</th>\n",
       "      <td>-2.5</td>\n",
       "      <td>0.2155</td>\n",
       "      <td>3.0000</td>\n",
       "      <td>6.0000</td>\n",
       "      <td>9.2155</td>\n",
       "    </tr>\n",
       "    <tr>\n",
       "      <th>2</th>\n",
       "      <td>-1.0</td>\n",
       "      <td>0.1410</td>\n",
       "      <td>1.9235</td>\n",
       "      <td>6.0000</td>\n",
       "      <td>8.0645</td>\n",
       "    </tr>\n",
       "    <tr>\n",
       "      <th>3</th>\n",
       "      <td>0.0</td>\n",
       "      <td>0.0155</td>\n",
       "      <td>0.1390</td>\n",
       "      <td>3.0640</td>\n",
       "      <td>3.2185</td>\n",
       "    </tr>\n",
       "    <tr>\n",
       "      <th>4</th>\n",
       "      <td>1.0</td>\n",
       "      <td>0.0085</td>\n",
       "      <td>0.1245</td>\n",
       "      <td>3.1335</td>\n",
       "      <td>3.2665</td>\n",
       "    </tr>\n",
       "    <tr>\n",
       "      <th>5</th>\n",
       "      <td>2.5</td>\n",
       "      <td>0.0000</td>\n",
       "      <td>0.0965</td>\n",
       "      <td>3.0075</td>\n",
       "      <td>3.1040</td>\n",
       "    </tr>\n",
       "    <tr>\n",
       "      <th>6</th>\n",
       "      <td>5.0</td>\n",
       "      <td>0.2210</td>\n",
       "      <td>0.0000</td>\n",
       "      <td>2.9750</td>\n",
       "      <td>3.1960</td>\n",
       "    </tr>\n",
       "    <tr>\n",
       "      <th>7</th>\n",
       "      <td>7.5</td>\n",
       "      <td>0.0000</td>\n",
       "      <td>0.0000</td>\n",
       "      <td>1.7940</td>\n",
       "      <td>1.7940</td>\n",
       "    </tr>\n",
       "    <tr>\n",
       "      <th>8</th>\n",
       "      <td>10.0</td>\n",
       "      <td>0.0000</td>\n",
       "      <td>0.0000</td>\n",
       "      <td>1.8020</td>\n",
       "      <td>1.8020</td>\n",
       "    </tr>\n",
       "  </tbody>\n",
       "</table>\n",
       "</div>"
      ],
      "text/plain": [
       "   sim_depth_cost_weight   early  middle    late  clicks\n",
       "0                   -5.0  0.1960  3.0000  6.0000  9.1960\n",
       "1                   -2.5  0.2155  3.0000  6.0000  9.2155\n",
       "2                   -1.0  0.1410  1.9235  6.0000  8.0645\n",
       "3                    0.0  0.0155  0.1390  3.0640  3.2185\n",
       "4                    1.0  0.0085  0.1245  3.1335  3.2665\n",
       "5                    2.5  0.0000  0.0965  3.0075  3.1040\n",
       "6                    5.0  0.2210  0.0000  2.9750  3.1960\n",
       "7                    7.5  0.0000  0.0000  1.7940  1.7940\n",
       "8                   10.0  0.0000  0.0000  1.8020  1.8020"
      ]
     },
     "execution_count": 44,
     "metadata": {},
     "output_type": "execute_result"
    }
   ],
   "source": [
    "sum_depth_clicks[[ \"sim_depth_cost_weight\"]+[\"early\", \"middle\", \"late\", \"clicks\"]]"
   ]
  },
  {
   "cell_type": "code",
   "execution_count": 45,
   "id": "657137b5",
   "metadata": {
    "pycharm": {
     "name": "#%%\n"
    }
   },
   "outputs": [
    {
     "data": {
      "text/html": [
       "<div>\n",
       "<style scoped>\n",
       "    .dataframe tbody tr th:only-of-type {\n",
       "        vertical-align: middle;\n",
       "    }\n",
       "\n",
       "    .dataframe tbody tr th {\n",
       "        vertical-align: top;\n",
       "    }\n",
       "\n",
       "    .dataframe thead th {\n",
       "        text-align: right;\n",
       "    }\n",
       "</style>\n",
       "<table border=\"1\" class=\"dataframe\">\n",
       "  <thead>\n",
       "    <tr style=\"text-align: right;\">\n",
       "      <th></th>\n",
       "      <th>discount_factor</th>\n",
       "      <th>early</th>\n",
       "      <th>middle</th>\n",
       "      <th>late</th>\n",
       "      <th>clicks</th>\n",
       "    </tr>\n",
       "  </thead>\n",
       "  <tbody>\n",
       "    <tr>\n",
       "      <th>0</th>\n",
       "      <td>0.100</td>\n",
       "      <td>1.5075</td>\n",
       "      <td>0.0000</td>\n",
       "      <td>0.0000</td>\n",
       "      <td>1.5075</td>\n",
       "    </tr>\n",
       "    <tr>\n",
       "      <th>1</th>\n",
       "      <td>0.200</td>\n",
       "      <td>1.6655</td>\n",
       "      <td>0.0000</td>\n",
       "      <td>1.1235</td>\n",
       "      <td>2.7890</td>\n",
       "    </tr>\n",
       "    <tr>\n",
       "      <th>2</th>\n",
       "      <td>0.300</td>\n",
       "      <td>0.2215</td>\n",
       "      <td>0.0000</td>\n",
       "      <td>2.8805</td>\n",
       "      <td>3.1020</td>\n",
       "    </tr>\n",
       "    <tr>\n",
       "      <th>3</th>\n",
       "      <td>0.400</td>\n",
       "      <td>0.2315</td>\n",
       "      <td>0.0000</td>\n",
       "      <td>2.9385</td>\n",
       "      <td>3.1700</td>\n",
       "    </tr>\n",
       "    <tr>\n",
       "      <th>4</th>\n",
       "      <td>0.500</td>\n",
       "      <td>0.1050</td>\n",
       "      <td>0.1200</td>\n",
       "      <td>3.1095</td>\n",
       "      <td>3.3345</td>\n",
       "    </tr>\n",
       "    <tr>\n",
       "      <th>5</th>\n",
       "      <td>0.750</td>\n",
       "      <td>0.0155</td>\n",
       "      <td>0.1465</td>\n",
       "      <td>3.1290</td>\n",
       "      <td>3.2910</td>\n",
       "    </tr>\n",
       "    <tr>\n",
       "      <th>6</th>\n",
       "      <td>0.850</td>\n",
       "      <td>0.0140</td>\n",
       "      <td>0.1340</td>\n",
       "      <td>3.0640</td>\n",
       "      <td>3.2120</td>\n",
       "    </tr>\n",
       "    <tr>\n",
       "      <th>7</th>\n",
       "      <td>0.900</td>\n",
       "      <td>0.0170</td>\n",
       "      <td>0.1650</td>\n",
       "      <td>3.1605</td>\n",
       "      <td>3.3425</td>\n",
       "    </tr>\n",
       "    <tr>\n",
       "      <th>8</th>\n",
       "      <td>0.950</td>\n",
       "      <td>0.0095</td>\n",
       "      <td>0.1405</td>\n",
       "      <td>3.1080</td>\n",
       "      <td>3.2580</td>\n",
       "    </tr>\n",
       "    <tr>\n",
       "      <th>9</th>\n",
       "      <td>0.975</td>\n",
       "      <td>0.0105</td>\n",
       "      <td>0.1340</td>\n",
       "      <td>3.0685</td>\n",
       "      <td>3.2130</td>\n",
       "    </tr>\n",
       "    <tr>\n",
       "      <th>10</th>\n",
       "      <td>0.999</td>\n",
       "      <td>0.0085</td>\n",
       "      <td>0.1370</td>\n",
       "      <td>3.1190</td>\n",
       "      <td>3.2645</td>\n",
       "    </tr>\n",
       "  </tbody>\n",
       "</table>\n",
       "</div>"
      ],
      "text/plain": [
       "    discount_factor   early  middle    late  clicks\n",
       "0             0.100  1.5075  0.0000  0.0000  1.5075\n",
       "1             0.200  1.6655  0.0000  1.1235  2.7890\n",
       "2             0.300  0.2215  0.0000  2.8805  3.1020\n",
       "3             0.400  0.2315  0.0000  2.9385  3.1700\n",
       "4             0.500  0.1050  0.1200  3.1095  3.3345\n",
       "5             0.750  0.0155  0.1465  3.1290  3.2910\n",
       "6             0.850  0.0140  0.1340  3.0640  3.2120\n",
       "7             0.900  0.0170  0.1650  3.1605  3.3425\n",
       "8             0.950  0.0095  0.1405  3.1080  3.2580\n",
       "9             0.975  0.0105  0.1340  3.0685  3.2130\n",
       "10            0.999  0.0085  0.1370  3.1190  3.2645"
      ]
     },
     "execution_count": 45,
     "metadata": {},
     "output_type": "execute_result"
    }
   ],
   "source": [
    "sum_discount_clicks[[ \"discount_factor\"]+[\"early\", \"middle\", \"late\", \"clicks\"]]"
   ]
  }
 ],
 "metadata": {
  "kernelspec": {
   "display_name": "irl-project",
   "language": "python",
   "name": "irl-project"
  },
  "language_info": {
   "codemirror_mode": {
    "name": "ipython",
    "version": 3
   },
   "file_extension": ".py",
   "mimetype": "text/x-python",
   "name": "python",
   "nbconvert_exporter": "python",
   "pygments_lexer": "ipython3",
   "version": "3.8.9"
  }
 },
 "nbformat": 4,
 "nbformat_minor": 5
}
