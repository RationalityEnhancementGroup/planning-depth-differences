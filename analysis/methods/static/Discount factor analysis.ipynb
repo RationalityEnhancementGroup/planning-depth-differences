{
 "cells": [
  {
   "cell_type": "code",
   "execution_count": 1,
   "id": "ed37f335",
   "metadata": {},
   "outputs": [],
   "source": [
    "import json\n",
    "import yaml\n",
    "import numpy as np\n",
    "import shutil\n",
    "from pathlib import Path\n",
    "import pandas as pd\n",
    "from mouselab.mouselab import MouselabEnv\n",
    "from mouselab.env_utils import get_ground_truths_from_json\n",
    "import dill as pickle"
   ]
  },
  {
   "cell_type": "markdown",
   "id": "e93a6a26",
   "metadata": {},
   "source": [
    "# Creating data, modifying code"
   ]
  },
  {
   "cell_type": "code",
   "execution_count": 2,
   "id": "2b836d1a",
   "metadata": {},
   "outputs": [],
   "source": [
    "discount_factors = [.10, .20, .30, .40, .50,.75,.85,.9,.95,.975,.999]"
   ]
  },
  {
   "cell_type": "code",
   "execution_count": 3,
   "id": "cc25b18e",
   "metadata": {},
   "outputs": [],
   "source": [
    "for discount_factor in discount_factors:\n",
    "    shutil.copyfile( Path(f\"../../../data/inputs/exp_inputs/structure/312_2_4_24.json\"), \\\n",
    "                     Path(f\"../../../data/inputs/exp_inputs/structure/high_increasing{discount_factor}.json\"))"
   ]
  },
  {
   "cell_type": "code",
   "execution_count": 4,
   "id": "ffb17373",
   "metadata": {},
   "outputs": [],
   "source": [
    "with open(Path(\"../../../data/inputs/yamls/experiment_settings/high_increasing.yaml\"), \"rb\") as f:\n",
    "    experiment_setting_data = yaml.safe_load(f)\n",
    "    \n",
    "for discount_factor in discount_factors:\n",
    "    experiment_setting_data[\"ground_truth_file\"] = f\"high_increasing{discount_factor}\"\n",
    "    experiment_setting_data[\"structure\"] = f\"high_increasing{discount_factor}\"\n",
    "    \n",
    "    with open(Path(f\"../../../data/inputs/yamls/experiment_settings/high_increasing{discount_factor}.yaml\"), \"w\") as f:\n",
    "        yaml.dump(experiment_setting_data, f)"
   ]
  },
  {
   "cell_type": "code",
   "execution_count": 5,
   "id": "6e276cb4",
   "metadata": {},
   "outputs": [],
   "source": [
    "env = MouselabEnv.new_symmetric_registered(\"high_increasing\")\n",
    "\n",
    "for discount_factor in discount_factors:\n",
    "    with open(Path(\"../../../data/inputs/exp_inputs/rewards/312_2_4_24.json\"), \"rb\") as f:\n",
    "        data = json.load(f)\n",
    "    \n",
    "    for trial in data:\n",
    "        trial[\"stateRewards\"] = [round(reward*discount_factor**(env.mdp_graph.nodes[action][\"depth\"]-1),2) if env.mdp_graph.nodes[action][\"depth\"] != 0 else 0.0 for action, reward in enumerate(trial[\"stateRewards\"])]\n",
    "\n",
    "    with open(Path(f\"../../../data/inputs/exp_inputs/rewards/high_increasing{discount_factor}.json\"), \"w\") as f:\n",
    "        json.dump(data, f)"
   ]
  },
  {
   "cell_type": "code",
   "execution_count": 6,
   "id": "60a4ef9d",
   "metadata": {},
   "outputs": [
    {
     "name": "stdout",
     "output_type": "stream",
     "text": [
      "c1.1.yaml             methods_main0.5.yaml    methods_main_extension.yaml\r\n",
      "c2.1.yaml             methods_main0.75.yaml   methods_main.yaml\r\n",
      "irl_validation.yaml   methods_main0.85.yaml   quest_feasibility.yaml\r\n",
      "methods_main0.1.yaml  methods_main0.95.yaml   quest_first.yaml\r\n",
      "methods_main0.2.yaml  methods_main0.975.yaml  quest_main.yaml\r\n",
      "methods_main0.3.yaml  methods_main0.999.yaml  quest_second.yaml\r\n",
      "methods_main0.4.yaml  methods_main0.9.yaml\r\n"
     ]
    }
   ],
   "source": [
    "ls ../../../data/inputs/yamls/experiments"
   ]
  },
  {
   "cell_type": "code",
   "execution_count": 7,
   "id": "70368d6c",
   "metadata": {},
   "outputs": [],
   "source": [
    "with open(Path(\"../../../data/inputs/yamls/experiments/methods_main.yaml\"), \"rb\") as f:\n",
    "    data = yaml.safe_load(f)\n",
    "\n",
    "for discount_factor in discount_factors:\n",
    "    data['sessions'] = [f'methods_main{discount_factor}']\n",
    "    data['experiment_setting'] = f'high_increasing{discount_factor}'\n",
    "    with open(Path(f\"../../../data/inputs/yamls/experiments/methods_main{discount_factor}.yaml\"), \"w\") as f:\n",
    "        yaml.dump(data, f)"
   ]
  },
  {
   "cell_type": "markdown",
   "id": "673e87f3",
   "metadata": {},
   "source": [
    "Put this in `cluster/src/cluster_utils.py`"
   ]
  },
  {
   "cell_type": "code",
   "execution_count": 8,
   "id": "6a78b35d",
   "metadata": {},
   "outputs": [
    {
     "name": "stdout",
     "output_type": "stream",
     "text": [
      "elif name == 'high_increasing0.1':\n",
      "    register(\n",
      "        name=name,\n",
      "        branching=[3, 1, 2],\n",
      "        reward_inputs=\"depth\",\n",
      "        reward_dictionary={\n",
      "            1: Categorical([-4, -2, 2, 4]),\n",
      "            2: Categorical([-0.8, -0.4, 0.4, 0.8]),\n",
      "            3: Categorical([-0.48, -0.24, 0.24, 0.48]),\n",
      "        },\n",
      "    )\n",
      "elif name == 'high_increasing0.2':\n",
      "    register(\n",
      "        name=name,\n",
      "        branching=[3, 1, 2],\n",
      "        reward_inputs=\"depth\",\n",
      "        reward_dictionary={\n",
      "            1: Categorical([-4, -2, 2, 4]),\n",
      "            2: Categorical([-1.6, -0.8, 0.8, 1.6]),\n",
      "            3: Categorical([-1.92, -0.96, 0.96, 1.92]),\n",
      "        },\n",
      "    )\n",
      "elif name == 'high_increasing0.3':\n",
      "    register(\n",
      "        name=name,\n",
      "        branching=[3, 1, 2],\n",
      "        reward_inputs=\"depth\",\n",
      "        reward_dictionary={\n",
      "            1: Categorical([-4, -2, 2, 4]),\n",
      "            2: Categorical([-2.4, -1.2, 1.2, 2.4]),\n",
      "            3: Categorical([-4.32, -2.16, 2.16, 4.32]),\n",
      "        },\n",
      "    )\n",
      "elif name == 'high_increasing0.4':\n",
      "    register(\n",
      "        name=name,\n",
      "        branching=[3, 1, 2],\n",
      "        reward_inputs=\"depth\",\n",
      "        reward_dictionary={\n",
      "            1: Categorical([-4, -2, 2, 4]),\n",
      "            2: Categorical([-3.2, -1.6, 1.6, 3.2]),\n",
      "            3: Categorical([-7.68, -3.84, 3.84, 7.68]),\n",
      "        },\n",
      "    )\n",
      "elif name == 'high_increasing0.5':\n",
      "    register(\n",
      "        name=name,\n",
      "        branching=[3, 1, 2],\n",
      "        reward_inputs=\"depth\",\n",
      "        reward_dictionary={\n",
      "            1: Categorical([-4, -2, 2, 4]),\n",
      "            2: Categorical([-4.0, -2.0, 2.0, 4.0]),\n",
      "            3: Categorical([-12.0, -6.0, 6.0, 12.0]),\n",
      "        },\n",
      "    )\n",
      "elif name == 'high_increasing0.75':\n",
      "    register(\n",
      "        name=name,\n",
      "        branching=[3, 1, 2],\n",
      "        reward_inputs=\"depth\",\n",
      "        reward_dictionary={\n",
      "            1: Categorical([-4, -2, 2, 4]),\n",
      "            2: Categorical([-6.0, -3.0, 3.0, 6.0]),\n",
      "            3: Categorical([-27.0, -13.5, 13.5, 27.0]),\n",
      "        },\n",
      "    )\n",
      "elif name == 'high_increasing0.85':\n",
      "    register(\n",
      "        name=name,\n",
      "        branching=[3, 1, 2],\n",
      "        reward_inputs=\"depth\",\n",
      "        reward_dictionary={\n",
      "            1: Categorical([-4, -2, 2, 4]),\n",
      "            2: Categorical([-6.8, -3.4, 3.4, 6.8]),\n",
      "            3: Categorical([-34.68, -17.34, 17.34, 34.68]),\n",
      "        },\n",
      "    )\n",
      "elif name == 'high_increasing0.9':\n",
      "    register(\n",
      "        name=name,\n",
      "        branching=[3, 1, 2],\n",
      "        reward_inputs=\"depth\",\n",
      "        reward_dictionary={\n",
      "            1: Categorical([-4, -2, 2, 4]),\n",
      "            2: Categorical([-7.2, -3.6, 3.6, 7.2]),\n",
      "            3: Categorical([-38.88, -19.44, 19.44, 38.88]),\n",
      "        },\n",
      "    )\n",
      "elif name == 'high_increasing0.95':\n",
      "    register(\n",
      "        name=name,\n",
      "        branching=[3, 1, 2],\n",
      "        reward_inputs=\"depth\",\n",
      "        reward_dictionary={\n",
      "            1: Categorical([-4, -2, 2, 4]),\n",
      "            2: Categorical([-7.6, -3.8, 3.8, 7.6]),\n",
      "            3: Categorical([-43.32, -21.66, 21.66, 43.32]),\n",
      "        },\n",
      "    )\n",
      "elif name == 'high_increasing0.975':\n",
      "    register(\n",
      "        name=name,\n",
      "        branching=[3, 1, 2],\n",
      "        reward_inputs=\"depth\",\n",
      "        reward_dictionary={\n",
      "            1: Categorical([-4, -2, 2, 4]),\n",
      "            2: Categorical([-7.8, -3.9, 3.9, 7.8]),\n",
      "            3: Categorical([-45.63, -22.81, 22.81, 45.63]),\n",
      "        },\n",
      "    )\n",
      "elif name == 'high_increasing0.999':\n",
      "    register(\n",
      "        name=name,\n",
      "        branching=[3, 1, 2],\n",
      "        reward_inputs=\"depth\",\n",
      "        reward_dictionary={\n",
      "            1: Categorical([-4, -2, 2, 4]),\n",
      "            2: Categorical([-7.99, -4.0, 4.0, 7.99]),\n",
      "            3: Categorical([-47.9, -23.95, 23.95, 47.9]),\n",
      "        },\n",
      "    )\n"
     ]
    }
   ],
   "source": [
    "for discount_factor in discount_factors:\n",
    "    print(f\"elif name == 'high_increasing{discount_factor}':\\n\"\n",
    "          f\"    register(\\n\"\n",
    "          f\"        name=name,\\n\"\n",
    "          f\"        branching=[3, 1, 2],\\n\"\n",
    "          f\"        reward_inputs=\\\"depth\\\",\\n\"\n",
    "          f\"        reward_dictionary={{\\n\"\n",
    "          f\"            1: Categorical([-4, -2, 2, 4]),\\n\"\n",
    "          f\"            2: Categorical([{', '.join(str(round(val*discount_factor,2)) for val in [-8, -4, 4, 8])}]),\\n\"\n",
    "          f\"            3: Categorical([{', '.join(str(round(val*discount_factor**2,2)) for val in [-48, -24, 24, 48])}]),\\n\"\n",
    "          f\"        }},\\n\"\n",
    "          f\"    )\")"
   ]
  },
  {
   "cell_type": "code",
   "execution_count": 9,
   "id": "9f24d591",
   "metadata": {},
   "outputs": [],
   "source": [
    "np.savetxt(\n",
    "    Path(\"../../../cluster/parameters/cost/null.txt\"),\n",
    "    [[1.0, 0.0]],\n",
    "    fmt=\"%.02f\",\n",
    "    delimiter=\",\",\n",
    ")"
   ]
  },
  {
   "cell_type": "code",
   "execution_count": 10,
   "id": "c11706fc",
   "metadata": {},
   "outputs": [],
   "source": [
    "mouselab_data = pd.read_csv(Path(\"../../../data/processed/methods_main/mouselab-mdp.csv\"), index_col=0)\n",
    "for discount_factor in discount_factors:\n",
    "    with open(Path(f\"../../../data/inputs/exp_inputs/rewards/high_increasing{discount_factor}.json\"), \"rb\") as f:\n",
    "        data = json.load(f)\n",
    "    ground_truth_dict = {trial[\"trial_id\"] : trial[\"stateRewards\"] for trial in data}\n",
    "\n",
    "    mouselab_data[\"state_rewards\"] = mouselab_data[\"trial_id\"].apply(lambda trial_id : ground_truth_dict[trial_id][1:])\n",
    "    \n",
    "    # need to change ground truths\n",
    "    Path(f\"../../../data/processed/methods_main{discount_factor}\").mkdir(exist_ok = True, parents=True)\n",
    "    mouselab_data.to_csv(Path(f\"../../../data/processed/methods_main{discount_factor}/mouselab-mdp.csv\"), index=False)"
   ]
  },
  {
   "cell_type": "markdown",
   "id": "80b884ae",
   "metadata": {},
   "source": [
    "Generate cluster submission commands to run to get Q values"
   ]
  },
  {
   "cell_type": "code",
   "execution_count": 11,
   "id": "a3ace409",
   "metadata": {},
   "outputs": [
    {
     "name": "stdout",
     "output_type": "stream",
     "text": [
      "condor_submit_bid 1 submission_scripts/MPI-IS/03_Get_Q_Values.sub experiment_setting=high_increasing0.1 cost_function=linear_depth param_file=null\n",
      "condor_submit_bid 1 submission_scripts/MPI-IS/03_Get_Q_Values.sub experiment_setting=high_increasing0.2 cost_function=linear_depth param_file=null\n",
      "condor_submit_bid 1 submission_scripts/MPI-IS/03_Get_Q_Values.sub experiment_setting=high_increasing0.3 cost_function=linear_depth param_file=null\n",
      "condor_submit_bid 1 submission_scripts/MPI-IS/03_Get_Q_Values.sub experiment_setting=high_increasing0.4 cost_function=linear_depth param_file=null\n",
      "condor_submit_bid 1 submission_scripts/MPI-IS/03_Get_Q_Values.sub experiment_setting=high_increasing0.5 cost_function=linear_depth param_file=null\n",
      "condor_submit_bid 1 submission_scripts/MPI-IS/03_Get_Q_Values.sub experiment_setting=high_increasing0.75 cost_function=linear_depth param_file=null\n",
      "condor_submit_bid 1 submission_scripts/MPI-IS/03_Get_Q_Values.sub experiment_setting=high_increasing0.85 cost_function=linear_depth param_file=null\n",
      "condor_submit_bid 1 submission_scripts/MPI-IS/03_Get_Q_Values.sub experiment_setting=high_increasing0.9 cost_function=linear_depth param_file=null\n",
      "condor_submit_bid 1 submission_scripts/MPI-IS/03_Get_Q_Values.sub experiment_setting=high_increasing0.95 cost_function=linear_depth param_file=null\n",
      "condor_submit_bid 1 submission_scripts/MPI-IS/03_Get_Q_Values.sub experiment_setting=high_increasing0.975 cost_function=linear_depth param_file=null\n",
      "condor_submit_bid 1 submission_scripts/MPI-IS/03_Get_Q_Values.sub experiment_setting=high_increasing0.999 cost_function=linear_depth param_file=null\n"
     ]
    }
   ],
   "source": [
    "for discount_factor in discount_factors:\n",
    "    print(f\"condor_submit_bid 1 submission_scripts/MPI-IS/03_Get_Q_Values.sub experiment_setting=high_increasing{discount_factor} cost_function=linear_depth param_file=null\")"
   ]
  },
  {
   "cell_type": "markdown",
   "id": "087ac23c",
   "metadata": {},
   "source": [
    "Generate cluster submission commands to infer likelihood for methods_main:"
   ]
  },
  {
   "cell_type": "code",
   "execution_count": 12,
   "id": "050ffb74",
   "metadata": {
    "scrolled": true
   },
   "outputs": [
    {
     "name": "stdout",
     "output_type": "stream",
     "text": [
      "condor_submit_bid 1 submission_scripts/MPI-IS/04_Infer_Params.sub experiment=methods_main0.1 cost_function=linear_depth param_file=null\n",
      "condor_submit_bid 1 submission_scripts/MPI-IS/04_Infer_Params.sub experiment=methods_main0.2 cost_function=linear_depth param_file=null\n",
      "condor_submit_bid 1 submission_scripts/MPI-IS/04_Infer_Params.sub experiment=methods_main0.3 cost_function=linear_depth param_file=null\n",
      "condor_submit_bid 1 submission_scripts/MPI-IS/04_Infer_Params.sub experiment=methods_main0.4 cost_function=linear_depth param_file=null\n",
      "condor_submit_bid 1 submission_scripts/MPI-IS/04_Infer_Params.sub experiment=methods_main0.5 cost_function=linear_depth param_file=null\n",
      "condor_submit_bid 1 submission_scripts/MPI-IS/04_Infer_Params.sub experiment=methods_main0.75 cost_function=linear_depth param_file=null\n",
      "condor_submit_bid 1 submission_scripts/MPI-IS/04_Infer_Params.sub experiment=methods_main0.85 cost_function=linear_depth param_file=null\n",
      "condor_submit_bid 1 submission_scripts/MPI-IS/04_Infer_Params.sub experiment=methods_main0.9 cost_function=linear_depth param_file=null\n",
      "condor_submit_bid 1 submission_scripts/MPI-IS/04_Infer_Params.sub experiment=methods_main0.95 cost_function=linear_depth param_file=null\n",
      "condor_submit_bid 1 submission_scripts/MPI-IS/04_Infer_Params.sub experiment=methods_main0.975 cost_function=linear_depth param_file=null\n",
      "condor_submit_bid 1 submission_scripts/MPI-IS/04_Infer_Params.sub experiment=methods_main0.999 cost_function=linear_depth param_file=null\n"
     ]
    }
   ],
   "source": [
    "for discount_factor in discount_factors:\n",
    "    print(f\"condor_submit_bid 1 submission_scripts/MPI-IS/04_Infer_Params.sub experiment=methods_main{discount_factor} cost_function=linear_depth param_file=null\")"
   ]
  },
  {
   "cell_type": "markdown",
   "id": "499d837a",
   "metadata": {},
   "source": [
    "Combine data:"
   ]
  },
  {
   "cell_type": "code",
   "execution_count": 13,
   "id": "2dfb47c3",
   "metadata": {},
   "outputs": [
    {
     "name": "stdout",
     "output_type": "stream",
     "text": [
      "for experiment in methods_main0.1 methods_main0.2 methods_main0.3 methods_main0.4 methods_main0.5 methods_main0.75 methods_main0.85 methods_main0.9 methods_main0.95 methods_main0.975 methods_main0.999;\n",
      "    do condor_submit_bid 2 submission_scripts/MPI-IS/05_Combine_Human.sub experiment=$experiment cost_function=linear_depth;\n",
      "done;\n"
     ]
    }
   ],
   "source": [
    "print(f\"for experiment in {' '.join(['methods_main' + str(discount_factor) for discount_factor in discount_factors])};\\n\"\n",
    "      f\"    do condor_submit_bid 2 submission_scripts/MPI-IS/05_Combine_Human.sub experiment=$experiment cost_function=linear_depth;\\n\"\n",
    "      f\"done;\")"
   ]
  },
  {
   "cell_type": "markdown",
   "id": "244bfe1e",
   "metadata": {},
   "source": [
    "MAP:"
   ]
  },
  {
   "cell_type": "code",
   "execution_count": 14,
   "id": "c830c274",
   "metadata": {},
   "outputs": [
    {
     "name": "stdout",
     "output_type": "stream",
     "text": [
      "for experiment in methods_main0.1 methods_main0.2 methods_main0.3 methods_main0.4 methods_main0.5 methods_main0.75 methods_main0.85 methods_main0.9 methods_main0.95 methods_main0.975 methods_main0.999;\n",
      "    do condor_submit_bid 2 submission_scripts/MPI-IS/M_01_Get_MAP_File.sub experiment=$experiment cost_function=linear_depth;\n",
      "done;\n"
     ]
    }
   ],
   "source": [
    "print(f\"for experiment in {' '.join(['methods_main' + str(discount_factor) for discount_factor in discount_factors])};\\n\"\n",
    "      f\"    do condor_submit_bid 2 submission_scripts/MPI-IS/M_01_Get_MAP_File.sub experiment=$experiment cost_function=linear_depth;\\n\"\n",
    "      f\"done;\")"
   ]
  },
  {
   "cell_type": "markdown",
   "id": "01ebf94c",
   "metadata": {},
   "source": [
    "Transfer over:"
   ]
  },
  {
   "cell_type": "markdown",
   "id": "a06eeb43",
   "metadata": {},
   "source": [
    "rsync -aPzr --include \"methods_main*/*/*mle_and_map*\" --include \"*/\" --exclude \"*\" vfelso@login.cluster.is.localnet:/work/vfelso/planning-depth-differences/data/processed/ data/processed"
   ]
  },
  {
   "cell_type": "markdown",
   "id": "261503e3",
   "metadata": {},
   "source": [
    "# Fit of main dataset by discount factor model without cost"
   ]
  },
  {
   "cell_type": "code",
   "execution_count": 15,
   "id": "3a796e3a",
   "metadata": {},
   "outputs": [],
   "source": [
    "dfs = []\n",
    "for discount_factor in discount_factors:\n",
    "    with open(f\"../../../data/processed/methods_main{discount_factor}/linear_depth/mle_and_map.pickle\", \"rb\") as f:\n",
    "        data =pickle.load(f)\n",
    "    \n",
    "    df = data[\"SoftmaxPolicy\"][\"test_map_expon\"][()]\n",
    "    # TODO test same as simple\n",
    "    df[\"discount_factor\"] = discount_factor\n",
    "    dfs.append(df)\n",
    "    \n",
    "discount_fitted_data = pd.concat(dfs)"
   ]
  },
  {
   "cell_type": "code",
   "execution_count": 16,
   "id": "15004a65",
   "metadata": {},
   "outputs": [],
   "source": [
    "discount_fitted_data = discount_fitted_data.reset_index()"
   ]
  },
  {
   "cell_type": "code",
   "execution_count": 17,
   "id": "ca26fd77",
   "metadata": {},
   "outputs": [
    {
     "name": "stderr",
     "output_type": "stream",
     "text": [
      "/tmp/ipykernel_75258/3377768971.py:2: FutureWarning: Dropping of nuisance columns in DataFrame reductions (with 'numeric_only=None') is deprecated; in a future version this will raise TypeError.  Select only valid columns before calling the reduction.\n",
      "  discount_fitted_data.groupby([\"trace_pid\"]).idxmax()[\"test_map_expon\"]\n"
     ]
    }
   ],
   "source": [
    "best_param_rows = discount_fitted_data.loc[\n",
    "    discount_fitted_data.groupby([\"trace_pid\"]).idxmax()[\"test_map_expon\"]\n",
    "]"
   ]
  },
  {
   "cell_type": "code",
   "execution_count": 18,
   "id": "14a4dae1",
   "metadata": {},
   "outputs": [
    {
     "data": {
      "text/plain": [
       "True"
      ]
     },
     "execution_count": 18,
     "metadata": {},
     "output_type": "execute_result"
    }
   ],
   "source": [
    "from collections import Counter\n",
    "np.all([counter == 1 for pid, counter in Counter(best_param_rows[\"trace_pid\"]).most_common(5)])"
   ]
  },
  {
   "cell_type": "code",
   "execution_count": 19,
   "id": "e62598c0",
   "metadata": {},
   "outputs": [],
   "source": [
    "# best_param_rows\n",
    "from statsmodels.tools.eval_measures import bic\n",
    "\n",
    "best_param_rows[\"bic\"] = best_param_rows.apply(\n",
    "        lambda row: bic(\n",
    "            llf=row[\"test_map_expon\"],\n",
    "            nobs=20,\n",
    "            df_modelwc=5, # temp, discount rate, forw, eff, dist\n",
    "        ),\n",
    "        axis=1)"
   ]
  },
  {
   "cell_type": "code",
   "execution_count": 20,
   "id": "24acd7e1",
   "metadata": {},
   "outputs": [
    {
     "data": {
      "text/plain": [
       "43357.6687241661"
      ]
     },
     "execution_count": 20,
     "metadata": {},
     "output_type": "execute_result"
    }
   ],
   "source": [
    "best_param_rows.sum()[\"bic\"]"
   ]
  },
  {
   "cell_type": "code",
   "execution_count": 21,
   "id": "0d0ae93d",
   "metadata": {},
   "outputs": [
    {
     "data": {
      "text/plain": [
       "(0.4767950819672131, 0.25533548932132505)"
      ]
     },
     "execution_count": 21,
     "metadata": {},
     "output_type": "execute_result"
    }
   ],
   "source": [
    "np.mean(best_param_rows[\"discount_factor\"]), np.std(best_param_rows[\"discount_factor\"])"
   ]
  },
  {
   "cell_type": "code",
   "execution_count": 22,
   "id": "07c8e352",
   "metadata": {},
   "outputs": [
    {
     "data": {
      "text/plain": [
       "(0.9938524590163934, 1.0625244041334765)"
      ]
     },
     "execution_count": 22,
     "metadata": {},
     "output_type": "execute_result"
    }
   ],
   "source": [
    "np.mean(best_param_rows[\"temp\"]), np.std(best_param_rows[\"temp\"])"
   ]
  },
  {
   "cell_type": "markdown",
   "id": "1e8b1bb6",
   "metadata": {},
   "source": [
    "# Model with non-depth cost, cluster jobs"
   ]
  },
  {
   "cell_type": "code",
   "execution_count": 23,
   "id": "005ecee1",
   "metadata": {},
   "outputs": [
    {
     "name": "stdout",
     "output_type": "stream",
     "text": [
      "condor_submit_bid 1 submission_scripts/MPI-IS/03_Get_Q_Values.sub experiment_setting=high_increasing0.1 cost_function=dist_forw_eff param_file=dist_forw_eff\n",
      "condor_submit_bid 1 submission_scripts/MPI-IS/03_Get_Q_Values.sub experiment_setting=high_increasing0.2 cost_function=dist_forw_eff param_file=dist_forw_eff\n",
      "condor_submit_bid 1 submission_scripts/MPI-IS/03_Get_Q_Values.sub experiment_setting=high_increasing0.3 cost_function=dist_forw_eff param_file=dist_forw_eff\n",
      "condor_submit_bid 1 submission_scripts/MPI-IS/03_Get_Q_Values.sub experiment_setting=high_increasing0.4 cost_function=dist_forw_eff param_file=dist_forw_eff\n",
      "condor_submit_bid 1 submission_scripts/MPI-IS/03_Get_Q_Values.sub experiment_setting=high_increasing0.5 cost_function=dist_forw_eff param_file=dist_forw_eff\n",
      "condor_submit_bid 1 submission_scripts/MPI-IS/03_Get_Q_Values.sub experiment_setting=high_increasing0.75 cost_function=dist_forw_eff param_file=dist_forw_eff\n",
      "condor_submit_bid 1 submission_scripts/MPI-IS/03_Get_Q_Values.sub experiment_setting=high_increasing0.85 cost_function=dist_forw_eff param_file=dist_forw_eff\n",
      "condor_submit_bid 1 submission_scripts/MPI-IS/03_Get_Q_Values.sub experiment_setting=high_increasing0.9 cost_function=dist_forw_eff param_file=dist_forw_eff\n",
      "condor_submit_bid 1 submission_scripts/MPI-IS/03_Get_Q_Values.sub experiment_setting=high_increasing0.95 cost_function=dist_forw_eff param_file=dist_forw_eff\n",
      "condor_submit_bid 1 submission_scripts/MPI-IS/03_Get_Q_Values.sub experiment_setting=high_increasing0.975 cost_function=dist_forw_eff param_file=dist_forw_eff\n",
      "condor_submit_bid 1 submission_scripts/MPI-IS/03_Get_Q_Values.sub experiment_setting=high_increasing0.999 cost_function=dist_forw_eff param_file=dist_forw_eff\n"
     ]
    }
   ],
   "source": [
    "for discount_factor in discount_factors:\n",
    "    print(f\"condor_submit_bid 1 submission_scripts/MPI-IS/03_Get_Q_Values.sub experiment_setting=high_increasing{discount_factor} cost_function=dist_forw_eff param_file=dist_forw_eff\")"
   ]
  },
  {
   "cell_type": "code",
   "execution_count": 24,
   "id": "32013f5a",
   "metadata": {},
   "outputs": [
    {
     "name": "stdout",
     "output_type": "stream",
     "text": [
      "condor_submit_bid 1 submission_scripts/MPI-IS/04_Infer_Params.sub experiment=methods_main0.1 cost_function=dist_forw_eff param_file=dist_forw_eff\n",
      "condor_submit_bid 1 submission_scripts/MPI-IS/04_Infer_Params.sub experiment=methods_main0.2 cost_function=dist_forw_eff param_file=dist_forw_eff\n",
      "condor_submit_bid 1 submission_scripts/MPI-IS/04_Infer_Params.sub experiment=methods_main0.3 cost_function=dist_forw_eff param_file=dist_forw_eff\n",
      "condor_submit_bid 1 submission_scripts/MPI-IS/04_Infer_Params.sub experiment=methods_main0.4 cost_function=dist_forw_eff param_file=dist_forw_eff\n",
      "condor_submit_bid 1 submission_scripts/MPI-IS/04_Infer_Params.sub experiment=methods_main0.5 cost_function=dist_forw_eff param_file=dist_forw_eff\n",
      "condor_submit_bid 1 submission_scripts/MPI-IS/04_Infer_Params.sub experiment=methods_main0.75 cost_function=dist_forw_eff param_file=dist_forw_eff\n",
      "condor_submit_bid 1 submission_scripts/MPI-IS/04_Infer_Params.sub experiment=methods_main0.85 cost_function=dist_forw_eff param_file=dist_forw_eff\n",
      "condor_submit_bid 1 submission_scripts/MPI-IS/04_Infer_Params.sub experiment=methods_main0.9 cost_function=dist_forw_eff param_file=dist_forw_eff\n",
      "condor_submit_bid 1 submission_scripts/MPI-IS/04_Infer_Params.sub experiment=methods_main0.95 cost_function=dist_forw_eff param_file=dist_forw_eff\n",
      "condor_submit_bid 1 submission_scripts/MPI-IS/04_Infer_Params.sub experiment=methods_main0.975 cost_function=dist_forw_eff param_file=dist_forw_eff\n",
      "condor_submit_bid 1 submission_scripts/MPI-IS/04_Infer_Params.sub experiment=methods_main0.999 cost_function=dist_forw_eff param_file=dist_forw_eff\n"
     ]
    }
   ],
   "source": [
    "for discount_factor in discount_factors:\n",
    "    print(f\"condor_submit_bid 1 submission_scripts/MPI-IS/04_Infer_Params.sub experiment=methods_main{discount_factor} cost_function=dist_forw_eff param_file=dist_forw_eff\")"
   ]
  },
  {
   "cell_type": "code",
   "execution_count": 25,
   "id": "be70600d",
   "metadata": {},
   "outputs": [
    {
     "name": "stdout",
     "output_type": "stream",
     "text": [
      "for experiment in methods_main0.1 methods_main0.2 methods_main0.3 methods_main0.4 methods_main0.5 methods_main0.75 methods_main0.85 methods_main0.9 methods_main0.95 methods_main0.975 methods_main0.999;\n",
      "    do condor_submit_bid 2 submission_scripts/MPI-IS/05_Combine_Human.sub experiment=$experiment cost_function=dist_forw_eff;\n",
      "done;\n"
     ]
    }
   ],
   "source": [
    "print(f\"for experiment in {' '.join(['methods_main' + str(discount_factor) for discount_factor in discount_factors])};\\n\"\n",
    "      f\"    do condor_submit_bid 2 submission_scripts/MPI-IS/05_Combine_Human.sub experiment=$experiment cost_function=dist_forw_eff;\\n\"\n",
    "      f\"done;\")"
   ]
  },
  {
   "cell_type": "code",
   "execution_count": 26,
   "id": "410ea14b",
   "metadata": {},
   "outputs": [
    {
     "name": "stdout",
     "output_type": "stream",
     "text": [
      "for experiment in methods_main0.1 methods_main0.2 methods_main0.3 methods_main0.4 methods_main0.5 methods_main0.75 methods_main0.85 methods_main0.9 methods_main0.95 methods_main0.975 methods_main0.999;\n",
      "    do condor_submit_bid 2 submission_scripts/MPI-IS/M_01_Get_MAP_File.sub experiment=$experiment cost_function=dist_forw_eff;\n",
      "done;\n"
     ]
    }
   ],
   "source": [
    "print(f\"for experiment in {' '.join(['methods_main' + str(discount_factor) for discount_factor in discount_factors])};\\n\"\n",
    "      f\"    do condor_submit_bid 2 submission_scripts/MPI-IS/M_01_Get_MAP_File.sub experiment=$experiment cost_function=dist_forw_eff;\\n\"\n",
    "      f\"done;\")"
   ]
  },
  {
   "cell_type": "markdown",
   "id": "a6ed1155",
   "metadata": {},
   "source": [
    "# # Fit of main dataset by discount factor model with cost"
   ]
  },
  {
   "cell_type": "code",
   "execution_count": 27,
   "id": "9c7cca33",
   "metadata": {},
   "outputs": [],
   "source": [
    "dfs = []\n",
    "for discount_factor in discount_factors:\n",
    "    with open(f\"../../../data/processed/methods_main{discount_factor}/dist_forw_eff/mle_and_map.pickle\", \"rb\") as f:\n",
    "        data =pickle.load(f)\n",
    "    \n",
    "    df = data[\"SoftmaxPolicy\"][\"test_map_expon\"][()]\n",
    "    # TODO test same as simple\n",
    "    df[\"discount_factor\"] = discount_factor\n",
    "    dfs.append(df)\n",
    "    \n",
    "discount_fitted_data = pd.concat(dfs)"
   ]
  },
  {
   "cell_type": "code",
   "execution_count": 28,
   "id": "4a1d1423",
   "metadata": {},
   "outputs": [],
   "source": [
    "discount_fitted_data = discount_fitted_data.reset_index()"
   ]
  },
  {
   "cell_type": "code",
   "execution_count": 29,
   "id": "d914f9fd",
   "metadata": {},
   "outputs": [
    {
     "name": "stderr",
     "output_type": "stream",
     "text": [
      "/tmp/ipykernel_75258/3377768971.py:2: FutureWarning: Dropping of nuisance columns in DataFrame reductions (with 'numeric_only=None') is deprecated; in a future version this will raise TypeError.  Select only valid columns before calling the reduction.\n",
      "  discount_fitted_data.groupby([\"trace_pid\"]).idxmax()[\"test_map_expon\"]\n"
     ]
    }
   ],
   "source": [
    "best_param_rows = discount_fitted_data.loc[\n",
    "    discount_fitted_data.groupby([\"trace_pid\"]).idxmax()[\"test_map_expon\"]\n",
    "]"
   ]
  },
  {
   "cell_type": "code",
   "execution_count": 30,
   "id": "6ecea9d7",
   "metadata": {},
   "outputs": [
    {
     "data": {
      "text/plain": [
       "True"
      ]
     },
     "execution_count": 30,
     "metadata": {},
     "output_type": "execute_result"
    }
   ],
   "source": [
    "from collections import Counter\n",
    "np.all([counter == 1 for pid, counter in Counter(best_param_rows[\"trace_pid\"]).most_common(5)])"
   ]
  },
  {
   "cell_type": "code",
   "execution_count": 31,
   "id": "63711acc",
   "metadata": {},
   "outputs": [],
   "source": [
    "# best_param_rows\n",
    "from statsmodels.tools.eval_measures import bic\n",
    "\n",
    "best_param_rows[\"bic\"] = best_param_rows.apply(\n",
    "        lambda row: bic(\n",
    "            llf=row[\"test_map_expon\"],\n",
    "            nobs=20,\n",
    "            df_modelwc=5, # temp, discount rate, forw, eff, dist\n",
    "        ),\n",
    "        axis=1)"
   ]
  },
  {
   "cell_type": "code",
   "execution_count": 32,
   "id": "30ba25eb",
   "metadata": {},
   "outputs": [
    {
     "data": {
      "text/plain": [
       "35317.90865167498"
      ]
     },
     "execution_count": 32,
     "metadata": {},
     "output_type": "execute_result"
    }
   ],
   "source": [
    "best_param_rows.sum()[\"bic\"]"
   ]
  },
  {
   "cell_type": "code",
   "execution_count": 33,
   "id": "d77a4156",
   "metadata": {},
   "outputs": [
    {
     "data": {
      "text/plain": [
       "(0.7107377049180328, 0.3284117718003234)"
      ]
     },
     "execution_count": 33,
     "metadata": {},
     "output_type": "execute_result"
    }
   ],
   "source": [
    "np.mean(best_param_rows[\"discount_factor\"]), np.std(best_param_rows[\"discount_factor\"])"
   ]
  },
  {
   "cell_type": "code",
   "execution_count": 34,
   "id": "c7866b27",
   "metadata": {},
   "outputs": [
    {
     "data": {
      "text/plain": [
       "[(0.999, 40),\n",
       " (0.1, 15),\n",
       " (0.75, 14),\n",
       " (0.9, 14),\n",
       " (0.4, 11),\n",
       " (0.95, 7),\n",
       " (0.3, 6),\n",
       " (0.85, 5),\n",
       " (0.5, 5),\n",
       " (0.2, 3),\n",
       " (0.975, 2)]"
      ]
     },
     "execution_count": 34,
     "metadata": {},
     "output_type": "execute_result"
    }
   ],
   "source": [
    "Counter(best_param_rows[\"discount_factor\"]).most_common()"
   ]
  },
  {
   "cell_type": "code",
   "execution_count": 35,
   "id": "79e80e25",
   "metadata": {},
   "outputs": [
    {
     "data": {
      "text/plain": [
       "(1.3627049180327868, 1.100904275766991)"
      ]
     },
     "execution_count": 35,
     "metadata": {},
     "output_type": "execute_result"
    }
   ],
   "source": [
    "np.mean(best_param_rows[\"temp\"]), np.std(best_param_rows[\"temp\"])"
   ]
  }
 ],
 "metadata": {
  "kernelspec": {
   "display_name": "irl-project",
   "language": "python",
   "name": "irl-project"
  },
  "language_info": {
   "codemirror_mode": {
    "name": "ipython",
    "version": 3
   },
   "file_extension": ".py",
   "mimetype": "text/x-python",
   "name": "python",
   "nbconvert_exporter": "python",
   "pygments_lexer": "ipython3",
   "version": "3.8.10"
  }
 },
 "nbformat": 4,
 "nbformat_minor": 5
}
