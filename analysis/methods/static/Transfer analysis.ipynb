{
 "cells": [
  {
   "cell_type": "code",
   "execution_count": 7,
   "id": "327d50af",
   "metadata": {
    "pycharm": {
     "name": "#%%\n"
    }
   },
   "outputs": [],
   "source": [
    "import pandas as pd\n",
    "import yaml\n",
    "from pathlib import Path\n",
    "from costometer.utils import AnalysisObject\n",
    "import pingouin as pg\n",
    "from statsmodels.tools.eval_measures import bic"
   ]
  },
  {
   "cell_type": "markdown",
   "id": "75be4c3e",
   "metadata": {
    "pycharm": {
     "name": "#%% md\n"
    }
   },
   "source": [
    "# Prepare data for looking at first 10 vs last 10 trials in test "
   ]
  },
  {
   "cell_type": "code",
   "execution_count": 8,
   "id": "d829443b",
   "metadata": {
    "pycharm": {
     "name": "#%%\n"
    }
   },
   "outputs": [],
   "source": [
    "with open(Path(\"../../../data/inputs/yamls/experiments/methods_main.yaml\"), \"rb\") as f:\n",
    "    data = yaml.safe_load(f)\n",
    "\n",
    "data['trials_per_block'] = {'test_begin':10, 'test_end':10}\n",
    "with open(Path(f\"../../../data/inputs/yamls/experiments/methods_main_transfer.yaml\"), \"w\") as f:\n",
    "    yaml.dump(data, f)"
   ]
  },
  {
   "cell_type": "code",
   "execution_count": 9,
   "id": "e4505eff",
   "metadata": {
    "pycharm": {
     "name": "#%%\n"
    }
   },
   "outputs": [],
   "source": [
    "mouselab_data = pd.read_csv(Path(\"../../../data/processed/methods_main/mouselab-mdp.csv\"), index_col=0)\n",
    "\n",
    "ranges_to_extract = {'none':\"range(0,20)\", 'test_begin': \"range(20,30)\", \"test_end\": \"range(30,40)\"}\n",
    "    \n",
    "# TODO: refactor out\n",
    "def expand_range_dictionary(input_dictionary):\n",
    "    trial_to_block = {}\n",
    "    for block, trial_range in input_dictionary.items():\n",
    "        if isinstance(trial_range, str):\n",
    "            for trial_index in eval(trial_range):\n",
    "                trial_to_block[trial_index] = block\n",
    "        else:\n",
    "            trial_to_block[block] = expand_range_dictionary(trial_range)\n",
    "    return trial_to_block\n",
    "\n",
    "trial_to_block = expand_range_dictionary(ranges_to_extract)\n",
    "\n",
    "mouselab_data[\"block\"] = mouselab_data.apply(lambda row: trial_to_block[row[\"run\"]][row[\"trial_index\"]] if row[\"run\"] in trial_to_block else trial_to_block[row[\"trial_index\"]], axis=1)\n",
    "\n",
    "mouselab_data = mouselab_data[mouselab_data[\"block\"].isin([\"test_begin\", \"test_end\"])]\n",
    "\n",
    "Path(f\"../../../data/processed/methods_main_transfer/\").mkdir(exist_ok=True, parents=True)\n",
    "mouselab_data.to_csv(Path(f\"../../../data/processed/methods_main_transfer/mouselab-mdp.csv\"), index=False)"
   ]
  },
  {
   "cell_type": "code",
   "execution_count": 10,
   "id": "816466a8",
   "metadata": {
    "pycharm": {
     "name": "#%%\n"
    },
    "scrolled": true
   },
   "outputs": [
    {
     "data": {
      "text/html": [
       "<div>\n",
       "<style scoped>\n",
       "    .dataframe tbody tr th:only-of-type {\n",
       "        vertical-align: middle;\n",
       "    }\n",
       "\n",
       "    .dataframe tbody tr th {\n",
       "        vertical-align: top;\n",
       "    }\n",
       "\n",
       "    .dataframe thead th {\n",
       "        text-align: right;\n",
       "    }\n",
       "</style>\n",
       "<table border=\"1\" class=\"dataframe\">\n",
       "  <thead>\n",
       "    <tr style=\"text-align: right;\">\n",
       "      <th></th>\n",
       "      <th></th>\n",
       "      <th>success</th>\n",
       "      <th>trial_type</th>\n",
       "      <th>time_elapsed</th>\n",
       "      <th>internal_node_id</th>\n",
       "      <th>view_history</th>\n",
       "      <th>rt</th>\n",
       "      <th>responses</th>\n",
       "      <th>correct</th>\n",
       "      <th>revealed_states</th>\n",
       "      <th>num_clicks_accrued</th>\n",
       "      <th>...</th>\n",
       "      <th>variance</th>\n",
       "      <th>branching</th>\n",
       "      <th>final_bonus</th>\n",
       "      <th>displayed_bonus</th>\n",
       "      <th>time_diff</th>\n",
       "      <th>num_nodes</th>\n",
       "      <th>num_early</th>\n",
       "      <th>num_middle</th>\n",
       "      <th>num_late</th>\n",
       "      <th>num_clicks</th>\n",
       "    </tr>\n",
       "    <tr>\n",
       "      <th>pid</th>\n",
       "      <th>block</th>\n",
       "      <th></th>\n",
       "      <th></th>\n",
       "      <th></th>\n",
       "      <th></th>\n",
       "      <th></th>\n",
       "      <th></th>\n",
       "      <th></th>\n",
       "      <th></th>\n",
       "      <th></th>\n",
       "      <th></th>\n",
       "      <th></th>\n",
       "      <th></th>\n",
       "      <th></th>\n",
       "      <th></th>\n",
       "      <th></th>\n",
       "      <th></th>\n",
       "      <th></th>\n",
       "      <th></th>\n",
       "      <th></th>\n",
       "      <th></th>\n",
       "      <th></th>\n",
       "    </tr>\n",
       "  </thead>\n",
       "  <tbody>\n",
       "    <tr>\n",
       "      <th rowspan=\"2\" valign=\"top\">1723</th>\n",
       "      <th>test_begin</th>\n",
       "      <td>0</td>\n",
       "      <td>10</td>\n",
       "      <td>10</td>\n",
       "      <td>10</td>\n",
       "      <td>0</td>\n",
       "      <td>10</td>\n",
       "      <td>0</td>\n",
       "      <td>0</td>\n",
       "      <td>10</td>\n",
       "      <td>10</td>\n",
       "      <td>...</td>\n",
       "      <td>10</td>\n",
       "      <td>10</td>\n",
       "      <td>10</td>\n",
       "      <td>10</td>\n",
       "      <td>10</td>\n",
       "      <td>10</td>\n",
       "      <td>10</td>\n",
       "      <td>10</td>\n",
       "      <td>10</td>\n",
       "      <td>10</td>\n",
       "    </tr>\n",
       "    <tr>\n",
       "      <th>test_end</th>\n",
       "      <td>0</td>\n",
       "      <td>10</td>\n",
       "      <td>10</td>\n",
       "      <td>10</td>\n",
       "      <td>0</td>\n",
       "      <td>10</td>\n",
       "      <td>0</td>\n",
       "      <td>0</td>\n",
       "      <td>10</td>\n",
       "      <td>10</td>\n",
       "      <td>...</td>\n",
       "      <td>10</td>\n",
       "      <td>10</td>\n",
       "      <td>10</td>\n",
       "      <td>10</td>\n",
       "      <td>10</td>\n",
       "      <td>10</td>\n",
       "      <td>10</td>\n",
       "      <td>10</td>\n",
       "      <td>10</td>\n",
       "      <td>10</td>\n",
       "    </tr>\n",
       "    <tr>\n",
       "      <th rowspan=\"2\" valign=\"top\">1731</th>\n",
       "      <th>test_begin</th>\n",
       "      <td>0</td>\n",
       "      <td>10</td>\n",
       "      <td>10</td>\n",
       "      <td>10</td>\n",
       "      <td>0</td>\n",
       "      <td>10</td>\n",
       "      <td>0</td>\n",
       "      <td>0</td>\n",
       "      <td>10</td>\n",
       "      <td>10</td>\n",
       "      <td>...</td>\n",
       "      <td>10</td>\n",
       "      <td>10</td>\n",
       "      <td>10</td>\n",
       "      <td>10</td>\n",
       "      <td>10</td>\n",
       "      <td>10</td>\n",
       "      <td>10</td>\n",
       "      <td>10</td>\n",
       "      <td>10</td>\n",
       "      <td>10</td>\n",
       "    </tr>\n",
       "    <tr>\n",
       "      <th>test_end</th>\n",
       "      <td>0</td>\n",
       "      <td>10</td>\n",
       "      <td>10</td>\n",
       "      <td>10</td>\n",
       "      <td>0</td>\n",
       "      <td>10</td>\n",
       "      <td>0</td>\n",
       "      <td>0</td>\n",
       "      <td>10</td>\n",
       "      <td>10</td>\n",
       "      <td>...</td>\n",
       "      <td>10</td>\n",
       "      <td>10</td>\n",
       "      <td>10</td>\n",
       "      <td>10</td>\n",
       "      <td>10</td>\n",
       "      <td>10</td>\n",
       "      <td>10</td>\n",
       "      <td>10</td>\n",
       "      <td>10</td>\n",
       "      <td>10</td>\n",
       "    </tr>\n",
       "    <tr>\n",
       "      <th>1737</th>\n",
       "      <th>test_begin</th>\n",
       "      <td>0</td>\n",
       "      <td>10</td>\n",
       "      <td>10</td>\n",
       "      <td>10</td>\n",
       "      <td>0</td>\n",
       "      <td>10</td>\n",
       "      <td>0</td>\n",
       "      <td>0</td>\n",
       "      <td>10</td>\n",
       "      <td>10</td>\n",
       "      <td>...</td>\n",
       "      <td>10</td>\n",
       "      <td>10</td>\n",
       "      <td>10</td>\n",
       "      <td>10</td>\n",
       "      <td>10</td>\n",
       "      <td>10</td>\n",
       "      <td>10</td>\n",
       "      <td>10</td>\n",
       "      <td>10</td>\n",
       "      <td>10</td>\n",
       "    </tr>\n",
       "    <tr>\n",
       "      <th>...</th>\n",
       "      <th>...</th>\n",
       "      <td>...</td>\n",
       "      <td>...</td>\n",
       "      <td>...</td>\n",
       "      <td>...</td>\n",
       "      <td>...</td>\n",
       "      <td>...</td>\n",
       "      <td>...</td>\n",
       "      <td>...</td>\n",
       "      <td>...</td>\n",
       "      <td>...</td>\n",
       "      <td>...</td>\n",
       "      <td>...</td>\n",
       "      <td>...</td>\n",
       "      <td>...</td>\n",
       "      <td>...</td>\n",
       "      <td>...</td>\n",
       "      <td>...</td>\n",
       "      <td>...</td>\n",
       "      <td>...</td>\n",
       "      <td>...</td>\n",
       "      <td>...</td>\n",
       "    </tr>\n",
       "    <tr>\n",
       "      <th>2372</th>\n",
       "      <th>test_end</th>\n",
       "      <td>0</td>\n",
       "      <td>10</td>\n",
       "      <td>10</td>\n",
       "      <td>10</td>\n",
       "      <td>0</td>\n",
       "      <td>10</td>\n",
       "      <td>0</td>\n",
       "      <td>0</td>\n",
       "      <td>10</td>\n",
       "      <td>10</td>\n",
       "      <td>...</td>\n",
       "      <td>10</td>\n",
       "      <td>10</td>\n",
       "      <td>10</td>\n",
       "      <td>10</td>\n",
       "      <td>10</td>\n",
       "      <td>10</td>\n",
       "      <td>10</td>\n",
       "      <td>10</td>\n",
       "      <td>10</td>\n",
       "      <td>10</td>\n",
       "    </tr>\n",
       "    <tr>\n",
       "      <th rowspan=\"2\" valign=\"top\">2373</th>\n",
       "      <th>test_begin</th>\n",
       "      <td>0</td>\n",
       "      <td>10</td>\n",
       "      <td>10</td>\n",
       "      <td>10</td>\n",
       "      <td>0</td>\n",
       "      <td>10</td>\n",
       "      <td>0</td>\n",
       "      <td>0</td>\n",
       "      <td>10</td>\n",
       "      <td>10</td>\n",
       "      <td>...</td>\n",
       "      <td>10</td>\n",
       "      <td>10</td>\n",
       "      <td>10</td>\n",
       "      <td>10</td>\n",
       "      <td>10</td>\n",
       "      <td>10</td>\n",
       "      <td>10</td>\n",
       "      <td>10</td>\n",
       "      <td>10</td>\n",
       "      <td>10</td>\n",
       "    </tr>\n",
       "    <tr>\n",
       "      <th>test_end</th>\n",
       "      <td>0</td>\n",
       "      <td>10</td>\n",
       "      <td>10</td>\n",
       "      <td>10</td>\n",
       "      <td>0</td>\n",
       "      <td>10</td>\n",
       "      <td>0</td>\n",
       "      <td>0</td>\n",
       "      <td>10</td>\n",
       "      <td>10</td>\n",
       "      <td>...</td>\n",
       "      <td>10</td>\n",
       "      <td>10</td>\n",
       "      <td>10</td>\n",
       "      <td>10</td>\n",
       "      <td>10</td>\n",
       "      <td>10</td>\n",
       "      <td>10</td>\n",
       "      <td>10</td>\n",
       "      <td>10</td>\n",
       "      <td>10</td>\n",
       "    </tr>\n",
       "    <tr>\n",
       "      <th rowspan=\"2\" valign=\"top\">2374</th>\n",
       "      <th>test_begin</th>\n",
       "      <td>0</td>\n",
       "      <td>10</td>\n",
       "      <td>10</td>\n",
       "      <td>10</td>\n",
       "      <td>0</td>\n",
       "      <td>10</td>\n",
       "      <td>0</td>\n",
       "      <td>0</td>\n",
       "      <td>10</td>\n",
       "      <td>10</td>\n",
       "      <td>...</td>\n",
       "      <td>10</td>\n",
       "      <td>10</td>\n",
       "      <td>10</td>\n",
       "      <td>10</td>\n",
       "      <td>10</td>\n",
       "      <td>10</td>\n",
       "      <td>10</td>\n",
       "      <td>10</td>\n",
       "      <td>10</td>\n",
       "      <td>10</td>\n",
       "    </tr>\n",
       "    <tr>\n",
       "      <th>test_end</th>\n",
       "      <td>0</td>\n",
       "      <td>10</td>\n",
       "      <td>10</td>\n",
       "      <td>10</td>\n",
       "      <td>0</td>\n",
       "      <td>10</td>\n",
       "      <td>0</td>\n",
       "      <td>0</td>\n",
       "      <td>10</td>\n",
       "      <td>10</td>\n",
       "      <td>...</td>\n",
       "      <td>10</td>\n",
       "      <td>10</td>\n",
       "      <td>10</td>\n",
       "      <td>10</td>\n",
       "      <td>10</td>\n",
       "      <td>10</td>\n",
       "      <td>10</td>\n",
       "      <td>10</td>\n",
       "      <td>10</td>\n",
       "      <td>10</td>\n",
       "    </tr>\n",
       "  </tbody>\n",
       "</table>\n",
       "<p>244 rows × 54 columns</p>\n",
       "</div>"
      ],
      "text/plain": [
       "                 success  trial_type  time_elapsed  internal_node_id  \\\n",
       "pid  block                                                             \n",
       "1723 test_begin        0          10            10                10   \n",
       "     test_end          0          10            10                10   \n",
       "1731 test_begin        0          10            10                10   \n",
       "     test_end          0          10            10                10   \n",
       "1737 test_begin        0          10            10                10   \n",
       "...                  ...         ...           ...               ...   \n",
       "2372 test_end          0          10            10                10   \n",
       "2373 test_begin        0          10            10                10   \n",
       "     test_end          0          10            10                10   \n",
       "2374 test_begin        0          10            10                10   \n",
       "     test_end          0          10            10                10   \n",
       "\n",
       "                 view_history  rt  responses  correct  revealed_states  \\\n",
       "pid  block                                                               \n",
       "1723 test_begin             0  10          0        0               10   \n",
       "     test_end               0  10          0        0               10   \n",
       "1731 test_begin             0  10          0        0               10   \n",
       "     test_end               0  10          0        0               10   \n",
       "1737 test_begin             0  10          0        0               10   \n",
       "...                       ...  ..        ...      ...              ...   \n",
       "2372 test_end               0  10          0        0               10   \n",
       "2373 test_begin             0  10          0        0               10   \n",
       "     test_end               0  10          0        0               10   \n",
       "2374 test_begin             0  10          0        0               10   \n",
       "     test_end               0  10          0        0               10   \n",
       "\n",
       "                 num_clicks_accrued  ...  variance  branching  final_bonus  \\\n",
       "pid  block                           ...                                     \n",
       "1723 test_begin                  10  ...        10         10           10   \n",
       "     test_end                    10  ...        10         10           10   \n",
       "1731 test_begin                  10  ...        10         10           10   \n",
       "     test_end                    10  ...        10         10           10   \n",
       "1737 test_begin                  10  ...        10         10           10   \n",
       "...                             ...  ...       ...        ...          ...   \n",
       "2372 test_end                    10  ...        10         10           10   \n",
       "2373 test_begin                  10  ...        10         10           10   \n",
       "     test_end                    10  ...        10         10           10   \n",
       "2374 test_begin                  10  ...        10         10           10   \n",
       "     test_end                    10  ...        10         10           10   \n",
       "\n",
       "                 displayed_bonus  time_diff  num_nodes  num_early  num_middle  \\\n",
       "pid  block                                                                      \n",
       "1723 test_begin               10         10         10         10          10   \n",
       "     test_end                 10         10         10         10          10   \n",
       "1731 test_begin               10         10         10         10          10   \n",
       "     test_end                 10         10         10         10          10   \n",
       "1737 test_begin               10         10         10         10          10   \n",
       "...                          ...        ...        ...        ...         ...   \n",
       "2372 test_end                 10         10         10         10          10   \n",
       "2373 test_begin               10         10         10         10          10   \n",
       "     test_end                 10         10         10         10          10   \n",
       "2374 test_begin               10         10         10         10          10   \n",
       "     test_end                 10         10         10         10          10   \n",
       "\n",
       "                 num_late  num_clicks  \n",
       "pid  block                             \n",
       "1723 test_begin        10          10  \n",
       "     test_end          10          10  \n",
       "1731 test_begin        10          10  \n",
       "     test_end          10          10  \n",
       "1737 test_begin        10          10  \n",
       "...                   ...         ...  \n",
       "2372 test_end          10          10  \n",
       "2373 test_begin        10          10  \n",
       "     test_end          10          10  \n",
       "2374 test_begin        10          10  \n",
       "     test_end          10          10  \n",
       "\n",
       "[244 rows x 54 columns]"
      ]
     },
     "execution_count": 10,
     "metadata": {},
     "output_type": "execute_result"
    }
   ],
   "source": [
    "mouselab_data.groupby([\"pid\", \"block\"]).count()"
   ]
  },
  {
   "cell_type": "code",
   "execution_count": 11,
   "id": "2b4a335a",
   "metadata": {
    "pycharm": {
     "name": "#%%\n"
    },
    "scrolled": true
   },
   "outputs": [
    {
     "name": "stdout",
     "output_type": "stream",
     "text": [
      "condor_submit_bid 1 submission_scripts/MPI-IS/04_Infer_Params.sub experiment=methods_main_transfer cost_function=back_dist_depth_eff_forw param_file=params_full_five_modified0\n",
      "condor_submit_bid 1 submission_scripts/MPI-IS/04_Infer_Params.sub experiment=methods_main_transfer cost_function=back_dist_depth_eff_forw param_file=params_full_five_modified1\n",
      "condor_submit_bid 1 submission_scripts/MPI-IS/04_Infer_Params.sub experiment=methods_main_transfer cost_function=back_dist_depth_eff_forw param_file=params_full_five_modified2\n",
      "condor_submit_bid 1 submission_scripts/MPI-IS/04_Infer_Params.sub experiment=methods_main_transfer cost_function=back_dist_depth_eff_forw param_file=params_full_five_modified3\n",
      "condor_submit_bid 1 submission_scripts/MPI-IS/04_Infer_Params.sub experiment=methods_main_transfer cost_function=back_dist_depth_eff_forw param_file=params_full_five_modified4\n",
      "condor_submit_bid 1 submission_scripts/MPI-IS/04_Infer_Params.sub experiment=methods_main_transfer cost_function=back_dist_depth_eff_forw param_file=params_full_five_modified5\n",
      "condor_submit_bid 1 submission_scripts/MPI-IS/04_Infer_Params.sub experiment=methods_main_transfer cost_function=back_dist_depth_eff_forw param_file=params_full_five_modified6\n",
      "condor_submit_bid 1 submission_scripts/MPI-IS/04_Infer_Params.sub experiment=methods_main_transfer cost_function=back_dist_depth_eff_forw param_file=params_full_five_modified7\n",
      "condor_submit_bid 1 submission_scripts/MPI-IS/04_Infer_Params.sub experiment=methods_main_transfer cost_function=back_dist_depth_eff_forw param_file=params_full_five_modified8\n",
      "condor_submit_bid 1 submission_scripts/MPI-IS/04_Infer_Params.sub experiment=methods_main_transfer cost_function=back_dist_depth_eff_forw param_file=params_full_five_modified9\n"
     ]
    }
   ],
   "source": [
    "for file_idx in range(10):\n",
    "    print(f\"condor_submit_bid 1 submission_scripts/MPI-IS/04_Infer_Params.sub experiment=methods_main_transfer cost_function=back_dist_depth_eff_forw param_file=params_full_five_modified{file_idx}\")"
   ]
  },
  {
   "cell_type": "markdown",
   "id": "d17f7bb4",
   "metadata": {
    "pycharm": {
     "name": "#%% md\n"
    }
   },
   "source": [
    "condor_submit_bid 1 submission_scripts/MPI-IS/05_Combine_Human.sub experiment=methods_main_transfer cost_function=back_dist_depth_eff_forw"
   ]
  },
  {
   "cell_type": "markdown",
   "id": "3b9c1dad",
   "metadata": {
    "pycharm": {
     "name": "#%% md\n"
    }
   },
   "source": [
    "condor_submit_bid 1 submission_scripts/MPI-IS/M_01_Get_MAP_File.sub experiment=methods_main_transfer cost_function=back_dist_depth_eff_forw"
   ]
  },
  {
   "cell_type": "markdown",
   "id": "e3e2a56c",
   "metadata": {
    "pycharm": {
     "name": "#%% md\n"
    }
   },
   "source": [
    "# Look at training vs test for now"
   ]
  },
  {
   "cell_type": "code",
   "execution_count": null,
   "outputs": [],
   "source": [
    "mouselab_data[\"num_queries\"]=mouselab_data[\"queries\"].apply(lambda queries: len(eval(queries)[\"click\"][\"state\"][\"target\"]))"
   ],
   "metadata": {
    "collapsed": false,
    "pycharm": {
     "name": "#%%\n"
    }
   }
  },
  {
   "cell_type": "code",
   "execution_count": null,
   "outputs": [],
   "source": [
    "num_queries_dict = mouselab_data.groupby([\"pid\"]).sum()[\"num_queries\"].to_dict()"
   ],
   "metadata": {
    "collapsed": false,
    "pycharm": {
     "name": "#%%\n"
    }
   }
  },
  {
   "cell_type": "code",
   "execution_count": null,
   "outputs": [],
   "source": [
    " mouselab_data.groupby([\"block\", \"pid\"], as_index=False).sum()"
   ],
   "metadata": {
    "collapsed": false,
    "pycharm": {
     "name": "#%%\n"
    }
   }
  },
  {
   "cell_type": "code",
   "execution_count": null,
   "outputs": [],
   "source": [
    "analysis_obj = AnalysisObject(\n",
    "    \"MainExperiment\",\n",
    "    irl_path=Path(\"../../..\").resolve(),\n",
    "    experiment_subdirectory=\"methods/static\",\n",
    ")"
   ],
   "metadata": {
    "collapsed": false,
    "pycharm": {
     "name": "#%%\n"
    }
   }
  },
  {
   "cell_type": "code",
   "execution_count": null,
   "outputs": [],
   "source": [
    "test_fit = analysis_obj.query_optimization_data(group=False, prior=\"expon\", block=[\"test\"], include_null=True)\n",
    "test_fit[\"Number Trials\"] = test_fit[\"trace_pid\"].apply(lambda trace_pid : num_queries_dict[trace_pid])\n",
    "sum_test = test_fit.groupby([\"Model Name\", \"Number Parameters\"]).sum()[[\"Number Trials\", \"value\"]].reset_index()\n",
    "\n",
    "sum_test[\"bic\"] = sum_test.apply(\n",
    "    lambda row: bic(\n",
    "    llf=row[\"value\"],\n",
    "    nobs=row[\"Number Trials\"],\n",
    "    df_modelwc=row[\"Number Parameters\"]\n",
    "    ),\n",
    "    axis=1)\n",
    "    \n",
    "sum_test.sort_values(by=\"bic\")"
   ],
   "metadata": {
    "collapsed": false,
    "pycharm": {
     "name": "#%%\n"
    }
   }
  },
  {
   "cell_type": "code",
   "execution_count": null,
   "outputs": [],
   "source": [
    "training_fit = analysis_obj.query_optimization_data(group=False, prior=\"expon\", block=[\"training\"], include_null=True)\n",
    "training_fit.groupby([\"Model Name\"]).sum()[\"bic\"].sort_values()"
   ],
   "metadata": {
    "collapsed": false,
    "pycharm": {
     "name": "#%%\n"
    }
   }
  },
  {
   "cell_type": "code",
   "execution_count": null,
   "outputs": [],
   "source": [
    "test_fit = analysis_obj.query_optimization_data(group=False, prior=\"expon\", block=[\"test\"], include_null=True)\n",
    "test_fit.groupby([\"Model Name\"]).sum()[\"bic\"].sort_values()"
   ],
   "metadata": {
    "collapsed": false,
    "pycharm": {
     "name": "#%%\n"
    }
   }
  },
  {
   "cell_type": "code",
   "execution_count": null,
   "outputs": [],
   "source": [
    "test_fit = analysis_obj.query_optimization_data(group=False, prior=\"expon\", block=[\"test\"], include_null=True)\n",
    "test_fit[\"Number Trials\"] = test_fit[\"trace_pid\"].apply(lambda trace_pid : num_queries_dict[trace_pid])\n",
    "sum_test = test_fit.groupby([\"Model Name\", \"Number Parameters\"]).sum()[[\"Number Trials\", \"value\"]].reset_index()\n",
    "\n",
    "sum_test[\"bic\"] = sum_test.apply(\n",
    "    lambda row: bic(\n",
    "    llf=row[\"value\"],\n",
    "    nobs=row[\"Number Trials\"],\n",
    "    df_modelwc=row[\"Number Parameters\"]\n",
    "    ),\n",
    "    axis=1)\n",
    "    \n",
    "sum_test.sort_values(by=\"bic\")"
   ],
   "metadata": {
    "collapsed": false,
    "pycharm": {
     "name": "#%%\n"
    }
   }
  },
  {
   "cell_type": "code",
   "execution_count": null,
   "outputs": [],
   "source": [
    "training_fit = analysis_obj.query_optimization_data(group=False, prior=\"expon\", block=[\"training\"], include_null=True)\n",
    "training_fit.groupby([\"Model Name\"]).sum()[\"bic\"].sort_values()"
   ],
   "metadata": {
    "collapsed": false,
    "pycharm": {
     "name": "#%%\n"
    }
   }
  },
  {
   "cell_type": "code",
   "execution_count": null,
   "outputs": [],
   "source": [
    "test_fit = analysis_obj.query_optimization_data(group=False, prior=\"expon\", block=[\"test\"], include_null=True)\n",
    "test_fit.groupby([\"Model Name\"]).sum()[\"bic\"].sort_values()"
   ],
   "metadata": {
    "collapsed": false,
    "pycharm": {
     "name": "#%%\n"
    }
   }
  },
  {
   "cell_type": "code",
   "execution_count": null,
   "outputs": [],
   "source": [
    "model = \"Distance, Effort, Depth and Forward Search Bonus\"\n",
    "cost_functions = ['forw_added_cost', 'given_cost', 'distance_multiplier', 'depth_cost_weight', 'temp']\n",
    "\n",
    "for cost_function in cost_functions:\n",
    "    print(cost_function)\n",
    "    print(pg.wilcoxon(test_fit[test_fit[\"Model Name\"]==model].sort_values(\"trace_pid\")[cost_function],\\\n",
    "    training_fit[training_fit[\"Model Name\"]==model].sort_values(\"trace_pid\")[cost_function]))"
   ],
   "metadata": {
    "collapsed": false,
    "pycharm": {
     "name": "#%%\n"
    }
   }
  },
  {
   "cell_type": "code",
   "execution_count": null,
   "id": "59d55fb7",
   "metadata": {
    "pycharm": {
     "name": "#%%\n"
    }
   },
   "outputs": [],
   "source": [
    "training_fit = analysis_obj.query_optimization_data(group=False, prior=\"expon\", block=[\"training\"], include_null=True)\n",
    "training_fit.groupby([\"Model Name\"]).sum()[\"bic\"].sort_values()"
   ]
  },
  {
   "cell_type": "code",
   "execution_count": null,
   "id": "3ae830c5",
   "metadata": {
    "pycharm": {
     "name": "#%%\n"
    }
   },
   "outputs": [],
   "source": [
    "test_fit = analysis_obj.query_optimization_data(group=False, prior=\"expon\", block=[\"test\"], include_null=True)\n",
    "test_fit.groupby([\"Model Name\"]).sum()[\"bic\"].sort_values()"
   ]
  },
  {
   "cell_type": "code",
   "execution_count": null,
   "id": "197fd4fe",
   "metadata": {
    "pycharm": {
     "name": "#%%\n"
    }
   },
   "outputs": [],
   "source": [
    "model = \"Distance, Effort, Depth and Forward Search Bonus\"\n",
    "cost_functions = ['forw_added_cost', 'given_cost', 'distance_multiplier', 'depth_cost_weight', 'temp']\n",
    "\n",
    "for cost_function in cost_functions:\n",
    "    print(cost_function)\n",
    "    print(pg.wilcoxon(test_fit[test_fit[\"Model Name\"]==model].sort_values(\"trace_pid\")[cost_function],\\\n",
    "    training_fit[training_fit[\"Model Name\"]==model].sort_values(\"trace_pid\")[cost_function]))"
   ]
  },
  {
   "cell_type": "code",
   "execution_count": null,
   "id": "9893c9c5",
   "metadata": {
    "pycharm": {
     "name": "#%%\n"
    },
    "scrolled": true
   },
   "outputs": [],
   "source": [
    "model = \"All five\"\n",
    "cost_functions = [\"back_added_cost\",'forw_added_cost', 'given_cost', 'distance_multiplier', 'depth_cost_weight', 'temp']\n",
    "\n",
    "for cost_function in cost_functions:\n",
    "    print(cost_function)\n",
    "    print(pg.wilcoxon(test_fit[test_fit[\"Model Name\"]==model].sort_values(\"trace_pid\")[cost_function],\\\n",
    "    training_fit[training_fit[\"Model Name\"]==model].sort_values(\"trace_pid\")[cost_function]))"
   ]
  },
  {
   "cell_type": "markdown",
   "id": "fe4594d8",
   "metadata": {
    "pycharm": {
     "name": "#%% md\n"
    }
   },
   "source": [
    "# Look at first half vs second half"
   ]
  },
  {
   "cell_type": "code",
   "execution_count": null,
   "id": "ff42ad40",
   "metadata": {
    "pycharm": {
     "name": "#%%\n"
    }
   },
   "outputs": [],
   "source": [
    "analysis_obj = AnalysisObject(\n",
    "    \"MainExperimentTransfer\",\n",
    "    irl_path=Path(\"../../..\").resolve(),\n",
    "    experiment_subdirectory=\"methods/static\",\n",
    ")"
   ]
  },
  {
   "cell_type": "code",
   "execution_count": null,
   "id": "3d2ac50b",
   "metadata": {},
   "outputs": [],
   "source": [
    "import dill as pickle\n",
    "with open(\"/Users/valkyrie/git/planning-depth-differences/data/processed/methods_main_transfer/back_dist_depth_eff_forw/mle_and_map_1723.pickle\", \"rb\") as f:\n",
    "    data = pickle.load(f)"
   ]
  },
  {
   "cell_type": "code",
   "execution_count": null,
   "id": "0243d743",
   "metadata": {},
   "outputs": [],
   "source": [
    "data[\"SoftmaxPolicy\"].keys()"
   ]
  },
  {
   "cell_type": "code",
   "execution_count": null,
   "id": "71d661e6",
   "metadata": {},
   "outputs": [],
   "source": [
    "data[\"SoftmaxPolicy\"][\"test_begin_mle\"][()]"
   ]
  },
  {
   "cell_type": "code",
   "execution_count": null,
   "id": "22547996",
   "metadata": {},
   "outputs": [],
   "source": [
    "training_fit = analysis_obj.query_optimization_data(group=False, prior=\"expon\", block=[\"None\"], include_null=True)\n",
    "training_fit.groupby([\"Model Name\"]).sum()[\"bic\"].sort_values()"
   ]
  },
  {
   "cell_type": "code",
   "execution_count": null,
   "id": "08a75671",
   "metadata": {
    "pycharm": {
     "name": "#%%\n"
    }
   },
   "outputs": [],
   "source": [
    "training_fit = analysis_obj.query_optimization_data(group=False, prior=\"expon\", block=[\"test_begin\"], include_null=True)\n",
    "training_fit.groupby([\"Model Name\"]).sum()[\"bic\"].sort_values()"
   ]
  },
  {
   "cell_type": "code",
   "execution_count": null,
   "id": "4dbbcc90",
   "metadata": {},
   "outputs": [],
   "source": [
    "test_fit = analysis_obj.query_optimization_data(group=False, prior=\"expon\", block=[\"test_begin\"], include_null=True)\n",
    "sum_test = test_fit.groupby([\"Model Name\", \"Number Parameters\"]).sum()[[\"Number Trials\", \"value\"]].reset_index()\n",
    "\n",
    "sum_test[\"bic\"] = sum_test.apply(\n",
    "    lambda row: bic(\n",
    "    llf=row[\"value\"],\n",
    "    nobs=row[\"Number Trials\"],\n",
    "    df_modelwc=row[\"Number Parameters\"]\n",
    "    ),\n",
    "    axis=1)\n",
    "    \n",
    "sum_test.sort_values(by=\"bic\")"
   ]
  },
  {
   "cell_type": "code",
   "execution_count": null,
   "id": "66447e85",
   "metadata": {
    "pycharm": {
     "name": "#%%\n"
    }
   },
   "outputs": [],
   "source": [
    "test_fit = analysis_obj.query_optimization_data(group=False, prior=\"expon\", block=[\"test_end\"], include_null=True)\n",
    "test_fit.groupby([\"Model Name\"]).sum()[\"bic\"].sort_values()"
   ]
  },
  {
   "cell_type": "code",
   "execution_count": null,
   "id": "eb345ffd",
   "metadata": {},
   "outputs": [],
   "source": [
    "test_fit = analysis_obj.query_optimization_data(group=False, prior=\"expon\", block=[\"test_end\"], include_null=True)\n",
    "sum_test = test_fit.groupby([\"Model Name\", \"Number Parameters\"]).sum()[[\"Number Trials\", \"value\"]].reset_index()\n",
    "\n",
    "sum_test[\"bic\"] = sum_test.apply(\n",
    "    lambda row: bic(\n",
    "    llf=row[\"value\"],\n",
    "    nobs=row[\"Number Trials\"],\n",
    "    df_modelwc=row[\"Number Parameters\"]\n",
    "    ),\n",
    "    axis=1)\n",
    "    \n",
    "sum_test.sort_values(by=\"bic\")"
   ]
  },
  {
   "cell_type": "code",
   "execution_count": null,
   "id": "a275d609",
   "metadata": {},
   "outputs": [],
   "source": [
    "test_fit = analysis_obj.query_optimization_data(group=False, prior=\"expon\", block=[\"None\"], include_null=True)\n",
    "sum_test = test_fit.groupby([\"Model Name\", \"Number Parameters\"]).sum()[[\"Number Trials\", \"value\"]].reset_index()\n",
    "\n",
    "sum_test[\"bic\"] = sum_test.apply(\n",
    "    lambda row: bic(\n",
    "    llf=row[\"value\"],\n",
    "    nobs=row[\"Number Trials\"],\n",
    "    df_modelwc=row[\"Number Parameters\"]\n",
    "    ),\n",
    "    axis=1)\n",
    "    \n",
    "sum_test.sort_values(by=\"bic\")"
   ]
  },
  {
   "cell_type": "code",
   "execution_count": null,
   "id": "51871e88",
   "metadata": {
    "pycharm": {
     "name": "#%%\n"
    }
   },
   "outputs": [],
   "source": [
    "model = \"Distance, Effort, Depth and Forward Search Bonus\"\n",
    "cost_functions = ['forw_added_cost', 'given_cost', 'distance_multiplier', 'depth_cost_weight', 'temp']\n",
    "\n",
    "for cost_function in cost_functions:\n",
    "    print(cost_function)\n",
    "    print(pg.wilcoxon(test_fit[test_fit[\"Model Name\"]==model].sort_values(\"trace_pid\")[cost_function],\\\n",
    "    training_fit[training_fit[\"Model Name\"]==model].sort_values(\"trace_pid\")[cost_function]))"
   ]
  },
  {
   "cell_type": "code",
   "execution_count": null,
   "id": "53d97a48",
   "metadata": {
    "pycharm": {
     "name": "#%%\n"
    },
    "scrolled": true
   },
   "outputs": [],
   "source": [
    "model = \"All five\"\n",
    "cost_functions = [\"back_added_cost\",'forw_added_cost', 'given_cost', 'distance_multiplier', 'depth_cost_weight', 'temp']\n",
    "\n",
    "for cost_function in cost_functions:\n",
    "    print(cost_function)\n",
    "    print(pg.wilcoxon(test_fit[test_fit[\"Model Name\"]==model].sort_values(\"trace_pid\")[cost_function],\\\n",
    "    training_fit[training_fit[\"Model Name\"]==model].sort_values(\"trace_pid\")[cost_function]))"
   ]
  },
  {
   "cell_type": "code",
   "execution_count": null,
   "id": "b30c1fb6",
   "metadata": {},
   "outputs": [],
   "source": []
  }
 ],
 "metadata": {
  "kernelspec": {
   "display_name": "irl-project",
   "language": "python",
   "name": "irl-project"
  },
  "language_info": {
   "codemirror_mode": {
    "name": "ipython",
    "version": 3
   },
   "file_extension": ".py",
   "mimetype": "text/x-python",
   "name": "python",
   "nbconvert_exporter": "python",
   "pygments_lexer": "ipython3",
   "version": "3.8.9"
  }
 },
 "nbformat": 4,
 "nbformat_minor": 5
}