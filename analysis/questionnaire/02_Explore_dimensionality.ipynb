{
 "cells": [
  {
   "cell_type": "code",
   "execution_count": 1,
   "id": "27c16d06-4c13-4eb6-9cb7-cbed96329a97",
   "metadata": {
    "pycharm": {
     "name": "#%%\n"
    }
   },
   "outputs": [
    {
     "ename": "ModuleNotFoundError",
     "evalue": "No module named 'costometer'",
     "output_type": "error",
     "traceback": [
      "\u001B[0;31m---------------------------------------------------------------------------\u001B[0m",
      "\u001B[0;31mModuleNotFoundError\u001B[0m                       Traceback (most recent call last)",
      "Cell \u001B[0;32mIn [1], line 9\u001B[0m\n\u001B[1;32m      6\u001B[0m \u001B[38;5;28;01mimport\u001B[39;00m \u001B[38;5;21;01mmatplotlib\u001B[39;00m\u001B[38;5;21;01m.\u001B[39;00m\u001B[38;5;21;01mpyplot\u001B[39;00m \u001B[38;5;28;01mas\u001B[39;00m \u001B[38;5;21;01mplt\u001B[39;00m\n\u001B[1;32m      7\u001B[0m \u001B[38;5;28;01mimport\u001B[39;00m \u001B[38;5;21;01mpandas\u001B[39;00m \u001B[38;5;28;01mas\u001B[39;00m \u001B[38;5;21;01mpd\u001B[39;00m\n\u001B[0;32m----> 9\u001B[0m \u001B[38;5;28;01mfrom\u001B[39;00m \u001B[38;5;21;01mcostometer\u001B[39;00m\u001B[38;5;21;01m.\u001B[39;00m\u001B[38;5;21;01mutils\u001B[39;00m \u001B[38;5;28;01mimport\u001B[39;00m set_font_sizes\n\u001B[1;32m     11\u001B[0m set_font_sizes()\n",
      "\u001B[0;31mModuleNotFoundError\u001B[0m: No module named 'costometer'"
     ]
    }
   ],
   "source": [
    "import numpy as np\n",
    "from sklearn.decomposition import PCA\n",
    "from sklearn.cluster import KMeans\n",
    "from sklearn.preprocessing import Normalizer\n",
    "import seaborn as sns\n",
    "import matplotlib.pyplot as plt\n",
    "import pandas as pd\n",
    "\n",
    "from costometer.utils import set_font_sizes\n",
    "\n",
    "set_font_sizes()"
   ]
  },
  {
   "cell_type": "markdown",
   "id": "6d00eab2-141d-4b2b-9aa7-1d67fa61be4c",
   "metadata": {
    "pycharm": {
     "name": "#%% md\n"
    }
   },
   "source": [
    "# Prepare data"
   ]
  },
  {
   "cell_type": "code",
   "execution_count": null,
   "id": "b8e25cb6-b2ae-4739-98de-9a271f0a6480",
   "metadata": {
    "pycharm": {
     "name": "#%%\n"
    }
   },
   "outputs": [],
   "source": [
    "# only look at second questionnaire pilot, since first pilot often has more questionnaire items for psychiatric data\n",
    "combined_scores = pd.read_csv(\"../../data/processed/quest_second/combined_scores.csv\")\n",
    "\n",
    "# drop rows with nans (optional crt, IQ, 2 participants who didn't see second part)\n",
    "combined_scores=combined_scores.dropna(axis=0)\n",
    "len(combined_scores)"
   ]
  },
  {
   "cell_type": "code",
   "execution_count": null,
   "id": "2d40a4b7-f948-4b2f-aa83-c1e7ef69bc39",
   "metadata": {
    "pycharm": {
     "name": "#%%\n"
    }
   },
   "outputs": [],
   "source": [
    "nonnumeric_cols=[\"gender\", \"pid\", \"age\", \"colorblind\"]"
   ]
  },
  {
   "cell_type": "code",
   "execution_count": null,
   "id": "24428e55-25a9-43f2-87fd-50b1c98a8f1e",
   "metadata": {
    "pycharm": {
     "name": "#%%\n"
    }
   },
   "outputs": [],
   "source": [
    "normalizer = Normalizer().fit(combined_scores[combined_scores.columns.difference(nonnumeric_cols)])\n",
    "first_X = normalizer.transform(combined_scores[combined_scores.columns.difference(nonnumeric_cols)])"
   ]
  },
  {
   "cell_type": "markdown",
   "id": "ccd66dd5-44d0-40db-8959-39af19857be8",
   "metadata": {
    "pycharm": {
     "name": "#%% md\n"
    }
   },
   "source": [
    "# PCA\n",
    "## Find best number of components"
   ]
  },
  {
   "cell_type": "code",
   "execution_count": null,
   "id": "bf62e04d-7cdb-4319-a2e8-8c23cd71fdaf",
   "metadata": {
    "tags": [],
    "pycharm": {
     "name": "#%%\n"
    }
   },
   "outputs": [],
   "source": [
    "explained_variance = []\n",
    "# maximum number of components is number of questionnaire/subscales\n",
    "for n_components in range(1, len(combined_scores.columns.difference(nonnumeric_cols))+1):\n",
    "    pca = PCA(n_components=n_components)\n",
    "    pca.fit(first_X)\n",
    "    explained_variance.append(sum(pca.explained_variance_ratio_))"
   ]
  },
  {
   "cell_type": "code",
   "execution_count": null,
   "id": "34ba5a50-b4e2-4989-b033-a263efbc5e22",
   "metadata": {
    "pycharm": {
     "name": "#%%\n"
    }
   },
   "outputs": [],
   "source": [
    "ax = plt.figure(figsize=(12, 10))\n",
    "plt.plot(range(1, len(combined_scores.columns.difference(nonnumeric_cols))+1),explained_variance, 'o-')\n",
    "plt.axvline(12, color='#8c8a8a', linestyle=':')\n",
    "plt.title(\"Scree plot\")\n",
    "plt.ylabel(\"Explained variance\")\n",
    "plt.xlabel(\"Number Components\")"
   ]
  },
  {
   "cell_type": "markdown",
   "id": "72015137-9c74-49dc-81ab-394e0eae6d7c",
   "metadata": {
    "pycharm": {
     "name": "#%% md\n"
    }
   },
   "source": [
    "## Look at components"
   ]
  },
  {
   "cell_type": "code",
   "execution_count": null,
   "id": "4194246b-3159-448e-b1ef-cbd85469bf0a",
   "metadata": {
    "pycharm": {
     "name": "#%%\n"
    }
   },
   "outputs": [],
   "source": [
    "pca = PCA(n_components=12)\n",
    "pca.fit(first_X)\n",
    "res=pd.DataFrame(pca.components_,columns=combined_scores.columns.difference(nonnumeric_cols),index = [f\"factor{x}\" for x in range(1,13)])\n"
   ]
  },
  {
   "cell_type": "code",
   "execution_count": null,
   "id": "62b6cc01-4c31-4416-9690-7dc7e7257a96",
   "metadata": {
    "pycharm": {
     "name": "#%%\n"
    }
   },
   "outputs": [],
   "source": [
    "res.sort_values(by=\"factor1\", axis=1)"
   ]
  },
  {
   "cell_type": "code",
   "execution_count": null,
   "id": "0349c851-7ddb-4027-84f6-701e318b3f9f",
   "metadata": {
    "pycharm": {
     "name": "#%%\n"
    }
   },
   "outputs": [],
   "source": [
    "res.sort_values(by=\"factor2\", axis=1)"
   ]
  },
  {
   "cell_type": "code",
   "execution_count": null,
   "id": "ed8fd42e-8f45-4860-8f00-91c181d36c64",
   "metadata": {
    "pycharm": {
     "name": "#%%\n"
    }
   },
   "outputs": [],
   "source": [
    "res.sort_values(by=\"factor3\", axis=1)"
   ]
  },
  {
   "cell_type": "markdown",
   "id": "497de27d-21e1-4ec6-8be5-fecf2d221066",
   "metadata": {
    "pycharm": {
     "name": "#%% md\n"
    }
   },
   "source": [
    "# K-Means Clustering (more sparse)\n",
    "## Find best number of components"
   ]
  },
  {
   "cell_type": "code",
   "execution_count": null,
   "id": "191bad89-3b4c-4c47-a485-46c51521e511",
   "metadata": {
    "pycharm": {
     "name": "#%%\n"
    }
   },
   "outputs": [],
   "source": [
    "inertia = []\n",
    "# maximum number of components is number of questionnaire/subscales\n",
    "for n_clusters in range(1, len(combined_scores.columns.difference(nonnumeric_cols))+1):\n",
    "    kmeans = KMeans(n_clusters=n_clusters, random_state=91)\n",
    "    kmeans.fit(first_X)\n",
    "    inertia.append(kmeans.inertia_)"
   ]
  },
  {
   "cell_type": "code",
   "execution_count": null,
   "id": "4b349496-7d5f-412e-a9bc-12d1ba708c69",
   "metadata": {
    "pycharm": {
     "name": "#%%\n"
    }
   },
   "outputs": [],
   "source": [
    "ax = plt.figure(figsize=(12, 10))\n",
    "plt.plot(range(1, len(combined_scores.columns.difference(nonnumeric_cols))+1),inertia, 'o-')\n",
    "plt.axvline(12, color='#8c8a8a', linestyle=':')\n",
    "plt.title(\"Scree plot\")\n",
    "plt.ylabel(\"Inertia (within-cluster sum-of-squares)\")\n",
    "plt.xlabel(\"Number Components\")"
   ]
  },
  {
   "cell_type": "markdown",
   "id": "e8440ab1-29eb-400c-a263-8759ecbfa4fd",
   "metadata": {
    "pycharm": {
     "name": "#%% md\n"
    }
   },
   "source": [
    "## Look at clusters"
   ]
  },
  {
   "cell_type": "code",
   "execution_count": null,
   "id": "108e5217-1bff-41d0-af7b-0edab97393a2",
   "metadata": {
    "pycharm": {
     "name": "#%%\n"
    }
   },
   "outputs": [],
   "source": [
    "kmeans = KMeans(n_clusters=12, random_state=91)\n",
    "kmeans.fit(first_X)\n",
    "\n",
    "res=pd.DataFrame(kmeans.cluster_centers_, columns=combined_scores.columns.difference(nonnumeric_cols))"
   ]
  },
  {
   "cell_type": "code",
   "execution_count": null,
   "id": "9b0c236e-158a-48cf-b45c-82833f7bdafd",
   "metadata": {
    "pycharm": {
     "name": "#%%\n"
    }
   },
   "outputs": [],
   "source": [
    "res"
   ]
  },
  {
   "cell_type": "code",
   "execution_count": null,
   "id": "ddd31223-7778-4922-96f2-cebfb2ecba51",
   "metadata": {
    "pycharm": {
     "name": "#%%\n"
    }
   },
   "outputs": [],
   "source": [
    "res.sort_values(by=0, axis=1)"
   ]
  },
  {
   "cell_type": "code",
   "execution_count": null,
   "id": "91c6419b-8f05-4bfd-acac-d0c57079a747",
   "metadata": {
    "pycharm": {
     "name": "#%%\n"
    }
   },
   "outputs": [],
   "source": [
    "res.sort_values(by=1, axis=1)"
   ]
  },
  {
   "cell_type": "code",
   "execution_count": null,
   "id": "42bb2ec5-d973-44e5-876b-ad9550bd502d",
   "metadata": {
    "pycharm": {
     "name": "#%%\n"
    }
   },
   "outputs": [],
   "source": [
    "res.sort_values(by=2, axis=1)"
   ]
  },
  {
   "cell_type": "code",
   "execution_count": null,
   "id": "b0422e9b-37ff-4cc0-b3d6-5ad868a0713d",
   "metadata": {
    "pycharm": {
     "name": "#%%\n"
    }
   },
   "outputs": [],
   "source": []
  }
 ],
 "metadata": {
  "kernelspec": {
   "display_name": "irl-project",
   "language": "python",
   "name": "irl-project"
  },
  "language_info": {
   "codemirror_mode": {
    "name": "ipython",
    "version": 3
   },
   "file_extension": ".py",
   "mimetype": "text/x-python",
   "name": "python",
   "nbconvert_exporter": "python",
   "pygments_lexer": "ipython3",
   "version": "3.8.9"
  }
 },
 "nbformat": 4,
 "nbformat_minor": 5
}