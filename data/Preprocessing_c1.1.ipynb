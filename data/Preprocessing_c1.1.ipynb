{
 "cells": [
  {
   "cell_type": "code",
   "execution_count": 1,
   "id": "7fc60026",
   "metadata": {
    "execution": {
     "iopub.execute_input": "2023-01-04T09:23:25.012275Z",
     "iopub.status.busy": "2023-01-04T09:23:25.011262Z",
     "iopub.status.idle": "2023-01-04T09:23:25.628165Z",
     "shell.execute_reply": "2023-01-04T09:23:25.627319Z"
    },
    "jupyter": {
     "outputs_hidden": false
    },
    "papermill": {
     "duration": 0.633468,
     "end_time": "2023-01-04T09:23:25.631068",
     "exception": false,
     "start_time": "2023-01-04T09:23:24.997600",
     "status": "completed"
    },
    "tags": [
     "parameters"
    ]
   },
   "outputs": [],
   "source": [
    "from pathlib import Path\n",
    "import pandas as pd\n",
    "import numpy as np\n",
    "from datetime import datetime\n",
    "\n",
    "from download_tools.plugins.mouselab_mdp import preprocess_mouselab_data, add_click_count_columns\n",
    "from download_tools.plugins.survey_html_form import process_html_demographics\n",
    "from download_tools.plugins.survey_multi_choice import score_mouselab_questionnaires, get_mouselab_quiz_name, get_quiz_passer_ids, score_row, score_generic_questionnaires\n",
    "from download_tools.plugins.survey_text import preprocess_survey_text, get_old_demographics\n",
    "from download_tools.plugins.utils import get_demo_string\n",
    "\n",
    "from datetime import datetime\n",
    "import json\n",
    "import dill as pickle"
   ]
  },
  {
   "cell_type": "code",
   "execution_count": 2,
   "id": "6ae025ac",
   "metadata": {
    "execution": {
     "iopub.execute_input": "2023-01-04T09:23:25.638046Z",
     "iopub.status.busy": "2023-01-04T09:23:25.637676Z",
     "iopub.status.idle": "2023-01-04T09:23:25.646900Z",
     "shell.execute_reply": "2023-01-04T09:23:25.645893Z"
    },
    "papermill": {
     "duration": 0.015417,
     "end_time": "2023-01-04T09:23:25.649715",
     "exception": false,
     "start_time": "2023-01-04T09:23:25.634298",
     "status": "completed"
    },
    "tags": [
     "injected-parameters"
    ]
   },
   "outputs": [],
   "source": [
    "# Parameters\n",
    "simulated = False\n",
    "sessions = [\"c1.1\"]\n",
    "experiment_setting = \"low_constant\"\n",
    "COST = None\n",
    "DEPTH = None\n",
    "html_survey_names = None\n",
    "old_experiment = False\n",
    "manual_age_mapping = None\n",
    "experiment_specific_mapping = None\n",
    "original_trials_per_block = {\"training\": 35}\n",
    "trials_per_block = {\"training\": 25, \"test\": 10}\n",
    "ranges_to_extract = {\"training\": \"range(25)\", \"test\": \"range(25,35)\"}\n",
    "mouselab_column_identifier = None\n",
    "mouselab_mapping = None\n",
    "max_attempts = None\n",
    "passing_score = None\n",
    "mouselab_quiz_solutions = None\n",
    "column_mapping = {\"trial_type\": \"trial_type\", \"time_elapsed\": \"time_elapsed\", \"rt\": \"rt\", \"pid\": \"pid\", \"state_rewards\": \"state_rewards\", \"block\": \"block\", \"trial_index\": \"trial_index\", \"score\": \"score\", \"simulation_mode\": \"simulation_mode\", \"reward\": \"rewards\", \"path\": \"path\", \"actions\": \"actions\", \"action_time\": \"action_times\", \"queries\": \"queries\", \"trialTime\": \"trial_time\", \"run\": \"run\"}\n",
    "ground_truth_file = \"312_extended\"\n",
    "node_classification = {\"early\": [1, 5, 9], \"middle\": [2, 6, 10], \"late\": [3, 4, 7, 8, 11, 12], \"clicks\": [1, 5, 9, 2, 6, 10, 3, 4, 7, 8, 11, 12]}\n",
    "structure = \"312_2_4_24\"\n",
    "analysis_run = \"c1.1\"\n",
    "data_path = \"/home/vfelso/github/planning-depth-differences/data\"\n"
   ]
  },
  {
   "cell_type": "code",
   "execution_count": 3,
   "id": "d77c634a",
   "metadata": {
    "execution": {
     "iopub.execute_input": "2023-01-04T09:23:25.657490Z",
     "iopub.status.busy": "2023-01-04T09:23:25.657180Z",
     "iopub.status.idle": "2023-01-04T09:23:25.663019Z",
     "shell.execute_reply": "2023-01-04T09:23:25.662133Z"
    },
    "papermill": {
     "duration": 0.012189,
     "end_time": "2023-01-04T09:23:25.665561",
     "exception": false,
     "start_time": "2023-01-04T09:23:25.653372",
     "status": "completed"
    },
    "tags": []
   },
   "outputs": [],
   "source": [
    "# paths to use\n",
    "inputs_path = Path(data_path).joinpath('inputs')\n",
    "raw_data_path = Path(data_path).joinpath('raw')\n",
    "processed_data_path = Path(data_path).joinpath(f'processed/{analysis_run}')\n",
    "processed_data_path.mkdir(parents=True, exist_ok=True)\n",
    "cluster_path = Path(data_path).parents[0].joinpath(\"cluster\")"
   ]
  },
  {
   "cell_type": "code",
   "execution_count": 4,
   "id": "58deb41d",
   "metadata": {
    "execution": {
     "iopub.execute_input": "2023-01-04T09:23:25.673033Z",
     "iopub.status.busy": "2023-01-04T09:23:25.672061Z",
     "iopub.status.idle": "2023-01-04T09:23:25.677746Z",
     "shell.execute_reply": "2023-01-04T09:23:25.676726Z"
    },
    "papermill": {
     "duration": 0.01195,
     "end_time": "2023-01-04T09:23:25.680439",
     "exception": false,
     "start_time": "2023-01-04T09:23:25.668489",
     "status": "completed"
    },
    "tags": []
   },
   "outputs": [],
   "source": [
    "with open(inputs_path.joinpath(f\"exp_inputs/rewards/{ground_truth_file}.json\")) as json_file:\n",
    "    ground_truths = json.load(json_file)"
   ]
  },
  {
   "cell_type": "code",
   "execution_count": 5,
   "id": "d4f9beb5",
   "metadata": {
    "execution": {
     "iopub.execute_input": "2023-01-04T09:23:25.689287Z",
     "iopub.status.busy": "2023-01-04T09:23:25.688665Z",
     "iopub.status.idle": "2023-01-04T09:23:25.724202Z",
     "shell.execute_reply": "2023-01-04T09:23:25.723383Z"
    },
    "papermill": {
     "duration": 0.041199,
     "end_time": "2023-01-04T09:23:25.726165",
     "exception": false,
     "start_time": "2023-01-04T09:23:25.684966",
     "status": "completed"
    },
    "tags": []
   },
   "outputs": [],
   "source": [
    "# load data\n",
    "full_data = {}\n",
    "\n",
    "# read in sessions\n",
    "for run in sessions:\n",
    "    for file_path in raw_data_path.glob(f\"{run}/*.csv\"):\n",
    "        # don't want to save identifiable bonuses\n",
    "        # file, information is already in data\n",
    "        if \"bonuses\" not in str(file_path):\n",
    "            file_name = file_path.stem\n",
    "            curr_data_frame = pd.read_csv(file_path)\n",
    "            curr_data_frame[\"run\"] = run\n",
    "            if file_name not in full_data:\n",
    "                full_data[file_name] = [curr_data_frame]\n",
    "            else:\n",
    "                full_data[file_name].append(curr_data_frame)\n",
    "\n",
    "full_data = {k: pd.concat(v) for k,v in full_data.items()}"
   ]
  },
  {
   "cell_type": "code",
   "execution_count": 6,
   "id": "b725e16d",
   "metadata": {
    "execution": {
     "iopub.execute_input": "2023-01-04T09:23:25.732655Z",
     "iopub.status.busy": "2023-01-04T09:23:25.732280Z",
     "iopub.status.idle": "2023-01-04T09:23:25.739362Z",
     "shell.execute_reply": "2023-01-04T09:23:25.738187Z"
    },
    "papermill": {
     "duration": 0.012531,
     "end_time": "2023-01-04T09:23:25.741328",
     "exception": false,
     "start_time": "2023-01-04T09:23:25.728797",
     "status": "completed"
    },
    "tags": []
   },
   "outputs": [],
   "source": [
    "if column_mapping:\n",
    "    full_data[\"mouselab-mdp\"]=full_data[\"mouselab-mdp\"].rename(columns =column_mapping)"
   ]
  },
  {
   "cell_type": "code",
   "execution_count": 7,
   "id": "e2c3d0dd",
   "metadata": {
    "execution": {
     "iopub.execute_input": "2023-01-04T09:23:25.749306Z",
     "iopub.status.busy": "2023-01-04T09:23:25.748856Z",
     "iopub.status.idle": "2023-01-04T09:23:26.134408Z",
     "shell.execute_reply": "2023-01-04T09:23:26.133490Z"
    },
    "papermill": {
     "duration": 0.391774,
     "end_time": "2023-01-04T09:23:26.136529",
     "exception": false,
     "start_time": "2023-01-04T09:23:25.744755",
     "status": "completed"
    },
    "tags": []
   },
   "outputs": [],
   "source": [
    "mouselab_datas = preprocess_mouselab_data(full_data[\"mouselab-mdp\"],original_trials_per_block,ground_truths)\n",
    "\n",
    "# path may contain a bunch of 0s at the start due to miscoding\n",
    "mouselab_datas[\"path\"] = mouselab_datas[\"path\"].apply(lambda path : eval(path)[-3:])\n",
    "\n",
    "mouselab_datas = add_click_count_columns(mouselab_datas, node_classification)"
   ]
  },
  {
   "cell_type": "code",
   "execution_count": 8,
   "id": "8bfd8500",
   "metadata": {
    "collapsed": false,
    "execution": {
     "iopub.execute_input": "2023-01-04T09:23:26.143115Z",
     "iopub.status.busy": "2023-01-04T09:23:26.142824Z",
     "iopub.status.idle": "2023-01-04T09:23:26.180650Z",
     "shell.execute_reply": "2023-01-04T09:23:26.179768Z"
    },
    "papermill": {
     "duration": 0.044165,
     "end_time": "2023-01-04T09:23:26.183365",
     "exception": false,
     "start_time": "2023-01-04T09:23:26.139200",
     "status": "completed"
    },
    "tags": []
   },
   "outputs": [],
   "source": [
    "#TODO would be nice to refactor this out and import it\n",
    "def expand_range_dictionary(input_dictionary):\n",
    "    trial_to_block = {}\n",
    "    for block, trial_range in input_dictionary.items():\n",
    "        if isinstance(trial_range, str):\n",
    "            for trial_index in eval(trial_range):\n",
    "                trial_to_block[trial_index] = block\n",
    "        else:\n",
    "            trial_to_block[block] = expand_range_dictionary(trial_range)\n",
    "    return trial_to_block\n",
    "\n",
    "if ranges_to_extract:\n",
    "    trial_to_block = expand_range_dictionary(ranges_to_extract)\n",
    "\n",
    "    mouselab_datas[\"block\"] = mouselab_datas.apply(lambda row: trial_to_block[row[\"run\"]][row[\"trial_index\"]] if row[\"run\"] in trial_to_block else trial_to_block[row[\"trial_index\"]], axis=1)"
   ]
  },
  {
   "cell_type": "code",
   "execution_count": 9,
   "id": "4c1a3170",
   "metadata": {
    "execution": {
     "iopub.execute_input": "2023-01-04T09:23:26.190269Z",
     "iopub.status.busy": "2023-01-04T09:23:26.189983Z",
     "iopub.status.idle": "2023-01-04T09:23:26.294640Z",
     "shell.execute_reply": "2023-01-04T09:23:26.293420Z"
    },
    "papermill": {
     "duration": 0.11111,
     "end_time": "2023-01-04T09:23:26.297395",
     "exception": false,
     "start_time": "2023-01-04T09:23:26.186285",
     "status": "completed"
    },
    "tags": []
   },
   "outputs": [],
   "source": [
    "mouselab_datas.to_csv(processed_data_path.joinpath(\"mouselab-mdp.csv\"))"
   ]
  }
 ],
 "metadata": {
  "kernelspec": {
   "display_name": "irl-project",
   "language": "python",
   "name": "irl-project"
  },
  "language_info": {
   "codemirror_mode": {
    "name": "ipython",
    "version": 3
   },
   "file_extension": ".py",
   "mimetype": "text/x-python",
   "name": "python",
   "nbconvert_exporter": "python",
   "pygments_lexer": "ipython3",
   "version": "3.8.10"
  },
  "papermill": {
   "default_parameters": {},
   "duration": 3.074796,
   "end_time": "2023-01-04T09:23:26.726030",
   "environment_variables": {},
   "exception": null,
   "input_path": "templates/preprocessing_human_shared_data.ipynb",
   "output_path": "/home/vfelso/github/planning-depth-differences/data/Preprocessing_c1.1.ipynb",
   "parameters": {
    "COST": null,
    "DEPTH": null,
    "analysis_run": "c1.1",
    "column_mapping": {
     "action_time": "action_times",
     "actions": "actions",
     "block": "block",
     "path": "path",
     "pid": "pid",
     "queries": "queries",
     "reward": "rewards",
     "rt": "rt",
     "run": "run",
     "score": "score",
     "simulation_mode": "simulation_mode",
     "state_rewards": "state_rewards",
     "time_elapsed": "time_elapsed",
     "trialTime": "trial_time",
     "trial_index": "trial_index",
     "trial_type": "trial_type"
    },
    "data_path": "/home/vfelso/github/planning-depth-differences/data",
    "experiment_setting": "low_constant",
    "experiment_specific_mapping": null,
    "ground_truth_file": "312_extended",
    "html_survey_names": null,
    "manual_age_mapping": null,
    "max_attempts": null,
    "mouselab_column_identifier": null,
    "mouselab_mapping": null,
    "mouselab_quiz_solutions": null,
    "node_classification": {
     "clicks": [
      1,
      5,
      9,
      2,
      6,
      10,
      3,
      4,
      7,
      8,
      11,
      12
     ],
     "early": [
      1,
      5,
      9
     ],
     "late": [
      3,
      4,
      7,
      8,
      11,
      12
     ],
     "middle": [
      2,
      6,
      10
     ]
    },
    "old_experiment": false,
    "original_trials_per_block": {
     "training": 35
    },
    "passing_score": null,
    "ranges_to_extract": {
     "test": "range(25,35)",
     "training": "range(25)"
    },
    "sessions": [
     "c1.1"
    ],
    "simulated": false,
    "structure": "312_2_4_24",
    "trials_per_block": {
     "test": 10,
     "training": 25
    }
   },
   "start_time": "2023-01-04T09:23:23.651234",
   "version": "2.3.4"
  }
 },
 "nbformat": 4,
 "nbformat_minor": 5
}
