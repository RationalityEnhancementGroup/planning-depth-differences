{
 "cells": [
  {
   "cell_type": "code",
   "execution_count": 1,
   "id": "0c45bf7f",
   "metadata": {
    "execution": {
     "iopub.execute_input": "2022-09-13T06:57:04.317767Z",
     "iopub.status.busy": "2022-09-13T06:57:04.316615Z",
     "iopub.status.idle": "2022-09-13T06:57:04.969174Z",
     "shell.execute_reply": "2022-09-13T06:57:04.968172Z"
    },
    "jupyter": {
     "outputs_hidden": false
    },
    "papermill": {
     "duration": 0.669656,
     "end_time": "2022-09-13T06:57:04.971779",
     "exception": false,
     "start_time": "2022-09-13T06:57:04.302123",
     "status": "completed"
    },
    "pycharm": {
     "name": "#%%\n"
    },
    "tags": [
     "parameters"
    ]
   },
   "outputs": [],
   "source": [
    "from pathlib import Path\n",
    "import pandas as pd\n",
    "import numpy as np\n",
    "from datetime import datetime\n",
    "\n",
    "from download_tools.plugins.mouselab_mdp import preprocess_mouselab_data, add_click_count_columns\n",
    "from download_tools.plugins.survey_html_form import process_html_demographics\n",
    "from download_tools.plugins.survey_multi_choice import score_mouselab_questionnaires, get_mouselab_quiz_name, get_quiz_passer_ids, score_row, score_generic_questionnaires\n",
    "from download_tools.plugins.survey_text import preprocess_survey_text, get_old_demographics\n",
    "from download_tools.plugins.utils import get_demo_string\n",
    "\n",
    "from datetime import datetime\n",
    "import json\n",
    "import dill as pickle"
   ]
  },
  {
   "cell_type": "code",
   "execution_count": 2,
   "id": "4fa5255b",
   "metadata": {
    "execution": {
     "iopub.execute_input": "2022-09-13T06:57:04.985724Z",
     "iopub.status.busy": "2022-09-13T06:57:04.985246Z",
     "iopub.status.idle": "2022-09-13T06:57:04.996146Z",
     "shell.execute_reply": "2022-09-13T06:57:04.994656Z"
    },
    "papermill": {
     "duration": 0.024173,
     "end_time": "2022-09-13T06:57:04.999200",
     "exception": false,
     "start_time": "2022-09-13T06:57:04.975027",
     "status": "completed"
    },
    "tags": [
     "injected-parameters"
    ],
    "pycharm": {
     "name": "#%%\n"
    }
   },
   "outputs": [],
   "source": [
    "# Parameters\n",
    "simulated = False\n",
    "sessions = [\"c2.1\"]\n",
    "experiment_setting = \"high_decreasing\"\n",
    "COST = None\n",
    "DEPTH = None\n",
    "html_survey_names = None\n",
    "old_experiment = False\n",
    "manual_age_mapping = None\n",
    "experiment_specific_mapping = None\n",
    "trials_per_block = {\"training\": 35}\n",
    "ranges_to_extract = {\"training\": \"range(25)\", \"test\": \"range(25,35)\"}\n",
    "mouselab_column_identifier = None\n",
    "mouselab_mapping = None\n",
    "max_attempts = None\n",
    "passing_score = None\n",
    "mouselab_quiz_solutions = None\n",
    "column_mapping = {\"trial_type\": \"trial_type\", \"time_elapsed\": \"time_elapsed\", \"rt\": \"rt\", \"pid\": \"pid\", \"state_rewards\": \"state_rewards\", \"block\": \"block\", \"trial_index\": \"trial_index\", \"score\": \"score\", \"simulation_mode\": \"simulation_mode\", \"reward\": \"rewards\", \"path\": \"path\", \"actions\": \"actions\", \"action_time\": \"action_times\", \"queries\": \"queries\", \"trialTime\": \"trial_time\", \"run\": \"run\"}\n",
    "ground_truth_file = \"312_24_4_2_extended\"\n",
    "node_classification = {\"early\": [1, 5, 9], \"middle\": [2, 6, 10], \"late\": [3, 4, 7, 8, 11, 12], \"clicks\": [1, 5, 9, 2, 6, 10, 3, 4, 7, 8, 11, 12]}\n",
    "structure = \"312_2_4_24\"\n",
    "analysis_run = \"c2.1\"\n",
    "data_path = \"/home/vfelso/github/planning-depth-differences/data\"\n"
   ]
  },
  {
   "cell_type": "code",
   "execution_count": 3,
   "id": "3bd5df84",
   "metadata": {
    "execution": {
     "iopub.execute_input": "2022-09-13T06:57:05.011299Z",
     "iopub.status.busy": "2022-09-13T06:57:05.010546Z",
     "iopub.status.idle": "2022-09-13T06:57:05.019284Z",
     "shell.execute_reply": "2022-09-13T06:57:05.017769Z"
    },
    "papermill": {
     "duration": 0.018312,
     "end_time": "2022-09-13T06:57:05.022491",
     "exception": false,
     "start_time": "2022-09-13T06:57:05.004179",
     "status": "completed"
    },
    "pycharm": {
     "name": "#%%\n"
    },
    "tags": []
   },
   "outputs": [],
   "source": [
    "# paths to use\n",
    "inputs_path = Path(data_path).joinpath('inputs')\n",
    "raw_data_path = Path(data_path).joinpath('raw')\n",
    "processed_data_path = Path(data_path).joinpath(f'processed/{analysis_run}')\n",
    "processed_data_path.mkdir(parents=True, exist_ok=True)\n",
    "cluster_path = Path(data_path).parents[0].joinpath(\"cluster\")"
   ]
  },
  {
   "cell_type": "code",
   "execution_count": 4,
   "id": "bc8b3365",
   "metadata": {
    "execution": {
     "iopub.execute_input": "2022-09-13T06:57:05.031785Z",
     "iopub.status.busy": "2022-09-13T06:57:05.030896Z",
     "iopub.status.idle": "2022-09-13T06:57:05.038027Z",
     "shell.execute_reply": "2022-09-13T06:57:05.036724Z"
    },
    "papermill": {
     "duration": 0.014091,
     "end_time": "2022-09-13T06:57:05.040232",
     "exception": false,
     "start_time": "2022-09-13T06:57:05.026141",
     "status": "completed"
    },
    "pycharm": {
     "name": "#%%\n"
    },
    "tags": []
   },
   "outputs": [],
   "source": [
    "with open(inputs_path.joinpath(f\"exp_inputs/rewards/{ground_truth_file}.json\")) as json_file:\n",
    "    ground_truths = json.load(json_file)"
   ]
  },
  {
   "cell_type": "code",
   "execution_count": 5,
   "id": "01833557",
   "metadata": {
    "execution": {
     "iopub.execute_input": "2022-09-13T06:57:05.049221Z",
     "iopub.status.busy": "2022-09-13T06:57:05.048870Z",
     "iopub.status.idle": "2022-09-13T06:57:05.100011Z",
     "shell.execute_reply": "2022-09-13T06:57:05.098662Z"
    },
    "papermill": {
     "duration": 0.05878,
     "end_time": "2022-09-13T06:57:05.102765",
     "exception": false,
     "start_time": "2022-09-13T06:57:05.043985",
     "status": "completed"
    },
    "pycharm": {
     "name": "#%%\n"
    },
    "tags": []
   },
   "outputs": [],
   "source": [
    "# load data\n",
    "full_data = {}\n",
    "\n",
    "# read in sessions\n",
    "for run in sessions:\n",
    "    for file_path in raw_data_path.glob(f\"{run}/*.csv\"):\n",
    "        # don't want to save identifiable bonuses\n",
    "        # file, information is already in data\n",
    "        if \"bonuses\" not in str(file_path):\n",
    "            file_name = file_path.stem\n",
    "            curr_data_frame = pd.read_csv(file_path)\n",
    "            curr_data_frame[\"run\"] = run\n",
    "            if file_name not in full_data:\n",
    "                full_data[file_name] = [curr_data_frame]\n",
    "            else:\n",
    "                full_data[file_name].append(curr_data_frame)\n",
    "\n",
    "full_data = {k: pd.concat(v) for k,v in full_data.items()}"
   ]
  },
  {
   "cell_type": "code",
   "execution_count": 6,
   "id": "bd6f5237",
   "metadata": {
    "execution": {
     "iopub.execute_input": "2022-09-13T06:57:05.111019Z",
     "iopub.status.busy": "2022-09-13T06:57:05.110671Z",
     "iopub.status.idle": "2022-09-13T06:57:05.120268Z",
     "shell.execute_reply": "2022-09-13T06:57:05.118978Z"
    },
    "papermill": {
     "duration": 0.017363,
     "end_time": "2022-09-13T06:57:05.123497",
     "exception": false,
     "start_time": "2022-09-13T06:57:05.106134",
     "status": "completed"
    },
    "pycharm": {
     "name": "#%%\n"
    },
    "tags": []
   },
   "outputs": [],
   "source": [
    "if column_mapping:\n",
    "    full_data[\"mouselab-mdp\"]=full_data[\"mouselab-mdp\"].rename(columns =column_mapping)"
   ]
  },
  {
   "cell_type": "code",
   "execution_count": 7,
   "id": "cb84f10f",
   "metadata": {
    "execution": {
     "iopub.execute_input": "2022-09-13T06:57:05.133500Z",
     "iopub.status.busy": "2022-09-13T06:57:05.132905Z",
     "iopub.status.idle": "2022-09-13T06:57:05.587881Z",
     "shell.execute_reply": "2022-09-13T06:57:05.586867Z"
    },
    "papermill": {
     "duration": 0.461996,
     "end_time": "2022-09-13T06:57:05.590197",
     "exception": false,
     "start_time": "2022-09-13T06:57:05.128201",
     "status": "completed"
    },
    "pycharm": {
     "name": "#%%\n"
    },
    "tags": []
   },
   "outputs": [],
   "source": [
    "mouselab_datas = preprocess_mouselab_data(full_data[\"mouselab-mdp\"],trials_per_block,ground_truths)\n",
    "\n",
    "# path may contain a bunch of 0s at the start due to miscoding\n",
    "mouselab_datas[\"path\"] = mouselab_datas[\"path\"].apply(lambda path : eval(path)[-3:])\n",
    "\n",
    "mouselab_datas = add_click_count_columns(mouselab_datas, node_classification)"
   ]
  },
  {
   "cell_type": "code",
   "execution_count": 8,
   "id": "9a9a626a",
   "metadata": {
    "collapsed": false,
    "execution": {
     "iopub.execute_input": "2022-09-13T06:57:05.606789Z",
     "iopub.status.busy": "2022-09-13T06:57:05.606112Z",
     "iopub.status.idle": "2022-09-13T06:57:05.684776Z",
     "shell.execute_reply": "2022-09-13T06:57:05.683100Z"
    },
    "papermill": {
     "duration": 0.095144,
     "end_time": "2022-09-13T06:57:05.688733",
     "exception": false,
     "start_time": "2022-09-13T06:57:05.593589",
     "status": "completed"
    },
    "pycharm": {
     "name": "#%%\n"
    },
    "tags": []
   },
   "outputs": [],
   "source": [
    "#TODO would be nice to refactor this out and import it\n",
    "def expand_range_dictionary(input_dictionary):\n",
    "    trial_to_block = {}\n",
    "    for block, trial_range in input_dictionary.items():\n",
    "        if isinstance(trial_range, str):\n",
    "            for trial_index in eval(trial_range):\n",
    "                trial_to_block[trial_index] = block\n",
    "        else:\n",
    "            trial_to_block[block] = expand_range_dictionary(trial_range)\n",
    "    return trial_to_block\n",
    "\n",
    "if ranges_to_extract:\n",
    "    trial_to_block = expand_range_dictionary(ranges_to_extract)\n",
    "\n",
    "    mouselab_datas[\"block\"] = mouselab_datas.apply(lambda row: trial_to_block[row[\"run\"]][row[\"trial_index\"]] if row[\"run\"] in trial_to_block else trial_to_block[row[\"trial_index\"]], axis=1)"
   ]
  },
  {
   "cell_type": "code",
   "execution_count": 9,
   "id": "9a54e51d",
   "metadata": {
    "execution": {
     "iopub.execute_input": "2022-09-13T06:57:05.703220Z",
     "iopub.status.busy": "2022-09-13T06:57:05.702359Z",
     "iopub.status.idle": "2022-09-13T06:57:05.851205Z",
     "shell.execute_reply": "2022-09-13T06:57:05.850167Z"
    },
    "papermill": {
     "duration": 0.158011,
     "end_time": "2022-09-13T06:57:05.853232",
     "exception": false,
     "start_time": "2022-09-13T06:57:05.695221",
     "status": "completed"
    },
    "pycharm": {
     "name": "#%%\n"
    },
    "tags": []
   },
   "outputs": [],
   "source": [
    "mouselab_datas.to_csv(processed_data_path.joinpath(\"mouselab-mdp.csv\"))"
   ]
  }
 ],
 "metadata": {
  "kernelspec": {
   "display_name": "irl-project",
   "language": "python",
   "name": "irl-project"
  },
  "language_info": {
   "codemirror_mode": {
    "name": "ipython",
    "version": 3
   },
   "file_extension": ".py",
   "mimetype": "text/x-python",
   "name": "python",
   "nbconvert_exporter": "python",
   "pygments_lexer": "ipython3",
   "version": "3.8.10"
  },
  "papermill": {
   "default_parameters": {},
   "duration": 3.365112,
   "end_time": "2022-09-13T06:57:06.178584",
   "environment_variables": {},
   "exception": null,
   "input_path": "templates/preprocessing_human_shared_data.ipynb",
   "output_path": "/home/vfelso/github/planning-depth-differences/data/Preprocessing_c2.1.ipynb",
   "parameters": {
    "COST": null,
    "DEPTH": null,
    "analysis_run": "c2.1",
    "column_mapping": {
     "action_time": "action_times",
     "actions": "actions",
     "block": "block",
     "path": "path",
     "pid": "pid",
     "queries": "queries",
     "reward": "rewards",
     "rt": "rt",
     "run": "run",
     "score": "score",
     "simulation_mode": "simulation_mode",
     "state_rewards": "state_rewards",
     "time_elapsed": "time_elapsed",
     "trialTime": "trial_time",
     "trial_index": "trial_index",
     "trial_type": "trial_type"
    },
    "data_path": "/home/vfelso/github/planning-depth-differences/data",
    "experiment_setting": "high_decreasing",
    "experiment_specific_mapping": null,
    "ground_truth_file": "312_24_4_2_extended",
    "html_survey_names": null,
    "manual_age_mapping": null,
    "max_attempts": null,
    "mouselab_column_identifier": null,
    "mouselab_mapping": null,
    "mouselab_quiz_solutions": null,
    "node_classification": {
     "clicks": [
      1,
      5,
      9,
      2,
      6,
      10,
      3,
      4,
      7,
      8,
      11,
      12
     ],
     "early": [
      1,
      5,
      9
     ],
     "late": [
      3,
      4,
      7,
      8,
      11,
      12
     ],
     "middle": [
      2,
      6,
      10
     ]
    },
    "old_experiment": false,
    "passing_score": null,
    "ranges_to_extract": {
     "test": "range(25,35)",
     "training": "range(25)"
    },
    "sessions": [
     "c2.1"
    ],
    "simulated": false,
    "structure": "312_2_4_24",
    "trials_per_block": {
     "training": 35
    }
   },
   "start_time": "2022-09-13T06:57:02.813472",
   "version": "2.3.4"
  }
 },
 "nbformat": 4,
 "nbformat_minor": 5
}