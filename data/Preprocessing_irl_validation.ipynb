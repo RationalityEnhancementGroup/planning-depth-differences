{
 "cells": [
  {
   "cell_type": "code",
   "execution_count": 1,
   "id": "e89c1cc2",
   "metadata": {
    "execution": {
     "iopub.execute_input": "2022-06-12T19:44:54.501881Z",
     "iopub.status.busy": "2022-06-12T19:44:54.499282Z",
     "iopub.status.idle": "2022-06-12T19:44:55.144419Z",
     "shell.execute_reply": "2022-06-12T19:44:55.143500Z"
    },
    "jupyter": {
     "outputs_hidden": false
    },
    "papermill": {
     "duration": 0.666075,
     "end_time": "2022-06-12T19:44:55.146648",
     "exception": false,
     "start_time": "2022-06-12T19:44:54.480573",
     "status": "completed"
    },
    "pycharm": {
     "name": "#%%\n"
    },
    "tags": [
     "parameters"
    ]
   },
   "outputs": [],
   "source": [
    "from pathlib import Path\n",
    "import pandas as pd\n",
    "import numpy as np\n",
    "from download_tools.plugins.mouselab_mdp import preprocess_mouselab_data, add_click_count_columns\n",
    "from download_tools.plugins.survey_html_form import process_html_demographics\n",
    "from download_tools.plugins.survey_multi_choice import score_mouselab_questionnaires, get_mouselab_quiz_name, get_quiz_passer_ids, score_row\n",
    "from download_tools.plugins.survey_text import preprocess_survey_text, get_old_demographics\n",
    "from download_tools.plugins.utils import get_demo_string\n",
    "\n",
    "from datetime import datetime\n",
    "import json"
   ]
  },
  {
   "cell_type": "code",
   "execution_count": 2,
   "id": "38ba822b",
   "metadata": {
    "execution": {
     "iopub.execute_input": "2022-06-12T19:44:55.157798Z",
     "iopub.status.busy": "2022-06-12T19:44:55.157414Z",
     "iopub.status.idle": "2022-06-12T19:44:55.169278Z",
     "shell.execute_reply": "2022-06-12T19:44:55.168227Z"
    },
    "papermill": {
     "duration": 0.020826,
     "end_time": "2022-06-12T19:44:55.171541",
     "exception": false,
     "start_time": "2022-06-12T19:44:55.150715",
     "status": "completed"
    },
    "tags": [
     "injected-parameters"
    ],
    "pycharm": {
     "name": "#%%\n"
    }
   },
   "outputs": [],
   "source": [
    "# Parameters\n",
    "database_key = \"NEW\"\n",
    "bonus_function = \"lambda row: round(.002*([350, 600, 100, 600, 850, 350, 850, 1100, 600, 1100, 1350, 850, 350, 600, 100, 600, 850, 350, 850, 1100, 600, 1100, 1350, 850][int(row[\\\"cond\\\"])]+row[\\\"score\\\"]),2)\"\n",
    "simulated = False\n",
    "sessions = [\"irl_validation\"]\n",
    "experiment_setting = \"high_increasing\"\n",
    "COST = {\"irlexp9_23\": [5, 10, 2, 5, 10, 2, 5, 10, 2, 5, 10, 2, 5, 10, 2, 5, 10, 2, 5, 10, 2, 5, 10, 2]}\n",
    "DEPTH = {\"irlexp9_23\": [0, 0, 0, 2, 2, 2, 5, 5, 5, 10, 10, 10, 0, 0, 0, 2, 2, 2, 5, 5, 5, 10, 10, 10]}\n",
    "html_survey_names = {}\n",
    "old_experiment = False\n",
    "manual_age_mapping = {}\n",
    "experiment_specific_mapping = {}\n",
    "trials_per_block = {\"test\": 15, \"training\": 20, \"fairy\": 15}\n",
    "ranges_to_extract = None\n",
    "mouselab_column_identifier = \"name\"\n",
    "mouselab_mapping = {\"0.0-1.*-1.*\": \"mouselab-quiz-pre\", \"0.0-3.*-5*\": \"mouselab-quiz-post\", \"0.0-3.*-6*\": \"mouselab-quiz-post\", \"0.0-3.*-3*\": \"mouselab-fairy\", \"0.0-3.*-2*\": \"mouselab-fairy\"}\n",
    "max_attempts = {\"mouselab-quiz-pre\": 4, \"mouselab-quiz-post\": 1, \"mouselab-fairy\": 4}\n",
    "passing_score = {\"mouselab-quiz-pre\": 5, \"mouselab-quiz-post\": 0, \"mouselab-fairy\": 3}\n",
    "mouselab_quiz_solutions = {\"mouselab-fairy\": {\"Q0\": \"No\", \"Q1\": \"No, the cost is always $1.00.\", \"Q2\": \"There is no limit\"}, \"mouselab-quiz-pre\": {\"Q0\": \"$-48 to $48\", \"Q1\": \"No, the cost is always $1.00.\", \"Q2\": \"There is no limit\", \"Q3\": \"The better I perform the higher my bonus will be.\", \"Q4\": \"No, the amount of cash at each node of the web may be different each time.\"}, \"mouselab-quiz-post\": {\"Q0\": \"$-4 to $4\", \"Q1\": \"$-8 to $8\", \"Q2\": \"$-48 to $48\", \"Q3\": \"No, the cost is always $1.00.\", \"Q4\": {\"Very unmotivated\": -2, \"Slightly unmotivated\": -1, \"Neither motivated nor unmotivated\": 0, \"Slightly motivated\": 1, \"Very motivated\": 2, \"\": 0}}}\n",
    "ground_truth_file = \"312_2_4_24\"\n",
    "node_classification = {\"early\": [1, 5, 9], \"middle\": [2, 6, 10], \"late\": [3, 4, 7, 8, 11, 12], \"clicks\": [1, 5, 9, 2, 6, 10, 3, 4, 7, 8, 11, 12]}\n",
    "structure = \"312_2_4_24\"\n",
    "analysis_run = \"irl_validation\"\n",
    "data_path = \"/home/vfelso/github/irl-project/data\"\n"
   ]
  },
  {
   "cell_type": "code",
   "execution_count": 3,
   "id": "58664dbf",
   "metadata": {
    "execution": {
     "iopub.execute_input": "2022-06-12T19:44:55.181356Z",
     "iopub.status.busy": "2022-06-12T19:44:55.181029Z",
     "iopub.status.idle": "2022-06-12T19:44:55.186754Z",
     "shell.execute_reply": "2022-06-12T19:44:55.185695Z"
    },
    "jupyter": {
     "outputs_hidden": false
    },
    "papermill": {
     "duration": 0.013193,
     "end_time": "2022-06-12T19:44:55.188816",
     "exception": false,
     "start_time": "2022-06-12T19:44:55.175623",
     "status": "completed"
    },
    "pycharm": {
     "name": "#%%\n"
    },
    "tags": []
   },
   "outputs": [],
   "source": [
    "# paths to use\n",
    "inputs_path = Path(data_path).joinpath('inputs')\n",
    "raw_data_path = Path(data_path).joinpath('raw')\n",
    "processed_data_path = Path(data_path).joinpath(f'processed/{analysis_run}')\n",
    "processed_data_path.mkdir(parents=True, exist_ok=True)"
   ]
  },
  {
   "cell_type": "code",
   "execution_count": 4,
   "id": "ad5c19f8",
   "metadata": {
    "execution": {
     "iopub.execute_input": "2022-06-12T19:44:55.199715Z",
     "iopub.status.busy": "2022-06-12T19:44:55.198656Z",
     "iopub.status.idle": "2022-06-12T19:44:55.204976Z",
     "shell.execute_reply": "2022-06-12T19:44:55.203994Z"
    },
    "papermill": {
     "duration": 0.014327,
     "end_time": "2022-06-12T19:44:55.207282",
     "exception": false,
     "start_time": "2022-06-12T19:44:55.192955",
     "status": "completed"
    },
    "pycharm": {
     "name": "#%%\n"
    },
    "tags": []
   },
   "outputs": [],
   "source": [
    "with open(inputs_path.joinpath(f\"exp_inputs/rewards/{ground_truth_file}.json\")) as json_file:\n",
    "    ground_truths = json.load(json_file)"
   ]
  },
  {
   "cell_type": "code",
   "execution_count": 5,
   "id": "6abb614d",
   "metadata": {
    "execution": {
     "iopub.execute_input": "2022-06-12T19:44:55.217773Z",
     "iopub.status.busy": "2022-06-12T19:44:55.217430Z",
     "iopub.status.idle": "2022-06-12T19:44:55.538954Z",
     "shell.execute_reply": "2022-06-12T19:44:55.537751Z"
    },
    "jupyter": {
     "outputs_hidden": false
    },
    "papermill": {
     "duration": 0.329868,
     "end_time": "2022-06-12T19:44:55.541721",
     "exception": false,
     "start_time": "2022-06-12T19:44:55.211853",
     "status": "completed"
    },
    "pycharm": {
     "name": "#%%\n"
    },
    "tags": []
   },
   "outputs": [],
   "source": [
    "# load data\n",
    "full_data = {}\n",
    "\n",
    "# read in sessions\n",
    "for run in sessions:\n",
    "    for file_path in raw_data_path.glob(f\"{run}/*.csv\"):\n",
    "        # don't want to save identifiable bonuses\n",
    "        # file, information is already in data\n",
    "        if \"bonuses\" not in str(file_path):\n",
    "            file_name = file_path.stem\n",
    "            curr_data_frame = pd.read_csv(file_path)\n",
    "            curr_data_frame[\"run\"] = run\n",
    "            if file_name not in full_data:\n",
    "                full_data[file_name] = [curr_data_frame]\n",
    "            else:\n",
    "                full_data[file_name].append(curr_data_frame)\n",
    "\n",
    "full_data = {k: pd.concat(v) for k,v in full_data.items()}"
   ]
  },
  {
   "cell_type": "code",
   "execution_count": 6,
   "id": "de2188c8",
   "metadata": {
    "execution": {
     "iopub.execute_input": "2022-06-12T19:44:55.554599Z",
     "iopub.status.busy": "2022-06-12T19:44:55.554214Z",
     "iopub.status.idle": "2022-06-12T19:44:55.640292Z",
     "shell.execute_reply": "2022-06-12T19:44:55.639498Z"
    },
    "jupyter": {
     "outputs_hidden": false
    },
    "papermill": {
     "duration": 0.094774,
     "end_time": "2022-06-12T19:44:55.642091",
     "exception": false,
     "start_time": "2022-06-12T19:44:55.547317",
     "status": "completed"
    },
    "pycharm": {
     "name": "#%%\n"
    },
    "tags": []
   },
   "outputs": [
    {
     "name": "stdout",
     "output_type": "stream",
     "text": [
      "                 index       cond  counterbalance  bonus    status  \\\n",
      "DEPTH COST                                                           \n",
      "0     2     228.500000   8.000000             0.0    0.0  3.000000   \n",
      "      5     200.500000   6.000000             0.0    0.0  3.000000   \n",
      "      10    214.500000   7.000000             0.0    0.0  3.000000   \n",
      "2     2     261.413793  10.793103             0.0    0.0  3.103448   \n",
      "      5     242.500000   9.000000             0.0    0.0  3.000000   \n",
      "      10    259.370370  10.222222             0.0    0.0  3.000000   \n",
      "5     2     312.500000  14.000000             0.0    0.0  3.000000   \n",
      "      5     281.344828  11.793103             0.0    0.0  3.000000   \n",
      "      10    298.500000  13.000000             0.0    0.0  3.000000   \n",
      "10    2     354.500000  17.000000             0.0    0.0  3.000000   \n",
      "      5     326.500000  15.000000             0.0    0.0  3.000000   \n",
      "      10    340.500000  16.000000             0.0    0.0  3.000000   \n",
      "\n",
      "                    pid  MIN_TIME  FAIRY_GOD_CONDITION  inspectCost  \\\n",
      "DEPTH COST                                                            \n",
      "0     2     2493.464286       7.0             0.500000          1.0   \n",
      "      5     2600.071429       7.0             0.500000          1.0   \n",
      "      10    2552.107143       7.0             0.500000          1.0   \n",
      "2     2     2570.724138       7.0             0.482759          1.0   \n",
      "      5     2603.857143       7.0             0.500000          1.0   \n",
      "      10    2545.925926       7.0             0.518519          1.0   \n",
      "5     2     2528.535714       7.0             0.500000          1.0   \n",
      "      5     2555.620690       7.0             0.482759          1.0   \n",
      "      10    2526.178571       7.0             0.500000          1.0   \n",
      "10    2     2603.178571       7.0             0.500000          1.0   \n",
      "      5     2518.250000       7.0             0.500000          1.0   \n",
      "      10    2550.285714       7.0             0.500000          1.0   \n",
      "\n",
      "            bonusRate  branching  first_trial  final_bonus  displayed_bonus  \\\n",
      "DEPTH COST                                                                    \n",
      "0     2         0.002      312.0     0.535714     2.965357         2.965357   \n",
      "      5         0.002      312.0     0.500000     3.790417         3.790417   \n",
      "      10        0.002      312.0     0.571429     4.244074         4.199630   \n",
      "2     2         0.002      312.0     0.620690     3.516786         3.516786   \n",
      "      5         0.002      312.0     0.357143     4.081667         4.081667   \n",
      "      10        0.002      312.0     0.518519     4.262692         4.197308   \n",
      "5     2         0.002      312.0     0.571429     3.650370         3.650370   \n",
      "      5         0.002      312.0     0.448276     3.770000         3.644074   \n",
      "      10        0.002      312.0     0.357143     4.488929         4.488929   \n",
      "10    2         0.002      312.0     0.392857     3.688462         3.688462   \n",
      "      5         0.002      312.0     0.392857     4.041852         3.960370   \n",
      "      10        0.002      312.0     0.571429     4.223462         4.223462   \n",
      "\n",
      "            time_diff  \n",
      "DEPTH COST             \n",
      "0     2     23.417857  \n",
      "      5     24.971429  \n",
      "      10    27.977976  \n",
      "2     2     26.367241  \n",
      "      5     28.651786  \n",
      "      10    36.461728  \n",
      "5     2     33.178571  \n",
      "      5     26.733333  \n",
      "      10    29.971429  \n",
      "10    2     27.217857  \n",
      "      5     29.088690  \n",
      "      10    26.888095  \n"
     ]
    }
   ],
   "source": [
    "individual_variables = full_data[\"general_info\"].merge(full_data[\"question_data\"], on=[\"pid\",\"run\"])\n",
    "\n",
    "time_format = '%Y-%m-%d %H:%M:%S.%f'\n",
    "finished_df = individual_variables[individual_variables[\"endhit\"].apply(lambda endhit: isinstance(endhit, str))].reset_index()\n",
    "finished_df[\"time_diff\"] = finished_df.apply(lambda row: ((datetime.strptime(row[\"endhit\"], time_format) - datetime.strptime(row[\"beginhit\"], time_format)).seconds % 3600 )/ 60.0, axis=1)\n",
    "individual_variables = individual_variables.merge(finished_df[[\"time_diff\", \"pid\", \"run\"]], how=\"left\", on=[\"pid\", \"run\"])\n",
    "\n",
    "# check saved cost makes sense\n",
    "if (COST is not None) and (DEPTH is not None):\n",
    "    if isinstance(COST, dict):\n",
    "        assert(np.all(individual_variables.apply(lambda row: row[\"COST\"] == COST[row[\"codeversion\"]][int(row[\"cond\"])],axis=1)))\n",
    "    else:\n",
    "        unique_costs = np.unique(individual_variables[\"COST\"])\n",
    "        assert(len(unique_costs) == 1)\n",
    "        assert(unique_costs[0] == COST)\n",
    "    if DEPTH:\n",
    "        if isinstance(DEPTH, dict):\n",
    "            assert(np.all(individual_variables.apply(lambda row: row[\"DEPTH\"] == DEPTH[row[\"codeversion\"]][int(row[\"cond\"])],axis=1)))\n",
    "        else:\n",
    "            unique_costs = np.unique(individual_variables[\"DEPTH\"])\n",
    "            assert(len(unique_costs) == 1)\n",
    "            assert(unique_costs[0] == DEPTH)\n",
    "    print(finished_df.groupby([\"DEPTH\", \"COST\"]).mean())\n",
    "else:\n",
    "    print(finished_df.groupby([\"cond\"]).mean())"
   ]
  },
  {
   "cell_type": "code",
   "execution_count": 7,
   "id": "5cdf6d99",
   "metadata": {
    "execution": {
     "iopub.execute_input": "2022-06-12T19:44:55.651798Z",
     "iopub.status.busy": "2022-06-12T19:44:55.651435Z",
     "iopub.status.idle": "2022-06-12T19:44:55.778438Z",
     "shell.execute_reply": "2022-06-12T19:44:55.777495Z"
    },
    "jupyter": {
     "outputs_hidden": false
    },
    "papermill": {
     "duration": 0.134376,
     "end_time": "2022-06-12T19:44:55.780572",
     "exception": false,
     "start_time": "2022-06-12T19:44:55.646196",
     "status": "completed"
    },
    "pycharm": {
     "name": "#%%\n"
    },
    "tags": []
   },
   "outputs": [
    {
     "name": "stdout",
     "output_type": "stream",
     "text": [
      "197 females, 143 males, 2 others; median age 40, age range 19-78\n"
     ]
    }
   ],
   "source": [
    "survey_texts = preprocess_survey_text(full_data[\"survey-text\"])\n",
    "\n",
    "if old_experiment:\n",
    "    demographics, demo_text = get_old_demographics(survey_texts, experiment_specific_gender=experiment_specific_mapping, manual_age_mapping=manual_age_mapping)\n",
    "else:\n",
    "    html_survey = full_data[\"survey-html-form\"]\n",
    "    if len(html_survey_names) > 0:\n",
    "        if \"name\" not in html_survey:\n",
    "            html_survey[\"name\"] = np.nan\n",
    "\n",
    "        html_survey[\"name\"] = html_survey.apply(\n",
    "            lambda row: get_mouselab_quiz_name(row, html_survey_names[row[\"run\"]]) if not isinstance(row[\"name\"], str) else row[\"name\"],\n",
    "            axis=1)\n",
    "        demographics, demo_text = process_html_demographics(html_survey[html_survey[\"name\"] == \"demographics\"])\n",
    "        full_data[\"survey-multi-choice\"] = pd.concat([full_data[\"survey-multi-choice\"], html_survey[html_survey[\"name\"] != \"demographics\"]])\n",
    "    else:\n",
    "        demographics, demo_text = process_html_demographics(full_data[\"survey-html-form\"])\n",
    "    \n",
    "print(demo_text)"
   ]
  },
  {
   "cell_type": "code",
   "execution_count": 8,
   "id": "fa3a2b5a",
   "metadata": {
    "collapsed": false,
    "execution": {
     "iopub.execute_input": "2022-06-12T19:44:55.794943Z",
     "iopub.status.busy": "2022-06-12T19:44:55.794595Z",
     "iopub.status.idle": "2022-06-12T19:44:59.379871Z",
     "shell.execute_reply": "2022-06-12T19:44:59.378504Z"
    },
    "papermill": {
     "duration": 3.596646,
     "end_time": "2022-06-12T19:44:59.382324",
     "exception": false,
     "start_time": "2022-06-12T19:44:55.785678",
     "status": "completed"
    },
    "pycharm": {
     "name": "#%%\n"
    },
    "tags": []
   },
   "outputs": [],
   "source": [
    "mouselab_datas = preprocess_mouselab_data(full_data[\"mouselab-mdp\"],trials_per_block,ground_truths)\n",
    "\n",
    "mouselab_datas = mouselab_datas.merge(individual_variables, how=\"left\", on=[\"pid\", \"run\"])\n",
    "\n",
    "# path may contain a bunch of 0s at the start due to miscoding\n",
    "mouselab_datas[\"path\"] = mouselab_datas[\"path\"].apply(lambda path : eval(path)[-3:])\n",
    "\n",
    "node_classification = {key : [str(node) for node in val] for key, val in node_classification.items()}\n",
    "mouselab_datas = add_click_count_columns(mouselab_datas, node_classification)"
   ]
  },
  {
   "cell_type": "code",
   "execution_count": 9,
   "id": "ce242232",
   "metadata": {
    "collapsed": false,
    "execution": {
     "iopub.execute_input": "2022-06-12T19:44:59.394203Z",
     "iopub.status.busy": "2022-06-12T19:44:59.393846Z",
     "iopub.status.idle": "2022-06-12T19:44:59.401912Z",
     "shell.execute_reply": "2022-06-12T19:44:59.400730Z"
    },
    "papermill": {
     "duration": 0.016733,
     "end_time": "2022-06-12T19:44:59.404525",
     "exception": false,
     "start_time": "2022-06-12T19:44:59.387792",
     "status": "completed"
    },
    "pycharm": {
     "name": "#%%\n"
    },
    "tags": []
   },
   "outputs": [],
   "source": [
    "#TODO would be nice to refactor this out and import it\n",
    "def expand_range_dictionary(input_dictionary):\n",
    "    trial_to_block = {}\n",
    "    for block, trial_range in input_dictionary.items():\n",
    "        if isinstance(trial_range, str):\n",
    "            for trial_index in eval(trial_range):\n",
    "                trial_to_block[trial_index] = block\n",
    "        else:\n",
    "            trial_to_block[block] = expand_range_dictionary(trial_range)\n",
    "    return trial_to_block\n",
    "\n",
    "if ranges_to_extract:\n",
    "    trial_to_block = expand_range_dictionary(ranges_to_extract)\n",
    "\n",
    "    mouselab_datas[\"block\"] = mouselab_datas.apply(lambda row: trial_to_block[row[\"run\"]][row[\"trial_index\"]] if row[\"run\"] in trial_to_block else trial_to_block[row[\"trial_index\"]], axis=1)"
   ]
  },
  {
   "cell_type": "code",
   "execution_count": 10,
   "id": "f96f4a31",
   "metadata": {
    "collapsed": false,
    "execution": {
     "iopub.execute_input": "2022-06-12T19:44:59.416042Z",
     "iopub.status.busy": "2022-06-12T19:44:59.415595Z",
     "iopub.status.idle": "2022-06-12T19:44:59.969632Z",
     "shell.execute_reply": "2022-06-12T19:44:59.968712Z"
    },
    "papermill": {
     "duration": 0.562024,
     "end_time": "2022-06-12T19:44:59.971602",
     "exception": false,
     "start_time": "2022-06-12T19:44:59.409578",
     "status": "completed"
    },
    "pycharm": {
     "name": "#%%\n"
    },
    "tags": []
   },
   "outputs": [],
   "source": [
    "questionnaires = full_data[\"survey-multi-choice\"]\n",
    "\n",
    "if \"name\" not in questionnaires:\n",
    "    questionnaires[\"name\"] = np.nan\n",
    "\n",
    "questionnaires[\"name\"] = questionnaires.apply(\n",
    "    lambda row: get_mouselab_quiz_name(row, mouselab_mapping) if not isinstance(row[\"name\"], str) else row[\"name\"],\n",
    "    axis=1)\n",
    "\n",
    "mouselab_questionnaires = questionnaires[questionnaires[\"name\"].isin(mouselab_mapping.values())].reset_index()\n",
    "questionnaires = questionnaires[~questionnaires[\"name\"].isin(mouselab_mapping.values())].reset_index()\n",
    "\n",
    "mouselab_questionnaires[\"name\"] = mouselab_questionnaires.apply(lambda row: get_mouselab_quiz_name(row, mouselab_mapping) if not isinstance(row[\"name\"], str) else row[\"name\"],axis=1)\n",
    "mouselab_questionnaires = score_mouselab_questionnaires(mouselab_questionnaires, mouselab_quiz_solutions, mouselab_column_identifier)\n",
    "mouselab_quiz = mouselab_questionnaires.drop_duplicates([\"pid\",\"question_id\"], keep=\"last\")\n",
    "\n",
    "pivoted_mouselab_quiz = mouselab_quiz.pivot_table(values=\"score\", index=[\"pid\",\"run\"], columns=\"question_id\")"
   ]
  },
  {
   "cell_type": "code",
   "execution_count": 11,
   "id": "c469d545",
   "metadata": {
    "collapsed": false,
    "execution": {
     "iopub.execute_input": "2022-06-12T19:44:59.981740Z",
     "iopub.status.busy": "2022-06-12T19:44:59.981355Z",
     "iopub.status.idle": "2022-06-12T19:44:59.986034Z",
     "shell.execute_reply": "2022-06-12T19:44:59.985150Z"
    },
    "papermill": {
     "duration": 0.012084,
     "end_time": "2022-06-12T19:44:59.988148",
     "exception": false,
     "start_time": "2022-06-12T19:44:59.976064",
     "status": "completed"
    },
    "pycharm": {
     "name": "#%%\n"
    },
    "tags": []
   },
   "outputs": [],
   "source": [
    "if len(questionnaires)>0:\n",
    "    raise NotImplementedError"
   ]
  },
  {
   "cell_type": "code",
   "execution_count": 12,
   "id": "ae468a2f",
   "metadata": {
    "collapsed": false,
    "execution": {
     "iopub.execute_input": "2022-06-12T19:44:59.998136Z",
     "iopub.status.busy": "2022-06-12T19:44:59.997840Z",
     "iopub.status.idle": "2022-06-12T19:45:00.925641Z",
     "shell.execute_reply": "2022-06-12T19:45:00.924837Z"
    },
    "papermill": {
     "duration": 0.9352,
     "end_time": "2022-06-12T19:45:00.927667",
     "exception": false,
     "start_time": "2022-06-12T19:44:59.992467",
     "status": "completed"
    },
    "pycharm": {
     "name": "#%%\n"
    },
    "tags": []
   },
   "outputs": [
    {
     "name": "stderr",
     "output_type": "stream",
     "text": [
      "/home/vfelso/github/irl-project/venv/lib/python3.8/site-packages/download_tools/plugins/survey_multi_choice.py:220: SettingWithCopyWarning: \n",
      "A value is trying to be set on a copy of a slice from a DataFrame.\n",
      "Try using .loc[row_indexer,col_indexer] = value instead\n",
      "\n",
      "See the caveats in the documentation: https://pandas.pydata.org/pandas-docs/stable/user_guide/indexing.html#returning-a-view-versus-a-copy\n",
      "  survey_data[\"attempt_num\"] = survey_data[\"internal_node_id\"].apply(\n"
     ]
    },
    {
     "name": "stdout",
     "output_type": "stream",
     "text": [
      "335\n"
     ]
    }
   ],
   "source": [
    "quiz_passers = get_quiz_passer_ids(mouselab_questionnaires, max_attempts=max_attempts, passing_score=passing_score, identifying_columns = [\"pid\", \"run\"])\n",
    "passed_all_quizzes = list(set.intersection(*map(set,quiz_passers.values())))\n",
    "print(len(passed_all_quizzes))\n",
    "pivoted_mouselab_quiz[\"passed_quizzes\"] = 0\n",
    "pivoted_mouselab_quiz.loc[passed_all_quizzes, \"passed_quizzes\"] = 1"
   ]
  },
  {
   "cell_type": "code",
   "execution_count": 13,
   "id": "abf642c2",
   "metadata": {
    "collapsed": false,
    "execution": {
     "iopub.execute_input": "2022-06-12T19:45:00.943869Z",
     "iopub.status.busy": "2022-06-12T19:45:00.943572Z",
     "iopub.status.idle": "2022-06-12T19:45:02.372133Z",
     "shell.execute_reply": "2022-06-12T19:45:02.371288Z"
    },
    "papermill": {
     "duration": 1.440852,
     "end_time": "2022-06-12T19:45:02.374193",
     "exception": false,
     "start_time": "2022-06-12T19:45:00.933341",
     "status": "completed"
    },
    "pycharm": {
     "name": "#%%\n"
    },
    "tags": []
   },
   "outputs": [
    {
     "name": "stdout",
     "output_type": "stream",
     "text": [
      "192 females, 141 males, 2 others; median age 40, age range 19-78\n"
     ]
    }
   ],
   "source": [
    "quiz_and_demo = pivoted_mouselab_quiz.join(demographics)\n",
    "quiz_and_demo = quiz_and_demo.merge(individual_variables, how=\"left\", on=[\"pid\", \"run\"])\n",
    "\n",
    "quiz_and_demo_subselection = quiz_and_demo[quiz_and_demo.apply(lambda row: (row[\"pid\"], row[\"run\"]) in \\\n",
    "                                 passed_all_quizzes, axis=1)]\n",
    "\n",
    "gender_values, gender_counts = np.unique(quiz_and_demo_subselection[\"gender\"].values, return_counts = True)\n",
    "print(get_demo_string(list(map(int, quiz_and_demo_subselection[\"age\"].values)), gender_counts, gender_values))\n",
    "\n",
    "\n",
    "if len(questionnaires)>0:\n",
    "    scored_questionnaire_df.to_csv(processed_data_path.joinpath(\"questionnaires.csv\"))\n",
    "quiz_and_demo[quiz_and_demo.apply(lambda row: (row[\"pid\"], row[\"run\"]) in \\\n",
    "                                 passed_all_quizzes, axis=1)].to_csv(processed_data_path.joinpath(\"quiz-and-demo.csv\"))\n",
    "mouselab_datas[mouselab_datas.apply(lambda row: (row[\"pid\"], row[\"run\"]) in \\\n",
    "                                 passed_all_quizzes, axis=1)].to_csv(processed_data_path.joinpath(\"mouselab-mdp.csv\"))\n",
    "survey_texts[survey_texts.apply(lambda row: (row[\"pid\"], row[\"run\"]) in \\\n",
    "                                 passed_all_quizzes, axis=1)].to_csv(processed_data_path.joinpath(\"survey-text.csv\"))\n",
    "individual_variables[individual_variables.apply(lambda row: (row[\"pid\"], row[\"run\"]) in \\\n",
    "                                 passed_all_quizzes, axis=1)].to_csv(processed_data_path.joinpath(\"individual-variables.csv\"))"
   ]
  },
  {
   "cell_type": "code",
   "execution_count": null,
   "outputs": [],
   "source": [
    "median_info = finished_df[finished_df.apply(lambda row: (row[\"pid\"], row[\"run\"]) in \\\n",
    "                                 passed_all_quizzes, axis=1)].median()\n",
    "print(f\"median time: {median_info['time_diff']:.2f}, median bonus: {median_info['final_bonus']:.2f}\")"
   ],
   "metadata": {
    "collapsed": false,
    "pycharm": {
     "name": "#%%\n"
    }
   }
  },
  {
   "cell_type": "code",
   "execution_count": 14,
   "id": "6449adea",
   "metadata": {
    "collapsed": false,
    "execution": {
     "iopub.execute_input": "2022-06-12T19:45:02.384535Z",
     "iopub.status.busy": "2022-06-12T19:45:02.384233Z",
     "iopub.status.idle": "2022-06-12T19:45:02.414221Z",
     "shell.execute_reply": "2022-06-12T19:45:02.412963Z"
    },
    "papermill": {
     "duration": 0.037848,
     "end_time": "2022-06-12T19:45:02.416696",
     "exception": false,
     "start_time": "2022-06-12T19:45:02.378848",
     "status": "completed"
    },
    "pycharm": {
     "name": "#%%\n"
    },
    "tags": []
   },
   "outputs": [
    {
     "name": "stdout",
     "output_type": "stream",
     "text": [
      "median time: 25.65, median bonus: 4.20\n"
     ]
    },
    {
     "name": "stderr",
     "output_type": "stream",
     "text": [
      "/tmp/ipykernel_32592/3139374600.py:1: FutureWarning: Dropping of nuisance columns in DataFrame reductions (with 'numeric_only=None') is deprecated; in a future version this will raise TypeError.  Select only valid columns before calling the reduction.\n",
      "  median_info = finished_df[finished_df.apply(lambda row: (row[\"pid\"], row[\"run\"]) in \\\n"
     ]
    }
   ],
   "source": [
    "median_info = finished_df[finished_df.apply(lambda row: (row[\"pid\"], row[\"run\"]) in \\\n",
    "                                 passed_all_quizzes, axis=1)].median()\n",
    "print(f\"median time: {median_info['time_diff']:.2f}, median bonus: {median_info['final_bonus']:.2f}\")"
   ]
  }
 ],
 "metadata": {
  "kernelspec": {
   "display_name": "irl-project",
   "language": "python",
   "name": "irl-project"
  },
  "language_info": {
   "codemirror_mode": {
    "name": "ipython",
    "version": 3
   },
   "file_extension": ".py",
   "mimetype": "text/x-python",
   "name": "python",
   "nbconvert_exporter": "python",
   "pygments_lexer": "ipython3",
   "version": "3.8.10"
  },
  "papermill": {
   "default_parameters": {},
   "duration": 9.743912,
   "end_time": "2022-06-12T19:45:02.946002",
   "environment_variables": {},
   "exception": null,
   "input_path": "templates/preprocessing_human.ipynb",
   "output_path": "/home/vfelso/github/irl-project/data/Preprocessing_irl_validation.ipynb",
   "parameters": {
    "COST": {
     "irlexp9_23": [
      5,
      10,
      2,
      5,
      10,
      2,
      5,
      10,
      2,
      5,
      10,
      2,
      5,
      10,
      2,
      5,
      10,
      2,
      5,
      10,
      2,
      5,
      10,
      2
     ]
    },
    "DEPTH": {
     "irlexp9_23": [
      0,
      0,
      0,
      2,
      2,
      2,
      5,
      5,
      5,
      10,
      10,
      10,
      0,
      0,
      0,
      2,
      2,
      2,
      5,
      5,
      5,
      10,
      10,
      10
     ]
    },
    "analysis_run": "irl_validation",
    "bonus_function": "lambda row: round(.002*([350, 600, 100, 600, 850, 350, 850, 1100, 600, 1100, 1350, 850, 350, 600, 100, 600, 850, 350, 850, 1100, 600, 1100, 1350, 850][int(row[\"cond\"])]+row[\"score\"]),2)",
    "data_path": "/home/vfelso/github/irl-project/data",
    "database_key": "NEW",
    "experiment_setting": "high_increasing",
    "experiment_specific_mapping": {},
    "ground_truth_file": "312_2_4_24",
    "html_survey_names": {},
    "manual_age_mapping": {},
    "max_attempts": {
     "mouselab-fairy": 4,
     "mouselab-quiz-post": 1,
     "mouselab-quiz-pre": 4
    },
    "mouselab_column_identifier": "name",
    "mouselab_mapping": {
     "0.0-1.*-1.*": "mouselab-quiz-pre",
     "0.0-3.*-2*": "mouselab-fairy",
     "0.0-3.*-3*": "mouselab-fairy",
     "0.0-3.*-5*": "mouselab-quiz-post",
     "0.0-3.*-6*": "mouselab-quiz-post"
    },
    "mouselab_quiz_solutions": {
     "mouselab-fairy": {
      "Q0": "No",
      "Q1": "No, the cost is always $1.00.",
      "Q2": "There is no limit"
     },
     "mouselab-quiz-post": {
      "Q0": "$-4 to $4",
      "Q1": "$-8 to $8",
      "Q2": "$-48 to $48",
      "Q3": "No, the cost is always $1.00.",
      "Q4": {
       "": 0,
       "Neither motivated nor unmotivated": 0,
       "Slightly motivated": 1,
       "Slightly unmotivated": -1,
       "Very motivated": 2,
       "Very unmotivated": -2
      }
     },
     "mouselab-quiz-pre": {
      "Q0": "$-48 to $48",
      "Q1": "No, the cost is always $1.00.",
      "Q2": "There is no limit",
      "Q3": "The better I perform the higher my bonus will be.",
      "Q4": "No, the amount of cash at each node of the web may be different each time."
     }
    },
    "node_classification": {
     "clicks": [
      1,
      5,
      9,
      2,
      6,
      10,
      3,
      4,
      7,
      8,
      11,
      12
     ],
     "early": [
      1,
      5,
      9
     ],
     "late": [
      3,
      4,
      7,
      8,
      11,
      12
     ],
     "middle": [
      2,
      6,
      10
     ]
    },
    "old_experiment": false,
    "passing_score": {
     "mouselab-fairy": 3,
     "mouselab-quiz-post": 0,
     "mouselab-quiz-pre": 5
    },
    "ranges_to_extract": null,
    "sessions": [
     "irl_validation"
    ],
    "simulated": false,
    "structure": "312_2_4_24",
    "trials_per_block": {
     "fairy": 15,
     "test": 15,
     "training": 20
    }
   },
   "start_time": "2022-06-12T19:44:53.202090",
   "version": "2.3.4"
  }
 },
 "nbformat": 4,
 "nbformat_minor": 5
}