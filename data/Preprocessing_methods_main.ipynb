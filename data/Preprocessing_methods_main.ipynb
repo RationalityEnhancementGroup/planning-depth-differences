{
 "cells": [
  {
   "cell_type": "code",
   "execution_count": 1,
   "id": "459e39e5",
   "metadata": {
    "execution": {
     "iopub.execute_input": "2022-06-12T19:45:13.530682Z",
     "iopub.status.busy": "2022-06-12T19:45:13.529435Z",
     "iopub.status.idle": "2022-06-12T19:45:14.178403Z",
     "shell.execute_reply": "2022-06-12T19:45:14.177475Z"
    },
    "jupyter": {
     "outputs_hidden": false
    },
    "papermill": {
     "duration": 0.669395,
     "end_time": "2022-06-12T19:45:14.180609",
     "exception": false,
     "start_time": "2022-06-12T19:45:13.511214",
     "status": "completed"
    },
    "pycharm": {
     "name": "#%%\n"
    },
    "tags": [
     "parameters"
    ]
   },
   "outputs": [],
   "source": [
    "from pathlib import Path\n",
    "import pandas as pd\n",
    "import numpy as np\n",
    "from download_tools.plugins.mouselab_mdp import preprocess_mouselab_data, add_click_count_columns\n",
    "from download_tools.plugins.survey_html_form import process_html_demographics\n",
    "from download_tools.plugins.survey_multi_choice import score_mouselab_questionnaires, get_mouselab_quiz_name, get_quiz_passer_ids, score_row\n",
    "from download_tools.plugins.survey_text import preprocess_survey_text, get_old_demographics\n",
    "from download_tools.plugins.utils import get_demo_string\n",
    "\n",
    "from datetime import datetime\n",
    "import json"
   ]
  },
  {
   "cell_type": "code",
   "execution_count": 2,
   "id": "14ee13cc",
   "metadata": {
    "execution": {
     "iopub.execute_input": "2022-06-12T19:45:14.190042Z",
     "iopub.status.busy": "2022-06-12T19:45:14.189669Z",
     "iopub.status.idle": "2022-06-12T19:45:14.205373Z",
     "shell.execute_reply": "2022-06-12T19:45:14.204402Z"
    },
    "papermill": {
     "duration": 0.02264,
     "end_time": "2022-06-12T19:45:14.207448",
     "exception": false,
     "start_time": "2022-06-12T19:45:14.184808",
     "status": "completed"
    },
    "tags": [
     "injected-parameters"
    ],
    "pycharm": {
     "name": "#%%\n"
    }
   },
   "outputs": [],
   "source": [
    "# Parameters\n",
    "database_key = \"NEW\"\n",
    "bonus_function = \"lambda row: round((row[\\\"score\\\"] + 50) * .002, 2)\"\n",
    "simulated = False\n",
    "sessions = [\"methods_main\", \"methods_main_extension\"]\n",
    "experiment_setting = \"high_increasing\"\n",
    "COST = {\"irlexp10_1\": [0, 0, 0, 0, 0, 0, 0, 0, 0, 0, 0, 0, 0, 0, 0, 0, 0, 0, 0, 0, 0, 0, 0, 0]}\n",
    "DEPTH = {\"irlexp10_1\": [0, 0, 0, 0, 0, 0, 0, 0, 0, 0, 0, 0, 0, 0, 0, 0, 0, 0, 0, 0, 0, 0, 0, 0]}\n",
    "html_survey_names = {}\n",
    "old_experiment = False\n",
    "manual_age_mapping = {}\n",
    "experiment_specific_mapping = {}\n",
    "trials_per_block = {\"test\": 20, \"training\": 20}\n",
    "ranges_to_extract = None\n",
    "mouselab_column_identifier = \"name\"\n",
    "mouselab_mapping = {\"0.0-1.*-1.*\": \"mouselab-quiz-pre\", \"0.0-3.*-3*\": \"mouselab-quiz-post\", \"0.0-3.*-2*\": \"mouselab-quiz-post\"}\n",
    "max_attempts = {\"mouselab-quiz-pre\": 4, \"mouselab-quiz-post\": 1}\n",
    "passing_score = {\"mouselab-quiz-pre\": 5, \"mouselab-quiz-post\": 0}\n",
    "mouselab_quiz_solutions = {\"mouselab-quiz-pre\": {\"Q0\": \"$-48 to $48\", \"Q1\": \"No, the cost is always $1.00.\", \"Q2\": \"There is no limit\", \"Q3\": \"The better I perform the higher my bonus will be.\", \"Q4\": \"No, the amount of cash at each node of the web may be different each time.\"}, \"mouselab-quiz-post\": {\"Q0\": \"$-4 to $4\", \"Q1\": \"$-8 to $8\", \"Q2\": \"$-48 to $48\", \"Q3\": \"No, the cost is always $1.00.\", \"Q4\": {\"Very unmotivated\": -2, \"Slightly unmotivated\": -1, \"Neither motivated nor unmotivated\": 0, \"Slightly motivated\": 1, \"Very motivated\": 2, \"\": 0}}}\n",
    "ground_truth_file = \"312_2_4_24\"\n",
    "node_classification = {\"early\": [1, 5, 9], \"middle\": [2, 6, 10], \"late\": [3, 4, 7, 8, 11, 12], \"clicks\": [1, 5, 9, 2, 6, 10, 3, 4, 7, 8, 11, 12]}\n",
    "structure = \"312_2_4_24\"\n",
    "analysis_run = \"methods_main\"\n",
    "data_path = \"/home/vfelso/github/planning-depth-differences/data\"\n"
   ]
  },
  {
   "cell_type": "code",
   "execution_count": 3,
   "id": "bc9c6cfe",
   "metadata": {
    "execution": {
     "iopub.execute_input": "2022-06-12T19:45:14.217435Z",
     "iopub.status.busy": "2022-06-12T19:45:14.217110Z",
     "iopub.status.idle": "2022-06-12T19:45:14.222949Z",
     "shell.execute_reply": "2022-06-12T19:45:14.221981Z"
    },
    "jupyter": {
     "outputs_hidden": false
    },
    "papermill": {
     "duration": 0.013358,
     "end_time": "2022-06-12T19:45:14.224992",
     "exception": false,
     "start_time": "2022-06-12T19:45:14.211634",
     "status": "completed"
    },
    "pycharm": {
     "name": "#%%\n"
    },
    "tags": []
   },
   "outputs": [],
   "source": [
    "# paths to use\n",
    "inputs_path = Path(data_path).joinpath('inputs')\n",
    "raw_data_path = Path(data_path).joinpath('raw')\n",
    "processed_data_path = Path(data_path).joinpath(f'processed/{analysis_run}')\n",
    "processed_data_path.mkdir(parents=True, exist_ok=True)"
   ]
  },
  {
   "cell_type": "code",
   "execution_count": 4,
   "id": "35634fbc",
   "metadata": {
    "execution": {
     "iopub.execute_input": "2022-06-12T19:45:14.234485Z",
     "iopub.status.busy": "2022-06-12T19:45:14.234154Z",
     "iopub.status.idle": "2022-06-12T19:45:14.239902Z",
     "shell.execute_reply": "2022-06-12T19:45:14.238925Z"
    },
    "papermill": {
     "duration": 0.01291,
     "end_time": "2022-06-12T19:45:14.241917",
     "exception": false,
     "start_time": "2022-06-12T19:45:14.229007",
     "status": "completed"
    },
    "pycharm": {
     "name": "#%%\n"
    },
    "tags": []
   },
   "outputs": [],
   "source": [
    "with open(inputs_path.joinpath(f\"exp_inputs/rewards/{ground_truth_file}.json\")) as json_file:\n",
    "    ground_truths = json.load(json_file)"
   ]
  },
  {
   "cell_type": "code",
   "execution_count": 5,
   "id": "00a76187",
   "metadata": {
    "execution": {
     "iopub.execute_input": "2022-06-12T19:45:14.251814Z",
     "iopub.status.busy": "2022-06-12T19:45:14.251429Z",
     "iopub.status.idle": "2022-06-12T19:45:14.454948Z",
     "shell.execute_reply": "2022-06-12T19:45:14.453999Z"
    },
    "jupyter": {
     "outputs_hidden": false
    },
    "papermill": {
     "duration": 0.21113,
     "end_time": "2022-06-12T19:45:14.457144",
     "exception": false,
     "start_time": "2022-06-12T19:45:14.246014",
     "status": "completed"
    },
    "pycharm": {
     "name": "#%%\n"
    },
    "tags": []
   },
   "outputs": [],
   "source": [
    "# load data\n",
    "full_data = {}\n",
    "\n",
    "# read in sessions\n",
    "for run in sessions:\n",
    "    for file_path in raw_data_path.glob(f\"{run}/*.csv\"):\n",
    "        # don't want to save identifiable bonuses\n",
    "        # file, information is already in data\n",
    "        if \"bonuses\" not in str(file_path):\n",
    "            file_name = file_path.stem\n",
    "            curr_data_frame = pd.read_csv(file_path)\n",
    "            curr_data_frame[\"run\"] = run\n",
    "            if file_name not in full_data:\n",
    "                full_data[file_name] = [curr_data_frame]\n",
    "            else:\n",
    "                full_data[file_name].append(curr_data_frame)\n",
    "\n",
    "full_data = {k: pd.concat(v) for k,v in full_data.items()}"
   ]
  },
  {
   "cell_type": "code",
   "execution_count": 6,
   "id": "8ad29f0c",
   "metadata": {
    "execution": {
     "iopub.execute_input": "2022-06-12T19:45:14.468498Z",
     "iopub.status.busy": "2022-06-12T19:45:14.468119Z",
     "iopub.status.idle": "2022-06-12T19:45:14.515251Z",
     "shell.execute_reply": "2022-06-12T19:45:14.514315Z"
    },
    "jupyter": {
     "outputs_hidden": false
    },
    "papermill": {
     "duration": 0.056498,
     "end_time": "2022-06-12T19:45:14.517659",
     "exception": false,
     "start_time": "2022-06-12T19:45:14.461161",
     "status": "completed"
    },
    "pycharm": {
     "name": "#%%\n"
    },
    "tags": []
   },
   "outputs": [
    {
     "name": "stdout",
     "output_type": "stream",
     "text": [
      "                 index       cond  counterbalance  bonus  status          pid  \\\n",
      "DEPTH COST                                                                      \n",
      "0     0     102.888889  11.355556             0.0    0.0     3.0  2252.140741   \n",
      "\n",
      "            MIN_TIME  inspectCost  bonusRate  branching  final_bonus  \\\n",
      "DEPTH COST                                                             \n",
      "0     0          7.0          1.0      0.002      312.0     2.692984   \n",
      "\n",
      "            displayed_bonus  time_diff  \n",
      "DEPTH COST                              \n",
      "0     0            2.687339  15.115309  \n"
     ]
    }
   ],
   "source": [
    "individual_variables = full_data[\"general_info\"].merge(full_data[\"question_data\"], on=[\"pid\",\"run\"])\n",
    "\n",
    "time_format = '%Y-%m-%d %H:%M:%S.%f'\n",
    "finished_df = individual_variables[individual_variables[\"endhit\"].apply(lambda endhit: isinstance(endhit, str))].reset_index()\n",
    "finished_df[\"time_diff\"] = finished_df.apply(lambda row: ((datetime.strptime(row[\"endhit\"], time_format) - datetime.strptime(row[\"beginhit\"], time_format)).seconds % 3600 )/ 60.0, axis=1)\n",
    "individual_variables = individual_variables.merge(finished_df[[\"time_diff\", \"pid\", \"run\"]], how=\"left\", on=[\"pid\", \"run\"])\n",
    "\n",
    "# check saved cost makes sense\n",
    "if (COST is not None) and (DEPTH is not None):\n",
    "    if isinstance(COST, dict):\n",
    "        assert(np.all(individual_variables.apply(lambda row: row[\"COST\"] == COST[row[\"codeversion\"]][int(row[\"cond\"])],axis=1)))\n",
    "    else:\n",
    "        unique_costs = np.unique(individual_variables[\"COST\"])\n",
    "        assert(len(unique_costs) == 1)\n",
    "        assert(unique_costs[0] == COST)\n",
    "    if DEPTH:\n",
    "        if isinstance(DEPTH, dict):\n",
    "            assert(np.all(individual_variables.apply(lambda row: row[\"DEPTH\"] == DEPTH[row[\"codeversion\"]][int(row[\"cond\"])],axis=1)))\n",
    "        else:\n",
    "            unique_costs = np.unique(individual_variables[\"DEPTH\"])\n",
    "            assert(len(unique_costs) == 1)\n",
    "            assert(unique_costs[0] == DEPTH)\n",
    "    print(finished_df.groupby([\"DEPTH\", \"COST\"]).mean())\n",
    "else:\n",
    "    print(finished_df.groupby([\"cond\"]).mean())"
   ]
  },
  {
   "cell_type": "code",
   "execution_count": 7,
   "id": "9fb5e7fe",
   "metadata": {
    "execution": {
     "iopub.execute_input": "2022-06-12T19:45:14.531760Z",
     "iopub.status.busy": "2022-06-12T19:45:14.530790Z",
     "iopub.status.idle": "2022-06-12T19:45:14.629528Z",
     "shell.execute_reply": "2022-06-12T19:45:14.628186Z"
    },
    "jupyter": {
     "outputs_hidden": false
    },
    "papermill": {
     "duration": 0.108885,
     "end_time": "2022-06-12T19:45:14.632608",
     "exception": false,
     "start_time": "2022-06-12T19:45:14.523723",
     "status": "completed"
    },
    "pycharm": {
     "name": "#%%\n"
    },
    "tags": []
   },
   "outputs": [
    {
     "name": "stdout",
     "output_type": "stream",
     "text": [
      "56 females, 74 males, 1 others; median age 42, age range 20-75\n"
     ]
    }
   ],
   "source": [
    "survey_texts = preprocess_survey_text(full_data[\"survey-text\"])\n",
    "\n",
    "if old_experiment:\n",
    "    demographics, demo_text = get_old_demographics(survey_texts, experiment_specific_gender=experiment_specific_mapping, manual_age_mapping=manual_age_mapping)\n",
    "else:\n",
    "    html_survey = full_data[\"survey-html-form\"]\n",
    "    if len(html_survey_names) > 0:\n",
    "        if \"name\" not in html_survey:\n",
    "            html_survey[\"name\"] = np.nan\n",
    "\n",
    "        html_survey[\"name\"] = html_survey.apply(\n",
    "            lambda row: get_mouselab_quiz_name(row, html_survey_names[row[\"run\"]]) if not isinstance(row[\"name\"], str) else row[\"name\"],\n",
    "            axis=1)\n",
    "        demographics, demo_text = process_html_demographics(html_survey[html_survey[\"name\"] == \"demographics\"])\n",
    "        full_data[\"survey-multi-choice\"] = pd.concat([full_data[\"survey-multi-choice\"], html_survey[html_survey[\"name\"] != \"demographics\"]])\n",
    "    else:\n",
    "        demographics, demo_text = process_html_demographics(full_data[\"survey-html-form\"])\n",
    "    \n",
    "print(demo_text)"
   ]
  },
  {
   "cell_type": "code",
   "execution_count": 8,
   "id": "6033c5b5",
   "metadata": {
    "collapsed": false,
    "execution": {
     "iopub.execute_input": "2022-06-12T19:45:14.647936Z",
     "iopub.status.busy": "2022-06-12T19:45:14.647494Z",
     "iopub.status.idle": "2022-06-12T19:45:15.839058Z",
     "shell.execute_reply": "2022-06-12T19:45:15.838115Z"
    },
    "papermill": {
     "duration": 1.201967,
     "end_time": "2022-06-12T19:45:15.841496",
     "exception": false,
     "start_time": "2022-06-12T19:45:14.639529",
     "status": "completed"
    },
    "pycharm": {
     "name": "#%%\n"
    },
    "tags": []
   },
   "outputs": [],
   "source": [
    "mouselab_datas = preprocess_mouselab_data(full_data[\"mouselab-mdp\"],trials_per_block,ground_truths)\n",
    "\n",
    "mouselab_datas = mouselab_datas.merge(individual_variables, how=\"left\", on=[\"pid\", \"run\"])\n",
    "\n",
    "# path may contain a bunch of 0s at the start due to miscoding\n",
    "mouselab_datas[\"path\"] = mouselab_datas[\"path\"].apply(lambda path : eval(path)[-3:])\n",
    "\n",
    "node_classification = {key : [str(node) for node in val] for key, val in node_classification.items()}\n",
    "mouselab_datas = add_click_count_columns(mouselab_datas, node_classification)"
   ]
  },
  {
   "cell_type": "code",
   "execution_count": 9,
   "id": "8e523714",
   "metadata": {
    "collapsed": false,
    "execution": {
     "iopub.execute_input": "2022-06-12T19:45:15.857004Z",
     "iopub.status.busy": "2022-06-12T19:45:15.856654Z",
     "iopub.status.idle": "2022-06-12T19:45:15.864026Z",
     "shell.execute_reply": "2022-06-12T19:45:15.862816Z"
    },
    "papermill": {
     "duration": 0.020061,
     "end_time": "2022-06-12T19:45:15.866543",
     "exception": false,
     "start_time": "2022-06-12T19:45:15.846482",
     "status": "completed"
    },
    "pycharm": {
     "name": "#%%\n"
    },
    "tags": []
   },
   "outputs": [],
   "source": [
    "#TODO would be nice to refactor this out and import it\n",
    "def expand_range_dictionary(input_dictionary):\n",
    "    trial_to_block = {}\n",
    "    for block, trial_range in input_dictionary.items():\n",
    "        if isinstance(trial_range, str):\n",
    "            for trial_index in eval(trial_range):\n",
    "                trial_to_block[trial_index] = block\n",
    "        else:\n",
    "            trial_to_block[block] = expand_range_dictionary(trial_range)\n",
    "    return trial_to_block\n",
    "\n",
    "if ranges_to_extract:\n",
    "    trial_to_block = expand_range_dictionary(ranges_to_extract)\n",
    "\n",
    "    mouselab_datas[\"block\"] = mouselab_datas.apply(lambda row: trial_to_block[row[\"run\"]][row[\"trial_index\"]] if row[\"run\"] in trial_to_block else trial_to_block[row[\"trial_index\"]], axis=1)"
   ]
  },
  {
   "cell_type": "code",
   "execution_count": 10,
   "id": "0e741893",
   "metadata": {
    "collapsed": false,
    "execution": {
     "iopub.execute_input": "2022-06-12T19:45:15.877678Z",
     "iopub.status.busy": "2022-06-12T19:45:15.877339Z",
     "iopub.status.idle": "2022-06-12T19:45:16.097748Z",
     "shell.execute_reply": "2022-06-12T19:45:16.096878Z"
    },
    "papermill": {
     "duration": 0.228566,
     "end_time": "2022-06-12T19:45:16.099865",
     "exception": false,
     "start_time": "2022-06-12T19:45:15.871299",
     "status": "completed"
    },
    "pycharm": {
     "name": "#%%\n"
    },
    "tags": []
   },
   "outputs": [],
   "source": [
    "questionnaires = full_data[\"survey-multi-choice\"]\n",
    "\n",
    "if \"name\" not in questionnaires:\n",
    "    questionnaires[\"name\"] = np.nan\n",
    "\n",
    "questionnaires[\"name\"] = questionnaires.apply(\n",
    "    lambda row: get_mouselab_quiz_name(row, mouselab_mapping) if not isinstance(row[\"name\"], str) else row[\"name\"],\n",
    "    axis=1)\n",
    "\n",
    "mouselab_questionnaires = questionnaires[questionnaires[\"name\"].isin(mouselab_mapping.values())].reset_index()\n",
    "questionnaires = questionnaires[~questionnaires[\"name\"].isin(mouselab_mapping.values())].reset_index()\n",
    "\n",
    "mouselab_questionnaires[\"name\"] = mouselab_questionnaires.apply(lambda row: get_mouselab_quiz_name(row, mouselab_mapping) if not isinstance(row[\"name\"], str) else row[\"name\"],axis=1)\n",
    "mouselab_questionnaires = score_mouselab_questionnaires(mouselab_questionnaires, mouselab_quiz_solutions, mouselab_column_identifier)\n",
    "mouselab_quiz = mouselab_questionnaires.drop_duplicates([\"pid\",\"question_id\"], keep=\"last\")\n",
    "\n",
    "pivoted_mouselab_quiz = mouselab_quiz.pivot_table(values=\"score\", index=[\"pid\",\"run\"], columns=\"question_id\")"
   ]
  },
  {
   "cell_type": "code",
   "execution_count": 11,
   "id": "1805f3d8",
   "metadata": {
    "collapsed": false,
    "execution": {
     "iopub.execute_input": "2022-06-12T19:45:16.112456Z",
     "iopub.status.busy": "2022-06-12T19:45:16.112138Z",
     "iopub.status.idle": "2022-06-12T19:45:16.117366Z",
     "shell.execute_reply": "2022-06-12T19:45:16.116208Z"
    },
    "papermill": {
     "duration": 0.014849,
     "end_time": "2022-06-12T19:45:16.119613",
     "exception": false,
     "start_time": "2022-06-12T19:45:16.104764",
     "status": "completed"
    },
    "pycharm": {
     "name": "#%%\n"
    },
    "tags": []
   },
   "outputs": [],
   "source": [
    "if len(questionnaires)>0:\n",
    "    raise NotImplementedError"
   ]
  },
  {
   "cell_type": "code",
   "execution_count": 12,
   "id": "9833532a",
   "metadata": {
    "collapsed": false,
    "execution": {
     "iopub.execute_input": "2022-06-12T19:45:16.130532Z",
     "iopub.status.busy": "2022-06-12T19:45:16.130202Z",
     "iopub.status.idle": "2022-06-12T19:45:16.529514Z",
     "shell.execute_reply": "2022-06-12T19:45:16.528453Z"
    },
    "papermill": {
     "duration": 0.406877,
     "end_time": "2022-06-12T19:45:16.531308",
     "exception": false,
     "start_time": "2022-06-12T19:45:16.124431",
     "status": "completed"
    },
    "pycharm": {
     "name": "#%%\n"
    },
    "tags": []
   },
   "outputs": [
    {
     "name": "stderr",
     "output_type": "stream",
     "text": [
      "/home/vfelso/github/planning-depth-differences/venv/lib/python3.8/site-packages/download_tools/plugins/survey_multi_choice.py:220: SettingWithCopyWarning: \n",
      "A value is trying to be set on a copy of a slice from a DataFrame.\n",
      "Try using .loc[row_indexer,col_indexer] = value instead\n",
      "\n",
      "See the caveats in the documentation: https://pandas.pydata.org/pandas-docs/stable/user_guide/indexing.html#returning-a-view-versus-a-copy\n",
      "  survey_data[\"attempt_num\"] = survey_data[\"internal_node_id\"].apply(\n"
     ]
    },
    {
     "name": "stdout",
     "output_type": "stream",
     "text": [
      "122\n"
     ]
    }
   ],
   "source": [
    "quiz_passers = get_quiz_passer_ids(mouselab_questionnaires, max_attempts=max_attempts, passing_score=passing_score, identifying_columns = [\"pid\", \"run\"])\n",
    "passed_all_quizzes = list(set.intersection(*map(set,quiz_passers.values())))\n",
    "print(len(passed_all_quizzes))\n",
    "pivoted_mouselab_quiz[\"passed_quizzes\"] = 0\n",
    "pivoted_mouselab_quiz.loc[passed_all_quizzes, \"passed_quizzes\"] = 1"
   ]
  },
  {
   "cell_type": "code",
   "execution_count": 13,
   "id": "67583b8e",
   "metadata": {
    "collapsed": false,
    "execution": {
     "iopub.execute_input": "2022-06-12T19:45:16.542253Z",
     "iopub.status.busy": "2022-06-12T19:45:16.541954Z",
     "iopub.status.idle": "2022-06-12T19:45:16.979681Z",
     "shell.execute_reply": "2022-06-12T19:45:16.978652Z"
    },
    "papermill": {
     "duration": 0.444978,
     "end_time": "2022-06-12T19:45:16.981674",
     "exception": false,
     "start_time": "2022-06-12T19:45:16.536696",
     "status": "completed"
    },
    "pycharm": {
     "name": "#%%\n"
    },
    "tags": []
   },
   "outputs": [
    {
     "name": "stdout",
     "output_type": "stream",
     "text": [
      "52 females, 69 males, 1 others; median age 42, age range 20-75\n"
     ]
    }
   ],
   "source": [
    "quiz_and_demo = pivoted_mouselab_quiz.join(demographics)\n",
    "quiz_and_demo = quiz_and_demo.merge(individual_variables, how=\"left\", on=[\"pid\", \"run\"])\n",
    "\n",
    "quiz_and_demo_subselection = quiz_and_demo[quiz_and_demo.apply(lambda row: (row[\"pid\"], row[\"run\"]) in \\\n",
    "                                 passed_all_quizzes, axis=1)]\n",
    "\n",
    "gender_values, gender_counts = np.unique(quiz_and_demo_subselection[\"gender\"].values, return_counts = True)\n",
    "print(get_demo_string(list(map(int, quiz_and_demo_subselection[\"age\"].values)), gender_counts, gender_values))\n",
    "\n",
    "\n",
    "if len(questionnaires)>0:\n",
    "    scored_questionnaire_df.to_csv(processed_data_path.joinpath(\"questionnaires.csv\"))\n",
    "quiz_and_demo[quiz_and_demo.apply(lambda row: (row[\"pid\"], row[\"run\"]) in \\\n",
    "                                 passed_all_quizzes, axis=1)].to_csv(processed_data_path.joinpath(\"quiz-and-demo.csv\"))\n",
    "mouselab_datas[mouselab_datas.apply(lambda row: (row[\"pid\"], row[\"run\"]) in \\\n",
    "                                 passed_all_quizzes, axis=1)].to_csv(processed_data_path.joinpath(\"mouselab-mdp.csv\"))\n",
    "survey_texts[survey_texts.apply(lambda row: (row[\"pid\"], row[\"run\"]) in \\\n",
    "                                 passed_all_quizzes, axis=1)].to_csv(processed_data_path.joinpath(\"survey-text.csv\"))\n",
    "individual_variables[individual_variables.apply(lambda row: (row[\"pid\"], row[\"run\"]) in \\\n",
    "                                 passed_all_quizzes, axis=1)].to_csv(processed_data_path.joinpath(\"individual-variables.csv\"))"
   ]
  },
  {
   "cell_type": "code",
   "execution_count": null,
   "outputs": [],
   "source": [
    "median_info = finished_df[finished_df.apply(lambda row: (row[\"pid\"], row[\"run\"]) in \\\n",
    "                                 passed_all_quizzes, axis=1)].median()\n",
    "print(f\"median time: {median_info['time_diff']:.2f}, median bonus: {median_info['final_bonus']:.2f}\")"
   ],
   "metadata": {
    "collapsed": false,
    "pycharm": {
     "name": "#%%\n"
    }
   }
  }
 ],
 "metadata": {
  "kernelspec": {
   "display_name": "planning-depth-differences",
   "language": "python",
   "name": "planning-depth-differences"
  },
  "language_info": {
   "codemirror_mode": {
    "name": "ipython",
    "version": 3
   },
   "file_extension": ".py",
   "mimetype": "text/x-python",
   "name": "python",
   "nbconvert_exporter": "python",
   "pygments_lexer": "ipython3",
   "version": "3.8.10"
  },
  "papermill": {
   "default_parameters": {},
   "duration": 5.243689,
   "end_time": "2022-06-12T19:45:17.444201",
   "environment_variables": {},
   "exception": null,
   "input_path": "templates/preprocessing_human.ipynb",
   "output_path": "/home/vfelso/github/planning-depth-differences/data/Preprocessing_methods_main.ipynb",
   "parameters": {
    "COST": {
     "irlexp10_1": [
      0,
      0,
      0,
      0,
      0,
      0,
      0,
      0,
      0,
      0,
      0,
      0,
      0,
      0,
      0,
      0,
      0,
      0,
      0,
      0,
      0,
      0,
      0,
      0
     ]
    },
    "DEPTH": {
     "irlexp10_1": [
      0,
      0,
      0,
      0,
      0,
      0,
      0,
      0,
      0,
      0,
      0,
      0,
      0,
      0,
      0,
      0,
      0,
      0,
      0,
      0,
      0,
      0,
      0,
      0
     ]
    },
    "analysis_run": "methods_main",
    "bonus_function": "lambda row: round((row[\"score\"] + 50) * .002, 2)",
    "data_path": "/home/vfelso/github/planning-depth-differences/data",
    "database_key": "NEW",
    "experiment_setting": "high_increasing",
    "experiment_specific_mapping": {},
    "ground_truth_file": "312_2_4_24",
    "html_survey_names": {},
    "manual_age_mapping": {},
    "max_attempts": {
     "mouselab-quiz-post": 1,
     "mouselab-quiz-pre": 4
    },
    "mouselab_column_identifier": "name",
    "mouselab_mapping": {
     "0.0-1.*-1.*": "mouselab-quiz-pre",
     "0.0-3.*-2*": "mouselab-quiz-post",
     "0.0-3.*-3*": "mouselab-quiz-post"
    },
    "mouselab_quiz_solutions": {
     "mouselab-quiz-post": {
      "Q0": "$-4 to $4",
      "Q1": "$-8 to $8",
      "Q2": "$-48 to $48",
      "Q3": "No, the cost is always $1.00.",
      "Q4": {
       "": 0,
       "Neither motivated nor unmotivated": 0,
       "Slightly motivated": 1,
       "Slightly unmotivated": -1,
       "Very motivated": 2,
       "Very unmotivated": -2
      }
     },
     "mouselab-quiz-pre": {
      "Q0": "$-48 to $48",
      "Q1": "No, the cost is always $1.00.",
      "Q2": "There is no limit",
      "Q3": "The better I perform the higher my bonus will be.",
      "Q4": "No, the amount of cash at each node of the web may be different each time."
     }
    },
    "node_classification": {
     "clicks": [
      1,
      5,
      9,
      2,
      6,
      10,
      3,
      4,
      7,
      8,
      11,
      12
     ],
     "early": [
      1,
      5,
      9
     ],
     "late": [
      3,
      4,
      7,
      8,
      11,
      12
     ],
     "middle": [
      2,
      6,
      10
     ]
    },
    "old_experiment": false,
    "passing_score": {
     "mouselab-quiz-post": 0,
     "mouselab-quiz-pre": 5
    },
    "ranges_to_extract": null,
    "sessions": [
     "methods_main",
     "methods_main_extension"
    ],
    "simulated": false,
    "structure": "312_2_4_24",
    "trials_per_block": {
     "test": 20,
     "training": 20
    }
   },
   "start_time": "2022-06-12T19:45:12.200512",
   "version": "2.3.4"
  }
 },
 "nbformat": 4,
 "nbformat_minor": 5
}
