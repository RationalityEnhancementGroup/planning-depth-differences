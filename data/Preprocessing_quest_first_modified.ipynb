{
 "cells": [
  {
   "cell_type": "code",
   "execution_count": 1,
   "id": "325e9db4",
   "metadata": {
    "execution": {
     "iopub.execute_input": "2022-09-07T08:14:01.235484Z",
     "iopub.status.busy": "2022-09-07T08:14:01.235129Z",
     "iopub.status.idle": "2022-09-07T08:14:01.738149Z",
     "shell.execute_reply": "2022-09-07T08:14:01.737268Z"
    },
    "jupyter": {
     "outputs_hidden": false
    },
    "papermill": {
     "duration": 0.513094,
     "end_time": "2022-09-07T08:14:01.741290",
     "exception": false,
     "start_time": "2022-09-07T08:14:01.228196",
     "status": "completed"
    },
    "pycharm": {
     "name": "#%%\n"
    },
    "tags": [
     "parameters"
    ]
   },
   "outputs": [],
   "source": [
    "from pathlib import Path\n",
    "import pandas as pd\n",
    "import numpy as np\n",
    "from datetime import datetime\n",
    "\n",
    "from download_tools.plugins.mouselab_mdp import preprocess_mouselab_data, add_click_count_columns\n",
    "from download_tools.plugins.survey_html_form import process_html_demographics\n",
    "from download_tools.plugins.survey_multi_choice import score_mouselab_questionnaires, get_mouselab_quiz_name, get_quiz_passer_ids, score_row, score_generic_questionnaires\n",
    "from download_tools.plugins.survey_text import preprocess_survey_text, get_old_demographics\n",
    "from download_tools.plugins.utils import get_demo_string\n",
    "\n",
    "from datetime import datetime\n",
    "import json\n",
    "import dill as pickle"
   ]
  },
  {
   "cell_type": "code",
   "execution_count": 2,
   "id": "a1483da8",
   "metadata": {
    "execution": {
     "iopub.execute_input": "2022-09-07T08:14:01.757980Z",
     "iopub.status.busy": "2022-09-07T08:14:01.757582Z",
     "iopub.status.idle": "2022-09-07T08:14:01.770373Z",
     "shell.execute_reply": "2022-09-07T08:14:01.769259Z"
    },
    "papermill": {
     "duration": 0.025576,
     "end_time": "2022-09-07T08:14:01.772632",
     "exception": false,
     "start_time": "2022-09-07T08:14:01.747056",
     "status": "completed"
    },
    "pycharm": {
     "name": "#%%\n"
    },
    "tags": [
     "injected-parameters"
    ]
   },
   "outputs": [],
   "source": [
    "# Parameters\n",
    "database_key = \"NEW\"\n",
    "participants_to_remove = [1640]\n",
    "simulated = False\n",
    "sessions = [\"QuestPilot1\", \"QuestPilot2\", \"QuestPilot3\"]\n",
    "questionnaire_files = {\"QuestPilot1\": \"questionnaires_json4\", \"QuestPilot2\": \"questionnaires_json3\", \"QuestPilot3\": \"questionnaires_json5\"}\n",
    "experiment_setting = \"high_increasing\"\n",
    "COST = None\n",
    "DEPTH = None\n",
    "html_survey_names = {\"QuestPilot2\": {\"0.0-4.0-18.0\": \"demographics\"}, \"QuestPilot3\": {\"0.0-4.0-18.0\": \"demographics\"}}\n",
    "num_parts = None\n",
    "old_experiment = [True, False, False]\n",
    "manual_age_mapping = {}\n",
    "experiment_specific_mapping = {}\n",
    "trials_per_block = {\"test\": 30}\n",
    "ranges_to_extract = {\"training\": \"range(20)\", \"test\": \"range(20,30)\"}\n",
    "mouselab_column_identifier = \"name\"\n",
    "mouselab_mapping = {\"0.0-2.*-1.*\": \"mouselab-quiz-pre\", \"0.0-4.0-2.0\": \"mouselab-quiz-post\", \"0.0-3.0-*.0\": \"mouselab-quiz-post\", \"0.0-19.*-2.*\": \"mouselab-quiz-post\", \"0.0-17.*-1.*\": \"mouselab-quiz-pre\"}\n",
    "max_attempts = {\"mouselab-quiz-pre\": 4, \"mouselab-quiz-post\": 1}\n",
    "passing_score = {\"mouselab-quiz-pre\": 4, \"mouselab-quiz-post\": 0}\n",
    "mouselab_quiz_solutions = {\"mouselab-quiz-pre\": {\"Q0\": \"$-48 to $48\", \"Q1\": \"$1\", \"Q2\": \"The better I perform the higher my bonus will be.\", \"Q3\": \"No, the amount of cash at each node of the web may be different each time.\"}, \"mouselab-quiz-post\": {\"Q0\": \"$-4 to $4\", \"Q1\": \"$-8 to $8\", \"Q2\": \"$-48 to $48\", \"Q3\": \"No, the cost is always $1.00.\", \"Q4\": {\"Very unmotivated\": -2, \"Slightly unmotivated\": -1, \"Neither motivated nor unmotivated\": 0, \"Slightly motivated\": 1, \"Very motivated\": 2, \"\": 0}}}\n",
    "crt_quiz_solutions = {\"crt1\": {\".10\": \"intuitive\", \"10\": \"intuitive\", \".05\": \"correct\", \"5\": \"correct\", \"\": \"no response\"}, \"crt2\": {\"100\": \"intuitive\", \"5\": \"correct\", \"\": \"no response\"}, \"crt3\": {\"24\": \"intuitive\", \"47\": \"correct\", \"\": \"no response\"}, \"crt4\": {\"9\": \"intuitive\", \"4\": \"correct\", \"\": \"no response\"}, \"crt5\": {\"30\": \"intuitive\", \"29\": \"correct\", \"\": \"no response\"}, \"crt6\": {\"10\": \"intuitive\", \"20\": \"correct\", \"\": \"no response\"}, \"crt7\": {\"is ahead of where he began\": \"intuitive\", \"has lost money\": \"correct\", \"\": \"no response\"}}\n",
    "ground_truth_file = \"312_2_4_24\"\n",
    "node_classification = {\"early\": [1, 5, 9], \"middle\": [2, 6, 10], \"late\": [3, 4, 7, 8, 11, 12], \"clicks\": [1, 5, 9, 2, 6, 10, 3, 4, 7, 8, 11, 12]}\n",
    "structure = \"312_2_4_24\"\n",
    "analysis_run = \"quest_first\"\n",
    "data_path = \"/home/vfelso/github/planning-depth-differences/data\""
   ]
  },
  {
   "cell_type": "code",
   "execution_count": 3,
   "id": "c2e76509",
   "metadata": {
    "execution": {
     "iopub.execute_input": "2022-09-07T08:14:01.785703Z",
     "iopub.status.busy": "2022-09-07T08:14:01.785385Z",
     "iopub.status.idle": "2022-09-07T08:14:01.791167Z",
     "shell.execute_reply": "2022-09-07T08:14:01.790178Z"
    },
    "jupyter": {
     "outputs_hidden": false
    },
    "papermill": {
     "duration": 0.013418,
     "end_time": "2022-09-07T08:14:01.793132",
     "exception": false,
     "start_time": "2022-09-07T08:14:01.779714",
     "status": "completed"
    },
    "pycharm": {
     "name": "#%%\n"
    },
    "tags": []
   },
   "outputs": [],
   "source": [
    "# paths to use\n",
    "inputs_path = Path(data_path).joinpath('inputs')\n",
    "raw_data_path = Path(data_path).joinpath('raw')\n",
    "processed_data_path = Path(data_path).joinpath(f'processed/{analysis_run}')\n",
    "processed_data_path.mkdir(parents=True, exist_ok=True)"
   ]
  },
  {
   "cell_type": "code",
   "execution_count": 4,
   "id": "9d062b30",
   "metadata": {
    "execution": {
     "iopub.execute_input": "2022-09-07T08:14:01.803013Z",
     "iopub.status.busy": "2022-09-07T08:14:01.802690Z",
     "iopub.status.idle": "2022-09-07T08:14:01.808797Z",
     "shell.execute_reply": "2022-09-07T08:14:01.807640Z"
    },
    "papermill": {
     "duration": 0.013381,
     "end_time": "2022-09-07T08:14:01.810787",
     "exception": false,
     "start_time": "2022-09-07T08:14:01.797406",
     "status": "completed"
    },
    "pycharm": {
     "name": "#%%\n"
    },
    "tags": []
   },
   "outputs": [],
   "source": [
    "with open(inputs_path.joinpath(f\"exp_inputs/rewards/{ground_truth_file}.json\")) as json_file:\n",
    "    ground_truths = json.load(json_file)"
   ]
  },
  {
   "cell_type": "code",
   "execution_count": 5,
   "id": "dcc190ef",
   "metadata": {
    "execution": {
     "iopub.execute_input": "2022-09-07T08:14:01.821191Z",
     "iopub.status.busy": "2022-09-07T08:14:01.820858Z",
     "iopub.status.idle": "2022-09-07T08:14:02.050147Z",
     "shell.execute_reply": "2022-09-07T08:14:02.049237Z"
    },
    "jupyter": {
     "outputs_hidden": false
    },
    "papermill": {
     "duration": 0.236699,
     "end_time": "2022-09-07T08:14:02.052308",
     "exception": false,
     "start_time": "2022-09-07T08:14:01.815609",
     "status": "completed"
    },
    "pycharm": {
     "name": "#%%\n"
    },
    "tags": []
   },
   "outputs": [],
   "source": [
    "# load data\n",
    "full_data = {}\n",
    "\n",
    "# read in sessions\n",
    "for run in sessions:\n",
    "    for file_path in raw_data_path.glob(f\"{run}/*.csv\"):\n",
    "        # don't want to save identifiable bonuses\n",
    "        # file, information is already in data\n",
    "        if \"bonuses\" not in str(file_path):\n",
    "            file_name = file_path.stem\n",
    "            curr_data_frame = pd.read_csv(file_path)\n",
    "            curr_data_frame[\"run\"] = run\n",
    "\n",
    "            # remove participant who answered they were too young\n",
    "            curr_data_frame = curr_data_frame[~curr_data_frame[\"pid\"].isin(participants_to_remove)]\n",
    "\n",
    "            if file_name not in full_data:\n",
    "                full_data[file_name] = [curr_data_frame]\n",
    "            else:\n",
    "                full_data[file_name].append(curr_data_frame)\n",
    "\n",
    "full_data = {k: pd.concat(v) for k,v in full_data.items()}"
   ]
  },
  {
   "cell_type": "code",
   "execution_count": 6,
   "id": "cff42bb8",
   "metadata": {
    "execution": {
     "iopub.execute_input": "2022-09-07T08:14:02.063018Z",
     "iopub.status.busy": "2022-09-07T08:14:02.062707Z",
     "iopub.status.idle": "2022-09-07T08:14:02.108645Z",
     "shell.execute_reply": "2022-09-07T08:14:02.107534Z"
    },
    "jupyter": {
     "outputs_hidden": false
    },
    "papermill": {
     "duration": 0.053861,
     "end_time": "2022-09-07T08:14:02.110814",
     "exception": false,
     "start_time": "2022-09-07T08:14:02.056953",
     "status": "completed"
    },
    "pycharm": {
     "name": "#%%\n"
    },
    "tags": []
   },
   "outputs": [
    {
     "name": "stdout",
     "output_type": "stream",
     "text": [
      "           index  counterbalance  bonus    status          pid  DEPTH  COST  \\\n",
      "cond                                                                          \n",
      "0      41.130435             0.0    0.0  3.782609  1661.565217    0.0   1.0   \n",
      "1      84.454545             0.0    0.0  3.000000  1414.090909    0.0   1.0   \n",
      "2      90.000000             0.0    0.0  3.000000  1419.636364    0.0   1.0   \n",
      "3     108.900000             0.0    0.0  3.000000  1361.300000    0.0   1.0   \n",
      "4     104.500000             0.0    0.0  3.000000  1410.000000    0.0   1.0   \n",
      "5     114.090909             0.0    0.0  3.000000  1395.454545    0.0   1.0   \n",
      "6     120.111111             0.0    0.0  3.000000  1396.111111    0.0   1.0   \n",
      "7     129.300000             0.0    0.0  3.000000  1382.100000    0.0   1.0   \n",
      "8     134.500000             0.0    0.0  3.000000  1387.300000    0.0   1.0   \n",
      "9     125.181818             0.0    0.0  3.000000  1455.363636    0.0   1.0   \n",
      "\n",
      "      MIN_TIME  inspectCost  bonusRate  branching  first_trial  final_bonus  \\\n",
      "cond                                                                          \n",
      "0          7.0          1.0      0.002      312.0     0.478261     2.156522   \n",
      "1          7.0          1.0      0.002      312.0     0.545455     1.996364   \n",
      "2          7.0          1.0      0.002      312.0     0.454545     2.285000   \n",
      "3          7.0          1.0      0.002      312.0     0.800000     2.283333   \n",
      "4          7.0          1.0      0.002      312.0     0.700000     2.043000   \n",
      "5          7.0          1.0      0.002      312.0     0.454545     2.856000   \n",
      "6          7.0          1.0      0.002      312.0     0.444444     2.702222   \n",
      "7          7.0          1.0      0.002      312.0     0.500000     2.095556   \n",
      "8          7.0          1.0      0.002      312.0     0.400000     2.698750   \n",
      "9          7.0          1.0      0.002      312.0     0.636364     1.847273   \n",
      "\n",
      "      displayed_bonus  time_diff  \n",
      "cond                              \n",
      "0            3.715455  32.068116  \n",
      "1            2.850909  30.671212  \n",
      "2            3.125000  27.316667  \n",
      "3            2.927778  32.875000  \n",
      "4            2.583000  31.978333  \n",
      "5            3.856000  32.756061  \n",
      "6            3.702222  39.185185  \n",
      "7            2.740000  31.165000  \n",
      "8            3.698750  42.963333  \n",
      "9            2.265455  27.472727  \n"
     ]
    }
   ],
   "source": [
    "individual_variables = full_data[\"general_info\"].merge(full_data[\"question_data\"], on=[\"pid\",\"run\"])\n",
    "\n",
    "time_format = '%Y-%m-%d %H:%M:%S.%f'\n",
    "finished_df = individual_variables[individual_variables[\"endhit\"].apply(lambda endhit: isinstance(endhit, str))].reset_index()\n",
    "finished_df[\"time_diff\"] = finished_df.apply(lambda row: ((datetime.strptime(row[\"endhit\"], time_format) - datetime.strptime(row[\"beginhit\"], time_format)).seconds % 3600 )/ 60.0, axis=1)\n",
    "individual_variables = individual_variables.merge(finished_df[[\"time_diff\", \"pid\", \"run\"]], how=\"left\", on=[\"pid\", \"run\"])\n",
    "\n",
    "# check saved cost makes sense\n",
    "if (COST is not None) and (DEPTH is not None):\n",
    "    if isinstance(COST, dict):\n",
    "        assert(np.all(individual_variables.apply(lambda row: row[\"COST\"] == COST[row[\"codeversion\"]][int(row[\"cond\"])],axis=1)))\n",
    "    else:\n",
    "        unique_costs = np.unique(individual_variables[\"COST\"])\n",
    "        assert(len(unique_costs) == 1)\n",
    "        assert(unique_costs[0] == COST)\n",
    "    if DEPTH:\n",
    "        if isinstance(DEPTH, dict):\n",
    "            assert(np.all(individual_variables.apply(lambda row: row[\"DEPTH\"] == DEPTH[row[\"codeversion\"]][int(row[\"cond\"])],axis=1)))\n",
    "        else:\n",
    "            unique_costs = np.unique(individual_variables[\"DEPTH\"])\n",
    "            assert(len(unique_costs) == 1)\n",
    "            assert(unique_costs[0] == DEPTH)\n",
    "    print(finished_df.groupby([\"DEPTH\", \"COST\"]).mean())\n",
    "else:\n",
    "    print(finished_df.groupby([\"cond\"]).mean())"
   ]
  },
  {
   "cell_type": "code",
   "execution_count": 7,
   "id": "5798937c",
   "metadata": {
    "execution": {
     "iopub.execute_input": "2022-09-07T08:14:02.121666Z",
     "iopub.status.busy": "2022-09-07T08:14:02.121255Z",
     "iopub.status.idle": "2022-09-07T08:14:02.149564Z",
     "shell.execute_reply": "2022-09-07T08:14:02.148456Z"
    },
    "papermill": {
     "duration": 0.038226,
     "end_time": "2022-09-07T08:14:02.153830",
     "exception": false,
     "start_time": "2022-09-07T08:14:02.115604",
     "status": "completed"
    },
    "pycharm": {
     "name": "#%%\n"
    },
    "tags": []
   },
   "outputs": [
    {
     "name": "stderr",
     "output_type": "stream",
     "text": [
      "/tmp/ipykernel_135841/3025913967.py:6: FutureWarning: Treating datetime data as categorical rather than numeric in `.describe` is deprecated and will be removed in a future version of pandas. Specify `datetime_is_numeric=True` to silence this warning and adopt the future behavior now.\n",
      "  individual_variables[\"beginhit\"].describe()\n"
     ]
    },
    {
     "data": {
      "text/plain": [
       "count                     233\n",
       "unique                      8\n",
       "top       2020-10-23 00:00:00\n",
       "freq                       91\n",
       "first     2020-10-07 00:00:00\n",
       "last      2020-11-03 00:00:00\n",
       "Name: beginhit, dtype: object"
      ]
     },
     "execution_count": 7,
     "metadata": {},
     "output_type": "execute_result"
    }
   ],
   "source": [
    "time_fields = {\"startTime\":lambda date: np.nan if not isinstance(date,str) else datetime.strptime(date[:15], \"%a %b %d %Y\") ,\"beginhit\":lambda date: np.nan if  not isinstance(date,str) else datetime.fromisoformat(date.split(\" \")[0]), \"beginexp\" : lambda date: np.nan if  not isinstance(date,str) else datetime.fromisoformat(date.split(\" \")[0]), \"endhit\" : lambda date: np.nan if  not isinstance(date,str) else datetime.fromisoformat(date.split(\" \")[0])}\n",
    "\n",
    "for time_field, time_func in time_fields.items():\n",
    "    individual_variables[time_field] = individual_variables[time_field].apply(time_func)\n",
    "\n",
    "individual_variables[\"beginhit\"].describe()"
   ]
  },
  {
   "cell_type": "code",
   "execution_count": 8,
   "id": "f1baa477",
   "metadata": {
    "execution": {
     "iopub.execute_input": "2022-09-07T08:14:02.178214Z",
     "iopub.status.busy": "2022-09-07T08:14:02.176696Z",
     "iopub.status.idle": "2022-09-07T08:14:02.187647Z",
     "shell.execute_reply": "2022-09-07T08:14:02.184986Z"
    },
    "papermill": {
     "duration": 0.029868,
     "end_time": "2022-09-07T08:14:02.193216",
     "exception": false,
     "start_time": "2022-09-07T08:14:02.163348",
     "status": "completed"
    },
    "pycharm": {
     "name": "#%%\n"
    },
    "tags": []
   },
   "outputs": [],
   "source": [
    "if not isinstance(old_experiment, list):\n",
    "    old_experiment = [old_experiment] * len(sessions)"
   ]
  },
  {
   "cell_type": "code",
   "execution_count": 9,
   "id": "bd811491",
   "metadata": {
    "execution": {
     "iopub.execute_input": "2022-09-07T08:14:02.217507Z",
     "iopub.status.busy": "2022-09-07T08:14:02.216842Z",
     "iopub.status.idle": "2022-09-07T08:14:02.371396Z",
     "shell.execute_reply": "2022-09-07T08:14:02.370397Z"
    },
    "jupyter": {
     "outputs_hidden": false
    },
    "papermill": {
     "duration": 0.170219,
     "end_time": "2022-09-07T08:14:02.373615",
     "exception": false,
     "start_time": "2022-09-07T08:14:02.203396",
     "status": "completed"
    },
    "pycharm": {
     "name": "#%%\n"
    },
    "tags": []
   },
   "outputs": [
    {
     "name": "stdout",
     "output_type": "stream",
     "text": [
      "5 females, 8 males; median age 40, age range 24-63\n",
      "37 females, 54 males; median age 31, age range 18-69\n",
      "42 females, 62 males; median age 32, age range 18-69\n"
     ]
    }
   ],
   "source": [
    "survey_texts = preprocess_survey_text(full_data[\"survey-text\"])\n",
    "\n",
    "if any(old_experiment):\n",
    "    old_runs = np.asarray(sessions)[old_experiment]\n",
    "    old_demographics, demo_text = get_old_demographics(survey_texts[survey_texts[\"run\"].isin(old_runs)], experiment_specific_gender=experiment_specific_mapping, manual_age_mapping=manual_age_mapping)\n",
    "    print(demo_text)\n",
    "\n",
    "new_runs =  np.asarray(sessions)[[not ex for ex in old_experiment]]\n",
    "html_survey = full_data[\"survey-html-form\"]\n",
    "if len(html_survey_names) > 0:\n",
    "    if \"name\" not in html_survey:\n",
    "        html_survey[\"name\"] = np.nan\n",
    "\n",
    "    html_survey[\"name\"] = html_survey.apply(\n",
    "        lambda row: get_mouselab_quiz_name(row, html_survey_names[row[\"run\"]]) if not isinstance(row[\"name\"], str) else row[\"name\"],\n",
    "        axis=1)\n",
    "    demographics, demo_text = process_html_demographics(html_survey[(html_survey[\"name\"] == \"demographics\")&(html_survey[\"run\"].isin(new_runs))])\n",
    "    full_data[\"survey-multi-choice\"] = pd.concat([full_data[\"survey-multi-choice\"], html_survey[html_survey[\"name\"] != \"demographics\"]])\n",
    "else:\n",
    "    demographics, demo_text = process_html_demographics(full_data[\"survey-html-form\"])\n",
    "\n",
    "print(demo_text)\n",
    "\n",
    "\n",
    "if any(old_experiment):\n",
    "    gender_name, gender_count = np.unique(pd.concat([old_demographics[\"Q2\"],demographics[\"gender\"]]), return_counts=True)\n",
    "    ages = pd.concat([old_demographics[\"Q1\"],demographics[\"age\"]]).apply(int)\n",
    "    print(get_demo_string(ages, gender_count, gender_name))"
   ]
  },
  {
   "cell_type": "code",
   "execution_count": 10,
   "id": "095f8558",
   "metadata": {
    "execution": {
     "iopub.execute_input": "2022-09-07T08:14:02.386803Z",
     "iopub.status.busy": "2022-09-07T08:14:02.386480Z",
     "iopub.status.idle": "2022-09-07T08:14:02.962656Z",
     "shell.execute_reply": "2022-09-07T08:14:02.961637Z"
    },
    "papermill": {
     "duration": 0.584715,
     "end_time": "2022-09-07T08:14:02.965000",
     "exception": false,
     "start_time": "2022-09-07T08:14:02.380285",
     "status": "completed"
    },
    "pycharm": {
     "name": "#%%\n"
    },
    "tags": []
   },
   "outputs": [],
   "source": [
    "mouselab_datas = preprocess_mouselab_data(full_data[\"mouselab-mdp\"],trials_per_block,ground_truths)\n",
    "\n",
    "mouselab_datas = mouselab_datas.merge(individual_variables, how=\"left\", on=[\"pid\", \"run\"])\n",
    "\n",
    "# path may contain a bunch of 0s at the start due to miscoding\n",
    "mouselab_datas[\"path\"] = mouselab_datas[\"path\"].apply(lambda path : eval(path)[-3:])\n",
    "\n",
    "node_classification = {key : [str(node) for node in val] for key, val in node_classification.items()}\n",
    "mouselab_datas = add_click_count_columns(mouselab_datas, node_classification)"
   ]
  },
  {
   "cell_type": "code",
   "execution_count": 11,
   "id": "b343471c",
   "metadata": {
    "execution": {
     "iopub.execute_input": "2022-09-07T08:14:02.984671Z",
     "iopub.status.busy": "2022-09-07T08:14:02.983894Z",
     "iopub.status.idle": "2022-09-07T08:14:03.102277Z",
     "shell.execute_reply": "2022-09-07T08:14:03.101312Z"
    },
    "papermill": {
     "duration": 0.133232,
     "end_time": "2022-09-07T08:14:03.104288",
     "exception": false,
     "start_time": "2022-09-07T08:14:02.971056",
     "status": "completed"
    },
    "pycharm": {
     "name": "#%%\n"
    },
    "tags": []
   },
   "outputs": [],
   "source": [
    "#TODO would be nice to refactor this out and import it\n",
    "def expand_range_dictionary(input_dictionary):\n",
    "    trial_to_block = {}\n",
    "    for block, trial_range in input_dictionary.items():\n",
    "        if isinstance(trial_range, str):\n",
    "            for trial_index in eval(trial_range):\n",
    "                trial_to_block[trial_index] = block\n",
    "        else:\n",
    "            trial_to_block[block] = expand_range_dictionary(trial_range)\n",
    "    return trial_to_block\n",
    "\n",
    "if ranges_to_extract:\n",
    "    trial_to_block = expand_range_dictionary(ranges_to_extract)\n",
    "\n",
    "    mouselab_datas[\"block\"] = mouselab_datas.apply(lambda row: trial_to_block[row[\"run\"]][row[\"trial_index\"]] if row[\"run\"] in trial_to_block else trial_to_block[row[\"trial_index\"]], axis=1)"
   ]
  },
  {
   "cell_type": "code",
   "execution_count": 12,
   "id": "4663113b",
   "metadata": {
    "execution": {
     "iopub.execute_input": "2022-09-07T08:14:03.121682Z",
     "iopub.status.busy": "2022-09-07T08:14:03.121372Z",
     "iopub.status.idle": "2022-09-07T08:14:03.384603Z",
     "shell.execute_reply": "2022-09-07T08:14:03.383678Z"
    },
    "papermill": {
     "duration": 0.277162,
     "end_time": "2022-09-07T08:14:03.386733",
     "exception": false,
     "start_time": "2022-09-07T08:14:03.109571",
     "status": "completed"
    },
    "pycharm": {
     "name": "#%%\n"
    },
    "tags": []
   },
   "outputs": [],
   "source": [
    "questionnaires = full_data[\"survey-multi-choice\"]\n",
    "\n",
    "if \"name\" not in questionnaires:\n",
    "    questionnaires[\"name\"] = np.nan\n",
    "\n",
    "questionnaires[\"name\"] = questionnaires.apply(\n",
    "    lambda row: get_mouselab_quiz_name(row, mouselab_mapping) if not isinstance(row[\"name\"], str) else row[\"name\"],\n",
    "    axis=1)\n",
    "\n",
    "mouselab_questionnaires = questionnaires[questionnaires[\"name\"].isin(mouselab_mapping.values())].reset_index()\n",
    "questionnaires = questionnaires[~questionnaires[\"name\"].isin(mouselab_mapping.values())].reset_index()\n",
    "\n",
    "mouselab_questionnaires[\"name\"] = mouselab_questionnaires.apply(lambda row: get_mouselab_quiz_name(row, mouselab_mapping) if not isinstance(row[\"name\"], str) else row[\"name\"],axis=1)\n",
    "mouselab_questionnaires = score_mouselab_questionnaires(mouselab_questionnaires, mouselab_quiz_solutions, mouselab_column_identifier)\n",
    "mouselab_quiz = mouselab_questionnaires.drop_duplicates([\"pid\",\"question_id\"], keep=\"last\")\n",
    "\n",
    "pivoted_mouselab_quiz = mouselab_quiz.pivot_table(values=\"score\", index=[\"pid\",\"run\"], columns=\"question_id\")"
   ]
  },
  {
   "cell_type": "code",
   "execution_count": 13,
   "id": "9414efed",
   "metadata": {
    "execution": {
     "iopub.execute_input": "2022-09-07T08:14:03.402901Z",
     "iopub.status.busy": "2022-09-07T08:14:03.402578Z",
     "iopub.status.idle": "2022-09-07T08:14:06.286151Z",
     "shell.execute_reply": "2022-09-07T08:14:06.284623Z"
    },
    "papermill": {
     "duration": 2.895818,
     "end_time": "2022-09-07T08:14:06.287879",
     "exception": true,
     "start_time": "2022-09-07T08:14:03.392061",
     "status": "failed"
    },
    "pycharm": {
     "name": "#%%\n"
    },
    "tags": []
   },
   "outputs": [],
   "source": [
    "if len(questionnaires)>0:\n",
    "    # remove potentially sensitive questionnaire\n",
    "    questionnaires = questionnaires[~questionnaires[\"name\"].isin(['decision-outcome'])]\n",
    "    questionnaire_files = {}\n",
    "    for session in sessions:\n",
    "        with open(inputs_path.joinpath(f\"questionnaire_files/solutions.pkl\"), \"rb\") as f:\n",
    "            questionnaires_presentation = pickle.load(f)\n",
    "        questionnaire_files[session] = {**questionnaires_presentation, **mouselab_quiz_solutions, **{\"crt\":crt_quiz_solutions}}\n",
    "    for run in sessions:\n",
    "        questionnaire_files[run]['UPPS-P'][\"catch.2\"] = {'Agree Strongly': 0,\n",
    "              'Agree Some': 0,\n",
    "              'Disagree Some': 1,\n",
    "              'Disagree Strongly': 0}\n",
    "    questionnaires[\"open_ended\"] = questionnaires[\"name\"].apply(lambda entry: entry in [\"crt\", \"mcq\"])#TODO\n",
    "    questionnaires[\"responses\"] = questionnaires[\"responses\"].apply(lambda entry: entry.replace(\"null\", \"None\").replace(\"”\",\"\").replace(\"“\",\"\") if isinstance(entry, str) else entry)"
   ]
  },
  {
   "cell_type": "markdown",
   "id": "ad1d3bcc",
   "metadata": {
    "pycharm": {
     "name": "#%% md\n"
    }
   },
   "source": [
    "# Add questionnaire names that we're missing in runs QuestPilot1 and QuestPilot 2 (by elimination)"
   ]
  },
  {
   "cell_type": "code",
   "execution_count": 14,
   "id": "95c7a0bd",
   "metadata": {
    "pycharm": {
     "name": "#%%\n"
    }
   },
   "outputs": [],
   "source": [
    "questionnaires[\"responses\"]=questionnaires[\"responses\"].apply(eval)"
   ]
  },
  {
   "cell_type": "code",
   "execution_count": 15,
   "id": "b0687baa",
   "metadata": {
    "pycharm": {
     "name": "#%%\n"
    }
   },
   "outputs": [],
   "source": [
    "# add questionnaire names that were missing (QuestPilot1, QuestPilot2)\n",
    "possible_questionnaires = questionnaires[~pd.isnull(questionnaires[\"name\"])][\"name\"].unique()\n",
    "\n",
    "all_possible_answers = {}\n",
    "for quest in questionnaire_files[\"QuestPilot3\"]:\n",
    "    all_possible_answers[quest] = set()\n",
    "    for item in questionnaire_files[\"QuestPilot3\"][quest]:\n",
    "        # only non-open ended questionnaires\n",
    "        if isinstance(questionnaire_files[\"QuestPilot3\"][quest][item], dict):\n",
    "            all_possible_answers[quest] = all_possible_answers[quest].union(set(questionnaire_files[\"QuestPilot3\"][quest][item].keys()))\n",
    "    if len(all_possible_answers[quest])==0:\n",
    "        del all_possible_answers[quest]\n",
    "\n",
    "all_possible_answers[\"MCQ\"] = ['larger reward in the specified number of day s',\n",
    "       'larger reward in the specified number of days',\n",
    "       'smaller reward today']\n",
    "\n",
    "second_iq_question = ['Richard is as tall as Matt', \"It's impossible to tell\",\n",
    "       'Richard is taller than Matt', 'Richard is shorter than Matt']"
   ]
  },
  {
   "cell_type": "code",
   "execution_count": 16,
   "id": "fe5d508c",
   "metadata": {
    "pycharm": {
     "name": "#%%\n"
    }
   },
   "outputs": [],
   "source": [
    "def label_iq(row):\n",
    "    if len(row[\"responses\"]) > 1:\n",
    "        if row[\"responses\"][1] in second_iq_question:\n",
    "            return \"IQ\"\n",
    "        else:\n",
    "            return row[\"name\"]\n",
    "    else:\n",
    "        return row[\"name\"]\n",
    "    \n",
    "def remove_null_quest_ids(row):\n",
    "    if isinstance(row[\"question_id\"], str):\n",
    "        if \"-1\" in row[\"question_id\"] or row[\"question_id\"] == \"nan\":\n",
    "            return np.nan\n",
    "        else:\n",
    "            return row[\"question_id\"]\n",
    "    else:\n",
    "        return row[\"question_id\"]\n",
    "    \n",
    "def add_questionnaire_id(row, all_possible_answers, possible_questionnaires, questionnaires_for_pid):\n",
    "    if isinstance(row[\"name\"], str):\n",
    "        return row[\"name\"]\n",
    "    else:\n",
    "        unique_responses = set(row[\"responses\"])\n",
    "        \n",
    "        # only non-open ended questionnaires\n",
    "        multiple_choice = [quest for quest in possible_questionnaires if quest in all_possible_answers.keys()]\n",
    "        \n",
    "        possible_questionnaires_for_pid = set(multiple_choice).difference(questionnaires_for_pid[row[\"pid\"]])\n",
    "\n",
    "        fitting_questionnaires_for_pid = [quest for quest in possible_questionnaires_for_pid if unique_responses.issubset(all_possible_answers[quest])]\n",
    "        \n",
    "        if len(fitting_questionnaires_for_pid)==1:\n",
    "            return fitting_questionnaires_for_pid[0]\n",
    "        else:\n",
    "            return row[\"name\"]\n",
    "        \n",
    "def fix_question_id(row):\n",
    "    if not pd.isnull(row[\"question_id\"]):\n",
    "        return row[\"question_id\"]\n",
    "    else:\n",
    "        if pd.isnull(row[\"name\"]):\n",
    "            return row[\"question_id\"]\n",
    "        else:\n",
    "            if (row[\"name\"] == \"MCQ\") & (row[\"run\"] == \"QuestPilot1\"):\n",
    "                return str(eval(questionnaire_id_mapping[row[\"name\"]])[:-1])\n",
    "            else:\n",
    "                return questionnaire_id_mapping[row[\"name\"]]"
   ]
  },
  {
   "cell_type": "code",
   "execution_count": 17,
   "id": "71e91be5",
   "metadata": {
    "pycharm": {
     "name": "#%%\n"
    }
   },
   "outputs": [],
   "source": [
    "questionnaires[\"question_id\"] = questionnaires.apply(remove_null_quest_ids, axis=1)\n",
    "questionnaires[\"responses\"] = questionnaires[\"responses\"].apply(lambda responses : list(responses.values()) if isinstance(responses, dict) else responses)\n",
    "\n",
    "questionnaires[\"name\"] =questionnaires.apply(label_iq, axis=1)\n",
    "\n",
    "# needs to be more than 1, 2 rows are unclassifiable\n",
    "for _ in range(3):\n",
    "    questionnaires_for_pid = {}\n",
    "    for pid in questionnaires[\"pid\"].unique():\n",
    "        questionnaires_for_pid[pid] = questionnaires[questionnaires[\"pid\"]==pid][\"name\"].unique()\n",
    "    questionnaires[\"name\"] = questionnaires.apply(lambda row: add_questionnaire_id(row, all_possible_answers, possible_questionnaires, questionnaires_for_pid), axis=1)"
   ]
  },
  {
   "cell_type": "markdown",
   "id": "e2f1046b",
   "metadata": {
    "pycharm": {
     "name": "#%% md\n"
    }
   },
   "source": [
    "# Fix question ids for scoring"
   ]
  },
  {
   "cell_type": "code",
   "execution_count": 18,
   "id": "5bcfd1ab",
   "metadata": {
    "pycharm": {
     "name": "#%%\n"
    }
   },
   "outputs": [],
   "source": [
    "questionnaire_id_mapping = questionnaires[questionnaires[\"run\"]==\"QuestPilot3\"][[\"name\",\"question_id\"]].set_index(\"name\").to_dict()['question_id']\n",
    "questionnaires[\"question_id\"] = questionnaires.apply(fix_question_id  , axis=1)\n",
    "\n",
    "questionnaires[\"responses\"]=questionnaires[\"responses\"].apply(str)"
   ]
  },
  {
   "cell_type": "code",
   "execution_count": 19,
   "id": "7d830fa5",
   "metadata": {
    "pycharm": {
     "name": "#%%\n"
    }
   },
   "outputs": [],
   "source": [
    "scored_questionnaire_df = score_generic_questionnaires(questionnaires, questionnaire_files, group_identifier=\"name\", default_open_ended={\"crt\": \"other\"})"
   ]
  },
  {
   "cell_type": "code",
   "execution_count": 20,
   "id": "0230fed3",
   "metadata": {},
   "outputs": [],
   "source": [
    "# one catch trial sometimes misnamed\n",
    "scored_questionnaire_df[\"question_id\"] = scored_questionnaire_df.apply(\n",
    "    lambda row: \"catch.1\"\n",
    "    if (row[\"name\"] == \"UPPS-P\") & (row[\"question_id\"] == \"catch.2\")\n",
    "    else row[\"question_id\"],\n",
    "    axis=1,\n",
    ")"
   ]
  },
  {
   "cell_type": "code",
   "execution_count": 21,
   "id": "c7985cd1",
   "metadata": {},
   "outputs": [],
   "source": [
    "# convert scores to numeric when numeric\n",
    "scored_questionnaire_df[\"score\"] = scored_questionnaire_df[\"score\"].apply(lambda score: int(score) if str(score).isnumeric() else score)"
   ]
  },
  {
   "cell_type": "code",
   "execution_count": 22,
   "id": "a16583d2",
   "metadata": {
    "papermill": {
     "duration": null,
     "end_time": null,
     "exception": null,
     "start_time": null,
     "status": "pending"
    },
    "pycharm": {
     "name": "#%%\n"
    },
    "tags": []
   },
   "outputs": [
    {
     "name": "stderr",
     "output_type": "stream",
     "text": [
      "/home/vfelso/github/irl-project/venv/lib/python3.8/site-packages/download_tools/plugins/survey_multi_choice.py:225: SettingWithCopyWarning: \n",
      "A value is trying to be set on a copy of a slice from a DataFrame.\n",
      "Try using .loc[row_indexer,col_indexer] = value instead\n",
      "\n",
      "See the caveats in the documentation: https://pandas.pydata.org/pandas-docs/stable/user_guide/indexing.html#returning-a-view-versus-a-copy\n",
      "  survey_data[\"attempt_num\"] = survey_data[\"internal_node_id\"].apply(\n"
     ]
    },
    {
     "name": "stdout",
     "output_type": "stream",
     "text": [
      "102\n"
     ]
    }
   ],
   "source": [
    "quiz_passers = get_quiz_passer_ids(mouselab_questionnaires, max_attempts=max_attempts, passing_score=passing_score, identifying_columns = [\"pid\", \"run\"])\n",
    "passed_all_quizzes = list(set.intersection(*map(set,quiz_passers.values())))\n",
    "print(len(passed_all_quizzes))\n",
    "pivoted_mouselab_quiz[\"passed_quizzes\"] = 0\n",
    "pivoted_mouselab_quiz.loc[passed_all_quizzes, \"passed_quizzes\"] = 1"
   ]
  },
  {
   "cell_type": "code",
   "execution_count": 23,
   "id": "e4a588a2",
   "metadata": {
    "pycharm": {
     "name": "#%%\n"
    }
   },
   "outputs": [],
   "source": [
    "full_demographics = pd.concat([demographics, old_demographics[[\"Q1\", \"Q2\"]].rename(columns = {\"Q1\": \"age\", \"Q2\": \"gender\"})\n",
    "                                   ],join=\"outer\", sort=False)\n",
    "\n",
    "# only include participants who really finished experiment, and were paid\n",
    "passed_all_quizzes = [part for part in passed_all_quizzes if part[0] in full_demographics.index]"
   ]
  },
  {
   "cell_type": "code",
   "execution_count": 24,
   "id": "b1728623",
   "metadata": {
    "papermill": {
     "duration": null,
     "end_time": null,
     "exception": null,
     "start_time": null,
     "status": "pending"
    },
    "pycharm": {
     "name": "#%%\n"
    },
    "tags": []
   },
   "outputs": [
    {
     "name": "stdout",
     "output_type": "stream",
     "text": [
      "38 females, 57 males; median age 32, age range 20-69\n"
     ]
    },
    {
     "name": "stderr",
     "output_type": "stream",
     "text": [
      "/tmp/ipykernel_135841/3685819383.py:7: SettingWithCopyWarning: \n",
      "A value is trying to be set on a copy of a slice from a DataFrame.\n",
      "Try using .loc[row_indexer,col_indexer] = value instead\n",
      "\n",
      "See the caveats in the documentation: https://pandas.pydata.org/pandas-docs/stable/user_guide/indexing.html#returning-a-view-versus-a-copy\n",
      "  quiz_and_demo_subselection[\"gender\"]=quiz_and_demo_subselection[\"gender\"].replace(np.nan, \"participants with no demographic\")\n"
     ]
    }
   ],
   "source": [
    "quiz_and_demo = pivoted_mouselab_quiz.join(full_demographics)\n",
    "quiz_and_demo = quiz_and_demo.merge(individual_variables, how=\"left\", on=[\"pid\", \"run\"])\n",
    "\n",
    "quiz_and_demo_subselection = quiz_and_demo[quiz_and_demo.apply(lambda row: (row[\"pid\"], row[\"run\"]) in \\\n",
    "                                 passed_all_quizzes, axis=1)]\n",
    "\n",
    "quiz_and_demo_subselection[\"gender\"]=quiz_and_demo_subselection[\"gender\"].replace(np.nan, \"participants with no demographic\")\n",
    "ages = [int(age) for age in quiz_and_demo_subselection[\"age\"] if not pd.isnull(age)]\n",
    "\n",
    "gender_values, gender_counts = np.unique(quiz_and_demo_subselection[\"gender\"].values, return_counts = True)\n",
    "print(get_demo_string(ages, gender_counts, gender_values))\n",
    "\n",
    "if len(questionnaires)>0:\n",
    "        scored_questionnaire_df[scored_questionnaire_df.apply(lambda row: (row[\"pid\"], row[\"run\"]) in \\\n",
    "                                 passed_all_quizzes, axis=1)].to_csv(processed_data_path.joinpath(\"questionnaires.csv\"))\n",
    "quiz_and_demo[quiz_and_demo.apply(lambda row: (row[\"pid\"], row[\"run\"]) in \\\n",
    "                                 passed_all_quizzes, axis=1)].to_csv(processed_data_path.joinpath(\"quiz-and-demo.csv\"))\n",
    "mouselab_datas[mouselab_datas.apply(lambda row: (row[\"pid\"], row[\"run\"]) in \\\n",
    "                                 passed_all_quizzes, axis=1)].to_csv(processed_data_path.joinpath(\"mouselab-mdp.csv\"))\n",
    "survey_texts[survey_texts.apply(lambda row: (row[\"pid\"], row[\"run\"]) in \\\n",
    "                                 passed_all_quizzes, axis=1)].to_csv(processed_data_path.joinpath(\"survey-text.csv\"))\n",
    "individual_variables[individual_variables.apply(lambda row: (row[\"pid\"], row[\"run\"]) in \\\n",
    "                                 passed_all_quizzes, axis=1)].to_csv(processed_data_path.joinpath(\"individual-variables.csv\"))"
   ]
  },
  {
   "cell_type": "code",
   "execution_count": 25,
   "id": "9b66866b",
   "metadata": {
    "papermill": {
     "duration": null,
     "end_time": null,
     "exception": null,
     "start_time": null,
     "status": "pending"
    },
    "pycharm": {
     "name": "#%%\n"
    },
    "tags": []
   },
   "outputs": [
    {
     "name": "stdout",
     "output_type": "stream",
     "text": [
      "median time: 39.88, median bonus: 3.86\n"
     ]
    },
    {
     "name": "stderr",
     "output_type": "stream",
     "text": [
      "/tmp/ipykernel_135841/193806058.py:10: FutureWarning: Dropping of nuisance columns in DataFrame reductions (with 'numeric_only=None') is deprecated; in a future version this will raise TypeError.  Select only valid columns before calling the reduction.\n",
      "  median_info = finished_df[finished_df.apply(lambda row: (row[\"pid\"], row[\"run\"]) in \\\n"
     ]
    }
   ],
   "source": [
    "if num_parts:\n",
    "    #TODO only supports one digit num_parts\n",
    "    for part_num in range(1, num_parts +1):\n",
    "        curr_runs = [run for run in finished_df[\"run\"].unique() if run.endswith(f\"Part{part_num}\")]\n",
    "        curr_runs_df = finished_df[finished_df[\"run\"].isin(curr_runs)]\n",
    "        median_info = curr_runs_df[curr_runs_df.apply(lambda row: (row[\"pid\"], row[\"run\"][:-1]+str(1)) in \\\n",
    "                                     passed_all_quizzes, axis=1)].median()\n",
    "        print(f\"median time: {median_info['time_diff']:.2f}, median bonus: {median_info['displayed_bonus']:.2f}\")\n",
    "else:\n",
    "    median_info = finished_df[finished_df.apply(lambda row: (row[\"pid\"], row[\"run\"]) in \\\n",
    "                                 passed_all_quizzes, axis=1)].median()\n",
    "    print(f\"median time: {median_info['time_diff']:.2f}, median bonus: {median_info['displayed_bonus']:.2f}\")"
   ]
  },
  {
   "cell_type": "code",
   "execution_count": 26,
   "id": "6a881780",
   "metadata": {
    "pycharm": {
     "name": "#%%\n"
    }
   },
   "outputs": [
    {
     "data": {
      "text/plain": [
       "name\n",
       "AES         93\n",
       "AUDIT       95\n",
       "BIS         95\n",
       "CFC         95\n",
       "EAT         95\n",
       "IQ          87\n",
       "IUS_12       8\n",
       "LSAS_A      95\n",
       "LSAS_B      95\n",
       "MCQ         95\n",
       "OCIR        79\n",
       "SCZ         87\n",
       "STAI        95\n",
       "STICSA_S     8\n",
       "STICSA_T     8\n",
       "UPPS-P      95\n",
       "Zhung       95\n",
       "Name: pid, dtype: int64"
      ]
     },
     "execution_count": 26,
     "metadata": {},
     "output_type": "execute_result"
    }
   ],
   "source": [
    "questionnaires[questionnaires.apply(lambda row: (row[\"pid\"], row[\"run\"]) in \\\n",
    "                                 passed_all_quizzes, axis=1)].groupby([\"name\"]).count()[\"pid\"]"
   ]
  },
  {
   "cell_type": "code",
   "execution_count": 27,
   "id": "b76bd174",
   "metadata": {
    "pycharm": {
     "name": "#%%\n"
    }
   },
   "outputs": [],
   "source": [
    "valid_questionnaires = scored_questionnaire_df[scored_questionnaire_df.apply(lambda row: (row[\"pid\"], row[\"run\"]) in \\\n",
    "                                 passed_all_quizzes, axis=1)]\n",
    "\n",
    "individual_items = valid_questionnaires.pivot_table(\n",
    "        index=[\"pid\"], columns=\"question_id\", values=\"score\"\n",
    "    )\n",
    "individual_items = individual_items.join(full_demographics[full_demographics.columns.difference([\"female\", \"male\"])], on=\"pid\")\n",
    "individual_items.to_csv(processed_data_path.joinpath(\"individual_items.csv\"))\n",
    "\n",
    "summed_scores = valid_questionnaires.groupby([\"pid\", \"name\"]).sum()[\"score\"].reset_index()\n",
    "combined_scores = summed_scores.pivot_table(\n",
    "    index=[\"pid\"], columns=\"name\", values=\"score\"\n",
    ")\n",
    "combined_scores = combined_scores.join(full_demographics[full_demographics.columns.difference([\"female\", \"male\"])], on=\"pid\")\n",
    "combined_scores.to_csv(processed_data_path.joinpath(\"combined_scores.csv\"))"
   ]
  }
 ],
 "metadata": {
  "kernelspec": {
   "display_name": "irl-project",
   "language": "python",
   "name": "irl-project"
  },
  "language_info": {
   "codemirror_mode": {
    "name": "ipython",
    "version": 3
   },
   "file_extension": ".py",
   "mimetype": "text/x-python",
   "name": "python",
   "nbconvert_exporter": "python",
   "pygments_lexer": "ipython3",
   "version": "3.8.10"
  },
  "papermill": {
   "default_parameters": {},
   "duration": 7.040855,
   "end_time": "2022-09-07T08:14:07.014321",
   "environment_variables": {},
   "exception": true,
   "input_path": "templates/preprocessing_human.ipynb",
   "output_path": "/home/vfelso/github/planning-depth-differences/data/Preprocessing_quest_first.ipynb",
   "parameters": {
    "COST": null,
    "DEPTH": null,
    "analysis_run": "quest_first",
    "crt_quiz_solutions": {
     "crt1": {
      "": "no response",
      ".05": "correct",
      ".10": "intuitive",
      "10": "intuitive",
      "5": "correct"
     },
     "crt2": {
      "": "no response",
      "100": "intuitive",
      "5": "correct"
     },
     "crt3": {
      "": "no response",
      "24": "intuitive",
      "47": "correct"
     },
     "crt4": {
      "": "no response",
      "4": "correct",
      "9": "intuitive"
     },
     "crt5": {
      "": "no response",
      "29": "correct",
      "30": "intuitive"
     },
     "crt6": {
      "": "no response",
      "10": "intuitive",
      "20": "correct"
     },
     "crt7": {
      "": "no response",
      "has lost money": "correct",
      "is ahead of where he began": "intuitive"
     }
    },
    "data_path": "/home/vfelso/github/planning-depth-differences/data",
    "database_key": "NEW",
    "experiment_setting": "high_increasing",
    "experiment_specific_mapping": {},
    "ground_truth_file": "312_2_4_24",
    "html_survey_names": {
     "QuestPilot2": {
      "0.0-4.0-18.0": "demographics"
     },
     "QuestPilot3": {
      "0.0-4.0-18.0": "demographics"
     }
    },
    "manual_age_mapping": {},
    "max_attempts": {
     "mouselab-quiz-post": 1,
     "mouselab-quiz-pre": 4
    },
    "mouselab_column_identifier": "name",
    "mouselab_mapping": {
     "0.0-17.*-1.*": "mouselab-quiz-pre",
     "0.0-19.*-2.*": "mouselab-quiz-post",
     "0.0-2.*-1.*": "mouselab-quiz-pre",
     "0.0-3.0-*.0": "mouselab-quiz-post",
     "0.0-4.0-2.0": "mouselab-quiz-post"
    },
    "mouselab_quiz_solutions": {
     "mouselab-quiz-post": {
      "Q0": "$-4 to $4",
      "Q1": "$-8 to $8",
      "Q2": "$-48 to $48",
      "Q3": "No, the cost is always $1.00.",
      "Q4": {
       "": 0,
       "Neither motivated nor unmotivated": 0,
       "Slightly motivated": 1,
       "Slightly unmotivated": -1,
       "Very motivated": 2,
       "Very unmotivated": -2
      }
     },
     "mouselab-quiz-pre": {
      "Q0": "$-48 to $48",
      "Q1": "$1",
      "Q2": "The better I perform the higher my bonus will be.",
      "Q3": "No, the amount of cash at each node of the web may be different each time."
     }
    },
    "node_classification": {
     "clicks": [
      1,
      5,
      9,
      2,
      6,
      10,
      3,
      4,
      7,
      8,
      11,
      12
     ],
     "early": [
      1,
      5,
      9
     ],
     "late": [
      3,
      4,
      7,
      8,
      11,
      12
     ],
     "middle": [
      2,
      6,
      10
     ]
    },
    "num_parts": null,
    "old_experiment": [
     true,
     false,
     false
    ],
    "participants_to_remove": [
     1640
    ],
    "passing_score": {
     "mouselab-quiz-post": 0,
     "mouselab-quiz-pre": 4
    },
    "questionnaire_files": {
     "QuestPilot1": "questionnaires_json4",
     "QuestPilot2": "questionnaires_json3",
     "QuestPilot3": "questionnaires_json5"
    },
    "ranges_to_extract": {
     "test": "range(20,30)",
     "training": "range(20)"
    },
    "sessions": [
     "QuestPilot1",
     "QuestPilot2",
     "QuestPilot3"
    ],
    "simulated": false,
    "structure": "312_2_4_24",
    "trials_per_block": {
     "test": 30
    }
   },
   "start_time": "2022-09-07T08:13:59.973466",
   "version": "2.3.4"
  }
 },
 "nbformat": 4,
 "nbformat_minor": 5
}