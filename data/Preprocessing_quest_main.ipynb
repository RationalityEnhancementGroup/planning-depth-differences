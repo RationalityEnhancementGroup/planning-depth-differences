{
 "cells": [
  {
   "cell_type": "code",
   "execution_count": 1,
   "id": "a0e4b245",
   "metadata": {
    "execution": {
     "iopub.execute_input": "2023-03-03T15:26:32.613454Z",
     "iopub.status.busy": "2023-03-03T15:26:32.612123Z",
     "iopub.status.idle": "2023-03-03T15:26:33.020218Z",
     "shell.execute_reply": "2023-03-03T15:26:33.019457Z"
    },
    "jupyter": {
     "outputs_hidden": false
    },
    "papermill": {
     "duration": 0.434508,
     "end_time": "2023-03-03T15:26:33.022538",
     "exception": false,
     "start_time": "2023-03-03T15:26:32.588030",
     "status": "completed"
    },
    "tags": [
     "parameters"
    ]
   },
   "outputs": [],
   "source": [
    "from pathlib import Path\n",
    "import pandas as pd\n",
    "import numpy as np\n",
    "from datetime import datetime\n",
    "\n",
    "from download_tools.plugins.mouselab_mdp import preprocess_mouselab_data, add_click_count_columns\n",
    "from download_tools.plugins.survey_html_form import process_html_demographics\n",
    "from download_tools.plugins.survey_multi_choice import score_mouselab_questionnaires, get_mouselab_quiz_name, get_quiz_passer_ids, score_row, score_generic_questionnaires\n",
    "from download_tools.plugins.survey_text import preprocess_survey_text, get_old_demographics\n",
    "from download_tools.plugins.utils import get_demo_string\n",
    "\n",
    "from datetime import datetime\n",
    "import json\n",
    "import dill as pickle"
   ]
  },
  {
   "cell_type": "code",
   "execution_count": 2,
   "id": "d0acb3f7",
   "metadata": {
    "execution": {
     "iopub.execute_input": "2023-03-03T15:26:33.035945Z",
     "iopub.status.busy": "2023-03-03T15:26:33.035618Z",
     "iopub.status.idle": "2023-03-03T15:26:33.045055Z",
     "shell.execute_reply": "2023-03-03T15:26:33.044335Z"
    },
    "papermill": {
     "duration": 0.016166,
     "end_time": "2023-03-03T15:26:33.046575",
     "exception": false,
     "start_time": "2023-03-03T15:26:33.030409",
     "status": "completed"
    },
    "tags": [
     "injected-parameters"
    ]
   },
   "outputs": [],
   "source": [
    "# Parameters\n",
    "database_key = None\n",
    "privatekey = \"0.0.2\"\n",
    "bonus_function = \"lambda row: round((row[\\\"score\\\"] + 50) * .002, 2)\"\n",
    "simulated = False\n",
    "final_quest = True\n",
    "participants_to_remove = [483, 90]\n",
    "sessions = [\"0.0.3\", \"0.0.4\", \"0.0.5\"]\n",
    "experiment_setting = \"high_increasing\"\n",
    "COST = None\n",
    "DEPTH = None\n",
    "html_survey_names = {}\n",
    "num_parts = None\n",
    "old_experiment = False\n",
    "manual_age_mapping = {}\n",
    "experiment_specific_mapping = {}\n",
    "trials_per_block = {\"test\": 20, \"training\": 20}\n",
    "ranges_to_extract = None\n",
    "mouselab_column_identifier = \"name\"\n",
    "mouselab_mapping = {\"0.0-1.*-1.*\": \"mouselab-quiz-pre\", \"0.0-3.*-3*\": \"mouselab-quiz-post\", \"0.0-3.*-2*\": \"mouselab-quiz-post\"}\n",
    "name_mapping = {\"0.0-3.0-5.0\": \"crt\", \"0.0-3.0-7.0\": \"demographics\", \"0.0-3.0-4.0\": \"survey\"}\n",
    "max_attempts = {\"mouselab-quiz-pre\": 4, \"mouselab-quiz-post\": 1}\n",
    "passing_score = {\"mouselab-quiz-pre\": 5, \"mouselab-quiz-post\": 0}\n",
    "mouselab_quiz_solutions = {\"mouselab-quiz-pre\": {\"Q1\": \"$-48 to $48\", \"Q2\": \"No, the cost is always $1.00.\", \"Q3\": \"There is no limit\", \"Q4\": \"The better I perform the higher my bonus will be.\", \"Q5\": \"No, the amount of cash at each node of the web may be different each time.\"}, \"mouselab-quiz-post\": {\"Q1\": \"$-4 to $4\", \"Q2\": \"$-8 to $8\", \"Q3\": \"$-48 to $48\", \"Q4\": \"No, the cost is always $1.00.\", \"Q5\": {\"Very unmotivated\": -2, \"Slightly unmotivated\": -1, \"Neither motivated nor unmotivated\": 0, \"Slightly motivated\": 1, \"Very motivated\": 2, \"\": 0}}}\n",
    "crt_quiz_solutions = {\"crt1\": {\".10\": \"intuitive\", \"10\": \"intuitive\", \"005\": \"correct\", \".05\": \"correct\", \"5\": \"correct\", \"\": \"no response\"}, \"crt2\": {\"100\": \"intuitive\", \"5\": \"correct\", \"\": \"no response\"}, \"crt3\": {\"24\": \"intuitive\", \"47\": \"correct\", \"\": \"no response\"}, \"crt4\": {\"9\": \"intuitive\", \"4\": \"correct\", \"\": \"no response\"}, \"crt5\": {\"30\": \"intuitive\", \"29\": \"correct\", \"\": \"no response\"}, \"crt6\": {\"10\": \"intuitive\", \"20\": \"correct\", \"\": \"no response\"}, \"crt7\": {\"is ahead of where he began\": \"intuitive\", \"has lost money\": \"correct\", \"\": \"no response\"}}\n",
    "ground_truth_file = \"312_2_4_24\"\n",
    "node_classification = {\"early\": [1, 5, 9], \"middle\": [2, 6, 10], \"late\": [3, 4, 7, 8, 11, 12], \"clicks\": [1, 5, 9, 2, 6, 10, 3, 4, 7, 8, 11, 12]}\n",
    "structure = \"312_2_4_24\"\n",
    "analysis_run = \"quest_main\"\n",
    "data_path = \"/home/vfelso/github/planning-depth-differences/data\"\n"
   ]
  },
  {
   "cell_type": "code",
   "execution_count": 3,
   "id": "d549b0de",
   "metadata": {
    "execution": {
     "iopub.execute_input": "2023-03-03T15:26:33.055659Z",
     "iopub.status.busy": "2023-03-03T15:26:33.055423Z",
     "iopub.status.idle": "2023-03-03T15:26:33.059487Z",
     "shell.execute_reply": "2023-03-03T15:26:33.059007Z"
    },
    "jupyter": {
     "outputs_hidden": false
    },
    "papermill": {
     "duration": 0.010305,
     "end_time": "2023-03-03T15:26:33.060873",
     "exception": false,
     "start_time": "2023-03-03T15:26:33.050568",
     "status": "completed"
    },
    "tags": []
   },
   "outputs": [],
   "source": [
    "# paths to use\n",
    "inputs_path = Path(data_path).joinpath('inputs')\n",
    "raw_data_path = Path(data_path).joinpath('raw')\n",
    "processed_data_path = Path(data_path).joinpath(f'processed/{analysis_run}')\n",
    "processed_data_path.mkdir(parents=True, exist_ok=True)"
   ]
  },
  {
   "cell_type": "code",
   "execution_count": 4,
   "id": "6fbb18d2",
   "metadata": {
    "execution": {
     "iopub.execute_input": "2023-03-03T15:26:33.070991Z",
     "iopub.status.busy": "2023-03-03T15:26:33.070763Z",
     "iopub.status.idle": "2023-03-03T15:26:33.076698Z",
     "shell.execute_reply": "2023-03-03T15:26:33.076144Z"
    },
    "papermill": {
     "duration": 0.013206,
     "end_time": "2023-03-03T15:26:33.078052",
     "exception": false,
     "start_time": "2023-03-03T15:26:33.064846",
     "status": "completed"
    },
    "tags": []
   },
   "outputs": [],
   "source": [
    "with open(inputs_path.joinpath(f\"exp_inputs/rewards/{ground_truth_file}.json\")) as json_file:\n",
    "    ground_truths = json.load(json_file)\n",
    "    \n",
    "with open(inputs_path.joinpath(f\"questionnaire_files/questionnaire_OnePart.txt\"), \"rb\") as f:\n",
    "    questionnaire_presentation = json.load(f)\n",
    "reverse_coded_dictionary = {}\n",
    "for quest_info in questionnaire_presentation.values():\n",
    "    for quest in quest_info[\"questions\"]:\n",
    "        reverse_coded_dictionary[quest[\"question_id\"]] = quest[\"reverse_coded\"]"
   ]
  },
  {
   "cell_type": "code",
   "execution_count": 5,
   "id": "6f5f94bb",
   "metadata": {
    "execution": {
     "iopub.execute_input": "2023-03-03T15:26:33.087371Z",
     "iopub.status.busy": "2023-03-03T15:26:33.086795Z",
     "iopub.status.idle": "2023-03-03T15:26:33.967073Z",
     "shell.execute_reply": "2023-03-03T15:26:33.966352Z"
    },
    "jupyter": {
     "outputs_hidden": false
    },
    "papermill": {
     "duration": 0.886534,
     "end_time": "2023-03-03T15:26:33.968524",
     "exception": false,
     "start_time": "2023-03-03T15:26:33.081990",
     "status": "completed"
    },
    "tags": []
   },
   "outputs": [
    {
     "name": "stdout",
     "output_type": "stream",
     "text": [
      "survey\n",
      "html-button-response\n",
      "general_info\n",
      "survey-multi-choice\n",
      "question_data\n",
      "survey-html-form\n",
      "event_data\n",
      "survey-text\n",
      "mouselab-mdp\n",
      "fullscreen\n",
      "survey\n",
      "html-button-response\n",
      "general_info\n",
      "survey-multi-choice\n",
      "question_data\n",
      "survey-html-form\n",
      "event_data\n",
      "survey-text\n",
      "mouselab-mdp\n",
      "fullscreen\n",
      "survey\n"
     ]
    },
    {
     "name": "stdout",
     "output_type": "stream",
     "text": [
      "html-button-response\n",
      "general_info\n",
      "survey-multi-choice\n",
      "question_data\n",
      "survey-html-form\n",
      "event_data\n",
      "survey-text\n",
      "mouselab-mdp\n"
     ]
    },
    {
     "name": "stdout",
     "output_type": "stream",
     "text": [
      "fullscreen\n"
     ]
    }
   ],
   "source": [
    "# load data\n",
    "full_data = {}\n",
    "\n",
    "# read in sessions\n",
    "for run in sessions:\n",
    "    for file_path in raw_data_path.glob(f\"{run}/*.csv\"):\n",
    "        # don't want to save identifiable bonuses\n",
    "        # file, information is already in data\n",
    "        if \"bonuses\" not in str(file_path):\n",
    "            file_name = file_path.stem\n",
    "            print(file_name)\n",
    "            curr_data_frame = pd.read_csv(file_path)\n",
    "            curr_data_frame[\"run\"] = analysis_run\n",
    "\n",
    "            # remove participant who answered they were too young\n",
    "            curr_data_frame = curr_data_frame[~curr_data_frame[\"pid\"].isin(participants_to_remove)]\n",
    "            curr_data_frame = curr_data_frame.rename({\"response\" : \"responses\"}, axis=\"columns\")\n",
    "\n",
    "            if \"internal_node_id\" in curr_data_frame.columns:\n",
    "                curr_data_frame[\"name\"] = curr_data_frame.apply(lambda row : name_mapping[row[\"internal_node_id\"]] if row[\"internal_node_id\"] in name_mapping.keys() else row[\"name\"], axis=1)\n",
    "\n",
    "            if file_name not in full_data:\n",
    "                full_data[file_name] = [curr_data_frame]\n",
    "            else:\n",
    "                full_data[file_name].append(curr_data_frame)\n",
    "\n",
    "full_data = {k: pd.concat(v) for k,v in full_data.items()}"
   ]
  },
  {
   "cell_type": "code",
   "execution_count": 6,
   "id": "1ac23d9f",
   "metadata": {
    "execution": {
     "iopub.execute_input": "2023-03-03T15:26:33.980379Z",
     "iopub.status.busy": "2023-03-03T15:26:33.979683Z",
     "iopub.status.idle": "2023-03-03T15:26:34.494471Z",
     "shell.execute_reply": "2023-03-03T15:26:34.493694Z"
    },
    "jupyter": {
     "outputs_hidden": false
    },
    "papermill": {
     "duration": 0.523312,
     "end_time": "2023-03-03T15:26:34.496734",
     "exception": false,
     "start_time": "2023-03-03T15:26:33.973422",
     "status": "completed"
    },
    "tags": []
   },
   "outputs": [
    {
     "name": "stderr",
     "output_type": "stream",
     "text": [
      "/tmp/ipykernel_271773/2017015087.py:7: FutureWarning: Dropping invalid columns in DataFrameGroupBy.min is deprecated. In a future version, a TypeError will be raised. Before calling .min, select only columns which should be valid for the function.\n",
      "  begin_hit = full_data[\"survey\"].groupby(\"pid\").min()[\"time_elapsed\"]\n"
     ]
    },
    {
     "name": "stdout",
     "output_type": "stream",
     "text": [
      "      counterbalance  endhit  bonus    status         pid  final_bonus  \\\n",
      "cond                                                                     \n",
      "0                0.0     NaN    0.0  5.200825  495.235213     2.879477   \n",
      "\n",
      "      displayed_bonus  DEPTH  COST  MIN_TIME  inspectCost  bonusRate  \\\n",
      "cond                                                                   \n",
      "0            2.879477    0.0   0.0       7.0          1.0      0.002   \n",
      "\n",
      "      branching  first_trial  time_diff  \n",
      "cond                                     \n",
      "0         312.0     0.500688  69.276476  \n"
     ]
    }
   ],
   "source": [
    "# people who opened it multiple times, just keep last\n",
    "full_data[\"general_info\"] = full_data[\"general_info\"].drop_duplicates(keep=\"last\", subset=[\"pid\" ,\"run\"])\n",
    "full_data[\"question_data\"] = full_data[\"question_data\"].drop_duplicates(keep=\"last\", subset=[\"pid\" ,\"run\"])\n",
    "\n",
    "individual_variables = full_data[\"general_info\"].merge(full_data[\"question_data\"], on=[\"pid\",\"run\"])\n",
    "\n",
    "begin_hit = full_data[\"survey\"].groupby(\"pid\").min()[\"time_elapsed\"]\n",
    "end_hit = full_data['survey-text'][full_data['survey-text'][\"responses\"].apply(lambda responses: \"Q3\" not in responses)].groupby(\"pid\").max()[\"time_elapsed\"]\n",
    "finished_df = individual_variables[individual_variables[\"pid\"].isin(end_hit.index)].copy(deep=True)\n",
    "finished_df[\"time_diff\"] =  finished_df[\"pid\"].apply(lambda pid: (end_hit[pid])/(60*1000))\n",
    "individual_variables = individual_variables.merge(finished_df[[\"time_diff\", \"pid\", \"run\"]], how=\"left\", on=[\"pid\", \"run\"])\n",
    "\n",
    "# check saved cost makes sense\n",
    "if (COST is not None) and (DEPTH is not None):\n",
    "    if isinstance(COST, dict):\n",
    "        assert(np.all(individual_variables.apply(lambda row: row[\"COST\"] == COST[row[\"codeversion\"]][int(row[\"cond\"])],axis=1)))\n",
    "    else:\n",
    "        unique_costs = np.unique(individual_variables[\"COST\"])\n",
    "        assert(len(unique_costs) == 1)\n",
    "        assert(unique_costs[0] == COST)\n",
    "    if DEPTH:\n",
    "        if isinstance(DEPTH, dict):\n",
    "            assert(np.all(individual_variables.apply(lambda row: row[\"DEPTH\"] == DEPTH[row[\"codeversion\"]][int(row[\"cond\"])],axis=1)))\n",
    "        else:\n",
    "            unique_costs = np.unique(individual_variables[\"DEPTH\"])\n",
    "            assert(len(unique_costs) == 1)\n",
    "            assert(unique_costs[0] == DEPTH)\n",
    "    print(finished_df.groupby([\"DEPTH\", \"COST\"]).mean())\n",
    "else:\n",
    "    print(finished_df.groupby([\"cond\"]).mean())"
   ]
  },
  {
   "cell_type": "code",
   "execution_count": 7,
   "id": "0f1f5219",
   "metadata": {
    "execution": {
     "iopub.execute_input": "2023-03-03T15:26:34.507929Z",
     "iopub.status.busy": "2023-03-03T15:26:34.507675Z",
     "iopub.status.idle": "2023-03-03T15:26:34.535235Z",
     "shell.execute_reply": "2023-03-03T15:26:34.534539Z"
    },
    "papermill": {
     "duration": 0.036169,
     "end_time": "2023-03-03T15:26:34.537736",
     "exception": false,
     "start_time": "2023-03-03T15:26:34.501567",
     "status": "completed"
    },
    "tags": []
   },
   "outputs": [
    {
     "name": "stderr",
     "output_type": "stream",
     "text": [
      "/tmp/ipykernel_271773/3025913967.py:6: FutureWarning: Treating datetime data as categorical rather than numeric in `.describe` is deprecated and will be removed in a future version of pandas. Specify `datetime_is_numeric=True` to silence this warning and adopt the future behavior now.\n",
      "  individual_variables[\"beginhit\"].describe()\n"
     ]
    },
    {
     "data": {
      "text/plain": [
       "count                     868\n",
       "unique                      6\n",
       "top       2022-11-09 00:00:00\n",
       "freq                      338\n",
       "first     2022-11-07 00:00:00\n",
       "last      2022-11-12 00:00:00\n",
       "Name: beginhit, dtype: object"
      ]
     },
     "execution_count": 7,
     "metadata": {},
     "output_type": "execute_result"
    }
   ],
   "source": [
    "time_fields = {\"startTime\":lambda date: np.nan if not isinstance(date,str) else datetime.strptime(date[:15], \"%a %b %d %Y\") ,\"beginhit\":lambda date: np.nan if  not isinstance(date,str) else datetime.fromisoformat(date.split(\" \")[0]), \"beginexp\" : lambda date: np.nan if  not isinstance(date,str) else datetime.fromisoformat(date.split(\" \")[0]), \"endhit\" : lambda date: np.nan if  not isinstance(date,str) else datetime.fromisoformat(date.split(\" \")[0])}\n",
    "\n",
    "for time_field, time_func in time_fields.items():\n",
    "    individual_variables[time_field] = individual_variables[time_field].apply(time_func)\n",
    "\n",
    "individual_variables[\"beginhit\"].describe()"
   ]
  },
  {
   "cell_type": "code",
   "execution_count": 8,
   "id": "846d8240",
   "metadata": {
    "collapsed": false,
    "execution": {
     "iopub.execute_input": "2023-03-03T15:26:34.549680Z",
     "iopub.status.busy": "2023-03-03T15:26:34.549435Z",
     "iopub.status.idle": "2023-03-03T15:26:34.555359Z",
     "shell.execute_reply": "2023-03-03T15:26:34.554551Z"
    },
    "papermill": {
     "duration": 0.013097,
     "end_time": "2023-03-03T15:26:34.556897",
     "exception": false,
     "start_time": "2023-03-03T15:26:34.543800",
     "status": "completed"
    },
    "tags": []
   },
   "outputs": [],
   "source": [
    "# delete dates / possible location info in general info\n",
    "del individual_variables[\"startTime\"]\n",
    "del individual_variables[\"beginhit\"]\n",
    "del individual_variables[\"beginexp\"]\n",
    "del individual_variables[\"endhit\"]\n",
    "del individual_variables[\"language\"]"
   ]
  },
  {
   "cell_type": "markdown",
   "id": "dabe8a83",
   "metadata": {
    "papermill": {
     "duration": 0.004705,
     "end_time": "2023-03-03T15:26:34.566159",
     "exception": false,
     "start_time": "2023-03-03T15:26:34.561454",
     "status": "completed"
    },
    "tags": []
   },
   "source": [
    "# Survey trials"
   ]
  },
  {
   "cell_type": "code",
   "execution_count": 9,
   "id": "fa210201",
   "metadata": {
    "execution": {
     "iopub.execute_input": "2023-03-03T15:26:34.576214Z",
     "iopub.status.busy": "2023-03-03T15:26:34.575968Z",
     "iopub.status.idle": "2023-03-03T15:26:34.582599Z",
     "shell.execute_reply": "2023-03-03T15:26:34.581692Z"
    },
    "papermill": {
     "duration": 0.01362,
     "end_time": "2023-03-03T15:26:34.584190",
     "exception": false,
     "start_time": "2023-03-03T15:26:34.570570",
     "status": "completed"
    },
    "tags": []
   },
   "outputs": [],
   "source": [
    "with open(inputs_path.joinpath(f\"questionnaire_files/questionnaire_OnePart.txt\"), \"rb\") as f:\n",
    "    questionnaire_presentation = json.load(f)\n",
    "reverse_coded_dictionary = {}\n",
    "for quest_namq, quest_info in questionnaire_presentation.items():\n",
    "    for quest in quest_info[\"questions\"]:\n",
    "        reverse_coded_dictionary[quest[\"question_id\"]] = quest[\"reverse_coded\"]"
   ]
  },
  {
   "cell_type": "code",
   "execution_count": 10,
   "id": "b352f371",
   "metadata": {
    "execution": {
     "iopub.execute_input": "2023-03-03T15:26:34.594839Z",
     "iopub.status.busy": "2023-03-03T15:26:34.594594Z",
     "iopub.status.idle": "2023-03-03T15:26:41.066874Z",
     "shell.execute_reply": "2023-03-03T15:26:41.066093Z"
    },
    "papermill": {
     "duration": 6.479617,
     "end_time": "2023-03-03T15:26:41.068645",
     "exception": false,
     "start_time": "2023-03-03T15:26:34.589028",
     "status": "completed"
    },
    "tags": []
   },
   "outputs": [],
   "source": [
    "survey = full_data[\"survey\"][full_data[\"survey\"][\"name\"] == \"survey\"].copy(deep=True)\n",
    "\n",
    "\n",
    "survey[\"pages\"] = survey[\"responses\"].apply(lambda responses: [[page_num for question_id, response in page.items()] for page_num, page in eval(responses).items() if page \\\n",
    "                                                              ] )\n",
    "\n",
    "survey[\"question_id\"] = survey[\"responses\"].apply(lambda responses: [[question_id  for question_id, response in page.items()] for page_num, page in eval(responses).items() if page \\\n",
    "                                             ] )\n",
    "\n",
    "survey[\"reverse_coded\"] = survey[\"responses\"].apply(lambda responses: [[reverse_coded_dictionary[question_id]  for question_id, response in page.items()] for page_num, page in eval(responses).items() if page \\\n",
    "                                             ] )\n",
    "survey[\"name\"] = survey[\"responses\"].apply(lambda responses: [[question_id.split(\".\")[0]  for question_id, response in page.items()] for page_num, page in eval(responses).items() if page \\\n",
    "                                             ] )\n",
    "survey[\"responses\"] = survey[\"responses\"].apply(lambda responses: [[ response for question_id, response in page.items()] for page_num, page in eval(responses).items() if page \\\n",
    "                                                                  ] )\n",
    "\n",
    "\n",
    "exploded_survey=survey.explode(column=[\"responses\",\"question_id\", \"reverse_coded\", \"name\", \"pages\"]).explode(column=[\"responses\",\"question_id\", \"reverse_coded\", \"name\", \"pages\"])\n",
    "\n",
    "with open(inputs_path.joinpath(f\"questionnaire_files/solutions_OnePart.pkl\"), \"rb\") as f:\n",
    "    questionnaires_presentation = pickle.load(f)\n",
    "\n",
    "assert len(np.unique(exploded_survey[[\"question_id\", \"reverse_coded\"]].drop_duplicates().groupby([\"question_id\"]).count()[\"reverse_coded\"])) == 1\n",
    "\n",
    "# question_id to 0 or 1 (whether reversed)\n",
    "reversed_questions = dict(exploded_survey[[\"question_id\", \"reverse_coded\"]].to_records(index=False))\n",
    "\n",
    "adjusted_questionnaires_presentation = {\"catch\" : {}}\n",
    "\n",
    "for key, val in questionnaires_presentation.items():\n",
    "    new_key = [k.split(\".\")[0] for k in val.keys()][0]\n",
    "    if new_key not in adjusted_questionnaires_presentation:\n",
    "        adjusted_questionnaires_presentation[new_key] = {}\n",
    "    adjusted_questionnaires_presentation[new_key] = {**adjusted_questionnaires_presentation[new_key], **val}\n",
    "\n",
    "    for item_key, curr_score_dict in adjusted_questionnaires_presentation[new_key].items():\n",
    "        if \"catch\" in item_key:\n",
    "            adjusted_questionnaires_presentation[\"catch\"][item_key] = curr_score_dict\n",
    "        if item_key in reversed_questions and reversed_questions[item_key] == 1:\n",
    "            reverse_score_dict = dict(zip(sorted(curr_score_dict.keys(), reverse=False), [curr_score_dict[k] for k in sorted(curr_score_dict.keys(), reverse=True)]))\n",
    "            adjusted_questionnaires_presentation[new_key][item_key] = reverse_score_dict\n",
    "\n",
    "exploded_survey[\"score\"] = exploded_survey.apply(lambda row: adjusted_questionnaires_presentation[row[\"name\"]][row[\"question_id\"]][row[\"responses\"]], axis=1)"
   ]
  },
  {
   "cell_type": "code",
   "execution_count": 11,
   "id": "86fb5e1f",
   "metadata": {
    "execution": {
     "iopub.execute_input": "2023-03-03T15:26:41.079285Z",
     "iopub.status.busy": "2023-03-03T15:26:41.079043Z",
     "iopub.status.idle": "2023-03-03T15:26:41.789387Z",
     "shell.execute_reply": "2023-03-03T15:26:41.788742Z"
    },
    "papermill": {
     "duration": 0.71736,
     "end_time": "2023-03-03T15:26:41.790865",
     "exception": false,
     "start_time": "2023-03-03T15:26:41.073505",
     "status": "completed"
    },
    "tags": []
   },
   "outputs": [],
   "source": [
    "unique_responses_per_page = exploded_survey.groupby([\"pid\", \"pages\"], as_index=False).nunique()\\\n",
    "[[\"pid\", \"pages\", \"responses\", \"reverse_coded\", \"question_id\"]].rename(columns={\"question_id\" : \"num_items_page\"})\n",
    "unique_responses_per_page[\"suspicious\"] = unique_responses_per_page.apply(lambda row: row[\"reverse_coded\"]==2 and  row[\"num_items_page\"] > 5 and  row[\"responses\"] == 1, axis=1)\n",
    "\n",
    "straightliners = list(unique_responses_per_page[unique_responses_per_page[\"suspicious\"]][\"pid\"].unique())\n",
    "catch_failures = list(np.unique(exploded_survey[(exploded_survey[\"question_id\"]==\"catch.1\")&(exploded_survey[\"score\"]==0)].pid))"
   ]
  },
  {
   "cell_type": "markdown",
   "id": "2a4db952",
   "metadata": {
    "papermill": {
     "duration": 0.004142,
     "end_time": "2023-03-03T15:26:41.799398",
     "exception": false,
     "start_time": "2023-03-03T15:26:41.795256",
     "status": "completed"
    },
    "tags": []
   },
   "source": [
    "# CRT trials"
   ]
  },
  {
   "cell_type": "code",
   "execution_count": 12,
   "id": "62ac9f4e",
   "metadata": {
    "execution": {
     "iopub.execute_input": "2023-03-03T15:26:41.846199Z",
     "iopub.status.busy": "2023-03-03T15:26:41.845939Z",
     "iopub.status.idle": "2023-03-03T15:26:42.142548Z",
     "shell.execute_reply": "2023-03-03T15:26:42.141880Z"
    },
    "papermill": {
     "duration": 0.340534,
     "end_time": "2023-03-03T15:26:42.143909",
     "exception": false,
     "start_time": "2023-03-03T15:26:41.803375",
     "status": "completed"
    },
    "tags": []
   },
   "outputs": [],
   "source": [
    "def score_new_crt(crt_df, crt_quiz_solutions):\n",
    "    crt_df[\"name\"] = \"crt\"\n",
    "    crt_df[\"responses\"] = crt_df[\"responses\"].apply(lambda crt_string: crt_string.replace(\"“\", \"\").replace(\"”\", \"\"))\n",
    "\n",
    "    scored_questionnaire_df = score_generic_questionnaires(crt_df, {analysis_run: {\"crt\": crt_quiz_solutions}}, open_ended=True,\n",
    "                                                           group_identifier=\"name\", default_open_ended={\"crt\": \"other\"})\n",
    "    return scored_questionnaire_df\n",
    "\n",
    "crt_quiz_solutions = {\"crt1\": {\".10\": \"intuitive\", \"10\": \"intuitive\", \".05\": \"correct\", \"5\": \"correct\", \"\": \"no response\"}, \"crt2\": {\"100\": \"intuitive\", \"5\": \"correct\", \"\": \"no response\"}, \"crt3\": {\"24\": \"intuitive\", \"47\": \"correct\", \"\": \"no response\"}, \"crt4\": {\"9\": \"intuitive\", \"4\": \"correct\", \"\": \"no response\"}, \"crt5\": {\"30\": \"intuitive\", \"29\": \"correct\", \"\": \"no response\"}, \"crt6\": {\"10\": \"intuitive\", \"20\": \"correct\", \"\": \"no response\"}, \"crt7\": {\"is ahead of where he began\": \"intuitive\", \"has lost money\": \"correct\", \"\": \"no response\"}}\n",
    "crt = full_data[\"survey-html-form\"][full_data[\"survey-html-form\"][\"name\"]==\"crt\"].copy(deep=True)\n",
    "\n",
    "scored_crt = score_new_crt(crt, crt_quiz_solutions)\n",
    "crt_mapping = {\"correct\": 1, \"other\": 0, \"intuitive\":0, \"no response\":0}\n",
    "scored_crt[\"score\"] = scored_crt[\"score\"].apply(lambda score: crt_mapping[score])"
   ]
  },
  {
   "cell_type": "markdown",
   "id": "c4f849cd",
   "metadata": {
    "papermill": {
     "duration": 0.003758,
     "end_time": "2023-03-03T15:26:42.151686",
     "exception": false,
     "start_time": "2023-03-03T15:26:42.147928",
     "status": "completed"
    },
    "tags": []
   },
   "source": [
    "# IQ trials"
   ]
  },
  {
   "cell_type": "code",
   "execution_count": 13,
   "id": "94886bd3",
   "metadata": {
    "execution": {
     "iopub.execute_input": "2023-03-03T15:26:42.160178Z",
     "iopub.status.busy": "2023-03-03T15:26:42.159970Z",
     "iopub.status.idle": "2023-03-03T15:26:42.717229Z",
     "shell.execute_reply": "2023-03-03T15:26:42.716568Z"
    },
    "papermill": {
     "duration": 0.563336,
     "end_time": "2023-03-03T15:26:42.718800",
     "exception": false,
     "start_time": "2023-03-03T15:26:42.155464",
     "status": "completed"
    },
    "tags": []
   },
   "outputs": [],
   "source": [
    "full_data[\"survey-multi-choice\"][\"name\"] = \"IQ\"\n",
    "\n",
    "scored_iq = score_generic_questionnaires(full_data[\"survey-multi-choice\"], {analysis_run: questionnaires_presentation},group_identifier=\"name\", default_open_ended={})"
   ]
  },
  {
   "cell_type": "markdown",
   "id": "070db378",
   "metadata": {
    "papermill": {
     "duration": 0.004756,
     "end_time": "2023-03-03T15:26:42.728491",
     "exception": false,
     "start_time": "2023-03-03T15:26:42.723735",
     "status": "completed"
    },
    "tags": []
   },
   "source": [
    "#  Combined questionnaires"
   ]
  },
  {
   "cell_type": "code",
   "execution_count": 14,
   "id": "97854166",
   "metadata": {
    "execution": {
     "iopub.execute_input": "2023-03-03T15:26:42.739922Z",
     "iopub.status.busy": "2023-03-03T15:26:42.739680Z",
     "iopub.status.idle": "2023-03-03T15:26:42.795136Z",
     "shell.execute_reply": "2023-03-03T15:26:42.794222Z"
    },
    "papermill": {
     "duration": 0.063808,
     "end_time": "2023-03-03T15:26:42.797659",
     "exception": false,
     "start_time": "2023-03-03T15:26:42.733851",
     "status": "completed"
    },
    "tags": []
   },
   "outputs": [],
   "source": [
    "scored_questionnaire_df = pd.concat([exploded_survey, scored_iq, scored_crt])"
   ]
  },
  {
   "cell_type": "code",
   "execution_count": 15,
   "id": "daa83c2c",
   "metadata": {
    "execution": {
     "iopub.execute_input": "2023-03-03T15:26:42.812700Z",
     "iopub.status.busy": "2023-03-03T15:26:42.812395Z",
     "iopub.status.idle": "2023-03-03T15:26:42.924788Z",
     "shell.execute_reply": "2023-03-03T15:26:42.924064Z"
    },
    "jupyter": {
     "outputs_hidden": false
    },
    "papermill": {
     "duration": 0.121281,
     "end_time": "2023-03-03T15:26:42.926347",
     "exception": false,
     "start_time": "2023-03-03T15:26:42.805066",
     "status": "completed"
    },
    "tags": []
   },
   "outputs": [
    {
     "name": "stdout",
     "output_type": "stream",
     "text": [
      "298 females, 437 males, 9 others; median age 29, age range 19-78\n"
     ]
    }
   ],
   "source": [
    "demographics_df = full_data[\"survey-html-form\"][full_data[\"survey-html-form\"][\"name\"]==\"demographics\"].copy(deep=True)\n",
    "\n",
    "# participant put negative age (confirmed with prolific demographics)\n",
    "demographics_df.loc[demographics_df[\"pid\"]==346 , \"responses\"]=demographics_df.loc[demographics_df[\"pid\"]==346 , \"responses\"].apply(lambda responses: responses.replace('-63','63'))\n",
    "\n",
    "# participants with prolific data only\n",
    "prolific_demographics = pd.read_csv(processed_data_path.joinpath(\"prolific_demographics.csv\"), index_col=0)\n",
    "pids_with_prolific_demographics_only = set(prolific_demographics[\"Participant id\"]) - set(demographics_df[\"pid\"])\n",
    "\n",
    "prolific_demographics[\"Sex\"] = prolific_demographics[\"Sex\"].apply(lambda gender: gender.lower() if gender in [\"Male\", \"Female\"] else \"other\")\n",
    "\n",
    "new_rows = []\n",
    "for row_idx, row in prolific_demographics[\n",
    "    prolific_demographics[\"Participant id\"].isin(pids_with_prolific_demographics_only)].iterrows():\n",
    "    new_rows.append({\"pid\": row[\"Participant id\"], \"responses\" : f\"{{'gender' : '{row['Sex']}', 'age' : '{row['Age']}', 'effort' : '-1'}}\"})\n",
    "\n",
    "demographics_df = pd.concat([demographics_df, pd.DataFrame(new_rows)])\n",
    "demographics, demo_text = process_html_demographics(demographics_df)\n",
    "print(demo_text)"
   ]
  },
  {
   "cell_type": "code",
   "execution_count": 16,
   "id": "de968e7e",
   "metadata": {
    "execution": {
     "iopub.execute_input": "2023-03-03T15:26:42.938039Z",
     "iopub.status.busy": "2023-03-03T15:26:42.937782Z",
     "iopub.status.idle": "2023-03-03T15:26:47.527811Z",
     "shell.execute_reply": "2023-03-03T15:26:47.526964Z"
    },
    "papermill": {
     "duration": 4.598039,
     "end_time": "2023-03-03T15:26:47.529804",
     "exception": false,
     "start_time": "2023-03-03T15:26:42.931765",
     "status": "completed"
    },
    "tags": []
   },
   "outputs": [],
   "source": [
    "mouselab_datas = preprocess_mouselab_data(full_data[\"mouselab-mdp\"],original_trials_per_block if ranges_to_extract else trials_per_block,ground_truths)\n",
    "\n",
    "mouselab_datas = mouselab_datas.merge(individual_variables, how=\"left\", on=[\"pid\", \"run\"])\n",
    "\n",
    "# path may contain a bunch of 0s at the start due to miscoding\n",
    "mouselab_datas[\"path\"] = mouselab_datas[\"path\"].apply(lambda path : eval(path)[-3:])\n",
    "\n",
    "node_classification = {key : [str(node) for node in val] for key, val in node_classification.items()}\n",
    "mouselab_datas = add_click_count_columns(mouselab_datas, node_classification)"
   ]
  },
  {
   "cell_type": "code",
   "execution_count": 17,
   "id": "81ec1785",
   "metadata": {
    "execution": {
     "iopub.execute_input": "2023-03-03T15:26:47.543939Z",
     "iopub.status.busy": "2023-03-03T15:26:47.543666Z",
     "iopub.status.idle": "2023-03-03T15:26:47.549190Z",
     "shell.execute_reply": "2023-03-03T15:26:47.548412Z"
    },
    "papermill": {
     "duration": 0.015372,
     "end_time": "2023-03-03T15:26:47.551224",
     "exception": false,
     "start_time": "2023-03-03T15:26:47.535852",
     "status": "completed"
    },
    "tags": []
   },
   "outputs": [],
   "source": [
    "#TODO would be nice to refactor this out and import it\n",
    "def expand_range_dictionary(input_dictionary):\n",
    "    trial_to_block = {}\n",
    "    for block, trial_range in input_dictionary.items():\n",
    "        if isinstance(trial_range, str):\n",
    "            for trial_index in eval(trial_range):\n",
    "                trial_to_block[trial_index] = block\n",
    "        else:\n",
    "            trial_to_block[block] = expand_range_dictionary(trial_range)\n",
    "    return trial_to_block\n",
    "\n",
    "if ranges_to_extract:\n",
    "    trial_to_block = expand_range_dictionary(ranges_to_extract)\n",
    "\n",
    "    mouselab_datas[\"block\"] = mouselab_datas.apply(lambda row: trial_to_block[row[\"run\"]][row[\"trial_index\"]] if row[\"run\"] in trial_to_block else trial_to_block[row[\"trial_index\"]], axis=1)"
   ]
  },
  {
   "cell_type": "code",
   "execution_count": 18,
   "id": "8905d7eb",
   "metadata": {
    "execution": {
     "iopub.execute_input": "2023-03-03T15:26:47.569230Z",
     "iopub.status.busy": "2023-03-03T15:26:47.568936Z",
     "iopub.status.idle": "2023-03-03T15:26:47.907138Z",
     "shell.execute_reply": "2023-03-03T15:26:47.906474Z"
    },
    "papermill": {
     "duration": 0.347029,
     "end_time": "2023-03-03T15:26:47.908698",
     "exception": false,
     "start_time": "2023-03-03T15:26:47.561669",
     "status": "completed"
    },
    "tags": []
   },
   "outputs": [],
   "source": [
    "questionnaires = full_data[\"survey\"]\n",
    "questionnaires[\"correct\"] = np.nan\n",
    "\n",
    "if \"name\" not in questionnaires:\n",
    "    questionnaires[\"name\"] = np.nan\n",
    "\n",
    "questionnaires[\"name\"] = questionnaires.apply(\n",
    "    lambda row: get_mouselab_quiz_name(row, mouselab_mapping) if not isinstance(row[\"name\"], str) else row[\"name\"],\n",
    "    axis=1)\n",
    "\n",
    "mouselab_questionnaires = questionnaires[questionnaires[\"name\"].isin(mouselab_mapping.values())].reset_index()\n",
    "questionnaires = questionnaires[~questionnaires[\"name\"].isin(mouselab_mapping.values())].reset_index()\n",
    "\n",
    "mouselab_questionnaires[\"name\"] = mouselab_questionnaires.apply(lambda row: get_mouselab_quiz_name(row, mouselab_mapping) if not isinstance(row[\"name\"], str) else row[\"name\"],axis=1)\n",
    "mouselab_questionnaires[\"responses\"] = mouselab_questionnaires.apply(\n",
    "    lambda row: str({k.split(\"_\")[1]: v for k, v in eval(row[\"responses\"]).items() if (k.split(\"_\")[1] != \"Q0\") and ((row[\"name\"] == \"mouselab-quiz-pre\" and k.split(\"_\")[0] == \"P8\") or (row[\"name\"] == \"mouselab-quiz-post\" and k.split(\"_\")[0] == \"P0\"))}), axis=1)\n",
    "mouselab_questionnaires = score_mouselab_questionnaires(mouselab_questionnaires, mouselab_quiz_solutions, mouselab_column_identifier)\n",
    "mouselab_quiz = mouselab_questionnaires.drop_duplicates([\"pid\",\"question_id\"], keep=\"last\")\n",
    "\n",
    "pivoted_mouselab_quiz = mouselab_quiz.pivot_table(values=\"score\", index=[\"pid\",\"run\"], columns=\"question_id\")"
   ]
  },
  {
   "cell_type": "code",
   "execution_count": 19,
   "id": "d130e7c9",
   "metadata": {
    "execution": {
     "iopub.execute_input": "2023-03-03T15:26:47.917977Z",
     "iopub.status.busy": "2023-03-03T15:26:47.917770Z",
     "iopub.status.idle": "2023-03-03T15:26:48.295193Z",
     "shell.execute_reply": "2023-03-03T15:26:48.294557Z"
    },
    "papermill": {
     "duration": 0.383377,
     "end_time": "2023-03-03T15:26:48.296389",
     "exception": false,
     "start_time": "2023-03-03T15:26:47.913012",
     "status": "completed"
    },
    "tags": []
   },
   "outputs": [
    {
     "name": "stdout",
     "output_type": "stream",
     "text": [
      "Number who passed quizzes: 747\n",
      "Number who passed quizzes and didn't straightline: 710\n"
     ]
    }
   ],
   "source": [
    "quiz_passers = get_quiz_passer_ids(mouselab_questionnaires, max_attempts=max_attempts, passing_score=passing_score, identifying_columns = [\"pid\", \"run\"])\n",
    "passed_all_quizzes = list(set.intersection(*map(set,quiz_passers.values())))\n",
    "print(f\"Number who passed quizzes: {len(passed_all_quizzes)}\")\n",
    "\n",
    "passed_all_quizzes = [(pid, run) for pid, run in passed_all_quizzes if pid not in straightliners]\n",
    "print(f\"Number who passed quizzes and didn't straightline: {len(passed_all_quizzes)}\")\n",
    "\n",
    "pivoted_mouselab_quiz[\"passed_quizzes\"] = 0\n",
    "pivoted_mouselab_quiz.loc[passed_all_quizzes, \"passed_quizzes\"] = 1"
   ]
  },
  {
   "cell_type": "code",
   "execution_count": 20,
   "id": "66b5a161",
   "metadata": {
    "execution": {
     "iopub.execute_input": "2023-03-03T15:26:48.305670Z",
     "iopub.status.busy": "2023-03-03T15:26:48.305412Z",
     "iopub.status.idle": "2023-03-03T15:26:56.791963Z",
     "shell.execute_reply": "2023-03-03T15:26:56.791240Z"
    },
    "papermill": {
     "duration": 8.492861,
     "end_time": "2023-03-03T15:26:56.793482",
     "exception": false,
     "start_time": "2023-03-03T15:26:48.300621",
     "status": "completed"
    },
    "tags": []
   },
   "outputs": [
    {
     "name": "stdout",
     "output_type": "stream",
     "text": [
      "279 females, 415 males, 8 others, 8 participants with no demographics; median age 29, age range 19-78\n"
     ]
    }
   ],
   "source": [
    "quiz_and_demo = pivoted_mouselab_quiz.join(demographics)\n",
    "quiz_and_demo = quiz_and_demo.merge(individual_variables, how=\"left\", on=[\"pid\", \"run\"])\n",
    "\n",
    "quiz_and_demo_subselection = quiz_and_demo[quiz_and_demo.apply(lambda row: (row[\"pid\"], row[\"run\"]) in \\\n",
    "                                 passed_all_quizzes, axis=1)].copy(deep=True)\n",
    "\n",
    "quiz_and_demo_subselection[\"gender\"]=quiz_and_demo_subselection[\"gender\"].replace(np.nan, \"participants with no demographic\")\n",
    "ages = [int(age) for age in quiz_and_demo_subselection[\"age\"] if not pd.isnull(age)]\n",
    "\n",
    "gender_values, gender_counts = np.unique(quiz_and_demo_subselection[\"gender\"].values, return_counts = True)\n",
    "print(get_demo_string(ages, gender_counts, gender_values))\n",
    "\n",
    "\n",
    "if len(questionnaires)>0:\n",
    "        scored_questionnaire_df[scored_questionnaire_df.apply(lambda row: (row[\"pid\"], row[\"run\"]) in \\\n",
    "                                 passed_all_quizzes, axis=1)].to_csv(processed_data_path.joinpath(\"questionnaires.csv\"))\n",
    "quiz_and_demo[quiz_and_demo.apply(lambda row: (row[\"pid\"], row[\"run\"]) in \\\n",
    "                                 passed_all_quizzes, axis=1)].to_csv(processed_data_path.joinpath(\"quiz-and-demo.csv\"))\n",
    "mouselab_datas[mouselab_datas.apply(lambda row: (row[\"pid\"], row[\"run\"]) in \\\n",
    "                                 passed_all_quizzes, axis=1)].to_csv(processed_data_path.joinpath(\"mouselab-mdp.csv\"))\n",
    "individual_variables[individual_variables.apply(lambda row: (row[\"pid\"], row[\"run\"]) in \\\n",
    "                                 passed_all_quizzes, axis=1)].to_csv(processed_data_path.joinpath(\"individual-variables.csv\"))"
   ]
  },
  {
   "cell_type": "code",
   "execution_count": 21,
   "id": "ad1cdac0",
   "metadata": {
    "execution": {
     "iopub.execute_input": "2023-03-03T15:26:56.804003Z",
     "iopub.status.busy": "2023-03-03T15:26:56.803769Z",
     "iopub.status.idle": "2023-03-03T15:27:02.234296Z",
     "shell.execute_reply": "2023-03-03T15:27:02.233554Z"
    },
    "papermill": {
     "duration": 5.437784,
     "end_time": "2023-03-03T15:27:02.236006",
     "exception": false,
     "start_time": "2023-03-03T15:26:56.798222",
     "status": "completed"
    },
    "tags": []
   },
   "outputs": [],
   "source": [
    "valid_questionnaires = scored_questionnaire_df[scored_questionnaire_df.apply(lambda row: (row[\"pid\"], row[\"run\"]) in \\\n",
    "                                 passed_all_quizzes, axis=1)]\n",
    "\n",
    "individual_items = valid_questionnaires.pivot_table(\n",
    "        index=[\"pid\"], columns=\"question_id\", values=\"score\"\n",
    "    )\n",
    "\n",
    "#DOSPERT rationality index\n",
    "for dospert_item in range(1, 31):\n",
    "    individual_items[f\"dospert-rp.{dospert_item}\"] = individual_items[f\"dospert-rp.{dospert_item}\"].astype(float)\n",
    "    individual_items[f\"dospert-eb.{dospert_item}\"] = individual_items[f\"dospert-eb.{dospert_item}\"].astype(float)\n",
    "    individual_items[f\"dospert.{dospert_item}\"] = individual_items[f\"dospert.{dospert_item}\"].astype(float)\n",
    "\n",
    "for dospert_item in range(1, 31):\n",
    "    individual_items[f\"dospert-rational.{dospert_item}\"] = individual_items.apply(\n",
    "        lambda row: max(row[f\"dospert-rp.{dospert_item}\"] - row[f\"dospert-eb.{dospert_item}\"],\n",
    "                        7 - row[f\"dospert-rp.{dospert_item}\"]) if row[f\"dospert.{dospert_item}\"] > 4 else 0, axis=1)\n",
    "\n",
    "#prepare for adding combined score to combined dataframe\n",
    "combined_rational = individual_items.apply(\n",
    "    lambda row: sum([row[f\"dospert-rational.{dospert_item}\"] for dospert_item in range(1, 31)]), axis=1)\n",
    "combined_rational=combined_rational.reset_index()\n",
    "combined_rational[\"name\"] = \"dospert-rational\"\n",
    "combined_rational=combined_rational.rename(columns={0:\"score\"})\n",
    "\n",
    "individual_items.to_csv(processed_data_path.joinpath(\"individual_items.csv\"))\n",
    "\n",
    "summed_scores = valid_questionnaires.groupby([\"pid\", \"name\"]).sum()[\"score\"].reset_index()\n",
    "summed_scores = pd.concat([summed_scores, combined_rational])\n",
    "combined_scores = summed_scores.pivot_table(\n",
    "    index=[\"pid\"], columns=\"name\", values=\"score\"\n",
    ")\n",
    "combined_scores.to_csv(processed_data_path.joinpath(\"combined_scores.csv\"))\n"
   ]
  },
  {
   "cell_type": "code",
   "execution_count": 22,
   "id": "9794d253",
   "metadata": {
    "execution": {
     "iopub.execute_input": "2023-03-03T15:27:02.247896Z",
     "iopub.status.busy": "2023-03-03T15:27:02.247647Z",
     "iopub.status.idle": "2023-03-03T15:27:02.274226Z",
     "shell.execute_reply": "2023-03-03T15:27:02.271961Z"
    },
    "papermill": {
     "duration": 0.100061,
     "end_time": "2023-03-03T15:27:02.341502",
     "exception": false,
     "start_time": "2023-03-03T15:27:02.241441",
     "status": "completed"
    },
    "tags": []
   },
   "outputs": [
    {
     "name": "stdout",
     "output_type": "stream",
     "text": [
      "median time: 64.78, median bonus: 3.18\n"
     ]
    },
    {
     "name": "stderr",
     "output_type": "stream",
     "text": [
      "/tmp/ipykernel_271773/3139374600.py:1: FutureWarning: Dropping of nuisance columns in DataFrame reductions (with 'numeric_only=None') is deprecated; in a future version this will raise TypeError.  Select only valid columns before calling the reduction.\n",
      "  median_info = finished_df[finished_df.apply(lambda row: (row[\"pid\"], row[\"run\"]) in \\\n"
     ]
    }
   ],
   "source": [
    "median_info = finished_df[finished_df.apply(lambda row: (row[\"pid\"], row[\"run\"]) in \\\n",
    "                                 passed_all_quizzes, axis=1)].median()\n",
    "print(f\"median time: {median_info['time_diff']:.2f}, median bonus: {median_info['final_bonus']:.2f}\")"
   ]
  }
 ],
 "metadata": {
  "kernelspec": {
   "display_name": "irl-project",
   "language": "python",
   "name": "irl-project"
  },
  "language_info": {
   "codemirror_mode": {
    "name": "ipython",
    "version": 3
   },
   "file_extension": ".py",
   "mimetype": "text/x-python",
   "name": "python",
   "nbconvert_exporter": "python",
   "pygments_lexer": "ipython3",
   "version": "3.8.10"
  },
  "papermill": {
   "default_parameters": {},
   "duration": 31.846836,
   "end_time": "2023-03-03T15:27:03.289358",
   "environment_variables": {},
   "exception": null,
   "input_path": "templates/preprocessing_human_quest_main.ipynb",
   "output_path": "/home/vfelso/github/planning-depth-differences/data/Preprocessing_quest_main.ipynb",
   "parameters": {
    "COST": null,
    "DEPTH": null,
    "analysis_run": "quest_main",
    "bonus_function": "lambda row: round((row[\"score\"] + 50) * .002, 2)",
    "crt_quiz_solutions": {
     "crt1": {
      "": "no response",
      ".05": "correct",
      ".10": "intuitive",
      "005": "correct",
      "10": "intuitive",
      "5": "correct"
     },
     "crt2": {
      "": "no response",
      "100": "intuitive",
      "5": "correct"
     },
     "crt3": {
      "": "no response",
      "24": "intuitive",
      "47": "correct"
     },
     "crt4": {
      "": "no response",
      "4": "correct",
      "9": "intuitive"
     },
     "crt5": {
      "": "no response",
      "29": "correct",
      "30": "intuitive"
     },
     "crt6": {
      "": "no response",
      "10": "intuitive",
      "20": "correct"
     },
     "crt7": {
      "": "no response",
      "has lost money": "correct",
      "is ahead of where he began": "intuitive"
     }
    },
    "data_path": "/home/vfelso/github/planning-depth-differences/data",
    "database_key": null,
    "experiment_setting": "high_increasing",
    "experiment_specific_mapping": {},
    "final_quest": true,
    "ground_truth_file": "312_2_4_24",
    "html_survey_names": {},
    "manual_age_mapping": {},
    "max_attempts": {
     "mouselab-quiz-post": 1,
     "mouselab-quiz-pre": 4
    },
    "mouselab_column_identifier": "name",
    "mouselab_mapping": {
     "0.0-1.*-1.*": "mouselab-quiz-pre",
     "0.0-3.*-2*": "mouselab-quiz-post",
     "0.0-3.*-3*": "mouselab-quiz-post"
    },
    "mouselab_quiz_solutions": {
     "mouselab-quiz-post": {
      "Q1": "$-4 to $4",
      "Q2": "$-8 to $8",
      "Q3": "$-48 to $48",
      "Q4": "No, the cost is always $1.00.",
      "Q5": {
       "": 0,
       "Neither motivated nor unmotivated": 0,
       "Slightly motivated": 1,
       "Slightly unmotivated": -1,
       "Very motivated": 2,
       "Very unmotivated": -2
      }
     },
     "mouselab-quiz-pre": {
      "Q1": "$-48 to $48",
      "Q2": "No, the cost is always $1.00.",
      "Q3": "There is no limit",
      "Q4": "The better I perform the higher my bonus will be.",
      "Q5": "No, the amount of cash at each node of the web may be different each time."
     }
    },
    "name_mapping": {
     "0.0-3.0-4.0": "survey",
     "0.0-3.0-5.0": "crt",
     "0.0-3.0-7.0": "demographics"
    },
    "node_classification": {
     "clicks": [
      1,
      5,
      9,
      2,
      6,
      10,
      3,
      4,
      7,
      8,
      11,
      12
     ],
     "early": [
      1,
      5,
      9
     ],
     "late": [
      3,
      4,
      7,
      8,
      11,
      12
     ],
     "middle": [
      2,
      6,
      10
     ]
    },
    "num_parts": null,
    "old_experiment": false,
    "participants_to_remove": [
     483,
     90
    ],
    "passing_score": {
     "mouselab-quiz-post": 0,
     "mouselab-quiz-pre": 5
    },
    "privatekey": "0.0.2",
    "ranges_to_extract": null,
    "sessions": [
     "0.0.3",
     "0.0.4",
     "0.0.5"
    ],
    "simulated": false,
    "structure": "312_2_4_24",
    "trials_per_block": {
     "test": 20,
     "training": 20
    }
   },
   "start_time": "2023-03-03T15:26:31.442522",
   "version": "2.3.4"
  }
 },
 "nbformat": 4,
 "nbformat_minor": 5
}
