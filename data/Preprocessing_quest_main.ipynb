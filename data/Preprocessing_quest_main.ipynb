{
 "cells": [
  {
   "cell_type": "code",
   "execution_count": null,
   "id": "87c65b98",
   "metadata": {},
   "outputs": [],
   "source": []
  },
  {
   "cell_type": "code",
   "execution_count": 1,
   "id": "005382e9",
   "metadata": {
    "execution": {
     "iopub.execute_input": "2022-10-31T14:01:42.199641Z",
     "iopub.status.busy": "2022-10-31T14:01:42.198828Z",
     "iopub.status.idle": "2022-10-31T14:01:42.671621Z",
     "shell.execute_reply": "2022-10-31T14:01:42.669801Z"
    },
    "jupyter": {
     "outputs_hidden": false
    },
    "papermill": {
     "duration": 0.582667,
     "end_time": "2022-10-31T14:01:42.676050",
     "exception": false,
     "start_time": "2022-10-31T14:01:42.093383",
     "status": "completed"
    },
    "tags": [
     "parameters"
    ]
   },
   "outputs": [],
   "source": [
    "from pathlib import Path\n",
    "import pandas as pd\n",
    "import numpy as np\n",
    "from datetime import datetime\n",
    "\n",
    "from download_tools.plugins.mouselab_mdp import preprocess_mouselab_data, add_click_count_columns\n",
    "from download_tools.plugins.survey_html_form import process_html_demographics\n",
    "from download_tools.plugins.survey_multi_choice import score_mouselab_questionnaires, get_mouselab_quiz_name, get_quiz_passer_ids, score_row, score_generic_questionnaires\n",
    "from download_tools.plugins.survey_text import preprocess_survey_text, get_old_demographics\n",
    "from download_tools.plugins.utils import get_demo_string\n",
    "\n",
    "from datetime import datetime\n",
    "import json\n",
    "import dill as pickle"
   ]
  },
  {
   "cell_type": "code",
   "execution_count": 2,
   "id": "36c7660e",
   "metadata": {
    "execution": {
     "iopub.execute_input": "2022-10-31T14:01:42.699035Z",
     "iopub.status.busy": "2022-10-31T14:01:42.697848Z",
     "iopub.status.idle": "2022-10-31T14:01:42.714022Z",
     "shell.execute_reply": "2022-10-31T14:01:42.712771Z"
    },
    "papermill": {
     "duration": 0.030928,
     "end_time": "2022-10-31T14:01:42.717562",
     "exception": false,
     "start_time": "2022-10-31T14:01:42.686634",
     "status": "completed"
    },
    "tags": [
     "injected-parameters"
    ]
   },
   "outputs": [],
   "source": [
    "# Parameters\n",
    "database_key = None\n",
    "bonus_function = \"lambda row: round((row[\\\"score\\\"] + 50) * .002, 2)\"\n",
    "simulated = False\n",
    "participants_to_remove=[]\n",
    "sessions = [ \"0.0.3\", \"0.0.4\", \"0.0.5\"]\n",
    "experiment_setting = \"high_increasing\"\n",
    "COST = None\n",
    "DEPTH = None\n",
    "html_survey_names = {}\n",
    "num_parts = None\n",
    "old_experiment = [False,False,False]\n",
    "manual_age_mapping = {}\n",
    "experiment_specific_mapping = {}\n",
    "trials_per_block = {\"test\": 20, \"training\": 20}\n",
    "ranges_to_extract = None\n",
    "mouselab_column_identifier = \"name\"\n",
    "mouselab_mapping = {\"0.0-1.*-0.*\": \"mouselab-quiz-pre\", \"0.0-3.*-3*\": \"mouselab-quiz-post\"}\n",
    "name_mapping = {\"0.0-3.0-5.0\": \"crt\", \"0.0-3.0-7.0\": \"demographics\", \"0.0-3.0-4.0\": \"survey\"}\n",
    "max_attempts = {\"mouselab-quiz-pre\": 4, \"mouselab-quiz-post\": 1}\n",
    "passing_score = {\"mouselab-quiz-pre\": 5, \"mouselab-quiz-post\": 0}\n",
    "mouselab_quiz_solutions = {\"mouselab-quiz-pre\": {\"Q1\": \"$-48 to $48\", \"Q2\": \"No, the cost is always $1.00.\", \"Q3\": \"There is no limit\", \"Q4\": \"The better I perform the higher my bonus will be.\", \"Q5\": \"No, the amount of cash at each node of the web may be different each time.\"}, \"mouselab-quiz-post\": {\"Q1\": \"$-4 to $4\", \"Q2\": \"$-8 to $8\", \"Q3\": \"$-48 to $48\", \"Q4\": \"No, the cost is always $1.00.\", \"Q5\": {\"Very unmotivated\": -2, \"Slightly unmotivated\": -1, \"Neither motivated nor unmotivated\": 0, \"Slightly motivated\": 1, \"Very motivated\": 2, \"\": 0}}}\n",
    "ground_truth_file = \"high_increasing\"\n",
    "node_classification = {\"early\": [1, 5, 9], \"middle\": [2, 6, 10], \"late\": [3, 4, 7, 8, 11, 12], \"clicks\": [1, 5, 9, 2, 6, 10, 3, 4, 7, 8, 11, 12]}\n",
    "structure = \"312_2_4_24\"\n",
    "analysis_run = \"quest_main\"\n",
    "data_path = \"/home/vfelso/github/planning-depth-differences/data\"\n"
   ]
  },
  {
   "cell_type": "code",
   "execution_count": 3,
   "id": "24b67729",
   "metadata": {
    "execution": {
     "iopub.execute_input": "2022-10-31T14:01:42.731745Z",
     "iopub.status.busy": "2022-10-31T14:01:42.731216Z",
     "iopub.status.idle": "2022-10-31T14:01:42.739776Z",
     "shell.execute_reply": "2022-10-31T14:01:42.738504Z"
    },
    "jupyter": {
     "outputs_hidden": false
    },
    "papermill": {
     "duration": 0.018145,
     "end_time": "2022-10-31T14:01:42.742808",
     "exception": false,
     "start_time": "2022-10-31T14:01:42.724663",
     "status": "completed"
    },
    "tags": []
   },
   "outputs": [],
   "source": [
    "# paths to use\n",
    "inputs_path = Path(data_path).joinpath('inputs')\n",
    "raw_data_path = Path(data_path).joinpath('raw')\n",
    "processed_data_path = Path(data_path).joinpath(f'processed/{analysis_run}')\n",
    "processed_data_path.mkdir(parents=True, exist_ok=True)"
   ]
  },
  {
   "cell_type": "code",
   "execution_count": 4,
   "id": "16453eb8",
   "metadata": {},
   "outputs": [],
   "source": [
    "with open(inputs_path.joinpath(f\"questionnaire_files/questionnaire_OnePart.txt\"), \"rb\") as f:\n",
    "    questionnaire_presentation = json.load(f)\n",
    "reverse_coded_dictionary = {}\n",
    "for quest_namq, quest_info in questionnaire_presentation.items():\n",
    "    for quest in quest_info[\"questions\"]:\n",
    "        reverse_coded_dictionary[quest[\"question_id\"]] = quest[\"reverse_coded\"]"
   ]
  },
  {
   "cell_type": "code",
   "execution_count": 5,
   "id": "4ebb7699",
   "metadata": {
    "execution": {
     "iopub.execute_input": "2022-10-31T14:01:42.762659Z",
     "iopub.status.busy": "2022-10-31T14:01:42.761471Z",
     "iopub.status.idle": "2022-10-31T14:01:42.770780Z",
     "shell.execute_reply": "2022-10-31T14:01:42.769723Z"
    },
    "papermill": {
     "duration": 0.022334,
     "end_time": "2022-10-31T14:01:42.774152",
     "exception": false,
     "start_time": "2022-10-31T14:01:42.751818",
     "status": "completed"
    },
    "tags": []
   },
   "outputs": [],
   "source": [
    "with open(inputs_path.joinpath(f\"exp_inputs/rewards/{ground_truth_file}.json\")) as json_file:\n",
    "    ground_truths = json.load(json_file)"
   ]
  },
  {
   "cell_type": "code",
   "execution_count": 6,
   "id": "6e946aab",
   "metadata": {
    "execution": {
     "iopub.execute_input": "2022-10-31T14:01:42.788442Z",
     "iopub.status.busy": "2022-10-31T14:01:42.788069Z",
     "iopub.status.idle": "2022-10-31T14:01:42.860838Z",
     "shell.execute_reply": "2022-10-31T14:01:42.859784Z"
    },
    "jupyter": {
     "outputs_hidden": false
    },
    "papermill": {
     "duration": 0.082084,
     "end_time": "2022-10-31T14:01:42.863227",
     "exception": false,
     "start_time": "2022-10-31T14:01:42.781143",
     "status": "completed"
    },
    "tags": []
   },
   "outputs": [],
   "source": [
    "# load data\n",
    "full_data = {}\n",
    "\n",
    "# read in sessions\n",
    "for run in sessions:\n",
    "    for file_path in raw_data_path.glob(f\"{run}/*.csv\"):\n",
    "        # don't want to save identifiable bonuses\n",
    "        # file, information is already in data\n",
    "        if \"bonuses\" not in str(file_path):\n",
    "            file_name = file_path.stem\n",
    "            curr_data_frame = pd.read_csv(file_path)\n",
    "            curr_data_frame[\"run\"] = analysis_run #TODO\n",
    "\n",
    "            # remove participants who are me, or for other reasons\n",
    "            curr_data_frame = curr_data_frame[~curr_data_frame[\"pid\"].isin(participants_to_remove)]\n",
    "            curr_data_frame = curr_data_frame.rename({\"response\" : \"responses\"}, axis=\"columns\")\n",
    "            \n",
    "            if \"internal_node_id\" in curr_data_frame.columns:\n",
    "                curr_data_frame[\"name\"] = curr_data_frame.apply(lambda row : name_mapping[row[\"internal_node_id\"]] if row[\"internal_node_id\"] in name_mapping.keys() else row[\"name\"], axis=1)\n",
    "            if \"response\" in curr_data_frame.columns:\n",
    "                curr_data_frame = curr_data_frame.rename({\"response\" : \"responses\"}, axis=\"columns\")\n",
    "                \n",
    "            if file_name not in full_data:\n",
    "                full_data[file_name] = [curr_data_frame]\n",
    "            else:\n",
    "                full_data[file_name].append(curr_data_frame)\n",
    "                \n",
    "\n",
    "full_data = {k: pd.concat(v) for k,v in full_data.items()}"
   ]
  },
  {
   "cell_type": "code",
   "execution_count": 7,
   "id": "b12958a0",
   "metadata": {
    "execution": {
     "iopub.execute_input": "2022-10-31T14:01:42.874554Z",
     "iopub.status.busy": "2022-10-31T14:01:42.874191Z",
     "iopub.status.idle": "2022-10-31T14:01:42.941746Z",
     "shell.execute_reply": "2022-10-31T14:01:42.940622Z"
    },
    "jupyter": {
     "outputs_hidden": false
    },
    "papermill": {
     "duration": 0.07594,
     "end_time": "2022-10-31T14:01:42.944116",
     "exception": false,
     "start_time": "2022-10-31T14:01:42.868176",
     "status": "completed"
    },
    "tags": []
   },
   "outputs": [
    {
     "name": "stderr",
     "output_type": "stream",
     "text": [
      "/tmp/ipykernel_74378/3253009957.py:4: FutureWarning: Dropping invalid columns in DataFrameGroupBy.min is deprecated. In a future version, a TypeError will be raised. Before calling .min, select only columns which should be valid for the function.\n",
      "  begin_hit = full_data[\"survey\"].groupby(\"pid\").min()[\"time_elapsed\"]\n"
     ]
    },
    {
     "name": "stdout",
     "output_type": "stream",
     "text": [
      "      counterbalance  endhit  bonus   status    pid  final_bonus  \\\n",
      "cond                                                               \n",
      "0                0.0     NaN    0.0  4.38587  418.1     2.872065   \n",
      "\n",
      "      displayed_bonus  DEPTH  COST  MIN_TIME  inspectCost  bonusRate  \\\n",
      "cond                                                                   \n",
      "0            2.872065    0.0   0.0       7.0          1.0      0.002   \n",
      "\n",
      "      branching  first_trial  time_diff  \n",
      "cond                                     \n",
      "0         312.0     0.526087  67.359726  \n"
     ]
    },
    {
     "name": "stderr",
     "output_type": "stream",
     "text": [
      "/tmp/ipykernel_74378/3253009957.py:7: SettingWithCopyWarning: \n",
      "A value is trying to be set on a copy of a slice from a DataFrame.\n",
      "Try using .loc[row_indexer,col_indexer] = value instead\n",
      "\n",
      "See the caveats in the documentation: https://pandas.pydata.org/pandas-docs/stable/user_guide/indexing.html#returning-a-view-versus-a-copy\n",
      "  finished_df[\"time_diff\"] =  finished_df[\"pid\"].apply(lambda pid: (end_hit[pid])/(60*1000))\n"
     ]
    }
   ],
   "source": [
    "individual_variables = full_data[\"general_info\"].merge(full_data[\"question_data\"], on=[\"pid\",\"run\"])\n",
    "\n",
    "if all(pd.isnull(individual_variables[\"endhit\"])):\n",
    "    begin_hit = full_data[\"survey\"].groupby(\"pid\").min()[\"time_elapsed\"]\n",
    "    end_hit = full_data['survey-text'][full_data['survey-text'][\"responses\"].apply(lambda responses: \"Q3\" not in responses)].groupby(\"pid\").max()[\"time_elapsed\"]\n",
    "    finished_df = individual_variables[individual_variables[\"pid\"].isin(end_hit.index)]\n",
    "    finished_df[\"time_diff\"] =  finished_df[\"pid\"].apply(lambda pid: (end_hit[pid])/(60*1000))\n",
    "else:\n",
    "    time_format = '%Y-%m-%d %H:%M:%S.%f'\n",
    "    finished_df = individual_variables[individual_variables[\"endhit\"].apply(lambda endhit: isinstance(endhit, str))].reset_index()\n",
    "    finished_df[\"time_diff\"] = finished_df.apply(lambda row: ((datetime.strptime(row[\"endhit\"], time_format) - datetime.strptime(row[\"beginhit\"], time_format)).seconds % 3600 )/ 60.0, axis=1)\n",
    "individual_variables = individual_variables.merge(finished_df[[\"time_diff\", \"pid\", \"run\"]], how=\"left\", on=[\"pid\", \"run\"])\n",
    "\n",
    "# check saved cost makes sense\n",
    "if (COST is not None) and (DEPTH is not None):\n",
    "    if isinstance(COST, dict):\n",
    "        assert(np.all(individual_variables.apply(lambda row: row[\"COST\"] == COST[row[\"codeversion\"]][int(row[\"cond\"])],axis=1)))\n",
    "    else:\n",
    "        unique_costs = np.unique(individual_variables[\"COST\"])\n",
    "        assert(len(unique_costs) == 1)\n",
    "        assert(unique_costs[0] == COST)\n",
    "    if DEPTH:\n",
    "        if isinstance(DEPTH, dict):\n",
    "            assert(np.all(individual_variables.apply(lambda row: row[\"DEPTH\"] == DEPTH[row[\"codeversion\"]][int(row[\"cond\"])],axis=1)))\n",
    "        else:\n",
    "            unique_costs = np.unique(individual_variables[\"DEPTH\"])\n",
    "            assert(len(unique_costs) == 1)\n",
    "            assert(unique_costs[0] == DEPTH)\n",
    "    print(finished_df.groupby([\"DEPTH\", \"COST\"]).mean())\n",
    "else:\n",
    "    print(finished_df.groupby([\"cond\"]).mean())"
   ]
  },
  {
   "cell_type": "code",
   "execution_count": 8,
   "id": "cc30258a",
   "metadata": {
    "scrolled": true
   },
   "outputs": [],
   "source": [
    "finished_df=finished_df.drop_duplicates(subset=[\"pid\"],keep=\"last\")"
   ]
  },
  {
   "cell_type": "code",
   "execution_count": 9,
   "id": "2d7346ab",
   "metadata": {},
   "outputs": [
    {
     "data": {
      "text/plain": [
       "69.24415902014653"
      ]
     },
     "execution_count": 9,
     "metadata": {},
     "output_type": "execute_result"
    }
   ],
   "source": [
    "finished_df[\"time_diff\"].mean()"
   ]
  },
  {
   "cell_type": "code",
   "execution_count": 10,
   "id": "1a2559cd",
   "metadata": {},
   "outputs": [
    {
     "data": {
      "text/plain": [
       "2.8794767441860465"
      ]
     },
     "execution_count": 10,
     "metadata": {},
     "output_type": "execute_result"
    }
   ],
   "source": [
    "finished_df[\"final_bonus\"].mean()"
   ]
  },
  {
   "cell_type": "code",
   "execution_count": 11,
   "id": "5be0baf3",
   "metadata": {},
   "outputs": [
    {
     "data": {
      "text/plain": [
       "64.53743333333334"
      ]
     },
     "execution_count": 11,
     "metadata": {},
     "output_type": "execute_result"
    }
   ],
   "source": [
    "finished_df[\"time_diff\"].median()"
   ]
  },
  {
   "cell_type": "code",
   "execution_count": 12,
   "id": "142e5a71",
   "metadata": {
    "execution": {
     "iopub.execute_input": "2022-10-31T14:01:42.956181Z",
     "iopub.status.busy": "2022-10-31T14:01:42.955713Z",
     "iopub.status.idle": "2022-10-31T14:01:42.983100Z",
     "shell.execute_reply": "2022-10-31T14:01:42.981967Z"
    },
    "papermill": {
     "duration": 0.035917,
     "end_time": "2022-10-31T14:01:42.985268",
     "exception": false,
     "start_time": "2022-10-31T14:01:42.949351",
     "status": "completed"
    },
    "tags": []
   },
   "outputs": [
    {
     "name": "stderr",
     "output_type": "stream",
     "text": [
      "/tmp/ipykernel_74378/3025913967.py:6: FutureWarning: Treating datetime data as categorical rather than numeric in `.describe` is deprecated and will be removed in a future version of pandas. Specify `datetime_is_numeric=True` to silence this warning and adopt the future behavior now.\n",
      "  individual_variables[\"beginhit\"].describe()\n"
     ]
    },
    {
     "data": {
      "text/plain": [
       "count                    5647\n",
       "unique                      6\n",
       "top       2022-11-07 00:00:00\n",
       "freq                     4075\n",
       "first     2022-11-07 00:00:00\n",
       "last      2022-11-12 00:00:00\n",
       "Name: beginhit, dtype: object"
      ]
     },
     "execution_count": 12,
     "metadata": {},
     "output_type": "execute_result"
    }
   ],
   "source": [
    "time_fields = {\"startTime\":lambda date: np.nan if not isinstance(date,str) else datetime.strptime(date[:15], \"%a %b %d %Y\") ,\"beginhit\":lambda date: np.nan if  not isinstance(date,str) else datetime.fromisoformat(date.split(\" \")[0]), \"beginexp\" : lambda date: np.nan if  not isinstance(date,str) else datetime.fromisoformat(date.split(\" \")[0]), \"endhit\" : lambda date: np.nan if  not isinstance(date,str) else datetime.fromisoformat(date.split(\" \")[0])}\n",
    "\n",
    "for time_field, time_func in time_fields.items():\n",
    "    individual_variables[time_field] = individual_variables[time_field].apply(time_func)\n",
    "\n",
    "individual_variables[\"beginhit\"].describe()"
   ]
  },
  {
   "cell_type": "code",
   "execution_count": 13,
   "id": "4ff95a8e",
   "metadata": {
    "execution": {
     "iopub.execute_input": "2022-10-31T14:01:42.997314Z",
     "iopub.status.busy": "2022-10-31T14:01:42.996961Z",
     "iopub.status.idle": "2022-10-31T14:01:43.002057Z",
     "shell.execute_reply": "2022-10-31T14:01:43.001093Z"
    },
    "papermill": {
     "duration": 0.013623,
     "end_time": "2022-10-31T14:01:43.004222",
     "exception": false,
     "start_time": "2022-10-31T14:01:42.990599",
     "status": "completed"
    },
    "tags": []
   },
   "outputs": [],
   "source": [
    "if not isinstance(old_experiment, list):\n",
    "    old_experiment = [old_experiment] * len(sessions)"
   ]
  },
  {
   "cell_type": "code",
   "execution_count": 14,
   "id": "186192ac",
   "metadata": {},
   "outputs": [
    {
     "name": "stderr",
     "output_type": "stream",
     "text": [
      "/tmp/ipykernel_74378/3296157502.py:23: SettingWithCopyWarning: \n",
      "A value is trying to be set on a copy of a slice from a DataFrame.\n",
      "Try using .loc[row_indexer,col_indexer] = value instead\n",
      "\n",
      "See the caveats in the documentation: https://pandas.pydata.org/pandas-docs/stable/user_guide/indexing.html#returning-a-view-versus-a-copy\n",
      "  survey[\"question_id\"] = question_ids\n",
      "/tmp/ipykernel_74378/3296157502.py:24: SettingWithCopyWarning: \n",
      "A value is trying to be set on a copy of a slice from a DataFrame.\n",
      "Try using .loc[row_indexer,col_indexer] = value instead\n",
      "\n",
      "See the caveats in the documentation: https://pandas.pydata.org/pandas-docs/stable/user_guide/indexing.html#returning-a-view-versus-a-copy\n",
      "  survey[\"name\"] = names\n",
      "/tmp/ipykernel_74378/3296157502.py:25: SettingWithCopyWarning: \n",
      "A value is trying to be set on a copy of a slice from a DataFrame.\n",
      "Try using .loc[row_indexer,col_indexer] = value instead\n",
      "\n",
      "See the caveats in the documentation: https://pandas.pydata.org/pandas-docs/stable/user_guide/indexing.html#returning-a-view-versus-a-copy\n",
      "  survey[\"responses\"] = responses\n",
      "/tmp/ipykernel_74378/3296157502.py:26: SettingWithCopyWarning: \n",
      "A value is trying to be set on a copy of a slice from a DataFrame.\n",
      "Try using .loc[row_indexer,col_indexer] = value instead\n",
      "\n",
      "See the caveats in the documentation: https://pandas.pydata.org/pandas-docs/stable/user_guide/indexing.html#returning-a-view-versus-a-copy\n",
      "  survey[\"pages\"] = pages\n",
      "/tmp/ipykernel_74378/3296157502.py:27: SettingWithCopyWarning: \n",
      "A value is trying to be set on a copy of a slice from a DataFrame.\n",
      "Try using .loc[row_indexer,col_indexer] = value instead\n",
      "\n",
      "See the caveats in the documentation: https://pandas.pydata.org/pandas-docs/stable/user_guide/indexing.html#returning-a-view-versus-a-copy\n",
      "  survey[\"reverse_coded\"] = reverse_coded\n",
      "/tmp/ipykernel_74378/3296157502.py:31: SettingWithCopyWarning: \n",
      "A value is trying to be set on a copy of a slice from a DataFrame.\n",
      "Try using .loc[row_indexer,col_indexer] = value instead\n",
      "\n",
      "See the caveats in the documentation: https://pandas.pydata.org/pandas-docs/stable/user_guide/indexing.html#returning-a-view-versus-a-copy\n",
      "  survey[explode_column] = survey[explode_column].apply(eval)\n",
      "/home/vfelso/github/download-tools/download_tools/plugins/survey_multi_choice.py:303: SettingWithCopyWarning: \n",
      "A value is trying to be set on a copy of a slice from a DataFrame.\n",
      "Try using .loc[row_indexer,col_indexer] = value instead\n",
      "\n",
      "See the caveats in the documentation: https://pandas.pydata.org/pandas-docs/stable/user_guide/indexing.html#returning-a-view-versus-a-copy\n",
      "  questionnaires[\"responses\"] = questionnaires[\"responses\"].apply(\n",
      "/home/vfelso/github/download-tools/download_tools/plugins/survey_multi_choice.py:306: SettingWithCopyWarning: \n",
      "A value is trying to be set on a copy of a slice from a DataFrame.\n",
      "Try using .loc[row_indexer,col_indexer] = value instead\n",
      "\n",
      "See the caveats in the documentation: https://pandas.pydata.org/pandas-docs/stable/user_guide/indexing.html#returning-a-view-versus-a-copy\n",
      "  questionnaires[\"question_id\"] = questionnaires[\"question_id\"].apply(\n",
      "/home/vfelso/github/download-tools/download_tools/plugins/survey_multi_choice.py:318: SettingWithCopyWarning: \n",
      "A value is trying to be set on a copy of a slice from a DataFrame.\n",
      "Try using .loc[row_indexer,col_indexer] = value instead\n",
      "\n",
      "See the caveats in the documentation: https://pandas.pydata.org/pandas-docs/stable/user_guide/indexing.html#returning-a-view-versus-a-copy\n",
      "  questionnaires[questionnaire_col] = np.nan\n",
      "/home/vfelso/github/download-tools/download_tools/plugins/survey_multi_choice.py:318: SettingWithCopyWarning: \n",
      "A value is trying to be set on a copy of a slice from a DataFrame.\n",
      "Try using .loc[row_indexer,col_indexer] = value instead\n",
      "\n",
      "See the caveats in the documentation: https://pandas.pydata.org/pandas-docs/stable/user_guide/indexing.html#returning-a-view-versus-a-copy\n",
      "  questionnaires[questionnaire_col] = np.nan\n",
      "/home/vfelso/github/download-tools/download_tools/plugins/survey_multi_choice.py:314: SettingWithCopyWarning: \n",
      "A value is trying to be set on a copy of a slice from a DataFrame.\n",
      "Try using .loc[row_indexer,col_indexer] = value instead\n",
      "\n",
      "See the caveats in the documentation: https://pandas.pydata.org/pandas-docs/stable/user_guide/indexing.html#returning-a-view-versus-a-copy\n",
      "  questionnaires[questionnaire_col] = questionnaires[questionnaire_col].apply(\n",
      "/home/vfelso/github/download-tools/download_tools/plugins/survey_multi_choice.py:318: SettingWithCopyWarning: \n",
      "A value is trying to be set on a copy of a slice from a DataFrame.\n",
      "Try using .loc[row_indexer,col_indexer] = value instead\n",
      "\n",
      "See the caveats in the documentation: https://pandas.pydata.org/pandas-docs/stable/user_guide/indexing.html#returning-a-view-versus-a-copy\n",
      "  questionnaires[questionnaire_col] = np.nan\n",
      "/home/vfelso/github/download-tools/download_tools/plugins/survey_multi_choice.py:72: SettingWithCopyWarning: \n",
      "A value is trying to be set on a copy of a slice from a DataFrame.\n",
      "Try using .loc[row_indexer,col_indexer] = value instead\n",
      "\n",
      "See the caveats in the documentation: https://pandas.pydata.org/pandas-docs/stable/user_guide/indexing.html#returning-a-view-versus-a-copy\n",
      "  df[\"question_id\"] = df.apply(\n",
      "/home/vfelso/github/download-tools/download_tools/plugins/survey_multi_choice.py:108: SettingWithCopyWarning: \n",
      "A value is trying to be set on a copy of a slice from a DataFrame.\n",
      "Try using .loc[row_indexer,col_indexer] = value instead\n",
      "\n",
      "See the caveats in the documentation: https://pandas.pydata.org/pandas-docs/stable/user_guide/indexing.html#returning-a-view-versus-a-copy\n",
      "  questionnaire_df[\"responses\"] = questionnaire_df.apply(\n",
      "/home/vfelso/github/download-tools/download_tools/plugins/survey_multi_choice.py:112: SettingWithCopyWarning: \n",
      "A value is trying to be set on a copy of a slice from a DataFrame.\n",
      "Try using .loc[row_indexer,col_indexer] = value instead\n",
      "\n",
      "See the caveats in the documentation: https://pandas.pydata.org/pandas-docs/stable/user_guide/indexing.html#returning-a-view-versus-a-copy\n",
      "  questionnaire_df[additional_column] = questionnaire_df.apply(\n",
      "/home/vfelso/github/download-tools/download_tools/plugins/survey_multi_choice.py:112: SettingWithCopyWarning: \n",
      "A value is trying to be set on a copy of a slice from a DataFrame.\n",
      "Try using .loc[row_indexer,col_indexer] = value instead\n",
      "\n",
      "See the caveats in the documentation: https://pandas.pydata.org/pandas-docs/stable/user_guide/indexing.html#returning-a-view-versus-a-copy\n",
      "  questionnaire_df[additional_column] = questionnaire_df.apply(\n",
      "/home/vfelso/github/download-tools/download_tools/plugins/survey_multi_choice.py:112: SettingWithCopyWarning: \n",
      "A value is trying to be set on a copy of a slice from a DataFrame.\n",
      "Try using .loc[row_indexer,col_indexer] = value instead\n",
      "\n",
      "See the caveats in the documentation: https://pandas.pydata.org/pandas-docs/stable/user_guide/indexing.html#returning-a-view-versus-a-copy\n",
      "  questionnaire_df[additional_column] = questionnaire_df.apply(\n",
      "/home/vfelso/github/download-tools/download_tools/plugins/survey_multi_choice.py:112: SettingWithCopyWarning: \n",
      "A value is trying to be set on a copy of a slice from a DataFrame.\n",
      "Try using .loc[row_indexer,col_indexer] = value instead\n",
      "\n",
      "See the caveats in the documentation: https://pandas.pydata.org/pandas-docs/stable/user_guide/indexing.html#returning-a-view-versus-a-copy\n",
      "  questionnaire_df[additional_column] = questionnaire_df.apply(\n"
     ]
    }
   ],
   "source": [
    "from collections import ChainMap\n",
    "\n",
    "survey = full_data[\"survey\"][full_data[\"survey\"][\"name\"] == \"survey\"]\n",
    "\n",
    "pages = []\n",
    "names = []\n",
    "question_ids = []\n",
    "responses = []\n",
    "reverse_coded = []\n",
    "for row_idx, row in survey.iterrows():\n",
    "    (keys, vals) = zip(*eval(row[\"responses\"]).items())\n",
    "    pages.append(str(keys))\n",
    "\n",
    "    full_dict = dict(ChainMap(*[ans_dict for ans_dict in vals if ans_dict]))\n",
    "    assert (len(full_dict) == 342)\n",
    "\n",
    "    curr_question_ids = [[key for key in val.keys()] if val else [] for val in vals]\n",
    "    names.append(str([[key.split(\".\")[0] for key in val.keys()][0] if val else [] for val in vals]))\n",
    "    responses.append(str([[full_dict[quest] for quest in page] for page in curr_question_ids]))\n",
    "    reverse_coded.append(str([[reverse_coded_dictionary[quest] for quest in page] for page in curr_question_ids]))\n",
    "    question_ids.append(str(curr_question_ids))\n",
    "\n",
    "survey[\"question_id\"] = question_ids\n",
    "survey[\"name\"] = names\n",
    "survey[\"responses\"] = responses\n",
    "survey[\"pages\"] = pages\n",
    "survey[\"reverse_coded\"] = reverse_coded\n",
    "\n",
    "explode_columns = [\"question_id\", \"name\", \"reverse_coded\", \"responses\", \"pages\"]\n",
    "for explode_column in explode_columns:\n",
    "    survey[explode_column] = survey[explode_column].apply(eval)\n",
    "exploded_survey = survey.explode(explode_columns)\n",
    "\n",
    "# check for straightlining\n",
    "assert (len(exploded_survey[\"responses\"][exploded_survey[\"responses\"].apply(\n",
    "    lambda responses: (len(np.unique(responses)) <= 1) & len(responses) > 5)]) == 0)\n",
    "\n",
    "with open(inputs_path.joinpath(f\"questionnaire_files/solutions_OnePart.pkl\"), \"rb\") as f:\n",
    "    questionnaires_presentation = pickle.load(f)\n",
    "adjusted_questionnaires_presentation = {}\n",
    "\n",
    "for key, val in questionnaires_presentation.items():\n",
    "    new_key = [k.split(\".\")[0] for k in val.keys()][0]\n",
    "    if new_key not in adjusted_questionnaires_presentation:\n",
    "        adjusted_questionnaires_presentation[new_key] = {}\n",
    "    adjusted_questionnaires_presentation[new_key] = {**adjusted_questionnaires_presentation[new_key], **val}\n",
    "\n",
    "exploded_survey = exploded_survey[exploded_survey[\"name\"].apply(lambda name: isinstance(name, str))]\n",
    "scored_questionnaire_df = score_generic_questionnaires(exploded_survey[(exploded_survey[\"pid\"]==736)&(exploded_survey[\"name\"].isin([\"bis\"]))],\n",
    "                                                       {analysis_run: adjusted_questionnaires_presentation},\n",
    "                                                       group_identifier=\"name\", default_open_ended={})\n"
   ]
  },
  {
   "cell_type": "code",
   "execution_count": 15,
   "id": "bfbb106d",
   "metadata": {
    "scrolled": false
   },
   "outputs": [
    {
     "data": {
      "text/plain": [
       "Counter({1: 25, 3: 2, 5: 1, 2: 5, 4: 2, 10: 1, 12: 1})"
      ]
     },
     "execution_count": 15,
     "metadata": {},
     "output_type": "execute_result"
    }
   ],
   "source": [
    "from collections import Counter\n",
    "Counter(exploded_survey[exploded_survey.apply(\n",
    "    lambda row: (len(np.unique(row[\"responses\"])) <= 1) & (any(row[\"reverse_coded\"])) & (len(row[\"responses\"]) > 5), axis=1)].groupby([\"pid\"]).count()[\"rt\"])"
   ]
  },
  {
   "cell_type": "code",
   "execution_count": 16,
   "id": "07d1f525",
   "metadata": {},
   "outputs": [
    {
     "data": {
      "text/plain": [
       "pid\n",
       "41      1\n",
       "73      1\n",
       "94      1\n",
       "106     1\n",
       "187     1\n",
       "226     1\n",
       "244     3\n",
       "285     1\n",
       "292     1\n",
       "294     5\n",
       "333     1\n",
       "367     2\n",
       "372     4\n",
       "395    10\n",
       "410     1\n",
       "430     1\n",
       "433     2\n",
       "473     1\n",
       "478     1\n",
       "519     1\n",
       "550    12\n",
       "568     1\n",
       "595     1\n",
       "614     2\n",
       "653     1\n",
       "669     2\n",
       "673     1\n",
       "715     1\n",
       "722     1\n",
       "727     1\n",
       "753     2\n",
       "789     1\n",
       "806     3\n",
       "839     1\n",
       "850     4\n",
       "889     1\n",
       "912     1\n",
       "Name: rt, dtype: int64"
      ]
     },
     "execution_count": 16,
     "metadata": {},
     "output_type": "execute_result"
    }
   ],
   "source": [
    "exploded_survey[exploded_survey.apply(\n",
    "    lambda row: (len(np.unique(row[\"responses\"])) <= 1) & (any(row[\"reverse_coded\"])) & (len(row[\"responses\"]) > 5), axis=1)].groupby([\"pid\"]).count()[\"rt\"]"
   ]
  },
  {
   "cell_type": "code",
   "execution_count": 17,
   "id": "8945de79",
   "metadata": {},
   "outputs": [],
   "source": [
    "straightliners = (list(np.unique(exploded_survey[exploded_survey.apply(\n",
    "    lambda row: (len(np.unique(row[\"responses\"])) <= 1) & (any(row[\"reverse_coded\"])) & (len(row[\"responses\"]) > 5), axis=1)][\"pid\"])))"
   ]
  },
  {
   "cell_type": "code",
   "execution_count": 18,
   "id": "b50e26e1",
   "metadata": {},
   "outputs": [],
   "source": [
    "catch_failures = list(np.unique(scored_questionnaire_df[(scored_questionnaire_df[\"question_id\"]==\"catch.1\")&(scored_questionnaire_df[\"score\"]==0)].pid))"
   ]
  },
  {
   "cell_type": "code",
   "execution_count": 19,
   "id": "de6d5dff",
   "metadata": {},
   "outputs": [
    {
     "name": "stderr",
     "output_type": "stream",
     "text": [
      "/tmp/ipykernel_74378/3189435105.py:2: SettingWithCopyWarning: \n",
      "A value is trying to be set on a copy of a slice from a DataFrame.\n",
      "Try using .loc[row_indexer,col_indexer] = value instead\n",
      "\n",
      "See the caveats in the documentation: https://pandas.pydata.org/pandas-docs/stable/user_guide/indexing.html#returning-a-view-versus-a-copy\n",
      "  crt_df[\"name\"] = \"crt\"\n",
      "/tmp/ipykernel_74378/3189435105.py:4: SettingWithCopyWarning: \n",
      "A value is trying to be set on a copy of a slice from a DataFrame.\n",
      "Try using .loc[row_indexer,col_indexer] = value instead\n",
      "\n",
      "See the caveats in the documentation: https://pandas.pydata.org/pandas-docs/stable/user_guide/indexing.html#returning-a-view-versus-a-copy\n",
      "  crt_df[\"responses\"] = crt_df[\"responses\"].apply(lambda crt_string: crt_string.replace(\"“\", \"\").replace(\"”\", \"\"))\n",
      "/home/vfelso/github/download-tools/download_tools/plugins/survey_multi_choice.py:303: SettingWithCopyWarning: \n",
      "A value is trying to be set on a copy of a slice from a DataFrame.\n",
      "Try using .loc[row_indexer,col_indexer] = value instead\n",
      "\n",
      "See the caveats in the documentation: https://pandas.pydata.org/pandas-docs/stable/user_guide/indexing.html#returning-a-view-versus-a-copy\n",
      "  questionnaires[\"responses\"] = questionnaires[\"responses\"].apply(\n",
      "/home/vfelso/github/download-tools/download_tools/plugins/survey_multi_choice.py:306: SettingWithCopyWarning: \n",
      "A value is trying to be set on a copy of a slice from a DataFrame.\n",
      "Try using .loc[row_indexer,col_indexer] = value instead\n",
      "\n",
      "See the caveats in the documentation: https://pandas.pydata.org/pandas-docs/stable/user_guide/indexing.html#returning-a-view-versus-a-copy\n",
      "  questionnaires[\"question_id\"] = questionnaires[\"question_id\"].apply(\n",
      "/home/vfelso/github/download-tools/download_tools/plugins/survey_multi_choice.py:318: SettingWithCopyWarning: \n",
      "A value is trying to be set on a copy of a slice from a DataFrame.\n",
      "Try using .loc[row_indexer,col_indexer] = value instead\n",
      "\n",
      "See the caveats in the documentation: https://pandas.pydata.org/pandas-docs/stable/user_guide/indexing.html#returning-a-view-versus-a-copy\n",
      "  questionnaires[questionnaire_col] = np.nan\n",
      "/home/vfelso/github/download-tools/download_tools/plugins/survey_multi_choice.py:318: SettingWithCopyWarning: \n",
      "A value is trying to be set on a copy of a slice from a DataFrame.\n",
      "Try using .loc[row_indexer,col_indexer] = value instead\n",
      "\n",
      "See the caveats in the documentation: https://pandas.pydata.org/pandas-docs/stable/user_guide/indexing.html#returning-a-view-versus-a-copy\n",
      "  questionnaires[questionnaire_col] = np.nan\n",
      "/home/vfelso/github/download-tools/download_tools/plugins/survey_multi_choice.py:314: SettingWithCopyWarning: \n",
      "A value is trying to be set on a copy of a slice from a DataFrame.\n",
      "Try using .loc[row_indexer,col_indexer] = value instead\n",
      "\n",
      "See the caveats in the documentation: https://pandas.pydata.org/pandas-docs/stable/user_guide/indexing.html#returning-a-view-versus-a-copy\n",
      "  questionnaires[questionnaire_col] = questionnaires[questionnaire_col].apply(\n",
      "/home/vfelso/github/download-tools/download_tools/plugins/survey_multi_choice.py:318: SettingWithCopyWarning: \n",
      "A value is trying to be set on a copy of a slice from a DataFrame.\n",
      "Try using .loc[row_indexer,col_indexer] = value instead\n",
      "\n",
      "See the caveats in the documentation: https://pandas.pydata.org/pandas-docs/stable/user_guide/indexing.html#returning-a-view-versus-a-copy\n",
      "  questionnaires[questionnaire_col] = np.nan\n",
      "/home/vfelso/github/download-tools/download_tools/plugins/survey_multi_choice.py:72: SettingWithCopyWarning: \n",
      "A value is trying to be set on a copy of a slice from a DataFrame.\n",
      "Try using .loc[row_indexer,col_indexer] = value instead\n",
      "\n",
      "See the caveats in the documentation: https://pandas.pydata.org/pandas-docs/stable/user_guide/indexing.html#returning-a-view-versus-a-copy\n",
      "  df[\"question_id\"] = df.apply(\n",
      "/home/vfelso/github/download-tools/download_tools/plugins/survey_multi_choice.py:108: SettingWithCopyWarning: \n",
      "A value is trying to be set on a copy of a slice from a DataFrame.\n",
      "Try using .loc[row_indexer,col_indexer] = value instead\n",
      "\n",
      "See the caveats in the documentation: https://pandas.pydata.org/pandas-docs/stable/user_guide/indexing.html#returning-a-view-versus-a-copy\n",
      "  questionnaire_df[\"responses\"] = questionnaire_df.apply(\n",
      "/home/vfelso/github/download-tools/download_tools/plugins/survey_multi_choice.py:112: SettingWithCopyWarning: \n",
      "A value is trying to be set on a copy of a slice from a DataFrame.\n",
      "Try using .loc[row_indexer,col_indexer] = value instead\n",
      "\n",
      "See the caveats in the documentation: https://pandas.pydata.org/pandas-docs/stable/user_guide/indexing.html#returning-a-view-versus-a-copy\n",
      "  questionnaire_df[additional_column] = questionnaire_df.apply(\n",
      "/home/vfelso/github/download-tools/download_tools/plugins/survey_multi_choice.py:112: SettingWithCopyWarning: \n",
      "A value is trying to be set on a copy of a slice from a DataFrame.\n",
      "Try using .loc[row_indexer,col_indexer] = value instead\n",
      "\n",
      "See the caveats in the documentation: https://pandas.pydata.org/pandas-docs/stable/user_guide/indexing.html#returning-a-view-versus-a-copy\n",
      "  questionnaire_df[additional_column] = questionnaire_df.apply(\n",
      "/home/vfelso/github/download-tools/download_tools/plugins/survey_multi_choice.py:112: SettingWithCopyWarning: \n",
      "A value is trying to be set on a copy of a slice from a DataFrame.\n",
      "Try using .loc[row_indexer,col_indexer] = value instead\n",
      "\n",
      "See the caveats in the documentation: https://pandas.pydata.org/pandas-docs/stable/user_guide/indexing.html#returning-a-view-versus-a-copy\n",
      "  questionnaire_df[additional_column] = questionnaire_df.apply(\n",
      "/home/vfelso/github/download-tools/download_tools/plugins/survey_multi_choice.py:112: SettingWithCopyWarning: \n",
      "A value is trying to be set on a copy of a slice from a DataFrame.\n",
      "Try using .loc[row_indexer,col_indexer] = value instead\n",
      "\n",
      "See the caveats in the documentation: https://pandas.pydata.org/pandas-docs/stable/user_guide/indexing.html#returning-a-view-versus-a-copy\n",
      "  questionnaire_df[additional_column] = questionnaire_df.apply(\n"
     ]
    }
   ],
   "source": [
    "def score_new_crt(crt_df, crt_quiz_solutions):\n",
    "    crt_df[\"name\"] = \"crt\"\n",
    "    #     crt_df[\"question_id\"]=crt_df[\"question_id\"].apply(lambda crt_string: crt_string.replace(\"“\",\"\").replace(\"”\",\"\"))\n",
    "    crt_df[\"responses\"] = crt_df[\"responses\"].apply(lambda crt_string: crt_string.replace(\"“\", \"\").replace(\"”\", \"\"))\n",
    "    #     return crt_df\n",
    "    scored_questionnaire_df = score_generic_questionnaires(crt_df, {analysis_run: {\"crt\": crt_quiz_solutions}}, open_ended=True,\n",
    "                                                           group_identifier=\"name\", default_open_ended={\"crt\": \"other\"})\n",
    "    return scored_questionnaire_df\n",
    "\n",
    "crt_quiz_solutions = {\"crt1\": {\".10\": \"intuitive\", \"10\": \"intuitive\", \".05\": \"correct\", \"5\": \"correct\", \"\": \"no response\"}, \"crt2\": {\"100\": \"intuitive\", \"5\": \"correct\", \"\": \"no response\"}, \"crt3\": {\"24\": \"intuitive\", \"47\": \"correct\", \"\": \"no response\"}, \"crt4\": {\"9\": \"intuitive\", \"4\": \"correct\", \"\": \"no response\"}, \"crt5\": {\"30\": \"intuitive\", \"29\": \"correct\", \"\": \"no response\"}, \"crt6\": {\"10\": \"intuitive\", \"20\": \"correct\", \"\": \"no response\"}, \"crt7\": {\"is ahead of where he began\": \"intuitive\", \"has lost money\": \"correct\", \"\": \"no response\"}}\n",
    "crt = full_data[\"survey-html-form\"][full_data[\"survey-html-form\"][\"internal_node_id\"]==\"0.0-3.0-5.0\"]\n",
    "\n",
    "scored_crt = score_new_crt(full_data[\"survey-html-form\"][full_data[\"survey-html-form\"][\"name\"]==\"crt\"], crt_quiz_solutions)"
   ]
  },
  {
   "cell_type": "code",
   "execution_count": 20,
   "id": "1678190d",
   "metadata": {},
   "outputs": [],
   "source": [
    "full_data[\"survey-multi-choice\"][\"name\"] = \"IQ\"\n",
    "\n",
    "scored_iq = score_generic_questionnaires(full_data[\"survey-multi-choice\"], {analysis_run: questionnaires_presentation},group_identifier=\"name\", default_open_ended={})"
   ]
  },
  {
   "cell_type": "code",
   "execution_count": 21,
   "id": "fcc92977",
   "metadata": {},
   "outputs": [],
   "source": [
    "scored_questionnaire_df = pd.concat([scored_questionnaire_df, scored_iq, scored_crt])"
   ]
  },
  {
   "cell_type": "code",
   "execution_count": null,
   "id": "5b4d3e08",
   "metadata": {},
   "outputs": [],
   "source": [
    "scored_questionnaire_df"
   ]
  },
  {
   "cell_type": "code",
   "execution_count": null,
   "id": "b01ba820",
   "metadata": {
    "execution": {
     "iopub.execute_input": "2022-10-31T14:01:43.016836Z",
     "iopub.status.busy": "2022-10-31T14:01:43.016452Z",
     "iopub.status.idle": "2022-10-31T14:01:46.259562Z",
     "shell.execute_reply": "2022-10-31T14:01:46.257721Z"
    },
    "jupyter": {
     "outputs_hidden": false
    },
    "papermill": {
     "duration": 3.252508,
     "end_time": "2022-10-31T14:01:46.261874",
     "exception": true,
     "start_time": "2022-10-31T14:01:43.009366",
     "status": "failed"
    },
    "tags": []
   },
   "outputs": [],
   "source": [
    "# survey_texts = preprocess_survey_text(full_data[\"survey-text\"])\n",
    "\n",
    "\n",
    "if any(old_experiment):\n",
    "    old_runs = np.asarray(sessions)[old_experiment]\n",
    "    old_demographics, demo_text = get_old_demographics(survey_texts[survey_texts[\"run\"].isin(old_runs)], experiment_specific_gender=experiment_specific_mapping, manual_age_mapping=manual_age_mapping)\n",
    "    print(demo_text)\n",
    "\n",
    "new_runs =  np.asarray(sessions)[[not ex for ex in old_experiment]]\n",
    "html_survey = full_data[\"survey-html-form\"]\n",
    "if len(html_survey_names) > 0:\n",
    "    if \"name\" not in html_survey:\n",
    "        html_survey[\"name\"] = np.nan\n",
    "\n",
    "    html_survey[\"name\"] = html_survey.apply(\n",
    "        lambda row: get_mouselab_quiz_name(row, html_survey_names[row[\"run\"]]) if not isinstance(row[\"name\"], str) else row[\"name\"],\n",
    "        axis=1)\n",
    "    demographics, demo_text = process_html_demographics(html_survey[(html_survey[\"name\"] == \"demographics\")&(html_survey[\"run\"].isin(new_runs))])\n",
    "    full_data[\"survey-multi-choice\"] = pd.concat([html_survey[html_survey[\"name\"] != \"demographics\"]])\n",
    "else:\n",
    "    demographics, demo_text = process_html_demographics(full_data[\"survey-html-form\"])\n",
    "\n",
    "print(demo_text)\n",
    "\n",
    "\n",
    "if any(old_experiment):\n",
    "    gender_name, gender_count = np.unique(pd.concat([old_demographics[\"Q2\"],demographics[\"gender\"]]), return_counts=True)\n",
    "    ages = pd.concat([old_demographics[\"Q1\"],demographics[\"age\"]]).apply(int)\n",
    "    print(get_demo_string(ages, gender_count, gender_name))"
   ]
  },
  {
   "cell_type": "code",
   "execution_count": null,
   "id": "42fbbee4",
   "metadata": {
    "papermill": {
     "duration": null,
     "end_time": null,
     "exception": null,
     "start_time": null,
     "status": "pending"
    },
    "tags": []
   },
   "outputs": [],
   "source": [
    "# TODO fix this \n",
    "# mouselab_datas = preprocess_mouselab_data(full_data[\"mouselab-mdp\"],trials_per_block, ground_truths)\n",
    "mouselab_datas = full_data[\"mouselab-mdp\"]\n",
    "mouselab_datas[\"queries\"] = mouselab_datas[\"queries\"].apply(eval)\n",
    "\n",
    "mouselab_datas = mouselab_datas.merge(individual_variables, how=\"left\", on=[\"pid\", \"run\"])\n",
    "\n",
    "# path may contain a bunch of 0s at the start due to miscoding\n",
    "mouselab_datas[\"path\"] = mouselab_datas[\"path\"].apply(lambda path : eval(path)[-3:])\n",
    "\n",
    "node_classification = {key : [str(node) for node in val] for key, val in node_classification.items()}\n",
    "mouselab_datas = add_click_count_columns(mouselab_datas, node_classification)"
   ]
  },
  {
   "cell_type": "code",
   "execution_count": null,
   "id": "b22c8673",
   "metadata": {
    "papermill": {
     "duration": null,
     "end_time": null,
     "exception": null,
     "start_time": null,
     "status": "pending"
    },
    "tags": []
   },
   "outputs": [],
   "source": [
    "#TODO would be nice to refactor this out and import it\n",
    "def expand_range_dictionary(input_dictionary):\n",
    "    trial_to_block = {}\n",
    "    for block, trial_range in input_dictionary.items():\n",
    "        if isinstance(trial_range, str):\n",
    "            for trial_index in eval(trial_range):\n",
    "                trial_to_block[trial_index] = block\n",
    "        else:\n",
    "            trial_to_block[block] = expand_range_dictionary(trial_range)\n",
    "    return trial_to_block\n",
    "\n",
    "if ranges_to_extract:\n",
    "    trial_to_block = expand_range_dictionary(ranges_to_extract)\n",
    "\n",
    "    mouselab_datas[\"block\"] = mouselab_datas.apply(lambda row: trial_to_block[row[\"run\"]][row[\"trial_index\"]] if row[\"run\"] in trial_to_block else trial_to_block[row[\"trial_index\"]], axis=1)"
   ]
  },
  {
   "cell_type": "code",
   "execution_count": 22,
   "id": "2ce67710",
   "metadata": {
    "papermill": {
     "duration": null,
     "end_time": null,
     "exception": null,
     "start_time": null,
     "status": "pending"
    },
    "tags": []
   },
   "outputs": [],
   "source": [
    "questionnaires = full_data[\"survey\"]\n",
    "questionnaires[\"correct\"] = np.nan\n",
    "\n",
    "if \"name\" not in questionnaires:\n",
    "    questionnaires[\"name\"] = np.nan\n",
    "\n",
    "questionnaires[\"name\"] = questionnaires.apply(\n",
    "    lambda row: get_mouselab_quiz_name(row, mouselab_mapping) if not isinstance(row[\"name\"], str) else row[\"name\"],\n",
    "    axis=1)\n",
    "\n",
    "mouselab_questionnaires = questionnaires[questionnaires[\"name\"].isin(mouselab_mapping.values())].reset_index()\n",
    "\n",
    "#TODO check if multiple responses\n",
    "mouselab_questionnaires[\"responses\"] = mouselab_questionnaires[\"responses\"].apply(lambda responses: str({k.split(\"_\")[1]: v for k,v in eval(responses).items() if k.split(\"_\")[1] != \"Q0\"}))\n",
    "\n",
    "mouselab_questionnaires[\"name\"] = mouselab_questionnaires.apply(lambda row: get_mouselab_quiz_name(row, mouselab_mapping) if not isinstance(row[\"name\"], str) else row[\"name\"],axis=1)\n",
    "mouselab_questionnaires = score_mouselab_questionnaires(mouselab_questionnaires, mouselab_quiz_solutions, mouselab_column_identifier)\n",
    "mouselab_quiz = mouselab_questionnaires.drop_duplicates([\"pid\",\"question_id\"], keep=\"last\")\n",
    "\n",
    "pivoted_mouselab_quiz = mouselab_quiz.pivot_table(values=\"score\", index=[\"pid\",\"run\"], columns=\"question_id\")"
   ]
  },
  {
   "cell_type": "code",
   "execution_count": 23,
   "id": "ea7a3f63",
   "metadata": {
    "papermill": {
     "duration": null,
     "end_time": null,
     "exception": null,
     "start_time": null,
     "status": "pending"
    },
    "tags": []
   },
   "outputs": [
    {
     "name": "stderr",
     "output_type": "stream",
     "text": [
      "/home/vfelso/github/download-tools/download_tools/plugins/survey_multi_choice.py:227: SettingWithCopyWarning: \n",
      "A value is trying to be set on a copy of a slice from a DataFrame.\n",
      "Try using .loc[row_indexer,col_indexer] = value instead\n",
      "\n",
      "See the caveats in the documentation: https://pandas.pydata.org/pandas-docs/stable/user_guide/indexing.html#returning-a-view-versus-a-copy\n",
      "  survey_data[\"attempt_num\"] = survey_data[\"internal_node_id\"].apply(\n"
     ]
    },
    {
     "name": "stdout",
     "output_type": "stream",
     "text": [
      "739\n"
     ]
    }
   ],
   "source": [
    "quiz_passers = get_quiz_passer_ids(mouselab_questionnaires, max_attempts=max_attempts, passing_score=passing_score, identifying_columns = [\"pid\", \"run\"])\n",
    "passed_all_quizzes = list(set.intersection(*map(set,quiz_passers.values())))\n",
    "print(len(passed_all_quizzes))\n",
    "pivoted_mouselab_quiz[\"passed_quizzes\"] = 0\n",
    "pivoted_mouselab_quiz.loc[passed_all_quizzes, \"passed_quizzes\"] = 1"
   ]
  },
  {
   "cell_type": "code",
   "execution_count": 25,
   "id": "92ebf67e",
   "metadata": {},
   "outputs": [],
   "source": [
    "quiz_passers = set([pid for pid, run in pivoted_mouselab_quiz[pivoted_mouselab_quiz[\"passed_quizzes\"]==1].index])"
   ]
  },
  {
   "cell_type": "code",
   "execution_count": 26,
   "id": "803a9de8",
   "metadata": {},
   "outputs": [
    {
     "data": {
      "text/plain": [
       "684"
      ]
     },
     "execution_count": 26,
     "metadata": {},
     "output_type": "execute_result"
    }
   ],
   "source": [
    "len(set.intersection(set(finished_df[\"pid\"]), quiz_passers)-set(straightliners))"
   ]
  },
  {
   "cell_type": "code",
   "execution_count": 27,
   "id": "614d0453",
   "metadata": {
    "scrolled": false
   },
   "outputs": [
    {
     "data": {
      "text/plain": [
       "837"
      ]
     },
     "execution_count": 27,
     "metadata": {},
     "output_type": "execute_result"
    }
   ],
   "source": [
    "len(np.unique(mouselab_questionnaires[\"pid\"]))"
   ]
  },
  {
   "cell_type": "code",
   "execution_count": null,
   "id": "9a26be6c",
   "metadata": {},
   "outputs": [],
   "source": [
    "684/837"
   ]
  },
  {
   "cell_type": "code",
   "execution_count": null,
   "id": "d57a5d7e",
   "metadata": {
    "papermill": {
     "duration": null,
     "end_time": null,
     "exception": null,
     "start_time": null,
     "status": "pending"
    },
    "tags": []
   },
   "outputs": [],
   "source": [
    "# TODO\n",
    "# quiz_and_demo = pivoted_mouselab_quiz.join(demographics)\n",
    "# quiz_and_demo = quiz_and_demo.merge(individual_variables, how=\"left\", on=[\"pid\", \"run\"])\n",
    "\n",
    "# quiz_and_demo_subselection = quiz_and_demo[quiz_and_demo.apply(lambda row: (row[\"pid\"], row[\"run\"]) in \\\n",
    "#                                  passed_all_quizzes, axis=1)]\n",
    "\n",
    "# quiz_and_demo_subselection[\"gender\"]=quiz_and_demo_subselection[\"gender\"].replace(np.nan, \"participants with no demographic\")\n",
    "# ages = [int(age) for age in quiz_and_demo_subselection[\"age\"] if not pd.isnull(age)]\n",
    "\n",
    "# gender_values, gender_counts = np.unique(quiz_and_demo_subselection[\"gender\"].values, return_counts = True)\n",
    "# print(get_demo_string(ages, gender_counts, gender_values))\n",
    "\n",
    "\n",
    "if len(questionnaires)>0:\n",
    "        scored_questionnaire_df[scored_questionnaire_df.apply(lambda row: (row[\"pid\"], row[\"run\"]) in \\\n",
    "                                 passed_all_quizzes, axis=1)].to_csv(processed_data_path.joinpath(\"questionnaires.csv\"))\n",
    "# quiz_and_demo[quiz_and_demo.apply(lambda row: (row[\"pid\"], row[\"run\"]) in \\\n",
    "#                                  passed_all_quizzes, axis=1)].to_csv(processed_data_path.joinpath(\"quiz-and-demo.csv\"))\n",
    "mouselab_datas[mouselab_datas.apply(lambda row: (row[\"pid\"], row[\"run\"]) in \\\n",
    "                                 passed_all_quizzes, axis=1)].to_csv(processed_data_path.joinpath(\"mouselab-mdp.csv\"))\n",
    "# survey_texts[survey_texts.apply(lambda row: (row[\"pid\"], row[\"run\"]) in \\\n",
    "#                                  passed_all_quizzes, axis=1)].to_csv(processed_data_path.joinpath(\"survey-text.csv\"))\n",
    "individual_variables[individual_variables.apply(lambda row: (row[\"pid\"], row[\"run\"]) in \\\n",
    "                                 passed_all_quizzes, axis=1)].to_csv(processed_data_path.joinpath(\"individual-variables.csv\"))"
   ]
  },
  {
   "cell_type": "code",
   "execution_count": null,
   "id": "b7c373c1",
   "metadata": {},
   "outputs": [],
   "source": [
    "valid_questionnaires = scored_questionnaire_df[scored_questionnaire_df.apply(lambda row: (row[\"pid\"], row[\"run\"]) in \\\n",
    "                                 passed_all_quizzes, axis=1)]\n",
    "valid_questionnaires = valid_questionnaires[~pd.isnull(valid_questionnaires[\"question_id\"])]\n",
    "\n",
    "\n",
    "crt_mapping = {\"correct\": 1, \"other\": 0, \"intuitive\":0, \"no response\":0}\n",
    "valid_questionnaires[\"score\"] = valid_questionnaires[\"score\"].apply(lambda score: score if not score in crt_mapping.keys() else crt_mapping[score])\n",
    "\n",
    "individual_items = valid_questionnaires.pivot_table(\n",
    "        index=[\"pid\"], columns=\"question_id\", values=\"score\"\n",
    "    )\n",
    "# individual_items = individual_items.join(demographics[[\"age\", \"effort\", \"gender\"]], on=\"pid\")\n",
    "individual_items.to_csv(processed_data_path.joinpath(\"individual_items.csv\"))\n",
    "\n",
    "summed_scores = valid_questionnaires.groupby([\"pid\", \"name\"]).sum()[\"score\"].reset_index()\n",
    "combined_scores = summed_scores.pivot_table(\n",
    "    index=[\"pid\"], columns=\"name\", values=\"score\"\n",
    ")\n",
    "# combined_scores = combined_scores.join(demographics[demographics.columns.difference([\"female\", \"male\", \"other\"])], on=\"pid\")\n",
    "combined_scores.to_csv(processed_data_path.joinpath(\"combined_scores.csv\"))"
   ]
  },
  {
   "cell_type": "code",
   "execution_count": null,
   "id": "68e781f1",
   "metadata": {
    "papermill": {
     "duration": null,
     "end_time": null,
     "exception": null,
     "start_time": null,
     "status": "pending"
    },
    "tags": []
   },
   "outputs": [],
   "source": [
    "if num_parts:\n",
    "    #TODO only supports one digit num_parts\n",
    "    for part_num in range(1, num_parts +1):\n",
    "        curr_runs = [run for run in finished_df[\"run\"].unique() if run.endswith(f\"Part{part_num}\")]\n",
    "        curr_runs_df = finished_df[finished_df[\"run\"].isin(curr_runs)]\n",
    "        median_info = curr_runs_df[curr_runs_df.apply(lambda row: (row[\"pid\"], row[\"run\"][:-1]+str(1)) in \\\n",
    "                                     passed_all_quizzes, axis=1)].median()\n",
    "        print(f\"median time: {median_info['time_diff']:.2f}, median bonus: {median_info['final_bonus']:.2f}\")\n",
    "else:\n",
    "    median_info = finished_df[finished_df.apply(lambda row: (row[\"pid\"], row[\"run\"]) in \\\n",
    "                                 passed_all_quizzes, axis=1)].median()\n",
    "    print(f\"median time: {median_info['time_diff']:.2f}, median bonus: {median_info['final_bonus']:.2f}\")"
   ]
  },
  {
   "cell_type": "code",
   "execution_count": null,
   "id": "1b2920cc",
   "metadata": {},
   "outputs": [],
   "source": [
    "mean_info = finished_df[finished_df.apply(lambda row: (row[\"pid\"], row[\"run\"]) in \\\n",
    "                                 passed_all_quizzes, axis=1)].mean()\n",
    "print(f\"mean time: {mean_info['time_diff']:.2f}, mean bonus: {mean_info['final_bonus']:.2f}\")"
   ]
  },
  {
   "cell_type": "code",
   "execution_count": null,
   "id": "595acb8d",
   "metadata": {},
   "outputs": [],
   "source": []
  }
 ],
 "metadata": {
  "kernelspec": {
   "display_name": "irl-project",
   "language": "python",
   "name": "irl-project"
  },
  "language_info": {
   "codemirror_mode": {
    "name": "ipython",
    "version": 3
   },
   "file_extension": ".py",
   "mimetype": "text/x-python",
   "name": "python",
   "nbconvert_exporter": "python",
   "pygments_lexer": "ipython3",
   "version": "3.8.10"
  },
  "papermill": {
   "default_parameters": {},
   "duration": 6.721337,
   "end_time": "2022-10-31T14:01:47.191782",
   "environment_variables": {},
   "exception": true,
   "input_path": "/home/vfelso/github/planning-depth-differences/data/templates/preprocessing_human.ipynb",
   "output_path": "/home/vfelso/github/planning-depth-differences/data/Preprocessing_quest_pilot.ipynb",
   "parameters": {
    "COST": null,
    "DEPTH": null,
    "analysis_run": "quest_pilot",
    "bonus_function": "lambda row: round((row[\"score\"] + 50) * .002, 2)",
    "data_path": "/home/vfelso/github/planning-depth-differences/data",
    "database_key": null,
    "experiment_setting": "high_increasing",
    "experiment_specific_mapping": {},
    "ground_truth_file": "high_increasing",
    "html_survey_names": {},
    "manual_age_mapping": {},
    "max_attempts": {
     "mouselab-quiz-post": 1,
     "mouselab-quiz-pre": 4
    },
    "mouselab_column_identifier": "name",
    "mouselab_mapping": {
     "0.0-1.*-1.*": "mouselab-quiz-pre",
     "0.0-3.*-2*": "mouselab-quiz-post",
     "0.0-3.*-3*": "mouselab-quiz-post"
    },
    "mouselab_quiz_solutions": {
     "mouselab-quiz-post": {
      "Q0": "$-4 to $4",
      "Q1": "$-8 to $8",
      "Q2": "$-48 to $48",
      "Q3": "No, the cost is always $1.00.",
      "Q4": {
       "": 0,
       "Neither motivated nor unmotivated": 0,
       "Slightly motivated": 1,
       "Slightly unmotivated": -1,
       "Very motivated": 2,
       "Very unmotivated": -2
      }
     },
     "mouselab-quiz-pre": {
      "Q0": "$-48 to $48",
      "Q1": "No, the cost is always $1.00.",
      "Q2": "There is no limit",
      "Q3": "The better I perform the higher my bonus will be.",
      "Q4": "No, the amount of cash at each node of the web may be different each time."
     }
    },
    "node_classification": {
     "clicks": [
      1,
      5,
      9,
      2,
      6,
      10,
      3,
      4,
      7,
      8,
      11,
      12
     ],
     "early": [
      1,
      5,
      9
     ],
     "late": [
      3,
      4,
      7,
      8,
      11,
      12
     ],
     "middle": [
      2,
      6,
      10
     ]
    },
    "num_parts": null,
    "old_experiment": false,
    "participants_to_remove": [],
    "passing_score": {
     "mouselab-quiz-post": 0,
     "mouselab-quiz-pre": 5
    },
    "ranges_to_extract": null,
    "sessions": [
     "quest_pilot"
    ],
    "simulated": false,
    "structure": "312_2_4_24",
    "trials_per_block": {
     "test": 20,
     "training": 20
    }
   },
   "start_time": "2022-10-31T14:01:40.470445",
   "version": "2.3.4"
  }
 },
 "nbformat": 4,
 "nbformat_minor": 5
}
