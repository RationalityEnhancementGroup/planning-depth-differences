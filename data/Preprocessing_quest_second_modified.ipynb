{
 "cells": [
  {
   "cell_type": "code",
   "execution_count": 1,
   "id": "d8ffa9b2",
   "metadata": {
    "execution": {
     "iopub.execute_input": "2022-09-07T08:13:38.620141Z",
     "iopub.status.busy": "2022-09-07T08:13:38.619134Z",
     "iopub.status.idle": "2022-09-07T08:13:39.236887Z",
     "shell.execute_reply": "2022-09-07T08:13:39.235906Z"
    },
    "jupyter": {
     "outputs_hidden": false
    },
    "papermill": {
     "duration": 0.640661,
     "end_time": "2022-09-07T08:13:39.239252",
     "exception": false,
     "start_time": "2022-09-07T08:13:38.598591",
     "status": "completed"
    },
    "pycharm": {
     "name": "#%%\n"
    },
    "tags": [
     "parameters"
    ]
   },
   "outputs": [],
   "source": [
    "from pathlib import Path\n",
    "import pandas as pd\n",
    "import numpy as np\n",
    "from datetime import datetime\n",
    "\n",
    "from download_tools.plugins.mouselab_mdp import preprocess_mouselab_data, add_click_count_columns\n",
    "from download_tools.plugins.survey_html_form import process_html_demographics\n",
    "from download_tools.plugins.survey_multi_choice import score_mouselab_questionnaires, get_mouselab_quiz_name, get_quiz_passer_ids, score_row, score_generic_questionnaires\n",
    "from download_tools.plugins.survey_text import preprocess_survey_text, get_old_demographics\n",
    "from download_tools.plugins.utils import get_demo_string\n",
    "\n",
    "from datetime import datetime\n",
    "import json\n",
    "import dill as pickle"
   ]
  },
  {
   "cell_type": "code",
   "execution_count": 2,
   "id": "f3a28edf",
   "metadata": {
    "execution": {
     "iopub.execute_input": "2022-09-07T08:13:39.252254Z",
     "iopub.status.busy": "2022-09-07T08:13:39.251822Z",
     "iopub.status.idle": "2022-09-07T08:13:39.265701Z",
     "shell.execute_reply": "2022-09-07T08:13:39.264721Z"
    },
    "papermill": {
     "duration": 0.023882,
     "end_time": "2022-09-07T08:13:39.268408",
     "exception": false,
     "start_time": "2022-09-07T08:13:39.244526",
     "status": "completed"
    },
    "tags": [
     "injected-parameters"
    ]
   },
   "outputs": [],
   "source": [
    "# Parameters\n",
    "database_key = \"NEW\"\n",
    "participants_to_remove = [679, 916]\n",
    "simulated = False\n",
    "sessions = [\"2PartPilot1Part1\", \"2PartPilot2Part1\", \"2PartPilot3Part1\", \"2PartPilot1Part2\", \"2PartPilot2Part2\", \"2PartPilot3Part2\"]\n",
    "experiment_setting = \"high_increasing\"\n",
    "COST = None\n",
    "DEPTH = None\n",
    "num_parts = 2\n",
    "html_survey_names = {\"2PartPilot1Part1\": {\"0.0-4.0-12.0\": \"crt\", \"0.0-4.0-14.0\": \"demographics\", \"0.0-4.0-16.0\": \"crt\", \"0.0-4.0-17.0\": \"demographics\"}, \"2PartPilot1Part2\": {\"0.0-9.0\": \"crt\"}, \"2PartPilot2Part1\": {\"0.0-4.0-12.0\": \"demographics\", \"0.0-4.0-16.0\": \"demographics\"}, \"2PartPilot2Part2\": {\"0.0-13.0\": \"crt\", \"0.0-9.0\": \"crt\"}, \"2PartPilot3Part1\": {\"0.0-4.0-12.0\": \"demographics\", \"0.0-4.0-16.0\": \"demographics\"}, \"2PartPilot3Part2\": {\"0.0-13.0\": \"crt\", \"0.0-9.0\": \"crt\"}}\n",
    "old_experiment = False\n",
    "manual_age_mapping = {}\n",
    "experiment_specific_mapping = {}\n",
    "trials_per_block = {\"test\": 30}\n",
    "ranges_to_extract = {\"training\": \"range(20)\", \"test\": \"range(20,30)\"}\n",
    "mouselab_column_identifier = \"name\"\n",
    "mouselab_mapping = {\"0.0-2.*-1.*\": \"mouselab-quiz-pre\", \"0.0-4.0-2.0\": \"mouselab-quiz-post\", \"0.0-3.0-*.0\": \"mouselab-quiz-post\", \"0.0-19.*-2.*\": \"mouselab-quiz-post\", \"0.0-17.*-1.*\": \"mouselab-quiz-pre\"}\n",
    "max_attempts = {\"mouselab-quiz-pre\": 4, \"mouselab-quiz-post\": 1}\n",
    "passing_score = {\"mouselab-quiz-pre\": 4, \"mouselab-quiz-post\": 0}\n",
    "mouselab_quiz_solutions = {\"mouselab-quiz-pre\": {\"Q0\": \"$-48 to $48\", \"Q1\": \"$1\", \"Q2\": \"The better I perform the higher my bonus will be.\", \"Q3\": \"No, the amount of cash at each node of the web may be different each time.\"}, \"mouselab-quiz-post\": {\"Q0\": \"$-4 to $4\", \"Q1\": \"$-8 to $8\", \"Q2\": \"$-48 to $48\", \"Q3\": \"No, the cost is always $1.00.\", \"Q4\": {\"Very unmotivated\": -2, \"Slightly unmotivated\": -1, \"Neither motivated nor unmotivated\": 0, \"Slightly motivated\": 1, \"Very motivated\": 2, \"\": 0}}}\n",
    "crt_quiz_solutions = {\"crt1\": {\".10\": \"intuitive\", \"10\": \"intuitive\", \".05\": \"correct\", \"5\": \"correct\", \"\": \"no response\"}, \"crt2\": {\"100\": \"intuitive\", \"5\": \"correct\", \"\": \"no response\"}, \"crt3\": {\"24\": \"intuitive\", \"47\": \"correct\", \"\": \"no response\"}, \"crt4\": {\"9\": \"intuitive\", \"4\": \"correct\", \"\": \"no response\"}, \"crt5\": {\"30\": \"intuitive\", \"29\": \"correct\", \"\": \"no response\"}, \"crt6\": {\"10\": \"intuitive\", \"20\": \"correct\", \"\": \"no response\"}, \"crt7\": {\"is ahead of where he began\": \"intuitive\", \"has lost money\": \"correct\", \"\": \"no response\"}}\n",
    "ground_truth_file = \"312_2_4_24\"\n",
    "node_classification = {\"early\": [1, 5, 9], \"middle\": [2, 6, 10], \"late\": [3, 4, 7, 8, 11, 12], \"clicks\": [1, 5, 9, 2, 6, 10, 3, 4, 7, 8, 11, 12]}\n",
    "structure = \"312_2_4_24\"\n",
    "analysis_run = \"quest_second\"\n",
    "data_path = \"/home/vfelso/github/planning-depth-differences/data\""
   ]
  },
  {
   "cell_type": "code",
   "execution_count": 3,
   "id": "4ba6fd45",
   "metadata": {
    "execution": {
     "iopub.execute_input": "2022-09-07T08:13:39.279470Z",
     "iopub.status.busy": "2022-09-07T08:13:39.279140Z",
     "iopub.status.idle": "2022-09-07T08:13:39.285217Z",
     "shell.execute_reply": "2022-09-07T08:13:39.284079Z"
    },
    "jupyter": {
     "outputs_hidden": false
    },
    "papermill": {
     "duration": 0.013948,
     "end_time": "2022-09-07T08:13:39.287139",
     "exception": false,
     "start_time": "2022-09-07T08:13:39.273191",
     "status": "completed"
    },
    "pycharm": {
     "name": "#%%\n"
    },
    "tags": []
   },
   "outputs": [],
   "source": [
    "# paths to use\n",
    "inputs_path = Path(data_path).joinpath('inputs')\n",
    "raw_data_path = Path(data_path).joinpath('raw')\n",
    "processed_data_path = Path(data_path).joinpath(f'processed/{analysis_run}')\n",
    "processed_data_path.mkdir(parents=True, exist_ok=True)"
   ]
  },
  {
   "cell_type": "code",
   "execution_count": 4,
   "id": "4d437ba6",
   "metadata": {
    "execution": {
     "iopub.execute_input": "2022-09-07T08:13:39.297900Z",
     "iopub.status.busy": "2022-09-07T08:13:39.297581Z",
     "iopub.status.idle": "2022-09-07T08:13:39.303408Z",
     "shell.execute_reply": "2022-09-07T08:13:39.302503Z"
    },
    "papermill": {
     "duration": 0.013707,
     "end_time": "2022-09-07T08:13:39.305455",
     "exception": false,
     "start_time": "2022-09-07T08:13:39.291748",
     "status": "completed"
    },
    "pycharm": {
     "name": "#%%\n"
    },
    "tags": []
   },
   "outputs": [],
   "source": [
    "with open(inputs_path.joinpath(f\"exp_inputs/rewards/{ground_truth_file}.json\")) as json_file:\n",
    "    ground_truths = json.load(json_file)"
   ]
  },
  {
   "cell_type": "code",
   "execution_count": 5,
   "id": "2788ad11",
   "metadata": {
    "execution": {
     "iopub.execute_input": "2022-09-07T08:13:39.316842Z",
     "iopub.status.busy": "2022-09-07T08:13:39.316486Z",
     "iopub.status.idle": "2022-09-07T08:13:39.756809Z",
     "shell.execute_reply": "2022-09-07T08:13:39.755759Z"
    },
    "jupyter": {
     "outputs_hidden": false
    },
    "papermill": {
     "duration": 0.448784,
     "end_time": "2022-09-07T08:13:39.759114",
     "exception": false,
     "start_time": "2022-09-07T08:13:39.310330",
     "status": "completed"
    },
    "pycharm": {
     "name": "#%%\n"
    },
    "tags": []
   },
   "outputs": [],
   "source": [
    "# load data\n",
    "full_data = {}\n",
    "\n",
    "# read in sessions\n",
    "for run in sessions:\n",
    "    for file_path in raw_data_path.glob(f\"{run}/*.csv\"):\n",
    "        # don't want to save identifiable bonuses\n",
    "        # file, information is already in data\n",
    "        if \"bonuses\" not in str(file_path):\n",
    "            file_name = file_path.stem\n",
    "            curr_data_frame = pd.read_csv(file_path)\n",
    "            curr_data_frame[\"run\"] = run\n",
    "\n",
    "            # remove participant who answered they were too young\n",
    "            curr_data_frame = curr_data_frame[~curr_data_frame[\"pid\"].isin(participants_to_remove)]\n",
    "\n",
    "            if file_name not in full_data:\n",
    "                full_data[file_name] = [curr_data_frame]\n",
    "            else:\n",
    "                full_data[file_name].append(curr_data_frame)\n",
    "\n",
    "full_data = {k: pd.concat(v) for k,v in full_data.items()}"
   ]
  },
  {
   "cell_type": "code",
   "execution_count": 6,
   "id": "820e3d7a",
   "metadata": {
    "execution": {
     "iopub.execute_input": "2022-09-07T08:13:39.773307Z",
     "iopub.status.busy": "2022-09-07T08:13:39.772865Z",
     "iopub.status.idle": "2022-09-07T08:13:39.840151Z",
     "shell.execute_reply": "2022-09-07T08:13:39.839356Z"
    },
    "jupyter": {
     "outputs_hidden": false
    },
    "papermill": {
     "duration": 0.077314,
     "end_time": "2022-09-07T08:13:39.842079",
     "exception": false,
     "start_time": "2022-09-07T08:13:39.764765",
     "status": "completed"
    },
    "pycharm": {
     "name": "#%%\n"
    },
    "tags": []
   },
   "outputs": [
    {
     "name": "stdout",
     "output_type": "stream",
     "text": [
      "           index  counterbalance  bonus  status         pid  final_bonus  \\\n",
      "cond                                                                       \n",
      "0     251.244898             0.0    0.0     3.0  703.387755     1.334468   \n",
      "1     280.282609             0.0    0.0     3.0  684.782609     1.120652   \n",
      "2     290.942308             0.0    0.0     3.0  714.288462     1.278163   \n",
      "3     319.617021             0.0    0.0     3.0  741.617021     1.218478   \n",
      "4     341.791667             0.0    0.0     3.0  724.750000     1.142826   \n",
      "5     344.285714             0.0    0.0     3.0  741.979592     1.321064   \n",
      "6     354.800000             0.0    0.0     3.0  726.900000     1.318776   \n",
      "7     360.770833             0.0    0.0     3.0  754.791667     1.433043   \n",
      "8     400.065217             0.0    0.0     3.0  775.673913     1.194444   \n",
      "9     409.250000             0.0    0.0     3.0  778.479167     1.102553   \n",
      "\n",
      "      displayed_bonus  DEPTH  COST  MIN_TIME  inspectCost  bonusRate  \\\n",
      "cond                                                                   \n",
      "0            1.596170    0.0   1.0       7.0          1.0      0.002   \n",
      "1            1.318478    0.0   1.0       7.0          1.0      0.002   \n",
      "2            1.537347    0.0   1.0       7.0          1.0      0.002   \n",
      "3            1.429348    0.0   1.0       7.0          1.0      0.002   \n",
      "4            1.353696    0.0   1.0       7.0          1.0      0.002   \n",
      "5            1.582766    0.0   1.0       7.0          1.0      0.002   \n",
      "6            1.555510    0.0   1.0       7.0          1.0      0.002   \n",
      "7            1.724348    0.0   1.0       7.0          1.0      0.002   \n",
      "8            1.447778    0.0   1.0       7.0          1.0      0.002   \n",
      "9            1.306809    0.0   1.0       7.0          1.0      0.002   \n",
      "\n",
      "      branching  first_trial  time_diff  \n",
      "cond                                     \n",
      "0         312.0     0.571429  27.339116  \n",
      "1         312.0     0.456522  26.784420  \n",
      "2         312.0     0.596154  29.439744  \n",
      "3         312.0     0.510638  26.816312  \n",
      "4         312.0     0.479167  28.495139  \n",
      "5         312.0     0.632653  27.630952  \n",
      "6         312.0     0.420000  26.544333  \n",
      "7         312.0     0.562500  25.026736  \n",
      "8         312.0     0.543478  24.840217  \n",
      "9         312.0     0.437500  25.203819  \n"
     ]
    }
   ],
   "source": [
    "individual_variables = full_data[\"general_info\"].merge(full_data[\"question_data\"], on=[\"pid\",\"run\"])\n",
    "\n",
    "time_format = '%Y-%m-%d %H:%M:%S.%f'\n",
    "finished_df = individual_variables[individual_variables[\"endhit\"].apply(lambda endhit: isinstance(endhit, str))].reset_index()\n",
    "finished_df[\"time_diff\"] = finished_df.apply(lambda row: ((datetime.strptime(row[\"endhit\"], time_format) - datetime.strptime(row[\"beginhit\"], time_format)).seconds % 3600 )/ 60.0, axis=1)\n",
    "individual_variables = individual_variables.merge(finished_df[[\"time_diff\", \"pid\", \"run\"]], how=\"left\", on=[\"pid\", \"run\"])\n",
    "\n",
    "# check saved cost makes sense\n",
    "if (COST is not None) and (DEPTH is not None):\n",
    "    if isinstance(COST, dict):\n",
    "        assert(np.all(individual_variables.apply(lambda row: row[\"COST\"] == COST[row[\"codeversion\"]][int(row[\"cond\"])],axis=1)))\n",
    "    else:\n",
    "        unique_costs = np.unique(individual_variables[\"COST\"])\n",
    "        assert(len(unique_costs) == 1)\n",
    "        assert(unique_costs[0] == COST)\n",
    "    if DEPTH:\n",
    "        if isinstance(DEPTH, dict):\n",
    "            assert(np.all(individual_variables.apply(lambda row: row[\"DEPTH\"] == DEPTH[row[\"codeversion\"]][int(row[\"cond\"])],axis=1)))\n",
    "        else:\n",
    "            unique_costs = np.unique(individual_variables[\"DEPTH\"])\n",
    "            assert(len(unique_costs) == 1)\n",
    "            assert(unique_costs[0] == DEPTH)\n",
    "    print(finished_df.groupby([\"DEPTH\", \"COST\"]).mean())\n",
    "else:\n",
    "    print(finished_df.groupby([\"cond\"]).mean())"
   ]
  },
  {
   "cell_type": "code",
   "execution_count": 7,
   "id": "d6c7caee",
   "metadata": {
    "execution": {
     "iopub.execute_input": "2022-09-07T08:13:39.853086Z",
     "iopub.status.busy": "2022-09-07T08:13:39.852757Z",
     "iopub.status.idle": "2022-09-07T08:13:39.883903Z",
     "shell.execute_reply": "2022-09-07T08:13:39.882888Z"
    },
    "papermill": {
     "duration": 0.038768,
     "end_time": "2022-09-07T08:13:39.885703",
     "exception": false,
     "start_time": "2022-09-07T08:13:39.846935",
     "status": "completed"
    },
    "pycharm": {
     "name": "#%%\n"
    },
    "tags": []
   },
   "outputs": [
    {
     "name": "stderr",
     "output_type": "stream",
     "text": [
      "/tmp/ipykernel_122185/3025913967.py:6: FutureWarning: Treating datetime data as categorical rather than numeric in `.describe` is deprecated and will be removed in a future version of pandas. Specify `datetime_is_numeric=True` to silence this warning and adopt the future behavior now.\n",
      "  individual_variables[\"beginhit\"].describe()\n"
     ]
    },
    {
     "data": {
      "text/plain": [
       "count                     717\n",
       "unique                     20\n",
       "top       2020-12-08 00:00:00\n",
       "freq                      116\n",
       "first     2020-11-24 00:00:00\n",
       "last      2020-12-19 00:00:00\n",
       "Name: beginhit, dtype: object"
      ]
     },
     "execution_count": 7,
     "metadata": {},
     "output_type": "execute_result"
    }
   ],
   "source": [
    "time_fields = {\"startTime\":lambda date: np.nan if not isinstance(date,str) else datetime.strptime(date[:15], \"%a %b %d %Y\") ,\"beginhit\":lambda date: np.nan if  not isinstance(date,str) else datetime.fromisoformat(date.split(\" \")[0]), \"beginexp\" : lambda date: np.nan if  not isinstance(date,str) else datetime.fromisoformat(date.split(\" \")[0]), \"endhit\" : lambda date: np.nan if  not isinstance(date,str) else datetime.fromisoformat(date.split(\" \")[0])}\n",
    "\n",
    "for time_field, time_func in time_fields.items():\n",
    "    individual_variables[time_field] = individual_variables[time_field].apply(time_func)\n",
    "\n",
    "individual_variables[\"beginhit\"].describe()"
   ]
  },
  {
   "cell_type": "code",
   "execution_count": 8,
   "id": "197df77e",
   "metadata": {
    "execution": {
     "iopub.execute_input": "2022-09-07T08:13:39.897843Z",
     "iopub.status.busy": "2022-09-07T08:13:39.897525Z",
     "iopub.status.idle": "2022-09-07T08:13:39.902511Z",
     "shell.execute_reply": "2022-09-07T08:13:39.901362Z"
    },
    "papermill": {
     "duration": 0.013445,
     "end_time": "2022-09-07T08:13:39.904656",
     "exception": false,
     "start_time": "2022-09-07T08:13:39.891211",
     "status": "completed"
    },
    "pycharm": {
     "name": "#%%\n"
    },
    "tags": []
   },
   "outputs": [],
   "source": [
    "if not isinstance(old_experiment, list):\n",
    "    old_experiment = [old_experiment] * len(sessions)"
   ]
  },
  {
   "cell_type": "code",
   "execution_count": 9,
   "id": "c2f35351",
   "metadata": {
    "execution": {
     "iopub.execute_input": "2022-09-07T08:13:39.916534Z",
     "iopub.status.busy": "2022-09-07T08:13:39.916213Z",
     "iopub.status.idle": "2022-09-07T08:13:40.111257Z",
     "shell.execute_reply": "2022-09-07T08:13:40.110532Z"
    },
    "jupyter": {
     "outputs_hidden": false
    },
    "papermill": {
     "duration": 0.203494,
     "end_time": "2022-09-07T08:13:40.113216",
     "exception": false,
     "start_time": "2022-09-07T08:13:39.909722",
     "status": "completed"
    },
    "pycharm": {
     "name": "#%%\n"
    },
    "tags": []
   },
   "outputs": [
    {
     "name": "stderr",
     "output_type": "stream",
     "text": [
      "/home/vfelso/github/irl-project/venv/lib/python3.8/site-packages/download_tools/plugins/survey_html_form.py:17: SettingWithCopyWarning: \n",
      "A value is trying to be set on a copy of a slice from a DataFrame.\n",
      "Try using .loc[row_indexer,col_indexer] = value instead\n",
      "\n",
      "See the caveats in the documentation: https://pandas.pydata.org/pandas-docs/stable/user_guide/indexing.html#returning-a-view-versus-a-copy\n",
      "  raw_demographics[\"responses\"] = raw_demographics[\"responses\"].apply(eval)\n",
      "/home/vfelso/github/irl-project/venv/lib/python3.8/site-packages/download_tools/plugins/survey_multi_choice.py:72: SettingWithCopyWarning: \n",
      "A value is trying to be set on a copy of a slice from a DataFrame.\n",
      "Try using .loc[row_indexer,col_indexer] = value instead\n",
      "\n",
      "See the caveats in the documentation: https://pandas.pydata.org/pandas-docs/stable/user_guide/indexing.html#returning-a-view-versus-a-copy\n",
      "  df[\"question_id\"] = df.apply(\n",
      "/home/vfelso/github/irl-project/venv/lib/python3.8/site-packages/download_tools/plugins/survey_multi_choice.py:108: SettingWithCopyWarning: \n",
      "A value is trying to be set on a copy of a slice from a DataFrame.\n",
      "Try using .loc[row_indexer,col_indexer] = value instead\n",
      "\n",
      "See the caveats in the documentation: https://pandas.pydata.org/pandas-docs/stable/user_guide/indexing.html#returning-a-view-versus-a-copy\n",
      "  questionnaire_df[\"responses\"] = questionnaire_df.apply(\n"
     ]
    },
    {
     "name": "stdout",
     "output_type": "stream",
     "text": [
      "132 females, 117 males, 1 others; median age 32, age range 19-73\n"
     ]
    }
   ],
   "source": [
    "survey_texts = preprocess_survey_text(full_data[\"survey-text\"])\n",
    "\n",
    "if any(old_experiment):\n",
    "    old_runs = np.asarray(sessions)[old_experiment]\n",
    "    old_demographics, demo_text = get_old_demographics(survey_texts[survey_texts[\"run\"].isin(old_runs)], experiment_specific_gender=experiment_specific_mapping, manual_age_mapping=manual_age_mapping)\n",
    "    print(demo_text)\n",
    "\n",
    "new_runs =  np.asarray(sessions)[[not ex for ex in old_experiment]]\n",
    "html_survey = full_data[\"survey-html-form\"]\n",
    "if len(html_survey_names) > 0:\n",
    "    if \"name\" not in html_survey:\n",
    "        html_survey[\"name\"] = np.nan\n",
    "\n",
    "    html_survey[\"name\"] = html_survey.apply(\n",
    "        lambda row: get_mouselab_quiz_name(row, html_survey_names[row[\"run\"]]) if not isinstance(row[\"name\"], str) else row[\"name\"],\n",
    "        axis=1)\n",
    "    demographics, demo_text = process_html_demographics(html_survey[(html_survey[\"name\"] == \"demographics\")&(html_survey[\"run\"].isin(new_runs))])\n",
    "    full_data[\"survey-multi-choice\"] = pd.concat([full_data[\"survey-multi-choice\"], html_survey[html_survey[\"name\"] != \"demographics\"]])\n",
    "else:\n",
    "    demographics, demo_text = process_html_demographics(full_data[\"survey-html-form\"])\n",
    "\n",
    "print(demo_text)\n",
    "\n",
    "\n",
    "if any(old_experiment):\n",
    "    gender_name, gender_count = np.unique(pd.concat([old_demographics[\"Q2\"],demographics[\"gender\"]]), return_counts=True)\n",
    "    ages = pd.concat([old_demographics[\"Q1\"],demographics[\"age\"]]).apply(int)\n",
    "    print(get_demo_string(ages, gender_count, gender_name))"
   ]
  },
  {
   "cell_type": "code",
   "execution_count": 10,
   "id": "1a4d5e70",
   "metadata": {
    "execution": {
     "iopub.execute_input": "2022-09-07T08:13:40.129438Z",
     "iopub.status.busy": "2022-09-07T08:13:40.129109Z",
     "iopub.status.idle": "2022-09-07T08:13:41.420374Z",
     "shell.execute_reply": "2022-09-07T08:13:41.419232Z"
    },
    "papermill": {
     "duration": 1.303836,
     "end_time": "2022-09-07T08:13:41.422622",
     "exception": false,
     "start_time": "2022-09-07T08:13:40.118786",
     "status": "completed"
    },
    "pycharm": {
     "name": "#%%\n"
    },
    "tags": []
   },
   "outputs": [],
   "source": [
    "mouselab_datas = preprocess_mouselab_data(full_data[\"mouselab-mdp\"],trials_per_block,ground_truths)\n",
    "\n",
    "mouselab_datas = mouselab_datas.merge(individual_variables, how=\"left\", on=[\"pid\", \"run\"])\n",
    "\n",
    "# path may contain a bunch of 0s at the start due to miscoding\n",
    "mouselab_datas[\"path\"] = mouselab_datas[\"path\"].apply(lambda path : eval(path)[-3:])\n",
    "\n",
    "node_classification = {key : [str(node) for node in val] for key, val in node_classification.items()}\n",
    "mouselab_datas = add_click_count_columns(mouselab_datas, node_classification)"
   ]
  },
  {
   "cell_type": "code",
   "execution_count": 11,
   "id": "977eaafa",
   "metadata": {
    "execution": {
     "iopub.execute_input": "2022-09-07T08:13:41.435748Z",
     "iopub.status.busy": "2022-09-07T08:13:41.435436Z",
     "iopub.status.idle": "2022-09-07T08:13:41.608951Z",
     "shell.execute_reply": "2022-09-07T08:13:41.608024Z"
    },
    "papermill": {
     "duration": 0.182682,
     "end_time": "2022-09-07T08:13:41.611653",
     "exception": false,
     "start_time": "2022-09-07T08:13:41.428971",
     "status": "completed"
    },
    "pycharm": {
     "name": "#%%\n"
    },
    "tags": []
   },
   "outputs": [],
   "source": [
    "#TODO would be nice to refactor this out and import it\n",
    "def expand_range_dictionary(input_dictionary):\n",
    "    trial_to_block = {}\n",
    "    for block, trial_range in input_dictionary.items():\n",
    "        if isinstance(trial_range, str):\n",
    "            for trial_index in eval(trial_range):\n",
    "                trial_to_block[trial_index] = block\n",
    "        else:\n",
    "            trial_to_block[block] = expand_range_dictionary(trial_range)\n",
    "    return trial_to_block\n",
    "\n",
    "if ranges_to_extract:\n",
    "    trial_to_block = expand_range_dictionary(ranges_to_extract)\n",
    "\n",
    "    mouselab_datas[\"block\"] = mouselab_datas.apply(lambda row: trial_to_block[row[\"run\"]][row[\"trial_index\"]] if row[\"run\"] in trial_to_block else trial_to_block[row[\"trial_index\"]], axis=1)"
   ]
  },
  {
   "cell_type": "code",
   "execution_count": 12,
   "id": "4b9937fa",
   "metadata": {
    "execution": {
     "iopub.execute_input": "2022-09-07T08:13:41.630861Z",
     "iopub.status.busy": "2022-09-07T08:13:41.630545Z",
     "iopub.status.idle": "2022-09-07T08:13:42.017435Z",
     "shell.execute_reply": "2022-09-07T08:13:42.016551Z"
    },
    "papermill": {
     "duration": 0.39995,
     "end_time": "2022-09-07T08:13:42.020069",
     "exception": false,
     "start_time": "2022-09-07T08:13:41.620119",
     "status": "completed"
    },
    "pycharm": {
     "name": "#%%\n"
    },
    "tags": []
   },
   "outputs": [],
   "source": [
    "questionnaires = full_data[\"survey-multi-choice\"]\n",
    "\n",
    "if \"name\" not in questionnaires:\n",
    "    questionnaires[\"name\"] = np.nan\n",
    "\n",
    "questionnaires[\"name\"] = questionnaires.apply(\n",
    "    lambda row: get_mouselab_quiz_name(row, mouselab_mapping) if not isinstance(row[\"name\"], str) else row[\"name\"],\n",
    "    axis=1)\n",
    "\n",
    "mouselab_questionnaires = questionnaires[questionnaires[\"name\"].isin(mouselab_mapping.values())].reset_index()\n",
    "questionnaires = questionnaires[~questionnaires[\"name\"].isin(mouselab_mapping.values())].reset_index()\n",
    "\n",
    "mouselab_questionnaires[\"name\"] = mouselab_questionnaires.apply(lambda row: get_mouselab_quiz_name(row, mouselab_mapping) if not isinstance(row[\"name\"], str) else row[\"name\"],axis=1)\n",
    "mouselab_questionnaires = score_mouselab_questionnaires(mouselab_questionnaires, mouselab_quiz_solutions, mouselab_column_identifier)\n",
    "mouselab_quiz = mouselab_questionnaires.drop_duplicates([\"pid\",\"question_id\"], keep=\"last\")\n",
    "\n",
    "pivoted_mouselab_quiz = mouselab_quiz.pivot_table(values=\"score\", index=[\"pid\",\"run\"], columns=\"question_id\")"
   ]
  },
  {
   "cell_type": "code",
   "execution_count": 13,
   "id": "ee82bc4c",
   "metadata": {
    "execution": {
     "iopub.execute_input": "2022-09-07T08:13:42.042067Z",
     "iopub.status.busy": "2022-09-07T08:13:42.041725Z",
     "iopub.status.idle": "2022-09-07T08:13:47.726389Z",
     "shell.execute_reply": "2022-09-07T08:13:47.725474Z"
    },
    "papermill": {
     "duration": 5.697102,
     "end_time": "2022-09-07T08:13:47.728366",
     "exception": false,
     "start_time": "2022-09-07T08:13:42.031264",
     "status": "completed"
    },
    "pycharm": {
     "name": "#%%\n"
    },
    "tags": []
   },
   "outputs": [],
   "source": [
    "if len(questionnaires)>0:\n",
    "    # remove potentially sensitive questionnaire\n",
    "    questionnaires = questionnaires[~questionnaires[\"name\"].isin(['decision-outcome'])]\n",
    "    questionnaire_files = {}\n",
    "    for session in sessions:\n",
    "        with open(inputs_path.joinpath(f\"questionnaire_files/solutions.pkl\"), \"rb\") as f:\n",
    "            questionnaires_presentation = pickle.load(f)\n",
    "        questionnaire_files[session] = {**questionnaires_presentation, **mouselab_quiz_solutions, **crt_quiz_solutions}\n",
    "    questionnaires[\"open_ended\"] = questionnaires[\"name\"].apply(lambda entry: entry in [\"crt\"])\n",
    "    questionnaires[\"responses\"] = questionnaires[\"responses\"].apply(lambda entry: entry.replace(\"null\", \"None\").replace(\"”\",\"\").replace(\"“\",\"\") if isinstance(entry, str) else entry)\n",
    "    scored_questionnaire_df = score_generic_questionnaires(questionnaires, questionnaire_files, group_identifier=\"name\", default_open_ended={\"crt\": \"other\"})"
   ]
  },
  {
   "cell_type": "code",
   "execution_count": 14,
   "id": "944b07f6",
   "metadata": {
    "execution": {
     "iopub.execute_input": "2022-09-07T08:13:47.740713Z",
     "iopub.status.busy": "2022-09-07T08:13:47.740407Z",
     "iopub.status.idle": "2022-09-07T08:13:48.198275Z",
     "shell.execute_reply": "2022-09-07T08:13:48.197408Z"
    },
    "papermill": {
     "duration": 0.466878,
     "end_time": "2022-09-07T08:13:48.200828",
     "exception": false,
     "start_time": "2022-09-07T08:13:47.733950",
     "status": "completed"
    },
    "pycharm": {
     "name": "#%%\n"
    },
    "tags": []
   },
   "outputs": [
    {
     "name": "stderr",
     "output_type": "stream",
     "text": [
      "/home/vfelso/github/irl-project/venv/lib/python3.8/site-packages/download_tools/plugins/survey_multi_choice.py:225: SettingWithCopyWarning: \n",
      "A value is trying to be set on a copy of a slice from a DataFrame.\n",
      "Try using .loc[row_indexer,col_indexer] = value instead\n",
      "\n",
      "See the caveats in the documentation: https://pandas.pydata.org/pandas-docs/stable/user_guide/indexing.html#returning-a-view-versus-a-copy\n",
      "  survey_data[\"attempt_num\"] = survey_data[\"internal_node_id\"].apply(\n"
     ]
    },
    {
     "name": "stdout",
     "output_type": "stream",
     "text": [
      "250\n"
     ]
    }
   ],
   "source": [
    "quiz_passers = get_quiz_passer_ids(mouselab_questionnaires, max_attempts=max_attempts, passing_score=passing_score, identifying_columns = [\"pid\", \"run\"])\n",
    "passed_all_quizzes = list(set.intersection(*map(set,quiz_passers.values())))\n",
    "print(len(passed_all_quizzes))\n",
    "pivoted_mouselab_quiz[\"passed_quizzes\"] = 0\n",
    "pivoted_mouselab_quiz.loc[passed_all_quizzes, \"passed_quizzes\"] = 1"
   ]
  },
  {
   "cell_type": "code",
   "execution_count": 15,
   "id": "bb807478",
   "metadata": {},
   "outputs": [],
   "source": [
    "# only include participants who really finished experiment, and were paid\n",
    "passed_all_quizzes = [part for part in passed_all_quizzes if part[0] in demographics.index]"
   ]
  },
  {
   "cell_type": "code",
   "execution_count": 16,
   "id": "909aa96c",
   "metadata": {
    "execution": {
     "iopub.execute_input": "2022-09-07T08:13:48.219761Z",
     "iopub.status.busy": "2022-09-07T08:13:48.219461Z",
     "iopub.status.idle": "2022-09-07T08:13:49.910414Z",
     "shell.execute_reply": "2022-09-07T08:13:49.909536Z"
    },
    "papermill": {
     "duration": 1.704163,
     "end_time": "2022-09-07T08:13:49.912994",
     "exception": false,
     "start_time": "2022-09-07T08:13:48.208831",
     "status": "completed"
    },
    "pycharm": {
     "name": "#%%\n"
    },
    "tags": []
   },
   "outputs": [
    {
     "name": "stdout",
     "output_type": "stream",
     "text": [
      "131 females, 116 males, 1 others; median age 32, age range 19-73\n"
     ]
    },
    {
     "name": "stderr",
     "output_type": "stream",
     "text": [
      "/tmp/ipykernel_122185/3165002496.py:7: SettingWithCopyWarning: \n",
      "A value is trying to be set on a copy of a slice from a DataFrame.\n",
      "Try using .loc[row_indexer,col_indexer] = value instead\n",
      "\n",
      "See the caveats in the documentation: https://pandas.pydata.org/pandas-docs/stable/user_guide/indexing.html#returning-a-view-versus-a-copy\n",
      "  quiz_and_demo_subselection[\"gender\"]=quiz_and_demo_subselection[\"gender\"].replace(np.nan, \"participants with no demographics\")\n"
     ]
    }
   ],
   "source": [
    "quiz_and_demo = pivoted_mouselab_quiz.join(demographics)\n",
    "quiz_and_demo = quiz_and_demo.merge(individual_variables, how=\"left\", on=[\"pid\", \"run\"])\n",
    "\n",
    "quiz_and_demo_subselection = quiz_and_demo[quiz_and_demo.apply(lambda row: (row[\"pid\"], row[\"run\"][:-1]+str(1)) in \\\n",
    "                                 passed_all_quizzes, axis=1)]\n",
    "\n",
    "quiz_and_demo_subselection[\"gender\"]=quiz_and_demo_subselection[\"gender\"].replace(np.nan, \"participants with no demographics\")\n",
    "ages = [int(age) for age in quiz_and_demo_subselection[\"age\"] if not pd.isnull(age)]\n",
    "\n",
    "gender_values, gender_counts = np.unique(quiz_and_demo_subselection[\"gender\"].values, return_counts = True)\n",
    "print(get_demo_string(ages, gender_counts, gender_values))\n",
    "\n",
    "\n",
    "if len(questionnaires)>0:\n",
    "    scored_questionnaire_df[scored_questionnaire_df.apply(lambda row: (row[\"pid\"], row[\"run\"][:-1]+str(1)) in \\\n",
    "                                 passed_all_quizzes, axis=1)].to_csv(processed_data_path.joinpath(\"questionnaires.csv\"))\n",
    "quiz_and_demo[quiz_and_demo.apply(lambda row: (row[\"pid\"], row[\"run\"][:-1]+str(1)) in \\\n",
    "                                 passed_all_quizzes, axis=1)].to_csv(processed_data_path.joinpath(\"quiz-and-demo.csv\"))\n",
    "mouselab_datas[mouselab_datas.apply(lambda row: (row[\"pid\"], row[\"run\"][:-1]+str(1)) in \\\n",
    "                                 passed_all_quizzes, axis=1)].to_csv(processed_data_path.joinpath(\"mouselab-mdp.csv\"))\n",
    "survey_texts[survey_texts.apply(lambda row: (row[\"pid\"], row[\"run\"][:-1]+str(1)) in \\\n",
    "                                 passed_all_quizzes, axis=1)].to_csv(processed_data_path.joinpath(\"survey-text.csv\"))\n",
    "individual_variables[individual_variables.apply(lambda row: (row[\"pid\"], row[\"run\"][:-1]+str(1)) in \\\n",
    "                                 passed_all_quizzes, axis=1)].to_csv(processed_data_path.joinpath(\"individual-variables.csv\"))"
   ]
  },
  {
   "cell_type": "code",
   "execution_count": 17,
   "id": "cc907fb8",
   "metadata": {
    "execution": {
     "iopub.execute_input": "2022-09-07T08:13:49.929835Z",
     "iopub.status.busy": "2022-09-07T08:13:49.929535Z",
     "iopub.status.idle": "2022-09-07T08:13:49.963541Z",
     "shell.execute_reply": "2022-09-07T08:13:49.962596Z"
    },
    "papermill": {
     "duration": 0.043416,
     "end_time": "2022-09-07T08:13:49.966549",
     "exception": false,
     "start_time": "2022-09-07T08:13:49.923133",
     "status": "completed"
    },
    "pycharm": {
     "name": "#%%\n"
    },
    "tags": []
   },
   "outputs": [
    {
     "name": "stdout",
     "output_type": "stream",
     "text": [
      "median time: 24.68, median bonus: 3.25\n",
      "median time: 25.35, median bonus: 0.00\n"
     ]
    },
    {
     "name": "stderr",
     "output_type": "stream",
     "text": [
      "/tmp/ipykernel_122185/2161971382.py:5: FutureWarning: Dropping of nuisance columns in DataFrame reductions (with 'numeric_only=None') is deprecated; in a future version this will raise TypeError.  Select only valid columns before calling the reduction.\n",
      "  median_info = curr_runs_df[curr_runs_df.apply(lambda row: (row[\"pid\"], row[\"run\"][:-1]+str(1)) in \\\n",
      "/tmp/ipykernel_122185/2161971382.py:5: FutureWarning: Dropping of nuisance columns in DataFrame reductions (with 'numeric_only=None') is deprecated; in a future version this will raise TypeError.  Select only valid columns before calling the reduction.\n",
      "  median_info = curr_runs_df[curr_runs_df.apply(lambda row: (row[\"pid\"], row[\"run\"][:-1]+str(1)) in \\\n"
     ]
    }
   ],
   "source": [
    "if num_parts:\n",
    "    for part_num in range(1, num_parts +1):\n",
    "        curr_runs = [run for run in finished_df[\"run\"].unique() if run.endswith(f\"Part{part_num}\")]\n",
    "        curr_runs_df = finished_df[finished_df[\"run\"].isin(curr_runs)]\n",
    "        median_info = curr_runs_df[curr_runs_df.apply(lambda row: (row[\"pid\"], row[\"run\"][:-1]+str(1)) in \\\n",
    "                                     passed_all_quizzes, axis=1)].median()\n",
    "        print(f\"median time: {median_info['time_diff']:.2f}, median bonus: {median_info['displayed_bonus']:.2f}\")\n",
    "else:\n",
    "    median_info = finished_df[finished_df.apply(lambda row: (row[\"pid\"], row[\"run\"]) in \\\n",
    "                                 passed_all_quizzes, axis=1)].median()\n",
    "    print(f\"median time: {median_info['time_diff']:.2f}, median bonus: {median_info['displayed_bonus']:.2f}\")"
   ]
  },
  {
   "cell_type": "code",
   "execution_count": 18,
   "id": "077888e9",
   "metadata": {},
   "outputs": [
    {
     "data": {
      "text/plain": [
       "name\n",
       "AES             232\n",
       "AUDIT           232\n",
       "BIS             231\n",
       "BISBAS          232\n",
       "CFC             239\n",
       "DOSPERT         232\n",
       "EAT             232\n",
       "FTP             238\n",
       "IQ              221\n",
       "LSAS_A          231\n",
       "LSAS_B          231\n",
       "OCIR            232\n",
       "STAI            233\n",
       "STICSA_S        248\n",
       "STICSA_T        248\n",
       "UPPS-P          232\n",
       "Zhung           232\n",
       "crt             223\n",
       "life-regrets    239\n",
       "ppmlr           238\n",
       "ppmsr           238\n",
       "pptlr           238\n",
       "pptsr           238\n",
       "regrets         238\n",
       "satisfaction    238\n",
       "Name: pid, dtype: int64"
      ]
     },
     "execution_count": 18,
     "metadata": {},
     "output_type": "execute_result"
    }
   ],
   "source": [
    "questionnaires[questionnaires.apply(lambda row: (row[\"pid\"], row[\"run\"][:-1]+str(1)) in \\\n",
    "                                 passed_all_quizzes, axis=1)].groupby([\"name\"]).count()[\"pid\"]"
   ]
  },
  {
   "cell_type": "code",
   "execution_count": null,
   "id": "142c2ac8",
   "metadata": {},
   "outputs": [],
   "source": []
  }
 ],
 "metadata": {
  "kernelspec": {
   "display_name": "irl-project",
   "language": "python",
   "name": "irl-project"
  },
  "language_info": {
   "codemirror_mode": {
    "name": "ipython",
    "version": 3
   },
   "file_extension": ".py",
   "mimetype": "text/x-python",
   "name": "python",
   "nbconvert_exporter": "python",
   "pygments_lexer": "ipython3",
   "version": "3.8.10"
  },
  "papermill": {
   "default_parameters": {},
   "duration": 13.357774,
   "end_time": "2022-09-07T08:13:50.400722",
   "environment_variables": {},
   "exception": null,
   "input_path": "templates/preprocessing_human.ipynb",
   "output_path": "/home/vfelso/github/planning-depth-differences/data/Preprocessing_quest_second.ipynb",
   "parameters": {
    "COST": null,
    "DEPTH": null,
    "analysis_run": "quest_second",
    "crt_quiz_solutions": {
     "crt1": {
      "": "no response",
      ".05": "correct",
      ".10": "intuitive",
      "10": "intuitive",
      "5": "correct"
     },
     "crt2": {
      "": "no response",
      "100": "intuitive",
      "5": "correct"
     },
     "crt3": {
      "": "no response",
      "24": "intuitive",
      "47": "correct"
     },
     "crt4": {
      "": "no response",
      "4": "correct",
      "9": "intuitive"
     },
     "crt5": {
      "": "no response",
      "29": "correct",
      "30": "intuitive"
     },
     "crt6": {
      "": "no response",
      "10": "intuitive",
      "20": "correct"
     },
     "crt7": {
      "": "no response",
      "has lost money": "correct",
      "is ahead of where he began": "intuitive"
     }
    },
    "data_path": "/home/vfelso/github/planning-depth-differences/data",
    "database_key": "NEW",
    "experiment_setting": "high_increasing",
    "experiment_specific_mapping": {},
    "ground_truth_file": "312_2_4_24",
    "html_survey_names": {
     "2PartPilot1Part1": {
      "0.0-4.0-12.0": "crt",
      "0.0-4.0-14.0": "demographics",
      "0.0-4.0-16.0": "crt",
      "0.0-4.0-17.0": "demographics"
     },
     "2PartPilot1Part2": {
      "0.0-9.0": "crt"
     },
     "2PartPilot2Part1": {
      "0.0-4.0-12.0": "demographics",
      "0.0-4.0-16.0": "demographics"
     },
     "2PartPilot2Part2": {
      "0.0-13.0": "crt",
      "0.0-9.0": "crt"
     },
     "2PartPilot3Part1": {
      "0.0-4.0-12.0": "demographics",
      "0.0-4.0-16.0": "demographics"
     },
     "2PartPilot3Part2": {
      "0.0-13.0": "crt",
      "0.0-9.0": "crt"
     }
    },
    "manual_age_mapping": {},
    "max_attempts": {
     "mouselab-quiz-post": 1,
     "mouselab-quiz-pre": 4
    },
    "mouselab_column_identifier": "name",
    "mouselab_mapping": {
     "0.0-17.*-1.*": "mouselab-quiz-pre",
     "0.0-19.*-2.*": "mouselab-quiz-post",
     "0.0-2.*-1.*": "mouselab-quiz-pre",
     "0.0-3.0-*.0": "mouselab-quiz-post",
     "0.0-4.0-2.0": "mouselab-quiz-post"
    },
    "mouselab_quiz_solutions": {
     "mouselab-quiz-post": {
      "Q0": "$-4 to $4",
      "Q1": "$-8 to $8",
      "Q2": "$-48 to $48",
      "Q3": "No, the cost is always $1.00.",
      "Q4": {
       "": 0,
       "Neither motivated nor unmotivated": 0,
       "Slightly motivated": 1,
       "Slightly unmotivated": -1,
       "Very motivated": 2,
       "Very unmotivated": -2
      }
     },
     "mouselab-quiz-pre": {
      "Q0": "$-48 to $48",
      "Q1": "$1",
      "Q2": "The better I perform the higher my bonus will be.",
      "Q3": "No, the amount of cash at each node of the web may be different each time."
     }
    },
    "node_classification": {
     "clicks": [
      1,
      5,
      9,
      2,
      6,
      10,
      3,
      4,
      7,
      8,
      11,
      12
     ],
     "early": [
      1,
      5,
      9
     ],
     "late": [
      3,
      4,
      7,
      8,
      11,
      12
     ],
     "middle": [
      2,
      6,
      10
     ]
    },
    "num_parts": 2,
    "old_experiment": false,
    "participants_to_remove": [
     679,
     916
    ],
    "passing_score": {
     "mouselab-quiz-post": 0,
     "mouselab-quiz-pre": 4
    },
    "questionnaire_files": {
     "2PartPilot1Part1": "questionnaires_json5",
     "2PartPilot2Part1": "questionnaires_json5",
     "2PartPilot3Part1": "questionnaires_json5"
    },
    "ranges_to_extract": {
     "test": "range(20,30)",
     "training": "range(20)"
    },
    "sessions": [
     "2PartPilot1Part1",
     "2PartPilot2Part1",
     "2PartPilot3Part1",
     "2PartPilot1Part2",
     "2PartPilot2Part2",
     "2PartPilot3Part2"
    ],
    "simulated": false,
    "structure": "312_2_4_24",
    "trials_per_block": {
     "test": 30
    }
   },
   "start_time": "2022-09-07T08:13:37.042948",
   "version": "2.3.4"
  }
 },
 "nbformat": 4,
 "nbformat_minor": 5
}
