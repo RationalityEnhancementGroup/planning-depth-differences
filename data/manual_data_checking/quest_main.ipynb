{
 "cells": [
  {
   "cell_type": "code",
   "execution_count": 69,
   "metadata": {},
   "outputs": [],
   "source": [
    "import pandas as pd\n",
    "import dill as pickle\n",
    "import numpy as np"
   ]
  },
  {
   "cell_type": "code",
   "execution_count": 70,
   "metadata": {},
   "outputs": [],
   "source": [
    "survey = pd.read_csv(\"../OSF/survey.csv\")\n",
    "html_form = pd.read_csv(\"../OSF/survey-html-form.csv\", index_col=0)\n",
    "multi_choice = pd.read_csv(\"../OSF/survey-multi-choice.csv\", index_col=0)\n",
    "individual_items = pd.read_csv(\"../processed/quest_main/individual_items.csv\", index_col=0)"
   ]
  },
  {
   "cell_type": "code",
   "execution_count": 71,
   "metadata": {},
   "outputs": [],
   "source": [
    "data_to_check = []\n",
    "for col in individual_items.columns:\n",
    "    random_pids = np.random.choice(individual_items[col].dropna().index.values, 2)\n",
    "    data_to_check.extend([[pid, col] for pid in random_pids])\n",
    "\n",
    "data_to_check = pd.DataFrame(data_to_check, columns=[\"pid\", \"question_id\"])"
   ]
  },
  {
   "cell_type": "code",
   "execution_count": 72,
   "metadata": {},
   "outputs": [],
   "source": [
    "iq_responses = {}\n",
    "for row_idx, row in multi_choice.iterrows():\n",
    "    iq_responses[row[\"pid\"]] = eval(row[\"response\"])"
   ]
  },
  {
   "cell_type": "code",
   "execution_count": 73,
   "metadata": {},
   "outputs": [],
   "source": [
    "crt_responses = {}\n",
    "for row_idx, row in html_form.iterrows():\n",
    "    if 'crt' in row[\"response\"]:\n",
    "        crt_responses[row[\"pid\"]]=eval(row[\"response\"].replace(\"“\",\"\").replace(\"”\", \"\"))"
   ]
  },
  {
   "cell_type": "code",
   "execution_count": 74,
   "metadata": {},
   "outputs": [],
   "source": [
    "def get_response(row):\n",
    "    if \"crt\" in row[\"question_id\"]:\n",
    "        answer = crt_responses[row[\"pid\"]][row[\"question_id\"]]\n",
    "    elif \"iq\" in row[\"question_id\"]:\n",
    "        answer = iq_responses[row[\"pid\"]][row[\"question_id\"]]\n",
    "    else:\n",
    "        answer = \"\"\n",
    "        for response in survey[survey[\"pid\"]==row[\"pid\"]][\"response\"]:\n",
    "            try:\n",
    "                pages = [page for page_idx, page in eval(response).items() if page is not None and row[\"question_id\"] in page]\n",
    "                responses = [page[row[\"question_id\"]] for page in pages]\n",
    "                # if pid responded more than once, we have a problem\n",
    "                assert len(responses) == 1\n",
    "                answer= responses[0]\n",
    "            except:\n",
    "                pass\n",
    "    return answer"
   ]
  },
  {
   "cell_type": "code",
   "execution_count": 75,
   "metadata": {},
   "outputs": [],
   "source": [
    "with open(\"../inputs/questionnaire_files/solutions_OnePart.pkl\", \"rb\") as f:\n",
    "    scoring = pickle.load(f)"
   ]
  },
  {
   "cell_type": "code",
   "execution_count": 76,
   "metadata": {},
   "outputs": [],
   "source": [
    "question_scoring = {quest_id : quest_scoring for quest, scoring in scoring.items() for quest_id, quest_scoring in scoring.items()}"
   ]
  },
  {
   "cell_type": "code",
   "execution_count": 77,
   "metadata": {},
   "outputs": [],
   "source": [
    "\n",
    "crt_quiz_solutions = {\"crt1\": {\".10\":\"intuitive\", \"10\":\"intuitive\",\"005\":\"correct\",\".05\":\"correct\", \"5\":\"correct\", \"\":\"no response\"}, \"crt2\": {\"100\":\"intuitive\",  \"5\":\"correct\", \"\":\"no response\"}, \"crt3\": {\"24\":\"intuitive\", \"47\":\"correct\", \"\":\"no response\"}, \"crt4\": {\"9\":\"intuitive\", \"4\":\"correct\", \"\":\"no response\"}, \"crt5\": {\"30\":\"intuitive\", \"29\":\"correct\", \"\":\"no response\"},\"crt6\": {\"10\":\"intuitive\",\"20\":\"correct\", \"\":\"no response\"},\"crt7\": {\"is ahead of where he began\":\"intuitive\",  \"has lost money\":\"correct\", \"\":\"no response\"}}\n",
    "question_scoring = {**question_scoring, **crt_quiz_solutions}"
   ]
  },
  {
   "cell_type": "code",
   "execution_count": 78,
   "metadata": {},
   "outputs": [
    {
     "data": {
      "text/plain": "['crt1', 'crt2', 'crt3', 'crt4', 'crt5', 'crt6', 'crt7']"
     },
     "execution_count": 78,
     "metadata": {},
     "output_type": "execute_result"
    }
   ],
   "source": [
    "[key for key in question_scoring.keys() if 'crt' in key]"
   ]
  },
  {
   "cell_type": "code",
   "execution_count": 79,
   "metadata": {},
   "outputs": [],
   "source": [
    "data_to_check[\"response\"] = data_to_check.apply(lambda row: get_response(row), axis=1)"
   ]
  },
  {
   "cell_type": "code",
   "execution_count": 80,
   "metadata": {},
   "outputs": [],
   "source": [
    "data_to_check[\"solutions\"] = data_to_check[\"question_id\"].apply(lambda question_id : question_scoring[question_id] if question_id in question_scoring else {})"
   ]
  },
  {
   "cell_type": "code",
   "execution_count": 81,
   "metadata": {},
   "outputs": [],
   "source": [
    "import json\n",
    "with open(\"../inputs/questionnaire_files/questionnaire_OnePart.txt\", \"r\") as f:\n",
    "    quest_info = json.load(f)"
   ]
  },
  {
   "cell_type": "code",
   "execution_count": 82,
   "metadata": {},
   "outputs": [],
   "source": [
    "reverse_coded = {quest[\"question_id\"] : quest[\"reverse_coded\"] for quest, info in quest_info.items() for quest in info[\"questions\"]}"
   ]
  },
  {
   "cell_type": "code",
   "execution_count": 83,
   "metadata": {},
   "outputs": [],
   "source": [
    "data_to_check[\"reverse_coded\"] = data_to_check[\"question_id\"].apply(lambda question_id : reverse_coded[question_id] if question_id in reverse_coded else 0)"
   ]
  },
  {
   "cell_type": "code",
   "execution_count": 84,
   "metadata": {},
   "outputs": [
    {
     "data": {
      "text/plain": "['AUDIT', 'EAT', 'IQ', 'UPPS-P']"
     },
     "execution_count": 84,
     "metadata": {},
     "output_type": "execute_result"
    }
   ],
   "source": [
    "#check answer same for whole quest\n",
    "[quest for quest, scoring in scoring.items() if len(np.unique([str(val) for val in scoring.values()]))!=1]"
   ]
  },
  {
   "cell_type": "code",
   "execution_count": 85,
   "metadata": {},
   "outputs": [
    {
     "name": "stdout",
     "output_type": "stream",
     "text": [
      "1\n",
      "1\n",
      "1\n"
     ]
    }
   ],
   "source": [
    "for questionnaire_name, questionnaire_prefix in zip(['AUDIT', 'EAT', 'UPPS-P'], ['alcohol', 'eat', 'uppsp']):\n",
    "    subset_scores = {col : scoring[questionnaire_name][col] for col in np.unique([question_id for question_id in data_to_check[\"question_id\"] if questionnaire_prefix in question_id])}\n",
    "\n",
    "    print(len(np.unique([str(val) for val in subset_scores.values()])))"
   ]
  },
  {
   "cell_type": "code",
   "execution_count": 86,
   "metadata": {},
   "outputs": [],
   "source": [
    "def score_row(row):\n",
    "    if isinstance(row[\"solutions\"],dict) and row[\"response\"] != \"\":\n",
    "        if row[\"reverse_coded\"] == 0:\n",
    "            if \"crt\" in row[\"question_id\"]:\n",
    "                if row[\"response\"] not in row[\"solutions\"]:\n",
    "                    return 0\n",
    "                elif row[\"solutions\"][row[\"response\"]] == \"correct\":\n",
    "                    return 1\n",
    "                else:\n",
    "                    return 0\n",
    "            else:\n",
    "                return row[\"solutions\"][row[\"response\"]]\n",
    "        else:\n",
    "            reversed_solutions = dict(zip(sorted(row[\"solutions\"].keys()), [row[\"solutions\"][key] for key in sorted(row[\"solutions\"].keys(), reverse=True)]))\n",
    "            return reversed_solutions[row[\"response\"]]\n",
    "    else:\n",
    "        return int(row[\"solutions\"] == row[\"response\"])"
   ]
  },
  {
   "cell_type": "code",
   "execution_count": 87,
   "metadata": {},
   "outputs": [],
   "source": [
    "data_to_check[\"score\"] = data_to_check.apply(lambda row : score_row(row), axis=1)"
   ]
  },
  {
   "cell_type": "code",
   "execution_count": 88,
   "metadata": {},
   "outputs": [
    {
     "data": {
      "text/plain": "     alcohol.1  anxiety.1  anxiety.10  anxiety.11  anxiety.12  anxiety.13  \\\npid                                                                         \n37         2.0        2.0         3.0         3.0         3.0         3.0   \n38         0.0        3.0         3.0         3.0         3.0         2.0   \n39         1.0        3.0         2.0         2.0         4.0         2.0   \n40         1.0        2.0         2.0         1.0         1.0         2.0   \n42         3.0        3.0         2.0         2.0         1.0         2.0   \n..         ...        ...         ...         ...         ...         ...   \n918        3.0        2.0         1.0         2.0         1.0         2.0   \n919        0.0        2.0         3.0         2.0         3.0         3.0   \n920        2.0        2.0         2.0         3.0         4.0         2.0   \n921        4.0        2.0         3.0         1.0         4.0         3.0   \n922        2.0        2.0         2.0         1.0         2.0         2.0   \n\n     anxiety.14  anxiety.15  anxiety.16  anxiety.17  ...  dospert-rational.21  \\\npid                                                  ...                        \n37          2.0         2.0         3.0         3.0  ...                  0.0   \n38          3.0         3.0         3.0         2.0  ...                  0.0   \n39          3.0         2.0         3.0         2.0  ...                  4.0   \n40          3.0         1.0         3.0         2.0  ...                  0.0   \n42          3.0         1.0         2.0         2.0  ...                  0.0   \n..          ...         ...         ...         ...  ...                  ...   \n918         2.0         1.0         1.0         2.0  ...                  0.0   \n919         3.0         2.0         3.0         3.0  ...                  4.0   \n920         2.0         1.0         2.0         2.0  ...                  0.0   \n921         3.0         4.0         3.0         2.0  ...                  0.0   \n922         3.0         1.0         3.0         1.0  ...                  5.0   \n\n     dospert-rational.22  dospert-rational.23  dospert-rational.24  \\\npid                                                                  \n37                   5.0                  5.0                  0.0   \n38                   0.0                  0.0                  0.0   \n39                   6.0                  6.0                  5.0   \n40                   0.0                  0.0                  0.0   \n42                   0.0                  0.0                  0.0   \n..                   ...                  ...                  ...   \n918                  0.0                  4.0                  5.0   \n919                  0.0                  0.0                  0.0   \n920                  4.0                  4.0                  0.0   \n921                  3.0                  0.0                  0.0   \n922                  5.0                  0.0                  0.0   \n\n     dospert-rational.25  dospert-rational.26  dospert-rational.27  \\\npid                                                                  \n37                   0.0                  0.0                  6.0   \n38                   0.0                  2.0                  0.0   \n39                   0.0                  0.0                  0.0   \n40                   3.0                  4.0                  0.0   \n42                   4.0                  0.0                  0.0   \n..                   ...                  ...                  ...   \n918                  4.0                  4.0                  0.0   \n919                  0.0                  0.0                  5.0   \n920                  0.0                  0.0                  0.0   \n921                  0.0                  0.0                  0.0   \n922                  0.0                  0.0                  4.0   \n\n     dospert-rational.28  dospert-rational.29  dospert-rational.30  \npid                                                                 \n37                   5.0                  0.0                  0.0  \n38                   0.0                  0.0                  0.0  \n39                   4.0                  0.0                  0.0  \n40                   0.0                  0.0                  0.0  \n42                   0.0                  0.0                  0.0  \n..                   ...                  ...                  ...  \n918                  0.0                  0.0                  0.0  \n919                  4.0                  0.0                  0.0  \n920                  2.0                  0.0                  0.0  \n921                  0.0                  0.0                  0.0  \n922                  3.0                  0.0                  0.0  \n\n[700 rows x 395 columns]",
      "text/html": "<div>\n<style scoped>\n    .dataframe tbody tr th:only-of-type {\n        vertical-align: middle;\n    }\n\n    .dataframe tbody tr th {\n        vertical-align: top;\n    }\n\n    .dataframe thead th {\n        text-align: right;\n    }\n</style>\n<table border=\"1\" class=\"dataframe\">\n  <thead>\n    <tr style=\"text-align: right;\">\n      <th></th>\n      <th>alcohol.1</th>\n      <th>anxiety.1</th>\n      <th>anxiety.10</th>\n      <th>anxiety.11</th>\n      <th>anxiety.12</th>\n      <th>anxiety.13</th>\n      <th>anxiety.14</th>\n      <th>anxiety.15</th>\n      <th>anxiety.16</th>\n      <th>anxiety.17</th>\n      <th>...</th>\n      <th>dospert-rational.21</th>\n      <th>dospert-rational.22</th>\n      <th>dospert-rational.23</th>\n      <th>dospert-rational.24</th>\n      <th>dospert-rational.25</th>\n      <th>dospert-rational.26</th>\n      <th>dospert-rational.27</th>\n      <th>dospert-rational.28</th>\n      <th>dospert-rational.29</th>\n      <th>dospert-rational.30</th>\n    </tr>\n    <tr>\n      <th>pid</th>\n      <th></th>\n      <th></th>\n      <th></th>\n      <th></th>\n      <th></th>\n      <th></th>\n      <th></th>\n      <th></th>\n      <th></th>\n      <th></th>\n      <th></th>\n      <th></th>\n      <th></th>\n      <th></th>\n      <th></th>\n      <th></th>\n      <th></th>\n      <th></th>\n      <th></th>\n      <th></th>\n      <th></th>\n    </tr>\n  </thead>\n  <tbody>\n    <tr>\n      <th>37</th>\n      <td>2.0</td>\n      <td>2.0</td>\n      <td>3.0</td>\n      <td>3.0</td>\n      <td>3.0</td>\n      <td>3.0</td>\n      <td>2.0</td>\n      <td>2.0</td>\n      <td>3.0</td>\n      <td>3.0</td>\n      <td>...</td>\n      <td>0.0</td>\n      <td>5.0</td>\n      <td>5.0</td>\n      <td>0.0</td>\n      <td>0.0</td>\n      <td>0.0</td>\n      <td>6.0</td>\n      <td>5.0</td>\n      <td>0.0</td>\n      <td>0.0</td>\n    </tr>\n    <tr>\n      <th>38</th>\n      <td>0.0</td>\n      <td>3.0</td>\n      <td>3.0</td>\n      <td>3.0</td>\n      <td>3.0</td>\n      <td>2.0</td>\n      <td>3.0</td>\n      <td>3.0</td>\n      <td>3.0</td>\n      <td>2.0</td>\n      <td>...</td>\n      <td>0.0</td>\n      <td>0.0</td>\n      <td>0.0</td>\n      <td>0.0</td>\n      <td>0.0</td>\n      <td>2.0</td>\n      <td>0.0</td>\n      <td>0.0</td>\n      <td>0.0</td>\n      <td>0.0</td>\n    </tr>\n    <tr>\n      <th>39</th>\n      <td>1.0</td>\n      <td>3.0</td>\n      <td>2.0</td>\n      <td>2.0</td>\n      <td>4.0</td>\n      <td>2.0</td>\n      <td>3.0</td>\n      <td>2.0</td>\n      <td>3.0</td>\n      <td>2.0</td>\n      <td>...</td>\n      <td>4.0</td>\n      <td>6.0</td>\n      <td>6.0</td>\n      <td>5.0</td>\n      <td>0.0</td>\n      <td>0.0</td>\n      <td>0.0</td>\n      <td>4.0</td>\n      <td>0.0</td>\n      <td>0.0</td>\n    </tr>\n    <tr>\n      <th>40</th>\n      <td>1.0</td>\n      <td>2.0</td>\n      <td>2.0</td>\n      <td>1.0</td>\n      <td>1.0</td>\n      <td>2.0</td>\n      <td>3.0</td>\n      <td>1.0</td>\n      <td>3.0</td>\n      <td>2.0</td>\n      <td>...</td>\n      <td>0.0</td>\n      <td>0.0</td>\n      <td>0.0</td>\n      <td>0.0</td>\n      <td>3.0</td>\n      <td>4.0</td>\n      <td>0.0</td>\n      <td>0.0</td>\n      <td>0.0</td>\n      <td>0.0</td>\n    </tr>\n    <tr>\n      <th>42</th>\n      <td>3.0</td>\n      <td>3.0</td>\n      <td>2.0</td>\n      <td>2.0</td>\n      <td>1.0</td>\n      <td>2.0</td>\n      <td>3.0</td>\n      <td>1.0</td>\n      <td>2.0</td>\n      <td>2.0</td>\n      <td>...</td>\n      <td>0.0</td>\n      <td>0.0</td>\n      <td>0.0</td>\n      <td>0.0</td>\n      <td>4.0</td>\n      <td>0.0</td>\n      <td>0.0</td>\n      <td>0.0</td>\n      <td>0.0</td>\n      <td>0.0</td>\n    </tr>\n    <tr>\n      <th>...</th>\n      <td>...</td>\n      <td>...</td>\n      <td>...</td>\n      <td>...</td>\n      <td>...</td>\n      <td>...</td>\n      <td>...</td>\n      <td>...</td>\n      <td>...</td>\n      <td>...</td>\n      <td>...</td>\n      <td>...</td>\n      <td>...</td>\n      <td>...</td>\n      <td>...</td>\n      <td>...</td>\n      <td>...</td>\n      <td>...</td>\n      <td>...</td>\n      <td>...</td>\n      <td>...</td>\n    </tr>\n    <tr>\n      <th>918</th>\n      <td>3.0</td>\n      <td>2.0</td>\n      <td>1.0</td>\n      <td>2.0</td>\n      <td>1.0</td>\n      <td>2.0</td>\n      <td>2.0</td>\n      <td>1.0</td>\n      <td>1.0</td>\n      <td>2.0</td>\n      <td>...</td>\n      <td>0.0</td>\n      <td>0.0</td>\n      <td>4.0</td>\n      <td>5.0</td>\n      <td>4.0</td>\n      <td>4.0</td>\n      <td>0.0</td>\n      <td>0.0</td>\n      <td>0.0</td>\n      <td>0.0</td>\n    </tr>\n    <tr>\n      <th>919</th>\n      <td>0.0</td>\n      <td>2.0</td>\n      <td>3.0</td>\n      <td>2.0</td>\n      <td>3.0</td>\n      <td>3.0</td>\n      <td>3.0</td>\n      <td>2.0</td>\n      <td>3.0</td>\n      <td>3.0</td>\n      <td>...</td>\n      <td>4.0</td>\n      <td>0.0</td>\n      <td>0.0</td>\n      <td>0.0</td>\n      <td>0.0</td>\n      <td>0.0</td>\n      <td>5.0</td>\n      <td>4.0</td>\n      <td>0.0</td>\n      <td>0.0</td>\n    </tr>\n    <tr>\n      <th>920</th>\n      <td>2.0</td>\n      <td>2.0</td>\n      <td>2.0</td>\n      <td>3.0</td>\n      <td>4.0</td>\n      <td>2.0</td>\n      <td>2.0</td>\n      <td>1.0</td>\n      <td>2.0</td>\n      <td>2.0</td>\n      <td>...</td>\n      <td>0.0</td>\n      <td>4.0</td>\n      <td>4.0</td>\n      <td>0.0</td>\n      <td>0.0</td>\n      <td>0.0</td>\n      <td>0.0</td>\n      <td>2.0</td>\n      <td>0.0</td>\n      <td>0.0</td>\n    </tr>\n    <tr>\n      <th>921</th>\n      <td>4.0</td>\n      <td>2.0</td>\n      <td>3.0</td>\n      <td>1.0</td>\n      <td>4.0</td>\n      <td>3.0</td>\n      <td>3.0</td>\n      <td>4.0</td>\n      <td>3.0</td>\n      <td>2.0</td>\n      <td>...</td>\n      <td>0.0</td>\n      <td>3.0</td>\n      <td>0.0</td>\n      <td>0.0</td>\n      <td>0.0</td>\n      <td>0.0</td>\n      <td>0.0</td>\n      <td>0.0</td>\n      <td>0.0</td>\n      <td>0.0</td>\n    </tr>\n    <tr>\n      <th>922</th>\n      <td>2.0</td>\n      <td>2.0</td>\n      <td>2.0</td>\n      <td>1.0</td>\n      <td>2.0</td>\n      <td>2.0</td>\n      <td>3.0</td>\n      <td>1.0</td>\n      <td>3.0</td>\n      <td>1.0</td>\n      <td>...</td>\n      <td>5.0</td>\n      <td>5.0</td>\n      <td>0.0</td>\n      <td>0.0</td>\n      <td>0.0</td>\n      <td>0.0</td>\n      <td>4.0</td>\n      <td>3.0</td>\n      <td>0.0</td>\n      <td>0.0</td>\n    </tr>\n  </tbody>\n</table>\n<p>700 rows × 395 columns</p>\n</div>"
     },
     "execution_count": 88,
     "metadata": {},
     "output_type": "execute_result"
    }
   ],
   "source": [
    "individual_items"
   ]
  },
  {
   "cell_type": "code",
   "execution_count": 89,
   "metadata": {},
   "outputs": [
    {
     "data": {
      "text/plain": "True"
     },
     "execution_count": 89,
     "metadata": {},
     "output_type": "execute_result"
    }
   ],
   "source": [
    "np.all(data_to_check.apply(lambda row: individual_items.loc[row[\"pid\"], row[\"question_id\"]] == row[\"score\"] if \"dospert-rational\" not in row[\"question_id\"] else True, axis=1))"
   ]
  },
  {
   "cell_type": "code",
   "execution_count": 90,
   "outputs": [
    {
     "data": {
      "text/plain": "array(['dospert-rational.1', 'dospert-rational.3', 'dospert-rational.4',\n       'dospert-rational.8', 'dospert-rational.12', 'dospert-rational.14',\n       'dospert-rational.19', 'dospert-rational.21',\n       'dospert-rational.22', 'dospert-rational.26',\n       'dospert-rational.27', 'dospert-rational.28'], dtype=object)"
     },
     "execution_count": 90,
     "metadata": {},
     "output_type": "execute_result"
    }
   ],
   "source": [
    "data_to_check[data_to_check.apply(lambda row: individual_items.loc[row[\"pid\"], row[\"question_id\"]] != row[\"score\"], axis=1)][\"question_id\"].unique()"
   ],
   "metadata": {
    "collapsed": false
   }
  },
  {
   "cell_type": "code",
   "execution_count": 90,
   "outputs": [],
   "source": [],
   "metadata": {
    "collapsed": false
   }
  }
 ],
 "metadata": {
  "kernelspec": {
   "display_name": "Python 3",
   "language": "python",
   "name": "python3"
  },
  "language_info": {
   "codemirror_mode": {
    "name": "ipython",
    "version": 3
   },
   "file_extension": ".py",
   "mimetype": "text/x-python",
   "name": "python",
   "nbconvert_exporter": "python",
   "pygments_lexer": "ipython3",
   "version": "3.8.10"
  }
 },
 "nbformat": 4,
 "nbformat_minor": 1
}
